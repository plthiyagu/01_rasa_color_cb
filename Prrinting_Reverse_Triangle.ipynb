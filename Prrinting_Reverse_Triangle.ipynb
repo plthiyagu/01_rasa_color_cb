{
  "nbformat": 4,
  "nbformat_minor": 0,
  "metadata": {
    "colab": {
      "name": "Prrinting Reverse Triangle.ipynb",
      "provenance": [],
      "authorship_tag": "ABX9TyPWBjzYR0D3QYb79yH2Yu+r",
      "include_colab_link": true
    },
    "kernelspec": {
      "name": "python3",
      "display_name": "Python 3"
    }
  },
  "cells": [
    {
      "cell_type": "markdown",
      "metadata": {
        "id": "view-in-github",
        "colab_type": "text"
      },
      "source": [
        "<a href=\"https://colab.research.google.com/github/plthiyagu/01_rasa_color_cb/blob/master/Prrinting_Reverse_Triangle.ipynb\" target=\"_parent\"><img src=\"https://colab.research.google.com/assets/colab-badge.svg\" alt=\"Open In Colab\"/></a>"
      ]
    },
    {
      "cell_type": "code",
      "metadata": {
        "id": "Csmq0RCMFJNq",
        "colab_type": "code",
        "colab": {}
      },
      "source": [
        "rows= 6\n",
        "k = 2 * rows -2\n",
        "for i in range(rows,-1,-1):\n",
        "  for j in range(k,0,-1):\n",
        "    print(end= \" \")\n",
        "  k= k + 1\n",
        "  for j in range(0,i+1):\n",
        "    print(\"*\", end=\" \")\n",
        "  print(\"\")"
      ],
      "execution_count": 0,
      "outputs": []
    }
  ]
}