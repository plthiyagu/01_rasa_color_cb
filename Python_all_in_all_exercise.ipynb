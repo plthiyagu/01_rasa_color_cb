{
  "nbformat": 4,
  "nbformat_minor": 0,
  "metadata": {
    "colab": {
      "name": "Python all in all exercise.ipynb",
      "provenance": [],
      "collapsed_sections": [],
      "authorship_tag": "ABX9TyPCKavSbNuDV/elcDOt4mTP",
      "include_colab_link": true
    },
    "kernelspec": {
      "name": "python3",
      "display_name": "Python 3"
    }
  },
  "cells": [
    {
      "cell_type": "markdown",
      "metadata": {
        "id": "view-in-github",
        "colab_type": "text"
      },
      "source": [
        "<a href=\"https://colab.research.google.com/github/plthiyagu/01_rasa_color_cb/blob/master/Python_all_in_all_exercise.ipynb\" target=\"_parent\"><img src=\"https://colab.research.google.com/assets/colab-badge.svg\" alt=\"Open In Colab\"/></a>"
      ]
    },
    {
      "cell_type": "code",
      "metadata": {
        "id": "sKcN21_0Tps5",
        "colab_type": "code",
        "colab": {}
      },
      "source": [
        "import os\n",
        "import sys\n",
        "from datetime import datetime\n",
        "import keyword\n",
        "import operator"
      ],
      "execution_count": null,
      "outputs": []
    },
    {
      "cell_type": "markdown",
      "metadata": {
        "id": "9XbrqN3UVu7y",
        "colab_type": "text"
      },
      "source": [
        "Keywords are the reserved words in Python and can't be used as an identifier"
      ]
    },
    {
      "cell_type": "code",
      "metadata": {
        "id": "lxXyaLhYT2a5",
        "colab_type": "code",
        "colab": {
          "base_uri": "https://localhost:8080/",
          "height": 54
        },
        "outputId": "d4040fef-77ce-4e92-a0e7-a75c9995c7a9"
      },
      "source": [
        "print(keyword.kwlist)"
      ],
      "execution_count": null,
      "outputs": [
        {
          "output_type": "stream",
          "text": [
            "['False', 'None', 'True', 'and', 'as', 'assert', 'break', 'class', 'continue', 'def', 'del', 'elif', 'else', 'except', 'finally', 'for', 'from', 'global', 'if', 'import', 'in', 'is', 'lambda', 'nonlocal', 'not', 'or', 'pass', 'raise', 'return', 'try', 'while', 'with', 'yield']\n"
          ],
          "name": "stdout"
        }
      ]
    },
    {
      "cell_type": "code",
      "metadata": {
        "id": "i9cudc0jT6DE",
        "colab_type": "code",
        "colab": {
          "base_uri": "https://localhost:8080/",
          "height": 34
        },
        "outputId": "a5e873f1-8e97-4105-d6cc-7078dd755e1a"
      },
      "source": [
        "print(len(keyword.kwlist))"
      ],
      "execution_count": null,
      "outputs": [
        {
          "output_type": "stream",
          "text": [
            "33\n"
          ],
          "name": "stdout"
        }
      ]
    },
    {
      "cell_type": "code",
      "metadata": {
        "id": "bSrYAELRUYVI",
        "colab_type": "code",
        "colab": {
          "base_uri": "https://localhost:8080/",
          "height": 129
        },
        "outputId": "116814e3-1aa5-4395-8087-ce7be4375a22"
      },
      "source": [
        "val2@ = 35 # Identifier can't use special symbols"
      ],
      "execution_count": null,
      "outputs": [
        {
          "output_type": "error",
          "ename": "SyntaxError",
          "evalue": "ignored",
          "traceback": [
            "\u001b[0;36m  File \u001b[0;32m\"<ipython-input-5-7251d6d88b33>\"\u001b[0;36m, line \u001b[0;32m1\u001b[0m\n\u001b[0;31m    val2@ = 35 # Identifier can't use special symbols\u001b[0m\n\u001b[0m          ^\u001b[0m\n\u001b[0;31mSyntaxError\u001b[0m\u001b[0;31m:\u001b[0m invalid syntax\n"
          ]
        }
      ]
    },
    {
      "cell_type": "code",
      "metadata": {
        "id": "jqaynrwT67n_",
        "colab_type": "code",
        "colab": {
          "base_uri": "https://localhost:8080/",
          "height": 129
        },
        "outputId": "093e8d4e-d40b-4807-e2ba-dc471f5eb001"
      },
      "source": [
        "1var = 10 # Identifier can't start with a digit"
      ],
      "execution_count": null,
      "outputs": [
        {
          "output_type": "error",
          "ename": "SyntaxError",
          "evalue": "ignored",
          "traceback": [
            "\u001b[0;36m  File \u001b[0;32m\"<ipython-input-6-e48c1c8cefcf>\"\u001b[0;36m, line \u001b[0;32m1\u001b[0m\n\u001b[0;31m    1var = 10 # Identifier can't start with a digit\u001b[0m\n\u001b[0m       ^\u001b[0m\n\u001b[0;31mSyntaxError\u001b[0m\u001b[0;31m:\u001b[0m invalid syntax\n"
          ]
        }
      ]
    },
    {
      "cell_type": "code",
      "metadata": {
        "id": "-eGdVpHm7dNs",
        "colab_type": "code",
        "colab": {
          "base_uri": "https://localhost:8080/",
          "height": 129
        },
        "outputId": "acb3dd4c-e46a-46f2-8677-0052eb73c81d"
      },
      "source": [
        "import = 125 # Keywords can't be used as identifiers"
      ],
      "execution_count": null,
      "outputs": [
        {
          "output_type": "error",
          "ename": "SyntaxError",
          "evalue": "ignored",
          "traceback": [
            "\u001b[0;36m  File \u001b[0;32m\"<ipython-input-7-f7061d4fc9ba>\"\u001b[0;36m, line \u001b[0;32m1\u001b[0m\n\u001b[0;31m    import = 125 # Keywords can't be used as identifiers\u001b[0m\n\u001b[0m           ^\u001b[0m\n\u001b[0;31mSyntaxError\u001b[0m\u001b[0;31m:\u001b[0m invalid syntax\n"
          ]
        }
      ]
    },
    {
      "cell_type": "code",
      "metadata": {
        "id": "rnzFizim7gRz",
        "colab_type": "code",
        "colab": {}
      },
      "source": [
        "\"\"\"\n",
        "Correct way of defining an identifier \n",
        "(Identifiers can be a combination of letters in lowercase (a to z) or uppercase (A to Z) or digits (0 to 9) or an underscore)\n",
        "\"\"\"\n",
        "\n",
        "val2 = 10"
      ],
      "execution_count": null,
      "outputs": []
    },
    {
      "cell_type": "markdown",
      "metadata": {
        "id": "z_7KsoKa7rJr",
        "colab_type": "text"
      },
      "source": [
        "Comments in Python"
      ]
    },
    {
      "cell_type": "code",
      "metadata": {
        "id": "AiNaXqQu7mjr",
        "colab_type": "code",
        "colab": {}
      },
      "source": [
        "# Single line comment\n",
        "val1  = 10"
      ],
      "execution_count": null,
      "outputs": []
    },
    {
      "cell_type": "code",
      "metadata": {
        "id": "4Kwn7dT47wNO",
        "colab_type": "code",
        "colab": {}
      },
      "source": [
        "'''\n",
        "Multiple \n",
        "line \n",
        "comment\n",
        "'''\n",
        "val1  = 10"
      ],
      "execution_count": null,
      "outputs": []
    },
    {
      "cell_type": "code",
      "metadata": {
        "id": "yEwq7S9T71jZ",
        "colab_type": "code",
        "colab": {}
      },
      "source": [
        "\"\"\"\n",
        "Multiple \n",
        "line \n",
        "comment\n",
        "\"\"\"\n",
        "val1  = 10"
      ],
      "execution_count": null,
      "outputs": []
    },
    {
      "cell_type": "markdown",
      "metadata": {
        "id": "q4b_w8j07_vz",
        "colab_type": "text"
      },
      "source": [
        "Statements\n"
      ]
    },
    {
      "cell_type": "code",
      "metadata": {
        "id": "nEshZhf476Nl",
        "colab_type": "code",
        "colab": {
          "base_uri": "https://localhost:8080/",
          "height": 34
        },
        "outputId": "fd9ee2ec-1f3d-4a60-cc31-c57a8e0731f6"
      },
      "source": [
        "p1 =10 + 20\n",
        "p1"
      ],
      "execution_count": null,
      "outputs": [
        {
          "output_type": "execute_result",
          "data": {
            "text/plain": [
              "30"
            ]
          },
          "metadata": {
            "tags": []
          },
          "execution_count": 12
        }
      ]
    },
    {
      "cell_type": "code",
      "metadata": {
        "id": "vZsP8te68FJ-",
        "colab_type": "code",
        "colab": {
          "base_uri": "https://localhost:8080/",
          "height": 34
        },
        "outputId": "84ae9538-3a51-46c0-fa96-9f07ccf6dabe"
      },
      "source": [
        "# Single line statement\n",
        "p2=['a','b','c','d']\n",
        "p2"
      ],
      "execution_count": null,
      "outputs": [
        {
          "output_type": "execute_result",
          "data": {
            "text/plain": [
              "['a', 'b', 'c', 'd']"
            ]
          },
          "metadata": {
            "tags": []
          },
          "execution_count": 13
        }
      ]
    },
    {
      "cell_type": "code",
      "metadata": {
        "id": "mD2QqXgP8VDj",
        "colab_type": "code",
        "colab": {
          "base_uri": "https://localhost:8080/",
          "height": 34
        },
        "outputId": "52001812-7175-4837-c51e-055a0971e3a5"
      },
      "source": [
        "# Multiple line statement\n",
        "p1 =20 + 30 \\\n",
        "+40 + 50 + 60 \\\n",
        "+70 + 80\n",
        "p1"
      ],
      "execution_count": null,
      "outputs": [
        {
          "output_type": "execute_result",
          "data": {
            "text/plain": [
              "350"
            ]
          },
          "metadata": {
            "tags": []
          },
          "execution_count": 14
        }
      ]
    },
    {
      "cell_type": "code",
      "metadata": {
        "id": "xvUQrCkT8nnG",
        "colab_type": "code",
        "colab": {
          "base_uri": "https://localhost:8080/",
          "height": 34
        },
        "outputId": "af3b8bd0-be0a-4314-f7f2-d1a58213c94c"
      },
      "source": [
        "# Multiple line statement\n",
        "p1 = [ 'a',\n",
        "'b',\n",
        "'c',\n",
        "'d'\n",
        "]\n",
        "p1"
      ],
      "execution_count": null,
      "outputs": [
        {
          "output_type": "execute_result",
          "data": {
            "text/plain": [
              "['a', 'b', 'c', 'd']"
            ]
          },
          "metadata": {
            "tags": []
          },
          "execution_count": 15
        }
      ]
    },
    {
      "cell_type": "code",
      "metadata": {
        "id": "ZirnIU5C--bH",
        "colab_type": "code",
        "colab": {
          "base_uri": "https://localhost:8080/",
          "height": 34
        },
        "outputId": "39a0f021-b1af-499d-b1a6-c54622a26c32"
      },
      "source": [
        "p=10\n",
        "if p == 10:\n",
        "  print ('P is equal to 10')"
      ],
      "execution_count": null,
      "outputs": [
        {
          "output_type": "stream",
          "text": [
            "P is equal to 10\n"
          ],
          "name": "stdout"
        }
      ]
    },
    {
      "cell_type": "code",
      "metadata": {
        "id": "oxoDSara_dVe",
        "colab_type": "code",
        "colab": {
          "base_uri": "https://localhost:8080/",
          "height": 102
        },
        "outputId": "dc78a962-627a-4055-880c-1cb2875dae13"
      },
      "source": [
        "for i  in range(0,5):\n",
        "  print(i)"
      ],
      "execution_count": null,
      "outputs": [
        {
          "output_type": "stream",
          "text": [
            "0\n",
            "1\n",
            "2\n",
            "3\n",
            "4\n"
          ],
          "name": "stdout"
        }
      ]
    },
    {
      "cell_type": "code",
      "metadata": {
        "id": "FQh1crFW_nwj",
        "colab_type": "code",
        "colab": {
          "base_uri": "https://localhost:8080/",
          "height": 102
        },
        "outputId": "cd752268-2b76-47a4-9a0c-264527784993"
      },
      "source": [
        "# if indentation is skipped we will encounter \"IndentationError: expected an indented block\"\n",
        "for i in range(0,5):\n",
        "  print(i)"
      ],
      "execution_count": null,
      "outputs": [
        {
          "output_type": "stream",
          "text": [
            "0\n",
            "1\n",
            "2\n",
            "3\n",
            "4\n"
          ],
          "name": "stdout"
        }
      ]
    },
    {
      "cell_type": "code",
      "metadata": {
        "id": "SQuQmvBF_-nx",
        "colab_type": "code",
        "colab": {
          "base_uri": "https://localhost:8080/",
          "height": 102
        },
        "outputId": "f932568a-2a7c-4672-f82f-89cdb1634e7c"
      },
      "source": [
        "for i in range(0,5): print(i)  # correct indentation but less readable"
      ],
      "execution_count": null,
      "outputs": [
        {
          "output_type": "stream",
          "text": [
            "0\n",
            "1\n",
            "2\n",
            "3\n",
            "4\n"
          ],
          "name": "stdout"
        }
      ]
    },
    {
      "cell_type": "code",
      "metadata": {
        "id": "LRdWBq9LAETa",
        "colab_type": "code",
        "colab": {
          "base_uri": "https://localhost:8080/",
          "height": 119
        },
        "outputId": "ecc632b5-5b6a-44d2-8d6e-9ac73e803fc3"
      },
      "source": [
        "j=20\n",
        "for i in range(0,5):\n",
        "  print(i)\n",
        "print(j)"
      ],
      "execution_count": null,
      "outputs": [
        {
          "output_type": "stream",
          "text": [
            "0\n",
            "1\n",
            "2\n",
            "3\n",
            "4\n",
            "20\n"
          ],
          "name": "stdout"
        }
      ]
    },
    {
      "cell_type": "markdown",
      "metadata": {
        "id": "iIlWg-5eBIiw",
        "colab_type": "text"
      },
      "source": [
        "Docstrings\n",
        "1) Docstrings provide a convenient way of associating documentation with functions, classes, methods or modules.\n",
        "\n",
        "2) They appear right after the definition of a function, method, class, or module.\n",
        "\n"
      ]
    },
    {
      "cell_type": "code",
      "metadata": {
        "id": "MPUsbjkQA9pN",
        "colab_type": "code",
        "colab": {}
      },
      "source": [
        "def square(num):\n",
        "    '''Square Function :- This function will return the square of a number'''\n",
        "    return num**2"
      ],
      "execution_count": null,
      "outputs": []
    },
    {
      "cell_type": "code",
      "metadata": {
        "id": "PmGNB2F2_Zd2",
        "colab_type": "code",
        "colab": {
          "base_uri": "https://localhost:8080/",
          "height": 34
        },
        "outputId": "46901c23-53b7-4724-91ae-748da437b2a9"
      },
      "source": [
        "square(2)"
      ],
      "execution_count": null,
      "outputs": [
        {
          "output_type": "execute_result",
          "data": {
            "text/plain": [
              "4"
            ]
          },
          "metadata": {
            "tags": []
          },
          "execution_count": 28
        }
      ]
    },
    {
      "cell_type": "code",
      "metadata": {
        "id": "HXoDqQVWBQKB",
        "colab_type": "code",
        "colab": {
          "base_uri": "https://localhost:8080/",
          "height": 35
        },
        "outputId": "c8cb2dd4-c443-44b9-d504-5b34361c8fa5"
      },
      "source": [
        "square.__doc__  # We can access the Docstring using __doc__ method"
      ],
      "execution_count": null,
      "outputs": [
        {
          "output_type": "execute_result",
          "data": {
            "application/vnd.google.colaboratory.intrinsic+json": {
              "type": "string"
            },
            "text/plain": [
              "'Square Function :- This function will return the square of a number'"
            ]
          },
          "metadata": {
            "tags": []
          },
          "execution_count": 22
        }
      ]
    },
    {
      "cell_type": "code",
      "metadata": {
        "id": "xzgFillqBWbS",
        "colab_type": "code",
        "colab": {}
      },
      "source": [
        "def evenodd(num):\n",
        "    '''evenodd Function :- This function will test whether a numbr is Even or Odd'''\n",
        "    if num %2 ==0:\n",
        "      print(\"Even Number\")\n",
        "    else:\n",
        "      print(\"Odd Number\")"
      ],
      "execution_count": null,
      "outputs": []
    },
    {
      "cell_type": "code",
      "metadata": {
        "id": "659oLIzby-9-",
        "colab_type": "code",
        "colab": {}
      },
      "source": [
        "def evnodd(num):\n",
        "  if num%2==0:\n",
        "    print(even)\n",
        "  else:\n",
        "    print(odd)"
      ],
      "execution_count": null,
      "outputs": []
    },
    {
      "cell_type": "code",
      "metadata": {
        "id": "1BeH9DN3CO--",
        "colab_type": "code",
        "colab": {
          "base_uri": "https://localhost:8080/",
          "height": 35
        },
        "outputId": "15d689f6-c0bc-470a-aa74-bcb143a1caa3"
      },
      "source": [
        "evenodd.__doc__"
      ],
      "execution_count": null,
      "outputs": [
        {
          "output_type": "execute_result",
          "data": {
            "application/vnd.google.colaboratory.intrinsic+json": {
              "type": "string"
            },
            "text/plain": [
              "'evenodd Function :- This function will test whether a numbr is Even or Odd'"
            ]
          },
          "metadata": {
            "tags": []
          },
          "execution_count": 29
        }
      ]
    },
    {
      "cell_type": "code",
      "metadata": {
        "id": "VR1t5cyoCSoK",
        "colab_type": "code",
        "colab": {
          "base_uri": "https://localhost:8080/",
          "height": 34
        },
        "outputId": "67cdcacd-6e5a-4d9f-99d2-7f613a1afa59"
      },
      "source": [
        "evenodd(9)"
      ],
      "execution_count": null,
      "outputs": [
        {
          "output_type": "stream",
          "text": [
            "Odd Number\n"
          ],
          "name": "stdout"
        }
      ]
    },
    {
      "cell_type": "code",
      "metadata": {
        "id": "Ns9wMriXCWEy",
        "colab_type": "code",
        "colab": {
          "base_uri": "https://localhost:8080/",
          "height": 34
        },
        "outputId": "336096de-294a-4a8f-954a-0a6c99b73d5b"
      },
      "source": [
        "evenodd(10)"
      ],
      "execution_count": null,
      "outputs": [
        {
          "output_type": "stream",
          "text": [
            "Even Number\n"
          ],
          "name": "stdout"
        }
      ]
    },
    {
      "cell_type": "markdown",
      "metadata": {
        "id": "KVL-HgcYCvIH",
        "colab_type": "text"
      },
      "source": [
        "Variables"
      ]
    },
    {
      "cell_type": "code",
      "metadata": {
        "id": "6JiD6Z2bCX4-",
        "colab_type": "code",
        "colab": {}
      },
      "source": [
        "p=30"
      ],
      "execution_count": null,
      "outputs": []
    },
    {
      "cell_type": "code",
      "metadata": {
        "id": "yksh53G4Cx-R",
        "colab_type": "code",
        "colab": {
          "base_uri": "https://localhost:8080/",
          "height": 34
        },
        "outputId": "90703778-44e4-452c-8108-93e2114ed065"
      },
      "source": [
        "'''\n",
        "id() function returns the “identity” of the object. \n",
        "The identity of an object - Is an integer\n",
        "                          - Guaranteed to be unique\n",
        "                          - Constant for this object during its lifetime. \n",
        "'''\n",
        "id(p)"
      ],
      "execution_count": null,
      "outputs": [
        {
          "output_type": "execute_result",
          "data": {
            "text/plain": [
              "10915424"
            ]
          },
          "metadata": {
            "tags": []
          },
          "execution_count": 28
        }
      ]
    },
    {
      "cell_type": "code",
      "metadata": {
        "id": "7FlGK9LCC2df",
        "colab_type": "code",
        "colab": {
          "base_uri": "https://localhost:8080/",
          "height": 35
        },
        "outputId": "81b3938a-7648-4618-dae6-f096bd5a69ec"
      },
      "source": [
        "hex(id(p)) # Memory address of the variable"
      ],
      "execution_count": null,
      "outputs": [
        {
          "output_type": "execute_result",
          "data": {
            "application/vnd.google.colaboratory.intrinsic+json": {
              "type": "string"
            },
            "text/plain": [
              "'0xa68e60'"
            ]
          },
          "metadata": {
            "tags": []
          },
          "execution_count": 29
        }
      ]
    },
    {
      "cell_type": "code",
      "metadata": {
        "id": "ozmMwYDSC575",
        "colab_type": "code",
        "colab": {
          "base_uri": "https://localhost:8080/",
          "height": 34
        },
        "outputId": "466af42c-c5d7-4a61-c479-eea3d978dabd"
      },
      "source": [
        "p = 20  #Creates an integer object with value 20 and assigns the variable p to point to that object.\n",
        "q = 20  # Create new reference q which will point to value 20. p & q will be pointing to same memory location.\n",
        "r = q  # variable r will also point to the same location where p & q are pointing/\n",
        "p , type(p), hex(id(p)) # Variable P is pointing to memory location '0x7fff6d71a3f0' where value 20 is stored"
      ],
      "execution_count": null,
      "outputs": [
        {
          "output_type": "execute_result",
          "data": {
            "text/plain": [
              "(20, int, '0xa68d20')"
            ]
          },
          "metadata": {
            "tags": []
          },
          "execution_count": 30
        }
      ]
    },
    {
      "cell_type": "code",
      "metadata": {
        "id": "1bBuMGVxDkbY",
        "colab_type": "code",
        "colab": {
          "base_uri": "https://localhost:8080/",
          "height": 34
        },
        "outputId": "47f19d8b-8a2e-470d-dd4b-db8d2cac8291"
      },
      "source": [
        "r , type(r), hex(id(r))"
      ],
      "execution_count": null,
      "outputs": [
        {
          "output_type": "execute_result",
          "data": {
            "text/plain": [
              "(20, int, '0xa68d20')"
            ]
          },
          "metadata": {
            "tags": []
          },
          "execution_count": 31
        }
      ]
    },
    {
      "cell_type": "code",
      "metadata": {
        "id": "QR8OhhuJDrTQ",
        "colab_type": "code",
        "colab": {
          "base_uri": "https://localhost:8080/",
          "height": 34
        },
        "outputId": "4c42ebb9-b506-41b2-e350-8f53eb2a4cbe"
      },
      "source": [
        "p = 20\n",
        "p = p + 10 # Variable Overwriting\n",
        "p"
      ],
      "execution_count": null,
      "outputs": [
        {
          "output_type": "execute_result",
          "data": {
            "text/plain": [
              "30"
            ]
          },
          "metadata": {
            "tags": []
          },
          "execution_count": 32
        }
      ]
    },
    {
      "cell_type": "code",
      "metadata": {
        "id": "sH-berp2D5Iz",
        "colab_type": "code",
        "colab": {
          "base_uri": "https://localhost:8080/",
          "height": 68
        },
        "outputId": "4b92b7d4-3455-40e3-f0d9-d368fd7841e0"
      },
      "source": [
        "intvar = 10 # Integer variable\n",
        "floatvar = 2.57 # Float Variable\n",
        "strvar = \"Python Language\" # String variable\n",
        "\n",
        "print(intvar)\n",
        "print(floatvar)\n",
        "print(strvar)"
      ],
      "execution_count": null,
      "outputs": [
        {
          "output_type": "stream",
          "text": [
            "10\n",
            "2.57\n",
            "Python Language\n"
          ],
          "name": "stdout"
        }
      ]
    },
    {
      "cell_type": "code",
      "metadata": {
        "id": "k9GyO_EdD9pf",
        "colab_type": "code",
        "colab": {
          "base_uri": "https://localhost:8080/",
          "height": 68
        },
        "outputId": "d48416c3-83dc-4856-9c99-5444c54578e5"
      },
      "source": [
        "intvar , floatvar , strvar = 10,2.57,\"Python Language\" # Using commas to separate variables and their corresponding values.\n",
        "print(intvar)\n",
        "print(floatvar)\n",
        "print(strvar)"
      ],
      "execution_count": null,
      "outputs": [
        {
          "output_type": "stream",
          "text": [
            "10\n",
            "2.57\n",
            "Python Language\n"
          ],
          "name": "stdout"
        }
      ]
    },
    {
      "cell_type": "code",
      "metadata": {
        "id": "8PF-opKsEDnO",
        "colab_type": "code",
        "colab": {
          "base_uri": "https://localhost:8080/",
          "height": 34
        },
        "outputId": "ca9c51c1-1546-497c-ecff-0d58f40c5b3b"
      },
      "source": [
        "p1 = p2 = p3 = p4 = 44 # All variables pointing to same value\n",
        "print(p1,p2,p3,p4)"
      ],
      "execution_count": null,
      "outputs": [
        {
          "output_type": "stream",
          "text": [
            "44 44 44 44\n"
          ],
          "name": "stdout"
        }
      ]
    },
    {
      "cell_type": "code",
      "metadata": {
        "id": "fzVgjjkaEHxg",
        "colab_type": "code",
        "colab": {
          "base_uri": "https://localhost:8080/",
          "height": 85
        },
        "outputId": "2d827b5d-1822-4f11-9645-dc507395a7bf"
      },
      "source": [
        "val1 = 10  # Integer data type\n",
        "print(val1)\n",
        "print(type(val1)) # type of object\n",
        "print(sys.getsizeof(val1)) # size of integer object in bytes \n",
        "print(val1, \" is Integer?\", isinstance(val1, int)) # val1 is an instance of int class"
      ],
      "execution_count": null,
      "outputs": [
        {
          "output_type": "stream",
          "text": [
            "10\n",
            "<class 'int'>\n",
            "28\n",
            "10  is Integer? True\n"
          ],
          "name": "stdout"
        }
      ]
    },
    {
      "cell_type": "code",
      "metadata": {
        "id": "kC9UOJt5d4I2",
        "colab_type": "code",
        "colab": {
          "base_uri": "https://localhost:8080/",
          "height": 85
        },
        "outputId": "b30daafe-922c-4a91-ca82-b58fd5299d7e"
      },
      "source": [
        "val2 = 92.78 # Float data type\n",
        "print(val2)\n",
        "print(type(val2)) # type of object\n",
        "print(sys.getsizeof(val2)) # size of float object in bytes\n",
        "print(val2, \" is float?\", isinstance(val2, float)) # Val2 is an instance of float class"
      ],
      "execution_count": null,
      "outputs": [
        {
          "output_type": "stream",
          "text": [
            "92.78\n",
            "<class 'float'>\n",
            "24\n",
            "92.78  is float? True\n"
          ],
          "name": "stdout"
        }
      ]
    },
    {
      "cell_type": "code",
      "metadata": {
        "id": "ZfrRROGdgXtR",
        "colab_type": "code",
        "colab": {
          "base_uri": "https://localhost:8080/",
          "height": 85
        },
        "outputId": "6ad3f5f3-6b7b-4842-aa1f-dff60ea77095"
      },
      "source": [
        "val3 = 25 + 10j # Complex data type\n",
        "print(val3)\n",
        "print(type(val3)) # type of object\n",
        "print(sys.getsizeof(val3)) # size of float object in bytes\n",
        "print(val3, \" is complex?\", isinstance(val3, complex)) # val3 is an instance of complex class"
      ],
      "execution_count": null,
      "outputs": [
        {
          "output_type": "stream",
          "text": [
            "(25+10j)\n",
            "<class 'complex'>\n",
            "32\n",
            "(25+10j)  is complex? True\n"
          ],
          "name": "stdout"
        }
      ]
    },
    {
      "cell_type": "code",
      "metadata": {
        "id": "dLxNbtoKgfJF",
        "colab_type": "code",
        "colab": {
          "base_uri": "https://localhost:8080/",
          "height": 34
        },
        "outputId": "318b5fc3-55e0-4aff-d28b-3dcf0fd0bd30"
      },
      "source": [
        "sys.getsizeof(int()) # size of integer object in bytes"
      ],
      "execution_count": null,
      "outputs": [
        {
          "output_type": "execute_result",
          "data": {
            "text/plain": [
              "24"
            ]
          },
          "metadata": {
            "tags": []
          },
          "execution_count": 7
        }
      ]
    },
    {
      "cell_type": "code",
      "metadata": {
        "id": "mpnF9YnLgh56",
        "colab_type": "code",
        "colab": {
          "base_uri": "https://localhost:8080/",
          "height": 34
        },
        "outputId": "02e5f418-6e30-45b5-9b77-99aa2c36bece"
      },
      "source": [
        "sys.getsizeof(float())  # size of float object in bytes"
      ],
      "execution_count": null,
      "outputs": [
        {
          "output_type": "execute_result",
          "data": {
            "text/plain": [
              "24"
            ]
          },
          "metadata": {
            "tags": []
          },
          "execution_count": 8
        }
      ]
    },
    {
      "cell_type": "code",
      "metadata": {
        "id": "SMsL4_9OgkPo",
        "colab_type": "code",
        "colab": {
          "base_uri": "https://localhost:8080/",
          "height": 34
        },
        "outputId": "a7a5b1ab-3755-4717-dd57-67bac603dc90"
      },
      "source": [
        "sys.getsizeof(complex()) # size of complex object in bytes"
      ],
      "execution_count": null,
      "outputs": [
        {
          "output_type": "execute_result",
          "data": {
            "text/plain": [
              "32"
            ]
          },
          "metadata": {
            "tags": []
          },
          "execution_count": 9
        }
      ]
    },
    {
      "cell_type": "code",
      "metadata": {
        "id": "G06P7BJJgmw-",
        "colab_type": "code",
        "colab": {}
      },
      "source": [
        "bool1= True"
      ],
      "execution_count": null,
      "outputs": []
    },
    {
      "cell_type": "code",
      "metadata": {
        "id": "umOQpbGVHn4s",
        "colab_type": "code",
        "colab": {}
      },
      "source": [
        "bool2=False"
      ],
      "execution_count": null,
      "outputs": []
    },
    {
      "cell_type": "code",
      "metadata": {
        "id": "Z-gOu7jdHrfT",
        "colab_type": "code",
        "colab": {
          "base_uri": "https://localhost:8080/",
          "height": 34
        },
        "outputId": "8e6ec1a7-453d-4ff7-efce-7acc7b71f8a0"
      },
      "source": [
        "print(type(bool))"
      ],
      "execution_count": null,
      "outputs": [
        {
          "output_type": "stream",
          "text": [
            "<class 'type'>\n"
          ],
          "name": "stdout"
        }
      ]
    },
    {
      "cell_type": "code",
      "metadata": {
        "id": "dMyz7BuzHuTQ",
        "colab_type": "code",
        "colab": {
          "base_uri": "https://localhost:8080/",
          "height": 34
        },
        "outputId": "137b628c-c0b6-46c5-c615-39affcf0e11f"
      },
      "source": [
        "print(sys.getsizeof(bool1))"
      ],
      "execution_count": null,
      "outputs": [
        {
          "output_type": "stream",
          "text": [
            "28\n"
          ],
          "name": "stdout"
        }
      ]
    },
    {
      "cell_type": "code",
      "metadata": {
        "id": "IIOPyKvUH2UZ",
        "colab_type": "code",
        "colab": {
          "base_uri": "https://localhost:8080/",
          "height": 34
        },
        "outputId": "213c6ee0-37e4-46e5-e6f1-2c4aae5dd30b"
      },
      "source": [
        "isinstance(bool1,bool)"
      ],
      "execution_count": null,
      "outputs": [
        {
          "output_type": "execute_result",
          "data": {
            "text/plain": [
              "True"
            ]
          },
          "metadata": {
            "tags": []
          },
          "execution_count": 45
        }
      ]
    },
    {
      "cell_type": "code",
      "metadata": {
        "id": "pAR5IhyoH7YM",
        "colab_type": "code",
        "colab": {
          "base_uri": "https://localhost:8080/",
          "height": 34
        },
        "outputId": "e65ff052-d197-48c1-81dd-03cfb5d47e47"
      },
      "source": [
        "bool(0)"
      ],
      "execution_count": null,
      "outputs": [
        {
          "output_type": "execute_result",
          "data": {
            "text/plain": [
              "False"
            ]
          },
          "metadata": {
            "tags": []
          },
          "execution_count": 46
        }
      ]
    },
    {
      "cell_type": "code",
      "metadata": {
        "id": "TFfRH0XeH99_",
        "colab_type": "code",
        "colab": {
          "base_uri": "https://localhost:8080/",
          "height": 34
        },
        "outputId": "218bbecf-c56a-490a-f3cd-0db560b8c51e"
      },
      "source": [
        "bool(1)"
      ],
      "execution_count": null,
      "outputs": [
        {
          "output_type": "execute_result",
          "data": {
            "text/plain": [
              "True"
            ]
          },
          "metadata": {
            "tags": []
          },
          "execution_count": 47
        }
      ]
    },
    {
      "cell_type": "code",
      "metadata": {
        "id": "NC6RDG8ZH_FM",
        "colab_type": "code",
        "colab": {
          "base_uri": "https://localhost:8080/",
          "height": 34
        },
        "outputId": "d282005d-57a9-4f61-e4d1-b97dbb9bbb93"
      },
      "source": [
        "bool(None)"
      ],
      "execution_count": null,
      "outputs": [
        {
          "output_type": "execute_result",
          "data": {
            "text/plain": [
              "False"
            ]
          },
          "metadata": {
            "tags": []
          },
          "execution_count": 48
        }
      ]
    },
    {
      "cell_type": "code",
      "metadata": {
        "id": "35sBeuAvIBs8",
        "colab_type": "code",
        "colab": {
          "base_uri": "https://localhost:8080/",
          "height": 34
        },
        "outputId": "3c9c360d-143c-4e25-b970-8eb2690a0960"
      },
      "source": [
        "bool(True)"
      ],
      "execution_count": null,
      "outputs": [
        {
          "output_type": "execute_result",
          "data": {
            "text/plain": [
              "True"
            ]
          },
          "metadata": {
            "tags": []
          },
          "execution_count": 49
        }
      ]
    },
    {
      "cell_type": "code",
      "metadata": {
        "id": "aGDAavKnIC9F",
        "colab_type": "code",
        "colab": {
          "base_uri": "https://localhost:8080/",
          "height": 34
        },
        "outputId": "efc1b946-c7ad-4126-8e4f-31fda93c41f0"
      },
      "source": [
        "bool(False)"
      ],
      "execution_count": null,
      "outputs": [
        {
          "output_type": "execute_result",
          "data": {
            "text/plain": [
              "False"
            ]
          },
          "metadata": {
            "tags": []
          },
          "execution_count": 50
        }
      ]
    },
    {
      "cell_type": "code",
      "metadata": {
        "id": "23u8UgHdIEko",
        "colab_type": "code",
        "colab": {
          "base_uri": "https://localhost:8080/",
          "height": 34
        },
        "outputId": "c774f1a0-5fde-42c5-877c-e905b7a9499c"
      },
      "source": [
        "str1= \"Hello Python\"\n",
        "print(str1)"
      ],
      "execution_count": null,
      "outputs": [
        {
          "output_type": "stream",
          "text": [
            "Hello Python\n"
          ],
          "name": "stdout"
        }
      ]
    },
    {
      "cell_type": "code",
      "metadata": {
        "id": "1XcFTTQ_IMVV",
        "colab_type": "code",
        "colab": {
          "base_uri": "https://localhost:8080/",
          "height": 34
        },
        "outputId": "bc45d1f8-a0e6-4e2a-9b40-69194b4910f5"
      },
      "source": [
        "mystr='Hello World'\n",
        "print(mystr)"
      ],
      "execution_count": null,
      "outputs": [
        {
          "output_type": "stream",
          "text": [
            "Hello World\n"
          ],
          "name": "stdout"
        }
      ]
    },
    {
      "cell_type": "code",
      "metadata": {
        "id": "AecDN5GbJ7h0",
        "colab_type": "code",
        "colab": {
          "base_uri": "https://localhost:8080/",
          "height": 51
        },
        "outputId": "350865b3-eec1-4aa1-a097-51f8e07e0b70"
      },
      "source": [
        "mystr= ''' Hello\n",
        "           World'''\n",
        "print(mystr)"
      ],
      "execution_count": null,
      "outputs": [
        {
          "output_type": "stream",
          "text": [
            " Hello\n",
            "           World\n"
          ],
          "name": "stdout"
        }
      ]
    },
    {
      "cell_type": "code",
      "metadata": {
        "id": "gZ2uQltQKF7I",
        "colab_type": "code",
        "colab": {
          "base_uri": "https://localhost:8080/",
          "height": 51
        },
        "outputId": "76afd41a-6759-4bf7-c4cb-337010bff1c1"
      },
      "source": [
        "mystr = \"\"\"Hello\n",
        "           World\"\"\"  # Define string using triple quotes\n",
        "print(mystr)"
      ],
      "execution_count": null,
      "outputs": [
        {
          "output_type": "stream",
          "text": [
            "Hello\n",
            "           World\n"
          ],
          "name": "stdout"
        }
      ]
    },
    {
      "cell_type": "code",
      "metadata": {
        "id": "iB_sbRbVKJfs",
        "colab_type": "code",
        "colab": {}
      },
      "source": [
        "mystr=('Happy','Monday','Everyone')"
      ],
      "execution_count": null,
      "outputs": []
    },
    {
      "cell_type": "code",
      "metadata": {
        "id": "JCGOtTvzKVZ8",
        "colab_type": "code",
        "colab": {
          "base_uri": "https://localhost:8080/",
          "height": 35
        },
        "outputId": "e8e0b23e-1eca-48c1-a36f-aec57f8c2c73"
      },
      "source": [
        "mystr2='Wooohoo '\n",
        "mystr2= mystr2*5\n",
        "mystr2"
      ],
      "execution_count": null,
      "outputs": [
        {
          "output_type": "execute_result",
          "data": {
            "application/vnd.google.colaboratory.intrinsic+json": {
              "type": "string"
            },
            "text/plain": [
              "'Wooohoo Wooohoo Wooohoo Wooohoo Wooohoo '"
            ]
          },
          "metadata": {
            "tags": []
          },
          "execution_count": 57
        }
      ]
    },
    {
      "cell_type": "code",
      "metadata": {
        "id": "_k3zv6E1Y058",
        "colab_type": "code",
        "colab": {
          "base_uri": "https://localhost:8080/",
          "height": 35
        },
        "outputId": "e328dd6b-5cc7-45eb-d4f7-d2810c20e9dd"
      },
      "source": [
        "str1"
      ],
      "execution_count": null,
      "outputs": [
        {
          "output_type": "execute_result",
          "data": {
            "application/vnd.google.colaboratory.intrinsic+json": {
              "type": "string"
            },
            "text/plain": [
              "'Hello Python'"
            ]
          },
          "metadata": {
            "tags": []
          },
          "execution_count": 58
        }
      ]
    },
    {
      "cell_type": "code",
      "metadata": {
        "id": "rFXJpM0YZCHX",
        "colab_type": "code",
        "colab": {
          "base_uri": "https://localhost:8080/",
          "height": 35
        },
        "outputId": "87f18470-dae1-44b5-b15d-ede1486ccaff"
      },
      "source": [
        "# First character in string \"str1\"\n",
        "str1[0]"
      ],
      "execution_count": null,
      "outputs": [
        {
          "output_type": "execute_result",
          "data": {
            "application/vnd.google.colaboratory.intrinsic+json": {
              "type": "string"
            },
            "text/plain": [
              "'H'"
            ]
          },
          "metadata": {
            "tags": []
          },
          "execution_count": 60
        }
      ]
    },
    {
      "cell_type": "code",
      "metadata": {
        "id": "rlqlWptjZFwE",
        "colab_type": "code",
        "colab": {
          "base_uri": "https://localhost:8080/",
          "height": 35
        },
        "outputId": "3105ca22-3934-4b63-a3d5-88e251c5a230"
      },
      "source": [
        "# Last character in string using len function\n",
        "str1[len(str1)-1]"
      ],
      "execution_count": null,
      "outputs": [
        {
          "output_type": "execute_result",
          "data": {
            "application/vnd.google.colaboratory.intrinsic+json": {
              "type": "string"
            },
            "text/plain": [
              "'n'"
            ]
          },
          "metadata": {
            "tags": []
          },
          "execution_count": 61
        }
      ]
    },
    {
      "cell_type": "code",
      "metadata": {
        "id": "DS0fG2UeZVH-",
        "colab_type": "code",
        "colab": {
          "base_uri": "https://localhost:8080/",
          "height": 35
        },
        "outputId": "bcd5bc16-5d55-435a-b5a3-d9cdea06b8cf"
      },
      "source": [
        "# Last character in string\n",
        "str1[-1]\n",
        "\n"
      ],
      "execution_count": null,
      "outputs": [
        {
          "output_type": "execute_result",
          "data": {
            "application/vnd.google.colaboratory.intrinsic+json": {
              "type": "string"
            },
            "text/plain": [
              "'n'"
            ]
          },
          "metadata": {
            "tags": []
          },
          "execution_count": 62
        }
      ]
    },
    {
      "cell_type": "code",
      "metadata": {
        "id": "8djkEWVJZepQ",
        "colab_type": "code",
        "colab": {
          "base_uri": "https://localhost:8080/",
          "height": 35
        },
        "outputId": "e9ce46d4-782b-4044-f81e-cbba43362911"
      },
      "source": [
        "str1[6] #Fetch 7th element of the string"
      ],
      "execution_count": null,
      "outputs": [
        {
          "output_type": "execute_result",
          "data": {
            "application/vnd.google.colaboratory.intrinsic+json": {
              "type": "string"
            },
            "text/plain": [
              "'P'"
            ]
          },
          "metadata": {
            "tags": []
          },
          "execution_count": 63
        }
      ]
    },
    {
      "cell_type": "code",
      "metadata": {
        "id": "yXmVOEO9Zhx1",
        "colab_type": "code",
        "colab": {
          "base_uri": "https://localhost:8080/",
          "height": 35
        },
        "outputId": "eebe592a-cb4e-4af1-d682-faf720f8a119"
      },
      "source": [
        "str1[0:5] # String slicing - Fetch all characters from 0 to 5 index location excluding the character at loc 5."
      ],
      "execution_count": null,
      "outputs": [
        {
          "output_type": "execute_result",
          "data": {
            "application/vnd.google.colaboratory.intrinsic+json": {
              "type": "string"
            },
            "text/plain": [
              "'Hello'"
            ]
          },
          "metadata": {
            "tags": []
          },
          "execution_count": 64
        }
      ]
    },
    {
      "cell_type": "code",
      "metadata": {
        "id": "jPjDaMxRZlIl",
        "colab_type": "code",
        "colab": {
          "base_uri": "https://localhost:8080/",
          "height": 35
        },
        "outputId": "0bd9c2de-3b1a-4802-e7d7-f1f16517694d"
      },
      "source": [
        "str1[6:12] # String slicing - Retreive all characters between 6 - 12 index loc excluding index loc 12."
      ],
      "execution_count": null,
      "outputs": [
        {
          "output_type": "execute_result",
          "data": {
            "application/vnd.google.colaboratory.intrinsic+json": {
              "type": "string"
            },
            "text/plain": [
              "'Python'"
            ]
          },
          "metadata": {
            "tags": []
          },
          "execution_count": 65
        }
      ]
    },
    {
      "cell_type": "code",
      "metadata": {
        "id": "x6B1SbDLZoJF",
        "colab_type": "code",
        "colab": {
          "base_uri": "https://localhost:8080/",
          "height": 35
        },
        "outputId": "92c83513-601b-4bb9-d2e6-5567ac8b78ae"
      },
      "source": [
        "str1[-4:] # Retreive last four characters of the string"
      ],
      "execution_count": null,
      "outputs": [
        {
          "output_type": "execute_result",
          "data": {
            "application/vnd.google.colaboratory.intrinsic+json": {
              "type": "string"
            },
            "text/plain": [
              "'thon'"
            ]
          },
          "metadata": {
            "tags": []
          },
          "execution_count": 66
        }
      ]
    },
    {
      "cell_type": "code",
      "metadata": {
        "id": "s104TPGUaHYm",
        "colab_type": "code",
        "colab": {
          "base_uri": "https://localhost:8080/",
          "height": 35
        },
        "outputId": "a4f3119c-951d-4c73-a8d4-61774a3131cb"
      },
      "source": [
        "str1[:4] # Retreive first four characters of the string"
      ],
      "execution_count": null,
      "outputs": [
        {
          "output_type": "execute_result",
          "data": {
            "application/vnd.google.colaboratory.intrinsic+json": {
              "type": "string"
            },
            "text/plain": [
              "'Hell'"
            ]
          },
          "metadata": {
            "tags": []
          },
          "execution_count": 67
        }
      ]
    },
    {
      "cell_type": "code",
      "metadata": {
        "id": "_YctrrCuaKhN",
        "colab_type": "code",
        "colab": {
          "base_uri": "https://localhost:8080/",
          "height": 35
        },
        "outputId": "a456144f-584f-470d-a52d-05965ee4c894"
      },
      "source": [
        "str1[:6] # Retreive first six characters of the string"
      ],
      "execution_count": null,
      "outputs": [
        {
          "output_type": "execute_result",
          "data": {
            "application/vnd.google.colaboratory.intrinsic+json": {
              "type": "string"
            },
            "text/plain": [
              "'Hello '"
            ]
          },
          "metadata": {
            "tags": []
          },
          "execution_count": 68
        }
      ]
    },
    {
      "cell_type": "code",
      "metadata": {
        "id": "0X2kk4v1aRcX",
        "colab_type": "code",
        "colab": {
          "base_uri": "https://localhost:8080/",
          "height": 35
        },
        "outputId": "0dba99a3-6408-413b-82cf-3b66762510e7"
      },
      "source": [
        "str1"
      ],
      "execution_count": null,
      "outputs": [
        {
          "output_type": "execute_result",
          "data": {
            "application/vnd.google.colaboratory.intrinsic+json": {
              "type": "string"
            },
            "text/plain": [
              "'Hello Python'"
            ]
          },
          "metadata": {
            "tags": []
          },
          "execution_count": 69
        }
      ]
    },
    {
      "cell_type": "code",
      "metadata": {
        "id": "PjwF4CByaVpz",
        "colab_type": "code",
        "colab": {
          "base_uri": "https://localhost:8080/",
          "height": 180
        },
        "outputId": "f3f85158-a081-4688-96ab-fe8d65204bb4"
      },
      "source": [
        "#Strings are immutable which means elements of a string cannot be changed once they have been assigned.\n",
        "str1[0:5] = 'HOLAA'"
      ],
      "execution_count": null,
      "outputs": [
        {
          "output_type": "error",
          "ename": "TypeError",
          "evalue": "ignored",
          "traceback": [
            "\u001b[0;31m---------------------------------------------------------------------------\u001b[0m",
            "\u001b[0;31mTypeError\u001b[0m                                 Traceback (most recent call last)",
            "\u001b[0;32m<ipython-input-70-5797fff88f23>\u001b[0m in \u001b[0;36m<module>\u001b[0;34m()\u001b[0m\n\u001b[1;32m      1\u001b[0m \u001b[0;31m#Strings are immutable which means elements of a string cannot be changed once they have been assigned.\u001b[0m\u001b[0;34m\u001b[0m\u001b[0;34m\u001b[0m\u001b[0;34m\u001b[0m\u001b[0m\n\u001b[0;32m----> 2\u001b[0;31m \u001b[0mstr1\u001b[0m\u001b[0;34m[\u001b[0m\u001b[0;36m0\u001b[0m\u001b[0;34m:\u001b[0m\u001b[0;36m5\u001b[0m\u001b[0;34m]\u001b[0m \u001b[0;34m=\u001b[0m \u001b[0;34m'HOLAA'\u001b[0m\u001b[0;34m\u001b[0m\u001b[0;34m\u001b[0m\u001b[0m\n\u001b[0m",
            "\u001b[0;31mTypeError\u001b[0m: 'str' object does not support item assignment"
          ]
        }
      ]
    },
    {
      "cell_type": "code",
      "metadata": {
        "id": "Ll_-c2RGaWW1",
        "colab_type": "code",
        "colab": {
          "base_uri": "https://localhost:8080/",
          "height": 180
        },
        "outputId": "e2d6ebaf-90e6-48a0-e5cb-be38de62743b"
      },
      "source": [
        "del str1 # Delete a string\n",
        "print(srt1)"
      ],
      "execution_count": null,
      "outputs": [
        {
          "output_type": "error",
          "ename": "NameError",
          "evalue": "ignored",
          "traceback": [
            "\u001b[0;31m---------------------------------------------------------------------------\u001b[0m",
            "\u001b[0;31mNameError\u001b[0m                                 Traceback (most recent call last)",
            "\u001b[0;32m<ipython-input-71-7fcc0cc83dcc>\u001b[0m in \u001b[0;36m<module>\u001b[0;34m()\u001b[0m\n\u001b[1;32m      1\u001b[0m \u001b[0;32mdel\u001b[0m \u001b[0mstr1\u001b[0m \u001b[0;31m# Delete a string\u001b[0m\u001b[0;34m\u001b[0m\u001b[0;34m\u001b[0m\u001b[0m\n\u001b[0;32m----> 2\u001b[0;31m \u001b[0mprint\u001b[0m\u001b[0;34m(\u001b[0m\u001b[0msrt1\u001b[0m\u001b[0;34m)\u001b[0m\u001b[0;34m\u001b[0m\u001b[0;34m\u001b[0m\u001b[0m\n\u001b[0m",
            "\u001b[0;31mNameError\u001b[0m: name 'srt1' is not defined"
          ]
        }
      ]
    },
    {
      "cell_type": "code",
      "metadata": {
        "id": "x5qB90bCaaR2",
        "colab_type": "code",
        "colab": {
          "base_uri": "https://localhost:8080/",
          "height": 34
        },
        "outputId": "819cffcc-1bd8-4e43-950f-d3013cdf0465"
      },
      "source": [
        "# String concatenation\n",
        "s1 = \"Hello\"\n",
        "s2 = \"Thiyagu\"\n",
        "s3 = s1 + s2\n",
        "print(s3)"
      ],
      "execution_count": null,
      "outputs": [
        {
          "output_type": "stream",
          "text": [
            "HelloThiyagu\n"
          ],
          "name": "stdout"
        }
      ]
    },
    {
      "cell_type": "code",
      "metadata": {
        "id": "FsZqJ6Y_aeaO",
        "colab_type": "code",
        "colab": {
          "base_uri": "https://localhost:8080/",
          "height": 34
        },
        "outputId": "ad8de605-5d03-4921-b6bd-09a92d363b9d"
      },
      "source": [
        "# String concatenation\n",
        "s1 = \"Hello\"\n",
        "s2 = \"Thiyagu\"\n",
        "s3 = s1 + \" \" + s2\n",
        "print(s3)"
      ],
      "execution_count": null,
      "outputs": [
        {
          "output_type": "stream",
          "text": [
            "Hello Thiyagu\n"
          ],
          "name": "stdout"
        }
      ]
    },
    {
      "cell_type": "code",
      "metadata": {
        "id": "NmKoW41qaiDc",
        "colab_type": "code",
        "colab": {}
      },
      "source": [
        "mystr1 = \"Hello Everyone\""
      ],
      "execution_count": null,
      "outputs": []
    },
    {
      "cell_type": "code",
      "metadata": {
        "id": "t_qr0FwUbaOe",
        "colab_type": "code",
        "colab": {
          "base_uri": "https://localhost:8080/",
          "height": 255
        },
        "outputId": "18e5b50f-8fa7-41e2-c84e-43eb37fb5e2f"
      },
      "source": [
        "for i in mystr1:\n",
        "  print(i)"
      ],
      "execution_count": null,
      "outputs": [
        {
          "output_type": "stream",
          "text": [
            "H\n",
            "e\n",
            "l\n",
            "l\n",
            "o\n",
            " \n",
            "E\n",
            "v\n",
            "e\n",
            "r\n",
            "y\n",
            "o\n",
            "n\n",
            "e\n"
          ],
          "name": "stdout"
        }
      ]
    },
    {
      "cell_type": "code",
      "metadata": {
        "id": "0gwX4xu4obea",
        "colab_type": "code",
        "colab": {
          "base_uri": "https://localhost:8080/",
          "height": 255
        },
        "outputId": "645005a0-009e-4e52-ebb7-621571906cd3"
      },
      "source": [
        "for i in enumerate(mystr1):\n",
        "  print(i)"
      ],
      "execution_count": null,
      "outputs": [
        {
          "output_type": "stream",
          "text": [
            "(0, 'H')\n",
            "(1, 'e')\n",
            "(2, 'l')\n",
            "(3, 'l')\n",
            "(4, 'o')\n",
            "(5, ' ')\n",
            "(6, 'E')\n",
            "(7, 'v')\n",
            "(8, 'e')\n",
            "(9, 'r')\n",
            "(10, 'y')\n",
            "(11, 'o')\n",
            "(12, 'n')\n",
            "(13, 'e')\n"
          ],
          "name": "stdout"
        }
      ]
    },
    {
      "cell_type": "code",
      "metadata": {
        "id": "4WnhtNKHp1h5",
        "colab_type": "code",
        "colab": {
          "base_uri": "https://localhost:8080/",
          "height": 255
        },
        "outputId": "029e9a5d-a33d-480b-808c-a74d639ddac9"
      },
      "source": [
        "list(enumerate(mystr1)) # Enumerate method adds a counter to an iterable and returns it in a form of enumerate object."
      ],
      "execution_count": null,
      "outputs": [
        {
          "output_type": "execute_result",
          "data": {
            "text/plain": [
              "[(0, 'H'),\n",
              " (1, 'e'),\n",
              " (2, 'l'),\n",
              " (3, 'l'),\n",
              " (4, 'o'),\n",
              " (5, ' '),\n",
              " (6, 'E'),\n",
              " (7, 'v'),\n",
              " (8, 'e'),\n",
              " (9, 'r'),\n",
              " (10, 'y'),\n",
              " (11, 'o'),\n",
              " (12, 'n'),\n",
              " (13, 'e')]"
            ]
          },
          "metadata": {
            "tags": []
          },
          "execution_count": 80
        }
      ]
    },
    {
      "cell_type": "code",
      "metadata": {
        "id": "4Nw9wkQAp5Dp",
        "colab_type": "code",
        "colab": {
          "base_uri": "https://localhost:8080/",
          "height": 68
        },
        "outputId": "5103b1bd-8a0d-4067-9109-6c02ba085f12"
      },
      "source": [
        "# String membership\n",
        "\n",
        "mystr1 = \"Hello Everyone\"\n",
        "\n",
        "print ('Hello' in mystr1) # Check whether substring \"Hello\" is present in string \"mysrt1\"\n",
        "print ('Everyone' in mystr1) # Check whether substring \"Everyone\" is present in string \"mysrt1\"\n",
        "print ('Hi' in mystr1) # Check whether substring \"Hi\" is present in string \"mysrt1\""
      ],
      "execution_count": null,
      "outputs": [
        {
          "output_type": "stream",
          "text": [
            "True\n",
            "True\n",
            "False\n"
          ],
          "name": "stdout"
        }
      ]
    },
    {
      "cell_type": "code",
      "metadata": {
        "id": "96QXdv-9qS6k",
        "colab_type": "code",
        "colab": {
          "base_uri": "https://localhost:8080/",
          "height": 34
        },
        "outputId": "3ea08950-8451-46f1-f3f1-fa2f57f95a50"
      },
      "source": [
        "\"\"\"\n",
        "The partition() method searches for a specified string and splits the string into a tuple containing three elements.\n",
        "\n",
        " - The first element contains the part before the argument string.\n",
        "\n",
        " - The second element contains the argument string.\n",
        "\n",
        " - The third element contains the part after the argument string.\n",
        "\"\"\"\n",
        "\n",
        "str5 = \"Natural language processing with Python and R and Java\"\n",
        "L = str5.partition(\"and\") \n",
        "print(L)"
      ],
      "execution_count": null,
      "outputs": [
        {
          "output_type": "stream",
          "text": [
            "('Natural language processing with Python ', 'and', ' R and Java')\n"
          ],
          "name": "stdout"
        }
      ]
    },
    {
      "cell_type": "code",
      "metadata": {
        "id": "UY-FhG09qbBA",
        "colab_type": "code",
        "colab": {
          "base_uri": "https://localhost:8080/",
          "height": 34
        },
        "outputId": "a503c027-a932-4e94-b077-f802a90e6bba"
      },
      "source": [
        "\"\"\"\n",
        "The rpartition() method searches for the last occurence of the specified string and splits the string into a tuple \n",
        "containing three elements.\n",
        "\n",
        " - The first element contains the part before the argument string.\n",
        "\n",
        " - The second element contains the argument string.\n",
        "\n",
        " - The third element contains the part after the argument string.\n",
        "\"\"\"\n",
        "\n",
        "str5 = \"Natural language processing with Python and R and Java\"\n",
        "L = str5.rpartition(\"and\") \n",
        "print(L)"
      ],
      "execution_count": null,
      "outputs": [
        {
          "output_type": "stream",
          "text": [
            "('Natural language processing with Python and R ', 'and', ' Java')\n"
          ],
          "name": "stdout"
        }
      ]
    },
    {
      "cell_type": "code",
      "metadata": {
        "id": "JZW9UsZCrX6R",
        "colab_type": "code",
        "colab": {
          "base_uri": "https://localhost:8080/",
          "height": 35
        },
        "outputId": "3543f33a-5843-477a-caa6-956f4b24dd34"
      },
      "source": [
        "mystr2 = \"   Hello Everyone  \"\n",
        "mystr2"
      ],
      "execution_count": null,
      "outputs": [
        {
          "output_type": "execute_result",
          "data": {
            "application/vnd.google.colaboratory.intrinsic+json": {
              "type": "string"
            },
            "text/plain": [
              "'   Hello Everyone  '"
            ]
          },
          "metadata": {
            "tags": []
          },
          "execution_count": 84
        }
      ]
    },
    {
      "cell_type": "code",
      "metadata": {
        "id": "_xuYT4bTrauz",
        "colab_type": "code",
        "colab": {
          "base_uri": "https://localhost:8080/",
          "height": 35
        },
        "outputId": "6cb3f962-d6c0-4d4a-b29e-c42569d13779"
      },
      "source": [
        "mystr2.strip()# Removes white space from begining & end"
      ],
      "execution_count": null,
      "outputs": [
        {
          "output_type": "execute_result",
          "data": {
            "application/vnd.google.colaboratory.intrinsic+json": {
              "type": "string"
            },
            "text/plain": [
              "'Hello Everyone'"
            ]
          },
          "metadata": {
            "tags": []
          },
          "execution_count": 85
        }
      ]
    },
    {
      "cell_type": "code",
      "metadata": {
        "id": "W1wnu3bTrgkb",
        "colab_type": "code",
        "colab": {
          "base_uri": "https://localhost:8080/",
          "height": 35
        },
        "outputId": "1a93ba10-8cb4-4fc9-c5c4-55a8e8feddff"
      },
      "source": [
        "mystr2.rstrip()# Removes all whitespaces at the end of the string"
      ],
      "execution_count": null,
      "outputs": [
        {
          "output_type": "execute_result",
          "data": {
            "application/vnd.google.colaboratory.intrinsic+json": {
              "type": "string"
            },
            "text/plain": [
              "'   Hello Everyone'"
            ]
          },
          "metadata": {
            "tags": []
          },
          "execution_count": 86
        }
      ]
    },
    {
      "cell_type": "code",
      "metadata": {
        "id": "ws7aaHFzrngg",
        "colab_type": "code",
        "colab": {
          "base_uri": "https://localhost:8080/",
          "height": 35
        },
        "outputId": "69faa911-69f7-49b5-8981-3c63100eb322"
      },
      "source": [
        "mystr2.lstrip() # Removes all whitespaces at the begining of the string"
      ],
      "execution_count": null,
      "outputs": [
        {
          "output_type": "execute_result",
          "data": {
            "application/vnd.google.colaboratory.intrinsic+json": {
              "type": "string"
            },
            "text/plain": [
              "'Hello Everyone  '"
            ]
          },
          "metadata": {
            "tags": []
          },
          "execution_count": 87
        }
      ]
    },
    {
      "cell_type": "code",
      "metadata": {
        "id": "buYxpjVPrsBZ",
        "colab_type": "code",
        "colab": {
          "base_uri": "https://localhost:8080/",
          "height": 35
        },
        "outputId": "6f4b82b7-8f01-4f9e-903e-45c791b40356"
      },
      "source": [
        "mystr2 = \"*********Hello Everyone***********All the Best**********\"\n",
        "mystr2"
      ],
      "execution_count": null,
      "outputs": [
        {
          "output_type": "execute_result",
          "data": {
            "application/vnd.google.colaboratory.intrinsic+json": {
              "type": "string"
            },
            "text/plain": [
              "'*********Hello Everyone***********All the Best**********'"
            ]
          },
          "metadata": {
            "tags": []
          },
          "execution_count": 88
        }
      ]
    },
    {
      "cell_type": "code",
      "metadata": {
        "id": "SCHEic-ervZF",
        "colab_type": "code",
        "colab": {
          "base_uri": "https://localhost:8080/",
          "height": 35
        },
        "outputId": "c0d5f912-8a9e-41df-a3d9-82c548168ba2"
      },
      "source": [
        "mystr2.strip('*')"
      ],
      "execution_count": null,
      "outputs": [
        {
          "output_type": "execute_result",
          "data": {
            "application/vnd.google.colaboratory.intrinsic+json": {
              "type": "string"
            },
            "text/plain": [
              "'Hello Everyone***********All the Best'"
            ]
          },
          "metadata": {
            "tags": []
          },
          "execution_count": 89
        }
      ]
    },
    {
      "cell_type": "code",
      "metadata": {
        "id": "8euMA7cyr0Xa",
        "colab_type": "code",
        "colab": {
          "base_uri": "https://localhost:8080/",
          "height": 35
        },
        "outputId": "4da886d6-6eb3-489f-fece-a35ba4c61bd4"
      },
      "source": [
        "mystr2.rstrip('*') # Removes all '*' characters at the end of the string"
      ],
      "execution_count": null,
      "outputs": [
        {
          "output_type": "execute_result",
          "data": {
            "application/vnd.google.colaboratory.intrinsic+json": {
              "type": "string"
            },
            "text/plain": [
              "'*********Hello Everyone***********All the Best'"
            ]
          },
          "metadata": {
            "tags": []
          },
          "execution_count": 90
        }
      ]
    },
    {
      "cell_type": "code",
      "metadata": {
        "id": "b3B6nK6Yr5i6",
        "colab_type": "code",
        "colab": {
          "base_uri": "https://localhost:8080/",
          "height": 35
        },
        "outputId": "9acf3c9e-31b5-4863-e73c-9d46f9611b08"
      },
      "source": [
        "mystr2.lstrip('*') # Removes all '*' characters at the begining of the string"
      ],
      "execution_count": null,
      "outputs": [
        {
          "output_type": "execute_result",
          "data": {
            "application/vnd.google.colaboratory.intrinsic+json": {
              "type": "string"
            },
            "text/plain": [
              "'Hello Everyone***********All the Best**********'"
            ]
          },
          "metadata": {
            "tags": []
          },
          "execution_count": 91
        }
      ]
    },
    {
      "cell_type": "code",
      "metadata": {
        "id": "dqiwKccXr8io",
        "colab_type": "code",
        "colab": {
          "base_uri": "https://localhost:8080/",
          "height": 35
        },
        "outputId": "52566105-3510-47a8-8204-ec90b01b61ef"
      },
      "source": [
        "mystr2 = \"   Hello Everyone  \"\n",
        "mystr2.lower()"
      ],
      "execution_count": null,
      "outputs": [
        {
          "output_type": "execute_result",
          "data": {
            "application/vnd.google.colaboratory.intrinsic+json": {
              "type": "string"
            },
            "text/plain": [
              "'   hello everyone  '"
            ]
          },
          "metadata": {
            "tags": []
          },
          "execution_count": 92
        }
      ]
    },
    {
      "cell_type": "code",
      "metadata": {
        "id": "0rAsczqdsAWI",
        "colab_type": "code",
        "colab": {
          "base_uri": "https://localhost:8080/",
          "height": 35
        },
        "outputId": "df286677-10c4-40cd-b831-4b7572799566"
      },
      "source": [
        "mystr2.upper()"
      ],
      "execution_count": null,
      "outputs": [
        {
          "output_type": "execute_result",
          "data": {
            "application/vnd.google.colaboratory.intrinsic+json": {
              "type": "string"
            },
            "text/plain": [
              "'   HELLO EVERYONE  '"
            ]
          },
          "metadata": {
            "tags": []
          },
          "execution_count": 93
        }
      ]
    },
    {
      "cell_type": "code",
      "metadata": {
        "id": "oZa9acY0sEn9",
        "colab_type": "code",
        "colab": {
          "base_uri": "https://localhost:8080/",
          "height": 35
        },
        "outputId": "a7d678b2-c6ae-4204-d684-6a5a826a85aa"
      },
      "source": [
        "mystr2.replace(\"He\" , \"Ho\") #Replace substring \"He\" with \"Ho\""
      ],
      "execution_count": null,
      "outputs": [
        {
          "output_type": "execute_result",
          "data": {
            "application/vnd.google.colaboratory.intrinsic+json": {
              "type": "string"
            },
            "text/plain": [
              "'   Hollo Everyone  '"
            ]
          },
          "metadata": {
            "tags": []
          },
          "execution_count": 94
        }
      ]
    },
    {
      "cell_type": "code",
      "metadata": {
        "id": "dE3-K2ozsIF5",
        "colab_type": "code",
        "colab": {
          "base_uri": "https://localhost:8080/",
          "height": 35
        },
        "outputId": "bf2beba7-cedc-4950-df16-379eb8e2ce9d"
      },
      "source": [
        "mystr2.replace(\" \" , \"\") # Remove all whitespaces using replace function"
      ],
      "execution_count": null,
      "outputs": [
        {
          "output_type": "execute_result",
          "data": {
            "application/vnd.google.colaboratory.intrinsic+json": {
              "type": "string"
            },
            "text/plain": [
              "'HelloEveryone'"
            ]
          },
          "metadata": {
            "tags": []
          },
          "execution_count": 95
        }
      ]
    },
    {
      "cell_type": "code",
      "metadata": {
        "id": "UxiniQzGsLIG",
        "colab_type": "code",
        "colab": {}
      },
      "source": [
        "mystr5 = \"one two Three one two two three\""
      ],
      "execution_count": null,
      "outputs": []
    },
    {
      "cell_type": "code",
      "metadata": {
        "id": "wi8vRqXpsOfA",
        "colab_type": "code",
        "colab": {
          "base_uri": "https://localhost:8080/",
          "height": 34
        },
        "outputId": "0233f68f-6f97-4615-c8ed-e224f07a73c8"
      },
      "source": [
        "mystr5.count(\"one\")# Number of times substring \"one\" occurred in string."
      ],
      "execution_count": null,
      "outputs": [
        {
          "output_type": "execute_result",
          "data": {
            "text/plain": [
              "2"
            ]
          },
          "metadata": {
            "tags": []
          },
          "execution_count": 97
        }
      ]
    },
    {
      "cell_type": "code",
      "metadata": {
        "id": "R7MuiWI5sQ1u",
        "colab_type": "code",
        "colab": {
          "base_uri": "https://localhost:8080/",
          "height": 34
        },
        "outputId": "c6edc793-9eee-4481-a6d2-d7521fa6dac5"
      },
      "source": [
        "mystr5.count(\"two\") # Number of times substring \"two\" occurred in string."
      ],
      "execution_count": null,
      "outputs": [
        {
          "output_type": "execute_result",
          "data": {
            "text/plain": [
              "3"
            ]
          },
          "metadata": {
            "tags": []
          },
          "execution_count": 98
        }
      ]
    },
    {
      "cell_type": "code",
      "metadata": {
        "id": "WndIZgjssWvl",
        "colab_type": "code",
        "colab": {
          "base_uri": "https://localhost:8080/",
          "height": 34
        },
        "outputId": "d5fbe6c5-eb9d-4381-cb75-d8a9e47574c4"
      },
      "source": [
        "mystr5.startswith(\"one\")  # Return boolean value True if string starts with \"one\""
      ],
      "execution_count": null,
      "outputs": [
        {
          "output_type": "execute_result",
          "data": {
            "text/plain": [
              "True"
            ]
          },
          "metadata": {
            "tags": []
          },
          "execution_count": 99
        }
      ]
    },
    {
      "cell_type": "code",
      "metadata": {
        "id": "55ZxNUVgscBy",
        "colab_type": "code",
        "colab": {
          "base_uri": "https://localhost:8080/",
          "height": 34
        },
        "outputId": "703b6c9b-644b-44bb-e3e2-d64d82c77d03"
      },
      "source": [
        "mystr5.endswith(\"three\")  # Return boolean value True if string ends with \"three\"\n"
      ],
      "execution_count": null,
      "outputs": [
        {
          "output_type": "execute_result",
          "data": {
            "text/plain": [
              "True"
            ]
          },
          "metadata": {
            "tags": []
          },
          "execution_count": 100
        }
      ]
    },
    {
      "cell_type": "code",
      "metadata": {
        "id": "qbteHSNjshhU",
        "colab_type": "code",
        "colab": {}
      },
      "source": [
        "mystr4 = \"one two three four one two two three five five six seven six seven one one one ten eight ten nine eleven ten ten nine\""
      ],
      "execution_count": null,
      "outputs": []
    },
    {
      "cell_type": "code",
      "metadata": {
        "id": "Pawj1xEGskjm",
        "colab_type": "code",
        "colab": {
          "base_uri": "https://localhost:8080/",
          "height": 442
        },
        "outputId": "61c20705-f18f-42e3-e178-b7264cdcd482"
      },
      "source": [
        "mystr4.split()"
      ],
      "execution_count": null,
      "outputs": [
        {
          "output_type": "execute_result",
          "data": {
            "text/plain": [
              "['one',\n",
              " 'two',\n",
              " 'three',\n",
              " 'four',\n",
              " 'one',\n",
              " 'two',\n",
              " 'two',\n",
              " 'three',\n",
              " 'five',\n",
              " 'five',\n",
              " 'six',\n",
              " 'seven',\n",
              " 'six',\n",
              " 'seven',\n",
              " 'one',\n",
              " 'one',\n",
              " 'one',\n",
              " 'ten',\n",
              " 'eight',\n",
              " 'ten',\n",
              " 'nine',\n",
              " 'eleven',\n",
              " 'ten',\n",
              " 'ten',\n",
              " 'nine']"
            ]
          },
          "metadata": {
            "tags": []
          },
          "execution_count": 102
        }
      ]
    },
    {
      "cell_type": "code",
      "metadata": {
        "id": "C05jpG0DsmW1",
        "colab_type": "code",
        "colab": {
          "base_uri": "https://localhost:8080/",
          "height": 442
        },
        "outputId": "0378f804-84e4-426e-ac0d-369d2d5a3c02"
      },
      "source": [
        "mylist = mystr4.split() # Split String into substrings\n",
        "mylist"
      ],
      "execution_count": null,
      "outputs": [
        {
          "output_type": "execute_result",
          "data": {
            "text/plain": [
              "['one',\n",
              " 'two',\n",
              " 'three',\n",
              " 'four',\n",
              " 'one',\n",
              " 'two',\n",
              " 'two',\n",
              " 'three',\n",
              " 'five',\n",
              " 'five',\n",
              " 'six',\n",
              " 'seven',\n",
              " 'six',\n",
              " 'seven',\n",
              " 'one',\n",
              " 'one',\n",
              " 'one',\n",
              " 'ten',\n",
              " 'eight',\n",
              " 'ten',\n",
              " 'nine',\n",
              " 'eleven',\n",
              " 'ten',\n",
              " 'ten',\n",
              " 'nine']"
            ]
          },
          "metadata": {
            "tags": []
          },
          "execution_count": 103
        }
      ]
    },
    {
      "cell_type": "code",
      "metadata": {
        "id": "FuaVy0KTspnw",
        "colab_type": "code",
        "colab": {}
      },
      "source": [
        "newlist=[item for item in mystr4]"
      ],
      "execution_count": null,
      "outputs": []
    },
    {
      "cell_type": "code",
      "metadata": {
        "id": "K_BzJKbZs-wj",
        "colab_type": "code",
        "colab": {
          "base_uri": "https://localhost:8080/",
          "height": 1000
        },
        "outputId": "8e05f69b-5d9a-4ef3-b68b-be8956932cc9"
      },
      "source": [
        "newlist"
      ],
      "execution_count": null,
      "outputs": [
        {
          "output_type": "execute_result",
          "data": {
            "text/plain": [
              "['o',\n",
              " 'n',\n",
              " 'e',\n",
              " ' ',\n",
              " 't',\n",
              " 'w',\n",
              " 'o',\n",
              " ' ',\n",
              " 't',\n",
              " 'h',\n",
              " 'r',\n",
              " 'e',\n",
              " 'e',\n",
              " ' ',\n",
              " 'f',\n",
              " 'o',\n",
              " 'u',\n",
              " 'r',\n",
              " ' ',\n",
              " 'o',\n",
              " 'n',\n",
              " 'e',\n",
              " ' ',\n",
              " 't',\n",
              " 'w',\n",
              " 'o',\n",
              " ' ',\n",
              " 't',\n",
              " 'w',\n",
              " 'o',\n",
              " ' ',\n",
              " 't',\n",
              " 'h',\n",
              " 'r',\n",
              " 'e',\n",
              " 'e',\n",
              " ' ',\n",
              " 'f',\n",
              " 'i',\n",
              " 'v',\n",
              " 'e',\n",
              " ' ',\n",
              " 'f',\n",
              " 'i',\n",
              " 'v',\n",
              " 'e',\n",
              " ' ',\n",
              " 's',\n",
              " 'i',\n",
              " 'x',\n",
              " ' ',\n",
              " 's',\n",
              " 'e',\n",
              " 'v',\n",
              " 'e',\n",
              " 'n',\n",
              " ' ',\n",
              " 's',\n",
              " 'i',\n",
              " 'x',\n",
              " ' ',\n",
              " 's',\n",
              " 'e',\n",
              " 'v',\n",
              " 'e',\n",
              " 'n',\n",
              " ' ',\n",
              " 'o',\n",
              " 'n',\n",
              " 'e',\n",
              " ' ',\n",
              " 'o',\n",
              " 'n',\n",
              " 'e',\n",
              " ' ',\n",
              " 'o',\n",
              " 'n',\n",
              " 'e',\n",
              " ' ',\n",
              " 't',\n",
              " 'e',\n",
              " 'n',\n",
              " ' ',\n",
              " 'e',\n",
              " 'i',\n",
              " 'g',\n",
              " 'h',\n",
              " 't',\n",
              " ' ',\n",
              " 't',\n",
              " 'e',\n",
              " 'n',\n",
              " ' ',\n",
              " 'n',\n",
              " 'i',\n",
              " 'n',\n",
              " 'e',\n",
              " ' ',\n",
              " 'e',\n",
              " 'l',\n",
              " 'e',\n",
              " 'v',\n",
              " 'e',\n",
              " 'n',\n",
              " ' ',\n",
              " 't',\n",
              " 'e',\n",
              " 'n',\n",
              " ' ',\n",
              " 't',\n",
              " 'e',\n",
              " 'n',\n",
              " ' ',\n",
              " 'n',\n",
              " 'i',\n",
              " 'n',\n",
              " 'e']"
            ]
          },
          "metadata": {
            "tags": []
          },
          "execution_count": 105
        }
      ]
    },
    {
      "cell_type": "code",
      "metadata": {
        "id": "pc6Hv1VJIInM",
        "colab_type": "code",
        "colab": {
          "base_uri": "https://localhost:8080/",
          "height": 34
        },
        "outputId": "3877b24b-4294-4e55-f58c-4d1df3bc3e74"
      },
      "source": [
        "# Combining string & numbers using format method\n",
        "item1 = 40\n",
        "item2 = 55\n",
        "item3 = 77\n",
        "\n",
        "res = \"Cost of item1 , item2 and item3 are {} , {} and {}\"\n",
        "\n",
        "print(res.format(item1,item2,item3))"
      ],
      "execution_count": null,
      "outputs": [
        {
          "output_type": "stream",
          "text": [
            "Cost of item1 , item2 and item3 are 40 , 55 and 77\n"
          ],
          "name": "stdout"
        }
      ]
    },
    {
      "cell_type": "code",
      "metadata": {
        "id": "nmdZcunCtUvK",
        "colab_type": "code",
        "colab": {
          "base_uri": "https://localhost:8080/",
          "height": 34
        },
        "outputId": "90895c89-a8e4-492e-ba75-55439824b125"
      },
      "source": [
        "# Combining string & numbers using format method\n",
        "item1 = 40\n",
        "item2 = 55\n",
        "item3 = 77\n",
        "\n",
        "res = \"Cost of item3 , item2 and item1 are {2} , {1} and {0}\"\n",
        "\n",
        "print(res.format(item1,item2,item3))"
      ],
      "execution_count": null,
      "outputs": [
        {
          "output_type": "stream",
          "text": [
            "Cost of item3 , item2 and item1 are 77 , 55 and 40\n"
          ],
          "name": "stdout"
        }
      ]
    },
    {
      "cell_type": "code",
      "metadata": {
        "id": "G4PSayv6vCPO",
        "colab_type": "code",
        "colab": {
          "base_uri": "https://localhost:8080/",
          "height": 34
        },
        "outputId": "6e8d6e05-7ce1-4864-afaa-2b24c198019e"
      },
      "source": [
        "str2 = \" WELCOME EVERYONE \"\n",
        "str2 = str2.center(100) # center align the string using a specific character as the fill character.\n",
        "print(str2)"
      ],
      "execution_count": null,
      "outputs": [
        {
          "output_type": "stream",
          "text": [
            "                                          WELCOME EVERYONE                                          \n"
          ],
          "name": "stdout"
        }
      ]
    },
    {
      "cell_type": "code",
      "metadata": {
        "id": "7QruRY0bvGR4",
        "colab_type": "code",
        "colab": {
          "base_uri": "https://localhost:8080/",
          "height": 34
        },
        "outputId": "8a71337e-b934-414d-971d-24cc738ccf2a"
      },
      "source": [
        "str2 = \" WELCOME EVERYONE \"\n",
        "str2 = str2.rjust(50) # Right align the string using a specific character as the fill character.\n",
        "print(str2)"
      ],
      "execution_count": null,
      "outputs": [
        {
          "output_type": "stream",
          "text": [
            "                                 WELCOME EVERYONE \n"
          ],
          "name": "stdout"
        }
      ]
    },
    {
      "cell_type": "code",
      "metadata": {
        "id": "YfTRGiiivKbz",
        "colab_type": "code",
        "colab": {
          "base_uri": "https://localhost:8080/",
          "height": 34
        },
        "outputId": "189bdc1b-37e4-4c3c-ad29-e06e6637f8ba"
      },
      "source": [
        "str4 = \"one two three four five six seven\"\n",
        "loc = str4.find(\"five\") # Find the location of word 'five' in the string \"str4\"\n",
        "print(loc)"
      ],
      "execution_count": null,
      "outputs": [
        {
          "output_type": "stream",
          "text": [
            "19\n"
          ],
          "name": "stdout"
        }
      ]
    },
    {
      "cell_type": "code",
      "metadata": {
        "id": "Fy1ZGA1tvOs-",
        "colab_type": "code",
        "colab": {
          "base_uri": "https://localhost:8080/",
          "height": 34
        },
        "outputId": "8d2a163b-b76e-496e-cb02-5e98bbbe05ab"
      },
      "source": [
        "str4 = \"one two three four five six seven\"\n",
        "loc = str4.index(\"five\") # Find the location of word 'five' in the string \"str4\"\n",
        "print(loc)"
      ],
      "execution_count": null,
      "outputs": [
        {
          "output_type": "stream",
          "text": [
            "19\n"
          ],
          "name": "stdout"
        }
      ]
    },
    {
      "cell_type": "code",
      "metadata": {
        "id": "aj5t0v60vSef",
        "colab_type": "code",
        "colab": {
          "base_uri": "https://localhost:8080/",
          "height": 85
        },
        "outputId": "33bc8643-27da-4d9c-8652-46c5621d5d9b"
      },
      "source": [
        "mystr6 = '123456789'\n",
        "print(mystr6.isalpha()) # returns True if all the characters in the text are letters\n",
        "print(mystr6.isalnum())  # returns True if a string contains only letters or numbers or both\n",
        "print(mystr6.isdecimal()) # returns True if all the characters are decimals (0-9)\n",
        "print(mystr6.isnumeric()) # returns True if all the characters are numeric (0-9)"
      ],
      "execution_count": null,
      "outputs": [
        {
          "output_type": "stream",
          "text": [
            "False\n",
            "True\n",
            "True\n",
            "True\n"
          ],
          "name": "stdout"
        }
      ]
    },
    {
      "cell_type": "code",
      "metadata": {
        "id": "LqfS3-0tvb5t",
        "colab_type": "code",
        "colab": {
          "base_uri": "https://localhost:8080/",
          "height": 85
        },
        "outputId": "f9ff17de-9922-449e-df13-ad6b843ad53e"
      },
      "source": [
        "mystr6 = 'abcde'\n",
        "print(mystr6.isalpha()) # returns True if all the characters in the text are letters\n",
        "print(mystr6.isalnum())  # returns True if a string contains only letters or numbers or both\n",
        "print(mystr6.isdecimal()) # returns True if all the characters are decimals (0-9)\n",
        "print(mystr6.isnumeric()) # returns True if all the characters are numeric (0-9)"
      ],
      "execution_count": null,
      "outputs": [
        {
          "output_type": "stream",
          "text": [
            "True\n",
            "True\n",
            "False\n",
            "False\n"
          ],
          "name": "stdout"
        }
      ]
    },
    {
      "cell_type": "code",
      "metadata": {
        "id": "o0TnIcqzvfTt",
        "colab_type": "code",
        "colab": {
          "base_uri": "https://localhost:8080/",
          "height": 85
        },
        "outputId": "213cd24f-8837-4fcd-f27c-d9fde9646ce1"
      },
      "source": [
        "mystr6 = 'abc12309'\n",
        "print(mystr6.isalpha()) # returns True if all the characters in the text are letters\n",
        "print(mystr6.isalnum())  # returns True if a string contains only letters or numbers or both\n",
        "print(mystr6.isdecimal()) # returns True if all the characters are decimals (0-9)\n",
        "print(mystr6.isnumeric()) # returns True if all the characters are numeric (0-9)"
      ],
      "execution_count": null,
      "outputs": [
        {
          "output_type": "stream",
          "text": [
            "False\n",
            "True\n",
            "False\n",
            "False\n"
          ],
          "name": "stdout"
        }
      ]
    },
    {
      "cell_type": "code",
      "metadata": {
        "id": "xtsNz_0VvjNf",
        "colab_type": "code",
        "colab": {
          "base_uri": "https://localhost:8080/",
          "height": 51
        },
        "outputId": "e001c086-1607-4ca0-8745-bc93cadcd838"
      },
      "source": [
        "mystr7 = 'ABCDEF'\n",
        "print(mystr7.isupper())  # Returns True if all the characters are in upper case\n",
        "print(mystr7.islower())  # Returns True if all the characters are in lower case"
      ],
      "execution_count": null,
      "outputs": [
        {
          "output_type": "stream",
          "text": [
            "True\n",
            "False\n"
          ],
          "name": "stdout"
        }
      ]
    },
    {
      "cell_type": "code",
      "metadata": {
        "id": "7yL-Y2ANvloQ",
        "colab_type": "code",
        "colab": {
          "base_uri": "https://localhost:8080/",
          "height": 51
        },
        "outputId": "7d13c4c0-931f-44cb-8699-ac3ce19c226c"
      },
      "source": [
        "mystr8 = 'abcdef'\n",
        "print(mystr8.isupper())  # Returns True if all the characters are in upper case\n",
        "print(mystr8.islower())  # Returns True if all the characters are in lower case"
      ],
      "execution_count": null,
      "outputs": [
        {
          "output_type": "stream",
          "text": [
            "False\n",
            "True\n"
          ],
          "name": "stdout"
        }
      ]
    },
    {
      "cell_type": "code",
      "metadata": {
        "id": "WOEosNtLvoFV",
        "colab_type": "code",
        "colab": {
          "base_uri": "https://localhost:8080/",
          "height": 34
        },
        "outputId": "0f4949e3-4c1c-4b93-a5d3-92b6df85bc64"
      },
      "source": [
        "str6 = \"one two three four one two two three five five six one ten eight ten nine eleven ten ten nine\"\n",
        "\n",
        "loc = str6.rfind(\"one\") # last occurrence of word 'one' in string \"str6\"\n",
        "print(loc)"
      ],
      "execution_count": null,
      "outputs": [
        {
          "output_type": "stream",
          "text": [
            "51\n"
          ],
          "name": "stdout"
        }
      ]
    },
    {
      "cell_type": "code",
      "metadata": {
        "id": "4n2nWgy6vuSy",
        "colab_type": "code",
        "colab": {
          "base_uri": "https://localhost:8080/",
          "height": 34
        },
        "outputId": "debc0e4c-708d-4e86-cd93-bf402487f6c8"
      },
      "source": [
        "loc = str6.rindex(\"one\") # last occurrence of word 'one' in string \"str6\"\n",
        "\n",
        "print(loc)"
      ],
      "execution_count": null,
      "outputs": [
        {
          "output_type": "stream",
          "text": [
            "51\n"
          ],
          "name": "stdout"
        }
      ]
    },
    {
      "cell_type": "code",
      "metadata": {
        "id": "yKdDWuJCxBxn",
        "colab_type": "code",
        "colab": {
          "base_uri": "https://localhost:8080/",
          "height": 35
        },
        "outputId": "d6feacbb-ec4f-432e-9257-11a2f9d5ba09"
      },
      "source": [
        "txt = \"   abc def ghi   \"\n",
        "\n",
        "txt.rstrip()"
      ],
      "execution_count": null,
      "outputs": [
        {
          "output_type": "execute_result",
          "data": {
            "application/vnd.google.colaboratory.intrinsic+json": {
              "type": "string"
            },
            "text/plain": [
              "'   abc def ghi'"
            ]
          },
          "metadata": {
            "tags": []
          },
          "execution_count": 119
        }
      ]
    },
    {
      "cell_type": "code",
      "metadata": {
        "id": "xgduxr2dxHMz",
        "colab_type": "code",
        "colab": {
          "base_uri": "https://localhost:8080/",
          "height": 35
        },
        "outputId": "4a9cde14-a9b2-4abc-a82d-4a2d3f9e4cd4"
      },
      "source": [
        "txt = \"   abc def ghi   \"\n",
        "\n",
        "txt.lstrip()"
      ],
      "execution_count": null,
      "outputs": [
        {
          "output_type": "execute_result",
          "data": {
            "application/vnd.google.colaboratory.intrinsic+json": {
              "type": "string"
            },
            "text/plain": [
              "'abc def ghi   '"
            ]
          },
          "metadata": {
            "tags": []
          },
          "execution_count": 120
        }
      ]
    },
    {
      "cell_type": "code",
      "metadata": {
        "id": "9G6U_NyGxKG1",
        "colab_type": "code",
        "colab": {
          "base_uri": "https://localhost:8080/",
          "height": 35
        },
        "outputId": "654da616-7bbc-4c62-c9d4-4fae67dde87b"
      },
      "source": [
        "txt = \"   abc def ghi   \"\n",
        "\n",
        "txt.strip()"
      ],
      "execution_count": null,
      "outputs": [
        {
          "output_type": "execute_result",
          "data": {
            "application/vnd.google.colaboratory.intrinsic+json": {
              "type": "string"
            },
            "text/plain": [
              "'abc def ghi'"
            ]
          },
          "metadata": {
            "tags": []
          },
          "execution_count": 121
        }
      ]
    },
    {
      "cell_type": "code",
      "metadata": {
        "id": "GYeI3tkCxNRb",
        "colab_type": "code",
        "colab": {
          "base_uri": "https://localhost:8080/",
          "height": 129
        },
        "outputId": "6ac60daa-91ce-43c4-e7de-be6abdc19865"
      },
      "source": [
        "#Using double quotes in the string is not allowed.\n",
        "mystr = \"My favourite TV Series is \"Game of Thrones\"\""
      ],
      "execution_count": null,
      "outputs": [
        {
          "output_type": "error",
          "ename": "SyntaxError",
          "evalue": "ignored",
          "traceback": [
            "\u001b[0;36m  File \u001b[0;32m\"<ipython-input-122-0fa35a74da86>\"\u001b[0;36m, line \u001b[0;32m2\u001b[0m\n\u001b[0;31m    mystr = \"My favourite TV Series is \"Game of Thrones\"\"\u001b[0m\n\u001b[0m                                           ^\u001b[0m\n\u001b[0;31mSyntaxError\u001b[0m\u001b[0;31m:\u001b[0m invalid syntax\n"
          ]
        }
      ]
    },
    {
      "cell_type": "code",
      "metadata": {
        "id": "veibimbhxUyY",
        "colab_type": "code",
        "colab": {
          "base_uri": "https://localhost:8080/",
          "height": 34
        },
        "outputId": "74f94770-42ef-4fa2-a3a5-dc525d6f10bf"
      },
      "source": [
        "#Using escape character to allow illegal characters\n",
        "mystr = \"My favourite series is \\\"Game of Thrones\\\"\"\n",
        "print(mystr)"
      ],
      "execution_count": null,
      "outputs": [
        {
          "output_type": "stream",
          "text": [
            "My favourite series is \"Game of Thrones\"\n"
          ],
          "name": "stdout"
        }
      ]
    },
    {
      "cell_type": "code",
      "metadata": {
        "id": "3AWxH6SNx3mO",
        "colab_type": "code",
        "colab": {}
      },
      "source": [
        "list1 = []      # Empty List"
      ],
      "execution_count": null,
      "outputs": []
    },
    {
      "cell_type": "code",
      "metadata": {
        "id": "FCSMyxcrx7JC",
        "colab_type": "code",
        "colab": {
          "base_uri": "https://localhost:8080/",
          "height": 34
        },
        "outputId": "56ba7b3c-70c5-4594-a9cd-8041503b1356"
      },
      "source": [
        "type(list1)"
      ],
      "execution_count": null,
      "outputs": [
        {
          "output_type": "execute_result",
          "data": {
            "text/plain": [
              "list"
            ]
          },
          "metadata": {
            "tags": []
          },
          "execution_count": 125
        }
      ]
    },
    {
      "cell_type": "code",
      "metadata": {
        "id": "5hKmLZYHx8_d",
        "colab_type": "code",
        "colab": {}
      },
      "source": [
        "list2 = [10,30,60]      # List of integers numbers"
      ],
      "execution_count": null,
      "outputs": []
    },
    {
      "cell_type": "code",
      "metadata": {
        "id": "YEESFTrJ4XUH",
        "colab_type": "code",
        "colab": {}
      },
      "source": [
        "list3 = [10.77,30.66,60.89]       # List of float numbers"
      ],
      "execution_count": null,
      "outputs": []
    },
    {
      "cell_type": "code",
      "metadata": {
        "id": "BuAB2lrL4YgE",
        "colab_type": "code",
        "colab": {}
      },
      "source": [
        "list4 = ['one','two' , \"three\"]   # List of strings"
      ],
      "execution_count": null,
      "outputs": []
    },
    {
      "cell_type": "code",
      "metadata": {
        "id": "7mWYcLc_4azk",
        "colab_type": "code",
        "colab": {}
      },
      "source": [
        "list5 = ['Asif', 25 ,[50, 100],[150, 90]]    # Nested Lists"
      ],
      "execution_count": null,
      "outputs": []
    },
    {
      "cell_type": "code",
      "metadata": {
        "id": "hc5a1SNV4e-C",
        "colab_type": "code",
        "colab": {}
      },
      "source": [
        "list6 = [100, 'Asif', 17.765]   # List of mixed data types"
      ],
      "execution_count": null,
      "outputs": []
    },
    {
      "cell_type": "code",
      "metadata": {
        "id": "EUBgHg5Y4hdA",
        "colab_type": "code",
        "colab": {}
      },
      "source": [
        "list7 = ['Asif', 25 ,[50, 100],[150, 90] , {'John' , 'David'}]"
      ],
      "execution_count": null,
      "outputs": []
    },
    {
      "cell_type": "code",
      "metadata": {
        "id": "cb1RDvGY4lEc",
        "colab_type": "code",
        "colab": {
          "base_uri": "https://localhost:8080/",
          "height": 34
        },
        "outputId": "c69ef4ac-4eb7-49e7-ed16-1f7543745110"
      },
      "source": [
        "len(list7)"
      ],
      "execution_count": null,
      "outputs": [
        {
          "output_type": "execute_result",
          "data": {
            "text/plain": [
              "5"
            ]
          },
          "metadata": {
            "tags": []
          },
          "execution_count": 132
        }
      ]
    },
    {
      "cell_type": "code",
      "metadata": {
        "id": "yrbxwNKv4mTn",
        "colab_type": "code",
        "colab": {
          "base_uri": "https://localhost:8080/",
          "height": 34
        },
        "outputId": "49e9cea9-7076-492c-8557-27c7230a019a"
      },
      "source": [
        "list2[0] # Retreive first element of the list"
      ],
      "execution_count": null,
      "outputs": [
        {
          "output_type": "execute_result",
          "data": {
            "text/plain": [
              "10"
            ]
          },
          "metadata": {
            "tags": []
          },
          "execution_count": 134
        }
      ]
    },
    {
      "cell_type": "code",
      "metadata": {
        "id": "igGstzYb6VG8",
        "colab_type": "code",
        "colab": {
          "base_uri": "https://localhost:8080/",
          "height": 35
        },
        "outputId": "92503504-bd2b-4654-8afe-fbc1237bc750"
      },
      "source": [
        "list4[0] # Retreive first element of the list"
      ],
      "execution_count": null,
      "outputs": [
        {
          "output_type": "execute_result",
          "data": {
            "application/vnd.google.colaboratory.intrinsic+json": {
              "type": "string"
            },
            "text/plain": [
              "'one'"
            ]
          },
          "metadata": {
            "tags": []
          },
          "execution_count": 135
        }
      ]
    },
    {
      "cell_type": "code",
      "metadata": {
        "id": "bKgMctX-6a8P",
        "colab_type": "code",
        "colab": {
          "base_uri": "https://localhost:8080/",
          "height": 35
        },
        "outputId": "d465b4d7-2922-452f-8462-617345f60b80"
      },
      "source": [
        "list4[0] # Retreive first element of the list"
      ],
      "execution_count": null,
      "outputs": [
        {
          "output_type": "execute_result",
          "data": {
            "application/vnd.google.colaboratory.intrinsic+json": {
              "type": "string"
            },
            "text/plain": [
              "'one'"
            ]
          },
          "metadata": {
            "tags": []
          },
          "execution_count": 136
        }
      ]
    },
    {
      "cell_type": "code",
      "metadata": {
        "id": "6_Cd5gqG6dm2",
        "colab_type": "code",
        "colab": {
          "base_uri": "https://localhost:8080/",
          "height": 34
        },
        "outputId": "374fa343-80c2-41ac-fd03-6aebc6462806"
      },
      "source": [
        "list5[-1]  # Last item of the list"
      ],
      "execution_count": null,
      "outputs": [
        {
          "output_type": "execute_result",
          "data": {
            "text/plain": [
              "[150, 90]"
            ]
          },
          "metadata": {
            "tags": []
          },
          "execution_count": 137
        }
      ]
    },
    {
      "cell_type": "code",
      "metadata": {
        "id": "R-xB1lx06fsG",
        "colab_type": "code",
        "colab": {
          "base_uri": "https://localhost:8080/",
          "height": 34
        },
        "outputId": "93090df6-af54-445a-b057-84a70c50827c"
      },
      "source": [
        "list5[len(list5)-1]"
      ],
      "execution_count": null,
      "outputs": [
        {
          "output_type": "execute_result",
          "data": {
            "text/plain": [
              "[150, 90]"
            ]
          },
          "metadata": {
            "tags": []
          },
          "execution_count": 138
        }
      ]
    },
    {
      "cell_type": "code",
      "metadata": {
        "id": "TZam_U4R6kna",
        "colab_type": "code",
        "colab": {}
      },
      "source": [
        "mylist = ['one' , 'two' , 'three' , 'four' , 'five' , 'six' , 'seven' , 'eight']"
      ],
      "execution_count": null,
      "outputs": []
    },
    {
      "cell_type": "code",
      "metadata": {
        "id": "9t6gmneb6nhk",
        "colab_type": "code",
        "colab": {
          "base_uri": "https://localhost:8080/",
          "height": 34
        },
        "outputId": "6e59d653-e42f-4961-b8e3-233ff113a6ef"
      },
      "source": [
        "mylist[0:3] # Return all items from 0th to 3rd index location excluding the item at loc 3."
      ],
      "execution_count": null,
      "outputs": [
        {
          "output_type": "execute_result",
          "data": {
            "text/plain": [
              "['one', 'two', 'three']"
            ]
          },
          "metadata": {
            "tags": []
          },
          "execution_count": 140
        }
      ]
    },
    {
      "cell_type": "code",
      "metadata": {
        "id": "AQL0XsmD6pwj",
        "colab_type": "code",
        "colab": {
          "base_uri": "https://localhost:8080/",
          "height": 34
        },
        "outputId": "a327a7ca-a551-4445-bc06-4c48f1eddada"
      },
      "source": [
        "mylist[2:5] # List all items from 2nd to 5th index location excluding the item at loc 5."
      ],
      "execution_count": null,
      "outputs": [
        {
          "output_type": "execute_result",
          "data": {
            "text/plain": [
              "['three', 'four', 'five']"
            ]
          },
          "metadata": {
            "tags": []
          },
          "execution_count": 141
        }
      ]
    },
    {
      "cell_type": "code",
      "metadata": {
        "id": "I835wCHI6uOK",
        "colab_type": "code",
        "colab": {
          "base_uri": "https://localhost:8080/",
          "height": 34
        },
        "outputId": "f9808531-02df-4ef5-f090-64b38f87fd8f"
      },
      "source": [
        "mylist[:3] # Return first three items"
      ],
      "execution_count": null,
      "outputs": [
        {
          "output_type": "execute_result",
          "data": {
            "text/plain": [
              "['one', 'two', 'three']"
            ]
          },
          "metadata": {
            "tags": []
          },
          "execution_count": 144
        }
      ]
    },
    {
      "cell_type": "code",
      "metadata": {
        "id": "xLLCCah6_Xnx",
        "colab_type": "code",
        "colab": {
          "base_uri": "https://localhost:8080/",
          "height": 34
        },
        "outputId": "080400b4-fc8b-4ada-8498-5d26596cc735"
      },
      "source": [
        "mylist[:2]  # Return first two items"
      ],
      "execution_count": null,
      "outputs": [
        {
          "output_type": "execute_result",
          "data": {
            "text/plain": [
              "['one', 'two']"
            ]
          },
          "metadata": {
            "tags": []
          },
          "execution_count": 145
        }
      ]
    },
    {
      "cell_type": "code",
      "metadata": {
        "id": "5LSwEcwv-cB3",
        "colab_type": "code",
        "colab": {
          "base_uri": "https://localhost:8080/",
          "height": 34
        },
        "outputId": "8fcd9908-53fa-477d-9c52-2ca09bf33717"
      },
      "source": [
        "mylist[-3:] # Return last three items"
      ],
      "execution_count": null,
      "outputs": [
        {
          "output_type": "execute_result",
          "data": {
            "text/plain": [
              "['six', 'seven', 'eight']"
            ]
          },
          "metadata": {
            "tags": []
          },
          "execution_count": 146
        }
      ]
    },
    {
      "cell_type": "code",
      "metadata": {
        "id": "UvT59zkz-fOc",
        "colab_type": "code",
        "colab": {
          "base_uri": "https://localhost:8080/",
          "height": 34
        },
        "outputId": "dbd9e2a9-80ac-49fa-9b6f-617c700f6f6d"
      },
      "source": [
        "mylist[-2:] # Return last two items"
      ],
      "execution_count": null,
      "outputs": [
        {
          "output_type": "execute_result",
          "data": {
            "text/plain": [
              "['seven', 'eight']"
            ]
          },
          "metadata": {
            "tags": []
          },
          "execution_count": 147
        }
      ]
    },
    {
      "cell_type": "code",
      "metadata": {
        "id": "53WbzbOt-ibt",
        "colab_type": "code",
        "colab": {
          "base_uri": "https://localhost:8080/",
          "height": 35
        },
        "outputId": "02d0cd17-9198-48de-f100-b5928779ebc3"
      },
      "source": [
        "mylist[-1] # Return last item of the list"
      ],
      "execution_count": null,
      "outputs": [
        {
          "output_type": "execute_result",
          "data": {
            "application/vnd.google.colaboratory.intrinsic+json": {
              "type": "string"
            },
            "text/plain": [
              "'eight'"
            ]
          },
          "metadata": {
            "tags": []
          },
          "execution_count": 148
        }
      ]
    },
    {
      "cell_type": "code",
      "metadata": {
        "id": "PFIyUHg5-kW6",
        "colab_type": "code",
        "colab": {
          "base_uri": "https://localhost:8080/",
          "height": 34
        },
        "outputId": "05ee8896-f6c5-4781-faaa-490654b005f6"
      },
      "source": [
        "mylist[:] # Return whole list"
      ],
      "execution_count": null,
      "outputs": [
        {
          "output_type": "execute_result",
          "data": {
            "text/plain": [
              "['one', 'two', 'three', 'four', 'five', 'six', 'seven', 'eight']"
            ]
          },
          "metadata": {
            "tags": []
          },
          "execution_count": 149
        }
      ]
    },
    {
      "cell_type": "code",
      "metadata": {
        "id": "NCL6YA51-mou",
        "colab_type": "code",
        "colab": {
          "base_uri": "https://localhost:8080/",
          "height": 34
        },
        "outputId": "0bed4a6e-a994-49ce-dfad-c239b3010146"
      },
      "source": [
        "mylist"
      ],
      "execution_count": null,
      "outputs": [
        {
          "output_type": "execute_result",
          "data": {
            "text/plain": [
              "['one', 'two', 'three', 'four', 'five', 'six', 'seven', 'eight']"
            ]
          },
          "metadata": {
            "tags": []
          },
          "execution_count": 150
        }
      ]
    },
    {
      "cell_type": "code",
      "metadata": {
        "id": "_d8nb0ed-rmq",
        "colab_type": "code",
        "colab": {
          "base_uri": "https://localhost:8080/",
          "height": 34
        },
        "outputId": "87110bca-b116-4e10-ef8d-df2ad5b3e1bd"
      },
      "source": [
        "mylist.append('nine') # Add an item to the end of the list  \n",
        "mylist"
      ],
      "execution_count": null,
      "outputs": [
        {
          "output_type": "execute_result",
          "data": {
            "text/plain": [
              "['one', 'two', 'three', 'four', 'five', 'six', 'seven', 'eight', 'nine']"
            ]
          },
          "metadata": {
            "tags": []
          },
          "execution_count": 151
        }
      ]
    },
    {
      "cell_type": "code",
      "metadata": {
        "id": "rncD1j1c-sdJ",
        "colab_type": "code",
        "colab": {
          "base_uri": "https://localhost:8080/",
          "height": 34
        },
        "outputId": "1075a075-53ae-41f1-d7bd-e3da68fb79a2"
      },
      "source": [
        "mylist.insert(9,'ten') # Add item at index location 9\n",
        "mylist"
      ],
      "execution_count": null,
      "outputs": [
        {
          "output_type": "execute_result",
          "data": {
            "text/plain": [
              "['one', 'two', 'three', 'four', 'five', 'six', 'seven', 'eight', 'nine', 'ten']"
            ]
          },
          "metadata": {
            "tags": []
          },
          "execution_count": 152
        }
      ]
    },
    {
      "cell_type": "code",
      "metadata": {
        "id": "TfKOxG4mA_Z7",
        "colab_type": "code",
        "colab": {
          "base_uri": "https://localhost:8080/",
          "height": 204
        },
        "outputId": "f2025e53-69e1-4541-db46-24c23b920ee3"
      },
      "source": [
        "mylist.insert(1,'ONE') # Add item at index location 1\n",
        "mylist"
      ],
      "execution_count": null,
      "outputs": [
        {
          "output_type": "execute_result",
          "data": {
            "text/plain": [
              "['one',\n",
              " 'ONE',\n",
              " 'two',\n",
              " 'three',\n",
              " 'four',\n",
              " 'five',\n",
              " 'six',\n",
              " 'seven',\n",
              " 'eight',\n",
              " 'nine',\n",
              " 'ten']"
            ]
          },
          "metadata": {
            "tags": []
          },
          "execution_count": 153
        }
      ]
    },
    {
      "cell_type": "code",
      "metadata": {
        "id": "bsL773yYBDNZ",
        "colab_type": "code",
        "colab": {
          "base_uri": "https://localhost:8080/",
          "height": 34
        },
        "outputId": "77c326ca-d5f9-4df1-9914-30f0332628f7"
      },
      "source": [
        "mylist.remove('ONE') # Remove item \"ONE\"\n",
        "mylist"
      ],
      "execution_count": null,
      "outputs": [
        {
          "output_type": "execute_result",
          "data": {
            "text/plain": [
              "['one', 'two', 'three', 'four', 'five', 'six', 'seven', 'eight', 'nine', 'ten']"
            ]
          },
          "metadata": {
            "tags": []
          },
          "execution_count": 154
        }
      ]
    },
    {
      "cell_type": "code",
      "metadata": {
        "id": "gFW1ehWfBInJ",
        "colab_type": "code",
        "colab": {
          "base_uri": "https://localhost:8080/",
          "height": 34
        },
        "outputId": "0715d86f-bf07-492a-c5dc-579be444ded8"
      },
      "source": [
        "mylist.pop() # Remove last item of the list\n",
        "mylist"
      ],
      "execution_count": null,
      "outputs": [
        {
          "output_type": "execute_result",
          "data": {
            "text/plain": [
              "['one', 'two', 'three', 'four', 'five', 'six', 'seven', 'eight', 'nine']"
            ]
          },
          "metadata": {
            "tags": []
          },
          "execution_count": 155
        }
      ]
    },
    {
      "cell_type": "code",
      "metadata": {
        "id": "-pqZrRBPBN08",
        "colab_type": "code",
        "colab": {
          "base_uri": "https://localhost:8080/",
          "height": 34
        },
        "outputId": "915bf699-77f7-4728-db23-5e1f996ada7d"
      },
      "source": [
        "mylist.pop(8) # Remove item at index location 8\n",
        "mylist"
      ],
      "execution_count": null,
      "outputs": [
        {
          "output_type": "execute_result",
          "data": {
            "text/plain": [
              "['one', 'two', 'three', 'four', 'five', 'six', 'seven', 'eight']"
            ]
          },
          "metadata": {
            "tags": []
          },
          "execution_count": 156
        }
      ]
    },
    {
      "cell_type": "code",
      "metadata": {
        "id": "a6Z4IGuDBRxo",
        "colab_type": "code",
        "colab": {
          "base_uri": "https://localhost:8080/",
          "height": 34
        },
        "outputId": "0c56b65b-308b-4d6c-de67-d5a0c043d8a4"
      },
      "source": [
        "# Change value of the string\n",
        "mylist[0] = 1\n",
        "mylist[1] = 2\n",
        "mylist[2] = 3\n",
        "mylist"
      ],
      "execution_count": null,
      "outputs": [
        {
          "output_type": "execute_result",
          "data": {
            "text/plain": [
              "[1, 2, 3, 'four', 'five', 'six', 'seven', 'eight']"
            ]
          },
          "metadata": {
            "tags": []
          },
          "execution_count": 157
        }
      ]
    },
    {
      "cell_type": "code",
      "metadata": {
        "id": "LpcIKJrPDjPL",
        "colab_type": "code",
        "colab": {
          "base_uri": "https://localhost:8080/",
          "height": 180
        },
        "outputId": "c3784bf4-1f82-4af4-ea6d-8f8b032a1d33"
      },
      "source": [
        "mylist.clear()  # Empty List / Delete all items in the list\n",
        "mylist"
      ],
      "execution_count": null,
      "outputs": [
        {
          "output_type": "error",
          "ename": "NameError",
          "evalue": "ignored",
          "traceback": [
            "\u001b[0;31m---------------------------------------------------------------------------\u001b[0m",
            "\u001b[0;31mNameError\u001b[0m                                 Traceback (most recent call last)",
            "\u001b[0;32m<ipython-input-160-2de7f405386a>\u001b[0m in \u001b[0;36m<module>\u001b[0;34m()\u001b[0m\n\u001b[0;32m----> 1\u001b[0;31m \u001b[0mmylist\u001b[0m\u001b[0;34m.\u001b[0m\u001b[0mclear\u001b[0m\u001b[0;34m(\u001b[0m\u001b[0;34m)\u001b[0m  \u001b[0;31m# Empty List / Delete all items in the list\u001b[0m\u001b[0;34m\u001b[0m\u001b[0;34m\u001b[0m\u001b[0m\n\u001b[0m\u001b[1;32m      2\u001b[0m \u001b[0mmylist\u001b[0m\u001b[0;34m\u001b[0m\u001b[0;34m\u001b[0m\u001b[0m\n",
            "\u001b[0;31mNameError\u001b[0m: name 'mylist' is not defined"
          ]
        }
      ]
    },
    {
      "cell_type": "code",
      "metadata": {
        "id": "ZcDUvseTDm3P",
        "colab_type": "code",
        "colab": {
          "base_uri": "https://localhost:8080/",
          "height": 180
        },
        "outputId": "2672ec84-0fe9-4cd3-83a1-2c8c585c3b6f"
      },
      "source": [
        "del mylist\n",
        "mylist"
      ],
      "execution_count": null,
      "outputs": [
        {
          "output_type": "error",
          "ename": "NameError",
          "evalue": "ignored",
          "traceback": [
            "\u001b[0;31m---------------------------------------------------------------------------\u001b[0m",
            "\u001b[0;31mNameError\u001b[0m                                 Traceback (most recent call last)",
            "\u001b[0;32m<ipython-input-159-e3998fd6e4af>\u001b[0m in \u001b[0;36m<module>\u001b[0;34m()\u001b[0m\n\u001b[1;32m      1\u001b[0m \u001b[0;32mdel\u001b[0m \u001b[0mmylist\u001b[0m\u001b[0;34m\u001b[0m\u001b[0;34m\u001b[0m\u001b[0m\n\u001b[0;32m----> 2\u001b[0;31m \u001b[0mmylist\u001b[0m\u001b[0;34m\u001b[0m\u001b[0;34m\u001b[0m\u001b[0m\n\u001b[0m",
            "\u001b[0;31mNameError\u001b[0m: name 'mylist' is not defined"
          ]
        }
      ]
    },
    {
      "cell_type": "code",
      "metadata": {
        "id": "HboQ3k52DqJ2",
        "colab_type": "code",
        "colab": {
          "base_uri": "https://localhost:8080/",
          "height": 34
        },
        "outputId": "841ff241-10d3-4e97-e7af-7a57f5fe226e"
      },
      "source": [
        "mylist = ['one', 'two', 'three', 'four', 'five', 'six', 'seven', 'eight', 'nine', 'ten']\n",
        "mylist"
      ],
      "execution_count": null,
      "outputs": [
        {
          "output_type": "execute_result",
          "data": {
            "text/plain": [
              "['one', 'two', 'three', 'four', 'five', 'six', 'seven', 'eight', 'nine', 'ten']"
            ]
          },
          "metadata": {
            "tags": []
          },
          "execution_count": 165
        }
      ]
    },
    {
      "cell_type": "code",
      "metadata": {
        "id": "q0783-TBDwxh",
        "colab_type": "code",
        "colab": {}
      },
      "source": [
        "mylist1=mylist.copy()"
      ],
      "execution_count": null,
      "outputs": []
    },
    {
      "cell_type": "code",
      "metadata": {
        "id": "qogGybmVD-zn",
        "colab_type": "code",
        "colab": {
          "base_uri": "https://localhost:8080/",
          "height": 34
        },
        "outputId": "2cc758bb-74e6-4f71-b1cc-4e6718bd4955"
      },
      "source": [
        "id(mylist) , id(mylist1) # The address of both mylist & mylist1 will be the same as both are pointing to same list."
      ],
      "execution_count": null,
      "outputs": [
        {
          "output_type": "execute_result",
          "data": {
            "text/plain": [
              "(140254540530312, 140254540913480)"
            ]
          },
          "metadata": {
            "tags": []
          },
          "execution_count": 168
        }
      ]
    },
    {
      "cell_type": "code",
      "metadata": {
        "id": "rxVh6glTEIxY",
        "colab_type": "code",
        "colab": {}
      },
      "source": [
        "mylist2 = mylist.copy() # Create a copy of the list"
      ],
      "execution_count": null,
      "outputs": []
    },
    {
      "cell_type": "code",
      "metadata": {
        "id": "IBD8Pww0EK9p",
        "colab_type": "code",
        "colab": {
          "base_uri": "https://localhost:8080/",
          "height": 34
        },
        "outputId": "b8595208-4ae4-482d-fcb9-bc61564e1166"
      },
      "source": [
        "id(mylist2)"
      ],
      "execution_count": null,
      "outputs": [
        {
          "output_type": "execute_result",
          "data": {
            "text/plain": [
              "140254541144584"
            ]
          },
          "metadata": {
            "tags": []
          },
          "execution_count": 170
        }
      ]
    },
    {
      "cell_type": "code",
      "metadata": {
        "id": "6zdBxMTNENEH",
        "colab_type": "code",
        "colab": {}
      },
      "source": [
        "mylist[0] = 1"
      ],
      "execution_count": null,
      "outputs": []
    },
    {
      "cell_type": "code",
      "metadata": {
        "id": "kEk0tjoLESTw",
        "colab_type": "code",
        "colab": {
          "base_uri": "https://localhost:8080/",
          "height": 34
        },
        "outputId": "e8015ea4-acd0-465e-eba1-c1df0950699a"
      },
      "source": [
        "mylist"
      ],
      "execution_count": null,
      "outputs": [
        {
          "output_type": "execute_result",
          "data": {
            "text/plain": [
              "[1, 'two', 'three', 'four', 'five', 'six', 'seven', 'eight', 'nine', 'ten']"
            ]
          },
          "metadata": {
            "tags": []
          },
          "execution_count": 172
        }
      ]
    },
    {
      "cell_type": "code",
      "metadata": {
        "id": "0FTXKDESETmJ",
        "colab_type": "code",
        "colab": {
          "base_uri": "https://localhost:8080/",
          "height": 34
        },
        "outputId": "ca42d960-8650-4efd-cebf-bcdfaae6532a"
      },
      "source": [
        "mylist1"
      ],
      "execution_count": null,
      "outputs": [
        {
          "output_type": "execute_result",
          "data": {
            "text/plain": [
              "['one', 'two', 'three', 'four', 'five', 'six', 'seven', 'eight', 'nine', 'ten']"
            ]
          },
          "metadata": {
            "tags": []
          },
          "execution_count": 173
        }
      ]
    },
    {
      "cell_type": "code",
      "metadata": {
        "id": "_9u9CifHEVBg",
        "colab_type": "code",
        "colab": {
          "base_uri": "https://localhost:8080/",
          "height": 34
        },
        "outputId": "543d0cb1-f13f-4b85-b2f6-016bcdb886b0"
      },
      "source": [
        "mylist2"
      ],
      "execution_count": null,
      "outputs": [
        {
          "output_type": "execute_result",
          "data": {
            "text/plain": [
              "['one', 'two', 'three', 'four', 'five', 'six', 'seven', 'eight', 'nine', 'ten']"
            ]
          },
          "metadata": {
            "tags": []
          },
          "execution_count": 174
        }
      ]
    },
    {
      "cell_type": "code",
      "metadata": {
        "id": "OCd0vbZPEWlF",
        "colab_type": "code",
        "colab": {}
      },
      "source": [
        "list1 = ['one', 'two', 'three', 'four']\n",
        "list2 = ['five', 'six', 'seven', 'eight']"
      ],
      "execution_count": null,
      "outputs": []
    },
    {
      "cell_type": "code",
      "metadata": {
        "id": "jU1oanuTEbVb",
        "colab_type": "code",
        "colab": {}
      },
      "source": [
        "list3= list1 + list2"
      ],
      "execution_count": null,
      "outputs": []
    },
    {
      "cell_type": "code",
      "metadata": {
        "id": "9HAGqDsFEdRq",
        "colab_type": "code",
        "colab": {
          "base_uri": "https://localhost:8080/",
          "height": 34
        },
        "outputId": "58478d28-99bf-497e-f7b7-1c968c9a2d03"
      },
      "source": [
        "list1.extend(list2) #Append list2 with list1\n",
        "list1"
      ],
      "execution_count": null,
      "outputs": [
        {
          "output_type": "execute_result",
          "data": {
            "text/plain": [
              "['one', 'two', 'three', 'four', 'five', 'six', 'seven', 'eight']"
            ]
          },
          "metadata": {
            "tags": []
          },
          "execution_count": 177
        }
      ]
    },
    {
      "cell_type": "code",
      "metadata": {
        "id": "A2K5R25sEhgV",
        "colab_type": "code",
        "colab": {
          "base_uri": "https://localhost:8080/",
          "height": 34
        },
        "outputId": "46f81e89-ee7f-4634-9737-d7d86cc36e83"
      },
      "source": [
        "'one' in list1 # Check if 'one' exist in the list"
      ],
      "execution_count": null,
      "outputs": [
        {
          "output_type": "execute_result",
          "data": {
            "text/plain": [
              "True"
            ]
          },
          "metadata": {
            "tags": []
          },
          "execution_count": 178
        }
      ]
    },
    {
      "cell_type": "code",
      "metadata": {
        "id": "7cfRh51qEkAd",
        "colab_type": "code",
        "colab": {
          "base_uri": "https://localhost:8080/",
          "height": 34
        },
        "outputId": "5b31ebea-1199-433e-d42d-09b5aac8b4d4"
      },
      "source": [
        "'ten' in list1 # Check if 'ten' exist in the list"
      ],
      "execution_count": null,
      "outputs": [
        {
          "output_type": "execute_result",
          "data": {
            "text/plain": [
              "False"
            ]
          },
          "metadata": {
            "tags": []
          },
          "execution_count": 179
        }
      ]
    },
    {
      "cell_type": "code",
      "metadata": {
        "id": "XvG_L8edFumd",
        "colab_type": "code",
        "colab": {
          "base_uri": "https://localhost:8080/",
          "height": 34
        },
        "outputId": "367c9ebc-1749-4297-fa96-8e04fdc404bf"
      },
      "source": [
        "if 'three' in list1: # Check if 'three' exist in the list\n",
        "    print('Three is present in the list')\n",
        "else:\n",
        "    print('Three is not present in the list')"
      ],
      "execution_count": null,
      "outputs": [
        {
          "output_type": "stream",
          "text": [
            "Three is present in the list\n"
          ],
          "name": "stdout"
        }
      ]
    },
    {
      "cell_type": "code",
      "metadata": {
        "id": "W71tKMUVFx2k",
        "colab_type": "code",
        "colab": {
          "base_uri": "https://localhost:8080/",
          "height": 34
        },
        "outputId": "8d479389-b2d8-473d-fa33-00360595d259"
      },
      "source": [
        "list1"
      ],
      "execution_count": null,
      "outputs": [
        {
          "output_type": "execute_result",
          "data": {
            "text/plain": [
              "['one', 'two', 'three', 'four', 'five', 'six', 'seven', 'eight']"
            ]
          },
          "metadata": {
            "tags": []
          },
          "execution_count": 181
        }
      ]
    },
    {
      "cell_type": "code",
      "metadata": {
        "id": "R5ML9dX3F2a7",
        "colab_type": "code",
        "colab": {
          "base_uri": "https://localhost:8080/",
          "height": 34
        },
        "outputId": "2990e9dc-baaf-452e-bf9e-60300b7cdfbc"
      },
      "source": [
        "list1.reverse() # Reverse the list\n",
        "list1"
      ],
      "execution_count": null,
      "outputs": [
        {
          "output_type": "execute_result",
          "data": {
            "text/plain": [
              "['two', 'three', 'six', 'seven', 'one', 'four', 'five', 'eight']"
            ]
          },
          "metadata": {
            "tags": []
          },
          "execution_count": 184
        }
      ]
    },
    {
      "cell_type": "code",
      "metadata": {
        "id": "DzDZBlEhF_RM",
        "colab_type": "code",
        "colab": {
          "base_uri": "https://localhost:8080/",
          "height": 34
        },
        "outputId": "ba85cba8-428e-4f53-971a-dd2a6156a255"
      },
      "source": [
        "list1 = list1[::-1] # Reverse the list\n",
        "list1"
      ],
      "execution_count": null,
      "outputs": [
        {
          "output_type": "execute_result",
          "data": {
            "text/plain": [
              "['eight', 'five', 'four', 'one', 'seven', 'six', 'three', 'two']"
            ]
          },
          "metadata": {
            "tags": []
          },
          "execution_count": 185
        }
      ]
    },
    {
      "cell_type": "code",
      "metadata": {
        "id": "ML1pSqUWGic0",
        "colab_type": "code",
        "colab": {
          "base_uri": "https://localhost:8080/",
          "height": 34
        },
        "outputId": "944b20ad-3e8c-48f6-e5a5-e99baded3201"
      },
      "source": [
        "mylist3 = [9,5,2,99,12,88,34]\n",
        "mylist3.sort()   # Sort list in ascending order\n",
        "mylist3"
      ],
      "execution_count": null,
      "outputs": [
        {
          "output_type": "execute_result",
          "data": {
            "text/plain": [
              "[2, 5, 9, 12, 34, 88, 99]"
            ]
          },
          "metadata": {
            "tags": []
          },
          "execution_count": 186
        }
      ]
    },
    {
      "cell_type": "code",
      "metadata": {
        "id": "EfGYfPxpGtRo",
        "colab_type": "code",
        "colab": {
          "base_uri": "https://localhost:8080/",
          "height": 34
        },
        "outputId": "36734e4a-a491-4161-f544-e483dc0d14d0"
      },
      "source": [
        "mylist3 = [9,5,2,99,12,88,34]\n",
        "mylist3.sort(reverse=True)  # Sort list in descending order\n",
        "mylist3"
      ],
      "execution_count": null,
      "outputs": [
        {
          "output_type": "execute_result",
          "data": {
            "text/plain": [
              "[99, 88, 34, 12, 9, 5, 2]"
            ]
          },
          "metadata": {
            "tags": []
          },
          "execution_count": 187
        }
      ]
    },
    {
      "cell_type": "code",
      "metadata": {
        "id": "XsTgpIYeGxtn",
        "colab_type": "code",
        "colab": {
          "base_uri": "https://localhost:8080/",
          "height": 34
        },
        "outputId": "51ef83be-eed5-473b-f498-64f4290eac15"
      },
      "source": [
        "mylist4 = [88,65,33,21,11,98]\n",
        "sorted(mylist4)        # Returns a new sorted list and doesn't change original list"
      ],
      "execution_count": null,
      "outputs": [
        {
          "output_type": "execute_result",
          "data": {
            "text/plain": [
              "[11, 21, 33, 65, 88, 98]"
            ]
          },
          "metadata": {
            "tags": []
          },
          "execution_count": 188
        }
      ]
    },
    {
      "cell_type": "code",
      "metadata": {
        "id": "73o9XRnMPVuf",
        "colab_type": "code",
        "colab": {
          "base_uri": "https://localhost:8080/",
          "height": 34
        },
        "outputId": "068a8375-dae0-4ed9-c243-7ec63ed980d7"
      },
      "source": [
        "list1"
      ],
      "execution_count": null,
      "outputs": [
        {
          "output_type": "execute_result",
          "data": {
            "text/plain": [
              "['eight', 'five', 'four', 'one', 'seven', 'six', 'three', 'two']"
            ]
          },
          "metadata": {
            "tags": []
          },
          "execution_count": 189
        }
      ]
    },
    {
      "cell_type": "code",
      "metadata": {
        "id": "aGes9ZP9Rmct",
        "colab_type": "code",
        "colab": {
          "base_uri": "https://localhost:8080/",
          "height": 153
        },
        "outputId": "d0b3dc0d-eb38-4422-9eaf-a0051d1406cc"
      },
      "source": [
        "for i in list1:\n",
        "  print(i)"
      ],
      "execution_count": null,
      "outputs": [
        {
          "output_type": "stream",
          "text": [
            "eight\n",
            "five\n",
            "four\n",
            "one\n",
            "seven\n",
            "six\n",
            "three\n",
            "two\n"
          ],
          "name": "stdout"
        }
      ]
    },
    {
      "cell_type": "code",
      "metadata": {
        "id": "9p0FZrZdRpsK",
        "colab_type": "code",
        "colab": {
          "base_uri": "https://localhost:8080/",
          "height": 153
        },
        "outputId": "6e51d2e7-e6c8-4814-8f1f-4b22b0b45be7"
      },
      "source": [
        "for i in enumerate(list1):\n",
        "    print(i)"
      ],
      "execution_count": null,
      "outputs": [
        {
          "output_type": "stream",
          "text": [
            "(0, 'eight')\n",
            "(1, 'five')\n",
            "(2, 'four')\n",
            "(3, 'one')\n",
            "(4, 'seven')\n",
            "(5, 'six')\n",
            "(6, 'three')\n",
            "(7, 'two')\n"
          ],
          "name": "stdout"
        }
      ]
    },
    {
      "cell_type": "code",
      "metadata": {
        "id": "JZu4WqgZRt6_",
        "colab_type": "code",
        "colab": {}
      },
      "source": [
        "list10 =['one', 'two', 'three', 'four', 'one', 'one', 'two', 'three']"
      ],
      "execution_count": null,
      "outputs": []
    },
    {
      "cell_type": "code",
      "metadata": {
        "id": "PdW_c4jmRxi0",
        "colab_type": "code",
        "colab": {
          "base_uri": "https://localhost:8080/",
          "height": 34
        },
        "outputId": "1d0d27d0-1ed1-4b2a-e722-c0496539d8ae"
      },
      "source": [
        "list10.count('one') # Number of times item \"one\" occurred in the list."
      ],
      "execution_count": null,
      "outputs": [
        {
          "output_type": "execute_result",
          "data": {
            "text/plain": [
              "3"
            ]
          },
          "metadata": {
            "tags": []
          },
          "execution_count": 193
        }
      ]
    },
    {
      "cell_type": "code",
      "metadata": {
        "id": "GzlbsjZxRzWC",
        "colab_type": "code",
        "colab": {
          "base_uri": "https://localhost:8080/",
          "height": 34
        },
        "outputId": "9870d936-86da-4a2a-d353-46bc143ec040"
      },
      "source": [
        "list10.count('two') # Occurence of item 'two' in the list"
      ],
      "execution_count": null,
      "outputs": [
        {
          "output_type": "execute_result",
          "data": {
            "text/plain": [
              "2"
            ]
          },
          "metadata": {
            "tags": []
          },
          "execution_count": 194
        }
      ]
    },
    {
      "cell_type": "code",
      "metadata": {
        "id": "FbHphLCvR1Qw",
        "colab_type": "code",
        "colab": {
          "base_uri": "https://localhost:8080/",
          "height": 34
        },
        "outputId": "a28ecbd8-c34c-4818-915c-8ad6c70c2566"
      },
      "source": [
        "list10.count('four') #Occurence of item 'four' in the list"
      ],
      "execution_count": null,
      "outputs": [
        {
          "output_type": "execute_result",
          "data": {
            "text/plain": [
              "1"
            ]
          },
          "metadata": {
            "tags": []
          },
          "execution_count": 195
        }
      ]
    },
    {
      "cell_type": "code",
      "metadata": {
        "id": "C8N8HUX-R3HX",
        "colab_type": "code",
        "colab": {}
      },
      "source": [
        "L1 = [1,2,3,4,0]"
      ],
      "execution_count": null,
      "outputs": []
    },
    {
      "cell_type": "code",
      "metadata": {
        "id": "gaWoAymYR-nX",
        "colab_type": "code",
        "colab": {
          "base_uri": "https://localhost:8080/",
          "height": 34
        },
        "outputId": "8dee184a-12b9-4e9e-abda-c05a78362cea"
      },
      "source": [
        "all(L1) # Will Return false as one value is false (Value 0)"
      ],
      "execution_count": null,
      "outputs": [
        {
          "output_type": "execute_result",
          "data": {
            "text/plain": [
              "False"
            ]
          },
          "metadata": {
            "tags": []
          },
          "execution_count": 198
        }
      ]
    },
    {
      "cell_type": "code",
      "metadata": {
        "id": "adMVGSjBR_8c",
        "colab_type": "code",
        "colab": {
          "base_uri": "https://localhost:8080/",
          "height": 34
        },
        "outputId": "a59f13dd-cfbf-4bd9-ffc0-4dcbab9347d2"
      },
      "source": [
        "any(L1)  # Will Return True as we have items in the list with True value"
      ],
      "execution_count": null,
      "outputs": [
        {
          "output_type": "execute_result",
          "data": {
            "text/plain": [
              "True"
            ]
          },
          "metadata": {
            "tags": []
          },
          "execution_count": 199
        }
      ]
    },
    {
      "cell_type": "code",
      "metadata": {
        "id": "VMnRWI2qSGkg",
        "colab_type": "code",
        "colab": {}
      },
      "source": [
        "L2 = [1,2,3,4,True,False]"
      ],
      "execution_count": null,
      "outputs": []
    },
    {
      "cell_type": "code",
      "metadata": {
        "id": "1h3y8bY0SJEC",
        "colab_type": "code",
        "colab": {
          "base_uri": "https://localhost:8080/",
          "height": 34
        },
        "outputId": "77f23a6f-8b27-4063-c491-a946a440725d"
      },
      "source": [
        "all(L1)"
      ],
      "execution_count": null,
      "outputs": [
        {
          "output_type": "execute_result",
          "data": {
            "text/plain": [
              "False"
            ]
          },
          "metadata": {
            "tags": []
          },
          "execution_count": 201
        }
      ]
    },
    {
      "cell_type": "code",
      "metadata": {
        "id": "Zc3nj4CASKS6",
        "colab_type": "code",
        "colab": {
          "base_uri": "https://localhost:8080/",
          "height": 34
        },
        "outputId": "af58e730-38bb-4715-c55d-d54cae622463"
      },
      "source": [
        "any(L1)"
      ],
      "execution_count": null,
      "outputs": [
        {
          "output_type": "execute_result",
          "data": {
            "text/plain": [
              "True"
            ]
          },
          "metadata": {
            "tags": []
          },
          "execution_count": 202
        }
      ]
    },
    {
      "cell_type": "code",
      "metadata": {
        "id": "vh_r9s5YSMHI",
        "colab_type": "code",
        "colab": {}
      },
      "source": [
        "L3 = [1,2,3,True]"
      ],
      "execution_count": null,
      "outputs": []
    },
    {
      "cell_type": "code",
      "metadata": {
        "id": "Hcis5qGVSPgd",
        "colab_type": "code",
        "colab": {
          "base_uri": "https://localhost:8080/",
          "height": 34
        },
        "outputId": "3574bc11-c1d9-40fb-ccfe-e048376509b2"
      },
      "source": [
        "all(L3) # Will return True as all items in the list are True"
      ],
      "execution_count": null,
      "outputs": [
        {
          "output_type": "execute_result",
          "data": {
            "text/plain": [
              "True"
            ]
          },
          "metadata": {
            "tags": []
          },
          "execution_count": 204
        }
      ]
    },
    {
      "cell_type": "code",
      "metadata": {
        "id": "T0JnJOc2F5Xn",
        "colab_type": "code",
        "colab": {
          "base_uri": "https://localhost:8080/",
          "height": 34
        },
        "outputId": "1ad9ac5a-a0c1-4d08-8331-207d9194b5df"
      },
      "source": [
        "any(L3) # Will Return True as we have items in the list with True value"
      ],
      "execution_count": null,
      "outputs": [
        {
          "output_type": "execute_result",
          "data": {
            "text/plain": [
              "True"
            ]
          },
          "metadata": {
            "tags": []
          },
          "execution_count": 205
        }
      ]
    },
    {
      "cell_type": "markdown",
      "metadata": {
        "id": "92ebA3yKSb12",
        "colab_type": "text"
      },
      "source": [
        "List Comprehensions\n",
        "List Comprehensions provide an elegant way to create new lists.\n",
        "\n",
        "It consists of brackets containing an expression followed by a for clause, then zero or more for or if clauses.\n"
      ]
    },
    {
      "cell_type": "code",
      "metadata": {
        "id": "6yQTgIdyDy3A",
        "colab_type": "code",
        "colab": {}
      },
      "source": [
        "mystring=\"WELCOME\"\n",
        "mylist = [ text for text in mystring] # Iterating through a string Using List Comprehension"
      ],
      "execution_count": null,
      "outputs": []
    },
    {
      "cell_type": "code",
      "metadata": {
        "id": "cF2Qh0MtSkdJ",
        "colab_type": "code",
        "colab": {
          "base_uri": "https://localhost:8080/",
          "height": 34
        },
        "outputId": "a3138c24-564f-49d8-f41c-00155bff793f"
      },
      "source": [
        "mylist"
      ],
      "execution_count": null,
      "outputs": [
        {
          "output_type": "execute_result",
          "data": {
            "text/plain": [
              "['W', 'E', 'L', 'C', 'O', 'M', 'E']"
            ]
          },
          "metadata": {
            "tags": []
          },
          "execution_count": 207
        }
      ]
    },
    {
      "cell_type": "code",
      "metadata": {
        "id": "OxlrplXwUCHu",
        "colab_type": "code",
        "colab": {
          "base_uri": "https://localhost:8080/",
          "height": 34
        },
        "outputId": "a01f3070-f2ea-4024-b6ff-82a9e1e7bf55"
      },
      "source": [
        "mylist1= [i for i in range(20) if i %2==0 ] # Display all even numbers between 0 - 40 using List Comprehension\n",
        "mylist1"
      ],
      "execution_count": null,
      "outputs": [
        {
          "output_type": "execute_result",
          "data": {
            "text/plain": [
              "[0, 2, 4, 6, 8, 10, 12, 14, 16, 18]"
            ]
          },
          "metadata": {
            "tags": []
          },
          "execution_count": 208
        }
      ]
    },
    {
      "cell_type": "code",
      "metadata": {
        "id": "do9jmOMcVsVl",
        "colab_type": "code",
        "colab": {
          "base_uri": "https://localhost:8080/",
          "height": 34
        },
        "outputId": "ca9e3500-c553-4262-990a-b15d84e022aa"
      },
      "source": [
        "mylist2 = [ i for i in range(40) if i % 2 == 1] # Display all odd numbers between 0 - 40 using List Comprehension\n",
        "mylist2"
      ],
      "execution_count": null,
      "outputs": [
        {
          "output_type": "execute_result",
          "data": {
            "text/plain": [
              "[1, 3, 5, 7, 9, 11, 13, 15, 17, 19, 21, 23, 25, 27, 29, 31, 33, 35, 37, 39]"
            ]
          },
          "metadata": {
            "tags": []
          },
          "execution_count": 209
        }
      ]
    },
    {
      "cell_type": "code",
      "metadata": {
        "id": "VKmnUsQ5VvnB",
        "colab_type": "code",
        "colab": {
          "base_uri": "https://localhost:8080/",
          "height": 34
        },
        "outputId": "b5515816-76ea-44aa-cc7a-25b009d6f645"
      },
      "source": [
        "mylist3 = [num **2 for num in range(10)]# calculate square of all numbers between 0 - 10 using List Comprehension\n",
        "mylist3"
      ],
      "execution_count": null,
      "outputs": [
        {
          "output_type": "execute_result",
          "data": {
            "text/plain": [
              "[0, 1, 4, 9, 16, 25, 36, 49, 64, 81]"
            ]
          },
          "metadata": {
            "tags": []
          },
          "execution_count": 211
        }
      ]
    },
    {
      "cell_type": "code",
      "metadata": {
        "id": "kEa5dlJxV8Gx",
        "colab_type": "code",
        "colab": {
          "base_uri": "https://localhost:8080/",
          "height": 34
        },
        "outputId": "15e298ba-5c6b-4261-82ad-c8392690e231"
      },
      "source": [
        "# Multiple whole list by 10\n",
        "list1 = [2,3,4,5,6,7,8]\n",
        "list1 = [i*10 for i in list1]\n",
        "list1"
      ],
      "execution_count": null,
      "outputs": [
        {
          "output_type": "execute_result",
          "data": {
            "text/plain": [
              "[20, 30, 40, 50, 60, 70, 80]"
            ]
          },
          "metadata": {
            "tags": []
          },
          "execution_count": 212
        }
      ]
    },
    {
      "cell_type": "code",
      "metadata": {
        "id": "gg8op7p7WFVL",
        "colab_type": "code",
        "colab": {
          "base_uri": "https://localhost:8080/",
          "height": 34
        },
        "outputId": "b8f8f4fe-78fb-439f-890a-ed4a9ec2b6e6"
      },
      "source": [
        "mylist4= [i for i in range(200) if i%3 ==0 if i%9 == 0 if i %12 ==0]\n",
        "mylist4"
      ],
      "execution_count": null,
      "outputs": [
        {
          "output_type": "execute_result",
          "data": {
            "text/plain": [
              "[0, 36, 72, 108, 144, 180]"
            ]
          },
          "metadata": {
            "tags": []
          },
          "execution_count": 213
        }
      ]
    },
    {
      "cell_type": "code",
      "metadata": {
        "id": "DodNkpJZotde",
        "colab_type": "code",
        "colab": {
          "base_uri": "https://localhost:8080/",
          "height": 187
        },
        "outputId": "383410e1-9000-48e0-81e7-9bb864771a4c"
      },
      "source": [
        "l1=[print(\"{} is Even Number\".format(i)) if i %2==0 else print(\"{} is Odd Number\".format(i)) for i in range(10)]"
      ],
      "execution_count": null,
      "outputs": [
        {
          "output_type": "stream",
          "text": [
            "0 is Even Number\n",
            "1 is Odd Number\n",
            "2 is Even Number\n",
            "3 is Odd Number\n",
            "4 is Even Number\n",
            "5 is Odd Number\n",
            "6 is Even Number\n",
            "7 is Odd Number\n",
            "8 is Even Number\n",
            "9 is Odd Number\n"
          ],
          "name": "stdout"
        }
      ]
    },
    {
      "cell_type": "code",
      "metadata": {
        "id": "uRDESK4gpNo8",
        "colab_type": "code",
        "colab": {
          "base_uri": "https://localhost:8080/",
          "height": 34
        },
        "outputId": "2d6302ad-febc-410a-81f3-7161f2d2f0f1"
      },
      "source": [
        "# Extract numbers from a string\n",
        "mystr = \"One 1 two 2 three 3 four 4 five 5 six 6789\"\n",
        "numbers = [i for i in mystr if i.isdigit()]\n",
        "numbers"
      ],
      "execution_count": null,
      "outputs": [
        {
          "output_type": "execute_result",
          "data": {
            "text/plain": [
              "['1', '2', '3', '4', '5', '6', '7', '8', '9']"
            ]
          },
          "metadata": {
            "tags": []
          },
          "execution_count": 216
        }
      ]
    },
    {
      "cell_type": "code",
      "metadata": {
        "id": "pw8_EQaBGlil",
        "colab_type": "code",
        "colab": {
          "base_uri": "https://localhost:8080/",
          "height": 391
        },
        "outputId": "7c4bb781-b471-4eac-cd78-2eb18f9604af"
      },
      "source": [
        "mystr = \"One 1 two 2 three 3 four 4 five 5 six 6789\"\n",
        "letters= [text for text in mystr if text.isalpha()]\n",
        "letters"
      ],
      "execution_count": null,
      "outputs": [
        {
          "output_type": "execute_result",
          "data": {
            "text/plain": [
              "['O',\n",
              " 'n',\n",
              " 'e',\n",
              " 't',\n",
              " 'w',\n",
              " 'o',\n",
              " 't',\n",
              " 'h',\n",
              " 'r',\n",
              " 'e',\n",
              " 'e',\n",
              " 'f',\n",
              " 'o',\n",
              " 'u',\n",
              " 'r',\n",
              " 'f',\n",
              " 'i',\n",
              " 'v',\n",
              " 'e',\n",
              " 's',\n",
              " 'i',\n",
              " 'x']"
            ]
          },
          "metadata": {
            "tags": []
          },
          "execution_count": 222
        }
      ]
    },
    {
      "cell_type": "code",
      "metadata": {
        "id": "FYCFNf2QK4e4",
        "colab_type": "code",
        "colab": {}
      },
      "source": [
        "tup1 = ()      # Empty tuple"
      ],
      "execution_count": null,
      "outputs": []
    },
    {
      "cell_type": "code",
      "metadata": {
        "id": "Rjx94g8cL1uc",
        "colab_type": "code",
        "colab": {
          "base_uri": "https://localhost:8080/",
          "height": 34
        },
        "outputId": "8973f4e5-b6cf-4255-9955-3810a6c2aed8"
      },
      "source": [
        "tup2= (10,20,30)\n",
        "tup2"
      ],
      "execution_count": null,
      "outputs": [
        {
          "output_type": "execute_result",
          "data": {
            "text/plain": [
              "(10, 20, 30)"
            ]
          },
          "metadata": {
            "tags": []
          },
          "execution_count": 2
        }
      ]
    },
    {
      "cell_type": "code",
      "metadata": {
        "id": "xxvV0i1iQ8aI",
        "colab_type": "code",
        "colab": {}
      },
      "source": [
        "tup3 = (10.77,30.66,60.89)       # tuple of float numbers"
      ],
      "execution_count": null,
      "outputs": []
    },
    {
      "cell_type": "code",
      "metadata": {
        "id": "DeRQLZA6Q_xh",
        "colab_type": "code",
        "colab": {}
      },
      "source": [
        "tup4 = ('one','two' , \"three\")   # tuple of strings"
      ],
      "execution_count": null,
      "outputs": []
    },
    {
      "cell_type": "code",
      "metadata": {
        "id": "D5W0JRmiRCnb",
        "colab_type": "code",
        "colab": {}
      },
      "source": [
        "tup5 = ('Asif', 25 ,(50, 100),(150, 90))   # Nested tuples"
      ],
      "execution_count": null,
      "outputs": []
    },
    {
      "cell_type": "code",
      "metadata": {
        "id": "81qtrrwpRFpg",
        "colab_type": "code",
        "colab": {}
      },
      "source": [
        "tup6 = (100, 'Asif', 17.765)   # Tuple of mixed data types"
      ],
      "execution_count": null,
      "outputs": []
    },
    {
      "cell_type": "code",
      "metadata": {
        "id": "T52J3yAsRJyR",
        "colab_type": "code",
        "colab": {}
      },
      "source": [
        "tup7 = ('Asif', 25 ,[50, 100],[150, 90] , {'John' , 'David'} , (99,22,33))"
      ],
      "execution_count": null,
      "outputs": []
    },
    {
      "cell_type": "code",
      "metadata": {
        "id": "kk0Z0HdNSAFl",
        "colab_type": "code",
        "colab": {
          "base_uri": "https://localhost:8080/",
          "height": 34
        },
        "outputId": "8533f894-577a-4837-8730-0b18630b33c0"
      },
      "source": [
        "tup7"
      ],
      "execution_count": null,
      "outputs": [
        {
          "output_type": "execute_result",
          "data": {
            "text/plain": [
              "('Asif', 25, [50, 100], [150, 90], {'David', 'John'}, (99, 22, 33))"
            ]
          },
          "metadata": {
            "tags": []
          },
          "execution_count": 8
        }
      ]
    },
    {
      "cell_type": "code",
      "metadata": {
        "id": "3g37eiOCSDdy",
        "colab_type": "code",
        "colab": {
          "base_uri": "https://localhost:8080/",
          "height": 34
        },
        "outputId": "6504c2c0-61d6-4561-bdbe-dabb075d975a"
      },
      "source": [
        "tup2[0] # Retreive first element of the tuple"
      ],
      "execution_count": null,
      "outputs": [
        {
          "output_type": "execute_result",
          "data": {
            "text/plain": [
              "10"
            ]
          },
          "metadata": {
            "tags": []
          },
          "execution_count": 9
        }
      ]
    },
    {
      "cell_type": "code",
      "metadata": {
        "id": "hSu5r4NKSIn7",
        "colab_type": "code",
        "colab": {
          "base_uri": "https://localhost:8080/",
          "height": 35
        },
        "outputId": "76d19078-27fb-4618-b075-b964e2ca0e14"
      },
      "source": [
        "tup4[0] # Retreive first element of the tuple"
      ],
      "execution_count": null,
      "outputs": [
        {
          "output_type": "execute_result",
          "data": {
            "application/vnd.google.colaboratory.intrinsic+json": {
              "type": "string"
            },
            "text/plain": [
              "'one'"
            ]
          },
          "metadata": {
            "tags": []
          },
          "execution_count": 10
        }
      ]
    },
    {
      "cell_type": "code",
      "metadata": {
        "id": "AsvwqfBMSLgD",
        "colab_type": "code",
        "colab": {
          "base_uri": "https://localhost:8080/",
          "height": 35
        },
        "outputId": "9824839e-5da6-4c29-ae1e-3b1cb8098989"
      },
      "source": [
        "tup4[0][0] # Nested indexing - Access the first character of the first tuple element"
      ],
      "execution_count": null,
      "outputs": [
        {
          "output_type": "execute_result",
          "data": {
            "application/vnd.google.colaboratory.intrinsic+json": {
              "type": "string"
            },
            "text/plain": [
              "'o'"
            ]
          },
          "metadata": {
            "tags": []
          },
          "execution_count": 11
        }
      ]
    },
    {
      "cell_type": "code",
      "metadata": {
        "id": "Om_3ZEpVSRjL",
        "colab_type": "code",
        "colab": {
          "base_uri": "https://localhost:8080/",
          "height": 35
        },
        "outputId": "9b896b21-ce50-44cd-e02b-70321312f613"
      },
      "source": [
        "tup4[-1] # Last item of the tuple"
      ],
      "execution_count": null,
      "outputs": [
        {
          "output_type": "execute_result",
          "data": {
            "application/vnd.google.colaboratory.intrinsic+json": {
              "type": "string"
            },
            "text/plain": [
              "'three'"
            ]
          },
          "metadata": {
            "tags": []
          },
          "execution_count": 12
        }
      ]
    },
    {
      "cell_type": "code",
      "metadata": {
        "id": "ICewah1rSUSS",
        "colab_type": "code",
        "colab": {
          "base_uri": "https://localhost:8080/",
          "height": 34
        },
        "outputId": "e5da5e4d-1830-4d3f-9105-d065fb1034a6"
      },
      "source": [
        "tup5[-1]  # Last item of the tuple"
      ],
      "execution_count": null,
      "outputs": [
        {
          "output_type": "execute_result",
          "data": {
            "text/plain": [
              "(150, 90)"
            ]
          },
          "metadata": {
            "tags": []
          },
          "execution_count": 13
        }
      ]
    },
    {
      "cell_type": "code",
      "metadata": {
        "id": "UnmNBwCOSYj9",
        "colab_type": "code",
        "colab": {}
      },
      "source": [
        "mytuple = ('one' , 'two' , 'three' , 'four' , 'five' , 'six' , 'seven' , 'eight')"
      ],
      "execution_count": null,
      "outputs": []
    },
    {
      "cell_type": "code",
      "metadata": {
        "id": "4svHsqDMSjEB",
        "colab_type": "code",
        "colab": {
          "base_uri": "https://localhost:8080/",
          "height": 34
        },
        "outputId": "482ca0dc-b431-4185-bd69-76f4075c8efd"
      },
      "source": [
        "mytuple[0:3] # Return all items from 0th to 3rd index location excluding the item at loc 3."
      ],
      "execution_count": null,
      "outputs": [
        {
          "output_type": "execute_result",
          "data": {
            "text/plain": [
              "('one', 'two', 'three')"
            ]
          },
          "metadata": {
            "tags": []
          },
          "execution_count": 15
        }
      ]
    },
    {
      "cell_type": "code",
      "metadata": {
        "id": "ciZ5WqD4Smia",
        "colab_type": "code",
        "colab": {
          "base_uri": "https://localhost:8080/",
          "height": 34
        },
        "outputId": "3c6bbe93-710b-4f4a-8ee1-c55bf58409f4"
      },
      "source": [
        "mytuple[2:5] # List all items from 2nd to 5th index location excluding the item at loc 5."
      ],
      "execution_count": null,
      "outputs": [
        {
          "output_type": "execute_result",
          "data": {
            "text/plain": [
              "('three', 'four', 'five')"
            ]
          },
          "metadata": {
            "tags": []
          },
          "execution_count": 16
        }
      ]
    },
    {
      "cell_type": "code",
      "metadata": {
        "id": "C1_c9YvMSqSz",
        "colab_type": "code",
        "colab": {
          "base_uri": "https://localhost:8080/",
          "height": 34
        },
        "outputId": "121cdb16-23da-420f-cf89-00e4c7958c06"
      },
      "source": [
        "mytuple[:3] # Return first three items"
      ],
      "execution_count": null,
      "outputs": [
        {
          "output_type": "execute_result",
          "data": {
            "text/plain": [
              "('one', 'two', 'three')"
            ]
          },
          "metadata": {
            "tags": []
          },
          "execution_count": 17
        }
      ]
    },
    {
      "cell_type": "code",
      "metadata": {
        "id": "wTQP4qV2StH4",
        "colab_type": "code",
        "colab": {
          "base_uri": "https://localhost:8080/",
          "height": 34
        },
        "outputId": "19ccf047-bae0-41b0-dc1d-823d4ca838d1"
      },
      "source": [
        "mytuple[:2]  # Return first two items"
      ],
      "execution_count": null,
      "outputs": [
        {
          "output_type": "execute_result",
          "data": {
            "text/plain": [
              "('one', 'two')"
            ]
          },
          "metadata": {
            "tags": []
          },
          "execution_count": 18
        }
      ]
    },
    {
      "cell_type": "code",
      "metadata": {
        "id": "dm6g2qbOSwbs",
        "colab_type": "code",
        "colab": {
          "base_uri": "https://localhost:8080/",
          "height": 34
        },
        "outputId": "3ff55b6c-55a2-4ac4-ffa1-853e1a2e4fb0"
      },
      "source": [
        "mytuple[-3:] # Return last three items"
      ],
      "execution_count": null,
      "outputs": [
        {
          "output_type": "execute_result",
          "data": {
            "text/plain": [
              "('six', 'seven', 'eight')"
            ]
          },
          "metadata": {
            "tags": []
          },
          "execution_count": 19
        }
      ]
    },
    {
      "cell_type": "code",
      "metadata": {
        "id": "lQWyAwwvSy00",
        "colab_type": "code",
        "colab": {
          "base_uri": "https://localhost:8080/",
          "height": 34
        },
        "outputId": "d58f9a8d-8bd6-4ca5-ea34-dc799279b33a"
      },
      "source": [
        "mytuple[-2:] # Return last two items"
      ],
      "execution_count": null,
      "outputs": [
        {
          "output_type": "execute_result",
          "data": {
            "text/plain": [
              "('seven', 'eight')"
            ]
          },
          "metadata": {
            "tags": []
          },
          "execution_count": 20
        }
      ]
    },
    {
      "cell_type": "code",
      "metadata": {
        "id": "chYLFIDBS3yi",
        "colab_type": "code",
        "colab": {
          "base_uri": "https://localhost:8080/",
          "height": 35
        },
        "outputId": "76d72714-3a14-4061-bc7b-79205c95703d"
      },
      "source": [
        "mytuple[-1] # Return last item of the tuple"
      ],
      "execution_count": null,
      "outputs": [
        {
          "output_type": "execute_result",
          "data": {
            "application/vnd.google.colaboratory.intrinsic+json": {
              "type": "string"
            },
            "text/plain": [
              "'eight'"
            ]
          },
          "metadata": {
            "tags": []
          },
          "execution_count": 21
        }
      ]
    },
    {
      "cell_type": "code",
      "metadata": {
        "id": "sa44Zf0NS6RS",
        "colab_type": "code",
        "colab": {
          "base_uri": "https://localhost:8080/",
          "height": 34
        },
        "outputId": "eb5dbde0-473b-4759-8449-9855cc1ea960"
      },
      "source": [
        "mytuple[:] # Return whole tuple"
      ],
      "execution_count": null,
      "outputs": [
        {
          "output_type": "execute_result",
          "data": {
            "text/plain": [
              "('one', 'two', 'three', 'four', 'five', 'six', 'seven', 'eight')"
            ]
          },
          "metadata": {
            "tags": []
          },
          "execution_count": 22
        }
      ]
    },
    {
      "cell_type": "code",
      "metadata": {
        "id": "NCPXewM7S9Jq",
        "colab_type": "code",
        "colab": {
          "base_uri": "https://localhost:8080/",
          "height": 34
        },
        "outputId": "f23dff19-fef8-47bf-887a-fd01892fa5ff"
      },
      "source": [
        "mytuple"
      ],
      "execution_count": null,
      "outputs": [
        {
          "output_type": "execute_result",
          "data": {
            "text/plain": [
              "('one', 'two', 'three', 'four', 'five', 'six', 'seven', 'eight')"
            ]
          },
          "metadata": {
            "tags": []
          },
          "execution_count": 23
        }
      ]
    },
    {
      "cell_type": "code",
      "metadata": {
        "id": "RV6ALOGfUJQo",
        "colab_type": "code",
        "colab": {}
      },
      "source": [
        "del mytuple"
      ],
      "execution_count": null,
      "outputs": []
    },
    {
      "cell_type": "code",
      "metadata": {
        "id": "E0YCARbWULHh",
        "colab_type": "code",
        "colab": {
          "base_uri": "https://localhost:8080/",
          "height": 163
        },
        "outputId": "045a885b-4a39-46e1-9d3b-969c7d88d04b"
      },
      "source": [
        "mytuple"
      ],
      "execution_count": null,
      "outputs": [
        {
          "output_type": "error",
          "ename": "NameError",
          "evalue": "ignored",
          "traceback": [
            "\u001b[0;31m---------------------------------------------------------------------------\u001b[0m",
            "\u001b[0;31mNameError\u001b[0m                                 Traceback (most recent call last)",
            "\u001b[0;32m<ipython-input-25-c6c21778968d>\u001b[0m in \u001b[0;36m<module>\u001b[0;34m()\u001b[0m\n\u001b[0;32m----> 1\u001b[0;31m \u001b[0mmytuple\u001b[0m\u001b[0;34m\u001b[0m\u001b[0;34m\u001b[0m\u001b[0m\n\u001b[0m",
            "\u001b[0;31mNameError\u001b[0m: name 'mytuple' is not defined"
          ]
        }
      ]
    },
    {
      "cell_type": "code",
      "metadata": {
        "id": "te14fgZUUNsi",
        "colab_type": "code",
        "colab": {
          "base_uri": "https://localhost:8080/",
          "height": 163
        },
        "outputId": "9626a20e-28a2-43ad-c3d2-393c7343f2ff"
      },
      "source": [
        "del mytuple[0] # Tuples are immutable which means we can't DELETE tuple items"
      ],
      "execution_count": null,
      "outputs": [
        {
          "output_type": "error",
          "ename": "NameError",
          "evalue": "ignored",
          "traceback": [
            "\u001b[0;31m---------------------------------------------------------------------------\u001b[0m",
            "\u001b[0;31mNameError\u001b[0m                                 Traceback (most recent call last)",
            "\u001b[0;32m<ipython-input-26-96051e0b9682>\u001b[0m in \u001b[0;36m<module>\u001b[0;34m()\u001b[0m\n\u001b[0;32m----> 1\u001b[0;31m \u001b[0;32mdel\u001b[0m \u001b[0mmytuple\u001b[0m\u001b[0;34m[\u001b[0m\u001b[0;36m0\u001b[0m\u001b[0;34m]\u001b[0m \u001b[0;31m# Tuples are immutable which means we can't DELETE tuple items\u001b[0m\u001b[0;34m\u001b[0m\u001b[0;34m\u001b[0m\u001b[0m\n\u001b[0m",
            "\u001b[0;31mNameError\u001b[0m: name 'mytuple' is not defined"
          ]
        }
      ]
    },
    {
      "cell_type": "code",
      "metadata": {
        "id": "4daJePWOUT_A",
        "colab_type": "code",
        "colab": {
          "base_uri": "https://localhost:8080/",
          "height": 163
        },
        "outputId": "e59d8b9e-27bb-4ea4-accd-bf5e99e7d9ec"
      },
      "source": [
        "mytuple[0] = 1 # Tuples are immutable which means we can't CHANGE tuple items"
      ],
      "execution_count": null,
      "outputs": [
        {
          "output_type": "error",
          "ename": "NameError",
          "evalue": "ignored",
          "traceback": [
            "\u001b[0;31m---------------------------------------------------------------------------\u001b[0m",
            "\u001b[0;31mNameError\u001b[0m                                 Traceback (most recent call last)",
            "\u001b[0;32m<ipython-input-27-4c2ed09725a9>\u001b[0m in \u001b[0;36m<module>\u001b[0;34m()\u001b[0m\n\u001b[0;32m----> 1\u001b[0;31m \u001b[0mmytuple\u001b[0m\u001b[0;34m[\u001b[0m\u001b[0;36m0\u001b[0m\u001b[0;34m]\u001b[0m \u001b[0;34m=\u001b[0m \u001b[0;36m1\u001b[0m \u001b[0;31m# Tuples are immutable which means we can't CHANGE tuple items\u001b[0m\u001b[0;34m\u001b[0m\u001b[0;34m\u001b[0m\u001b[0m\n\u001b[0m",
            "\u001b[0;31mNameError\u001b[0m: name 'mytuple' is not defined"
          ]
        }
      ]
    },
    {
      "cell_type": "code",
      "metadata": {
        "id": "aaFBtVugUa-k",
        "colab_type": "code",
        "colab": {}
      },
      "source": [
        "mytuple = ('one' , 'two' , 'three' , 'four' , 'five' , 'six' , 'seven' , 'eight')"
      ],
      "execution_count": null,
      "outputs": []
    },
    {
      "cell_type": "code",
      "metadata": {
        "id": "sPToMwtTWfvj",
        "colab_type": "code",
        "colab": {
          "base_uri": "https://localhost:8080/",
          "height": 153
        },
        "outputId": "8abeb44b-3f63-4559-8856-1f156bac883e"
      },
      "source": [
        "for i in mytuple:\n",
        "  print(i)"
      ],
      "execution_count": null,
      "outputs": [
        {
          "output_type": "stream",
          "text": [
            "one\n",
            "two\n",
            "three\n",
            "four\n",
            "five\n",
            "six\n",
            "seven\n",
            "eight\n"
          ],
          "name": "stdout"
        }
      ]
    },
    {
      "cell_type": "code",
      "metadata": {
        "id": "CPJDuuPQWjut",
        "colab_type": "code",
        "colab": {
          "base_uri": "https://localhost:8080/",
          "height": 153
        },
        "outputId": "c20cd5d8-b3b2-4363-ddc2-a269b36e870b"
      },
      "source": [
        "for i in enumerate(mytuple):\n",
        "  print(i)"
      ],
      "execution_count": null,
      "outputs": [
        {
          "output_type": "stream",
          "text": [
            "(0, 'one')\n",
            "(1, 'two')\n",
            "(2, 'three')\n",
            "(3, 'four')\n",
            "(4, 'five')\n",
            "(5, 'six')\n",
            "(6, 'seven')\n",
            "(7, 'eight')\n"
          ],
          "name": "stdout"
        }
      ]
    },
    {
      "cell_type": "code",
      "metadata": {
        "id": "MhBN6bErWtqO",
        "colab_type": "code",
        "colab": {}
      },
      "source": [
        "mytuple1 =('one', 'two', 'three', 'four', 'one', 'one', 'two', 'three')"
      ],
      "execution_count": null,
      "outputs": []
    },
    {
      "cell_type": "code",
      "metadata": {
        "id": "nRjeNWr0WzOg",
        "colab_type": "code",
        "colab": {
          "base_uri": "https://localhost:8080/",
          "height": 34
        },
        "outputId": "e3087e5b-5e45-41b9-8a8e-d7b1f86f2c7d"
      },
      "source": [
        "mytuple1.count('one')"
      ],
      "execution_count": null,
      "outputs": [
        {
          "output_type": "execute_result",
          "data": {
            "text/plain": [
              "3"
            ]
          },
          "metadata": {
            "tags": []
          },
          "execution_count": 32
        }
      ]
    },
    {
      "cell_type": "code",
      "metadata": {
        "id": "u3Nik_IPW2Ew",
        "colab_type": "code",
        "colab": {
          "base_uri": "https://localhost:8080/",
          "height": 34
        },
        "outputId": "23591212-c340-4166-ac1d-aa475d97ab50"
      },
      "source": [
        "mytuple1.count('two') # Occurence of item 'two' in the tuple"
      ],
      "execution_count": null,
      "outputs": [
        {
          "output_type": "execute_result",
          "data": {
            "text/plain": [
              "2"
            ]
          },
          "metadata": {
            "tags": []
          },
          "execution_count": 33
        }
      ]
    },
    {
      "cell_type": "code",
      "metadata": {
        "id": "StYK3yqGW56T",
        "colab_type": "code",
        "colab": {
          "base_uri": "https://localhost:8080/",
          "height": 34
        },
        "outputId": "f38dc87e-6ab1-47d5-9232-920d2fecade2"
      },
      "source": [
        "mytuple"
      ],
      "execution_count": null,
      "outputs": [
        {
          "output_type": "execute_result",
          "data": {
            "text/plain": [
              "('one', 'two', 'three', 'four', 'five', 'six', 'seven', 'eight')"
            ]
          },
          "metadata": {
            "tags": []
          },
          "execution_count": 34
        }
      ]
    },
    {
      "cell_type": "code",
      "metadata": {
        "id": "JTSzsndYW-BV",
        "colab_type": "code",
        "colab": {
          "base_uri": "https://localhost:8080/",
          "height": 34
        },
        "outputId": "86bfd712-0a49-4701-8859-551272ed4bdf"
      },
      "source": [
        "'one' in mytuple"
      ],
      "execution_count": null,
      "outputs": [
        {
          "output_type": "execute_result",
          "data": {
            "text/plain": [
              "True"
            ]
          },
          "metadata": {
            "tags": []
          },
          "execution_count": 35
        }
      ]
    },
    {
      "cell_type": "code",
      "metadata": {
        "id": "ejWNYTw0XBKb",
        "colab_type": "code",
        "colab": {
          "base_uri": "https://localhost:8080/",
          "height": 34
        },
        "outputId": "dc0d2b8d-2e78-4d44-ca63-a33d0b2bbbec"
      },
      "source": [
        "'ten' in mytuple # Check if 'ten' exist in the list"
      ],
      "execution_count": null,
      "outputs": [
        {
          "output_type": "execute_result",
          "data": {
            "text/plain": [
              "False"
            ]
          },
          "metadata": {
            "tags": []
          },
          "execution_count": 36
        }
      ]
    },
    {
      "cell_type": "code",
      "metadata": {
        "id": "giIR85m3XEpj",
        "colab_type": "code",
        "colab": {
          "base_uri": "https://localhost:8080/",
          "height": 34
        },
        "outputId": "ac8aeaeb-dda4-420e-e521-22a829136f5e"
      },
      "source": [
        "if 'three' in mytuple: # Check if 'three' exist in the list\n",
        "    print('Three is present in the tuple')\n",
        "else:\n",
        "    print('Three is not present in the tuple')"
      ],
      "execution_count": null,
      "outputs": [
        {
          "output_type": "stream",
          "text": [
            "Three is present in the tuple\n"
          ],
          "name": "stdout"
        }
      ]
    },
    {
      "cell_type": "code",
      "metadata": {
        "id": "I5k2c1wuXHlh",
        "colab_type": "code",
        "colab": {
          "base_uri": "https://localhost:8080/",
          "height": 34
        },
        "outputId": "c13c4b0e-afcc-4018-dff0-f571922f2242"
      },
      "source": [
        "if 'eleven' in mytuple:  # Check if 'eleven' exist in the list\n",
        "    print('eleven is present in the tuple')\n",
        "else:\n",
        "    print('eleven is not present in the tuple')"
      ],
      "execution_count": null,
      "outputs": [
        {
          "output_type": "stream",
          "text": [
            "eleven is not present in the tuple\n"
          ],
          "name": "stdout"
        }
      ]
    },
    {
      "cell_type": "code",
      "metadata": {
        "id": "4kkPrAxXbPWb",
        "colab_type": "code",
        "colab": {
          "base_uri": "https://localhost:8080/",
          "height": 34
        },
        "outputId": "02bea267-77d4-4ce6-ff42-99b520f7689a"
      },
      "source": [
        "mytuple"
      ],
      "execution_count": null,
      "outputs": [
        {
          "output_type": "execute_result",
          "data": {
            "text/plain": [
              "('one', 'two', 'three', 'four', 'five', 'six', 'seven', 'eight')"
            ]
          },
          "metadata": {
            "tags": []
          },
          "execution_count": 40
        }
      ]
    },
    {
      "cell_type": "code",
      "metadata": {
        "id": "8M7VYoBiZLc9",
        "colab_type": "code",
        "colab": {
          "base_uri": "https://localhost:8080/",
          "height": 34
        },
        "outputId": "7d1a3f4f-bd1e-43b6-8516-baacaa12f948"
      },
      "source": [
        "mytuple.index('one') # Index of first element equal to 'one'"
      ],
      "execution_count": null,
      "outputs": [
        {
          "output_type": "execute_result",
          "data": {
            "text/plain": [
              "0"
            ]
          },
          "metadata": {
            "tags": []
          },
          "execution_count": 39
        }
      ]
    },
    {
      "cell_type": "code",
      "metadata": {
        "id": "57qWOGmfbNbC",
        "colab_type": "code",
        "colab": {
          "base_uri": "https://localhost:8080/",
          "height": 163
        },
        "outputId": "d01daf16-65c0-4d9d-a346-755d3c93df0c"
      },
      "source": [
        "mytuple.index('five') # Index of first element equal to 'five'"
      ],
      "execution_count": null,
      "outputs": [
        {
          "output_type": "error",
          "ename": "NameError",
          "evalue": "ignored",
          "traceback": [
            "\u001b[0;31m---------------------------------------------------------------------------\u001b[0m",
            "\u001b[0;31mNameError\u001b[0m                                 Traceback (most recent call last)",
            "\u001b[0;32m<ipython-input-1-c05a502f40ff>\u001b[0m in \u001b[0;36m<module>\u001b[0;34m()\u001b[0m\n\u001b[0;32m----> 1\u001b[0;31m \u001b[0mmytuple\u001b[0m\u001b[0;34m.\u001b[0m\u001b[0mindex\u001b[0m\u001b[0;34m(\u001b[0m\u001b[0;34m'five'\u001b[0m\u001b[0;34m)\u001b[0m \u001b[0;31m# Index of first element equal to 'five'\u001b[0m\u001b[0;34m\u001b[0m\u001b[0;34m\u001b[0m\u001b[0m\n\u001b[0m",
            "\u001b[0;31mNameError\u001b[0m: name 'mytuple' is not defined"
          ]
        }
      ]
    },
    {
      "cell_type": "code",
      "metadata": {
        "id": "kFM1GLPm4yAR",
        "colab_type": "code",
        "colab": {}
      },
      "source": [
        "mytuple2 = (43,67,99,12,6,90,67)"
      ],
      "execution_count": null,
      "outputs": []
    },
    {
      "cell_type": "code",
      "metadata": {
        "id": "MzbGF6RQ41O0",
        "colab_type": "code",
        "colab": {
          "base_uri": "https://localhost:8080/",
          "height": 34
        },
        "outputId": "cb889519-de4b-4a90-acd0-f24674ad97d3"
      },
      "source": [
        "sorted(mytuple2)  # Returns a new sorted list and doesn't change original tuple"
      ],
      "execution_count": null,
      "outputs": [
        {
          "output_type": "execute_result",
          "data": {
            "text/plain": [
              "[6, 12, 43, 67, 67, 90, 99]"
            ]
          },
          "metadata": {
            "tags": []
          },
          "execution_count": 3
        }
      ]
    },
    {
      "cell_type": "code",
      "metadata": {
        "id": "ytbbxWv545ec",
        "colab_type": "code",
        "colab": {
          "base_uri": "https://localhost:8080/",
          "height": 34
        },
        "outputId": "87a9b7b4-330e-4296-c61a-d059ba1adbcc"
      },
      "source": [
        "sorted(mytuple2, reverse=True) # Sort in descending order"
      ],
      "execution_count": null,
      "outputs": [
        {
          "output_type": "execute_result",
          "data": {
            "text/plain": [
              "[99, 90, 67, 67, 43, 12, 6]"
            ]
          },
          "metadata": {
            "tags": []
          },
          "execution_count": 4
        }
      ]
    },
    {
      "cell_type": "code",
      "metadata": {
        "id": "iS3lN8cL5Trc",
        "colab_type": "code",
        "colab": {}
      },
      "source": [
        "myset= {1,2,3,4,5}"
      ],
      "execution_count": null,
      "outputs": []
    },
    {
      "cell_type": "code",
      "metadata": {
        "id": "cZhORdoA5XrJ",
        "colab_type": "code",
        "colab": {
          "base_uri": "https://localhost:8080/",
          "height": 34
        },
        "outputId": "28bb6d29-e083-41a1-a807-cbe6c8263092"
      },
      "source": [
        "myset"
      ],
      "execution_count": null,
      "outputs": [
        {
          "output_type": "execute_result",
          "data": {
            "text/plain": [
              "{1, 2, 3, 4, 5}"
            ]
          },
          "metadata": {
            "tags": []
          },
          "execution_count": 6
        }
      ]
    },
    {
      "cell_type": "code",
      "metadata": {
        "id": "BHoI7IBs5Yds",
        "colab_type": "code",
        "colab": {
          "base_uri": "https://localhost:8080/",
          "height": 34
        },
        "outputId": "685df58b-3150-4cc7-a848-5538270f8f4a"
      },
      "source": [
        "len(myset)"
      ],
      "execution_count": null,
      "outputs": [
        {
          "output_type": "execute_result",
          "data": {
            "text/plain": [
              "5"
            ]
          },
          "metadata": {
            "tags": []
          },
          "execution_count": 7
        }
      ]
    },
    {
      "cell_type": "code",
      "metadata": {
        "id": "ezzaB6OU5zhw",
        "colab_type": "code",
        "colab": {
          "base_uri": "https://localhost:8080/",
          "height": 34
        },
        "outputId": "d3bd1064-cdcb-4636-c151-c56ac9fde973"
      },
      "source": [
        "my_set = {1,1,2,2,3,4,5,5}\n",
        "my_set # Duplicate elements are not allowed."
      ],
      "execution_count": null,
      "outputs": [
        {
          "output_type": "execute_result",
          "data": {
            "text/plain": [
              "{1, 2, 3, 4, 5}"
            ]
          },
          "metadata": {
            "tags": []
          },
          "execution_count": 9
        }
      ]
    },
    {
      "cell_type": "code",
      "metadata": {
        "id": "-nlWps7q52wz",
        "colab_type": "code",
        "colab": {
          "base_uri": "https://localhost:8080/",
          "height": 34
        },
        "outputId": "59a20651-f307-4078-81e4-3fc32a405678"
      },
      "source": [
        "myset1 = {1.79,2.08,3.99,4.56,5.45} # Set of float numbers\n",
        "myset1"
      ],
      "execution_count": null,
      "outputs": [
        {
          "output_type": "execute_result",
          "data": {
            "text/plain": [
              "{1.79, 2.08, 3.99, 4.56, 5.45}"
            ]
          },
          "metadata": {
            "tags": []
          },
          "execution_count": 10
        }
      ]
    },
    {
      "cell_type": "code",
      "metadata": {
        "id": "jir426zT59VH",
        "colab_type": "code",
        "colab": {
          "base_uri": "https://localhost:8080/",
          "height": 34
        },
        "outputId": "76855183-f2c7-49d8-b346-31af2bcf805c"
      },
      "source": [
        "myset2 = {'Asif' , 'John' , 'Tyrion'} # Set of Strings\n",
        "myset2"
      ],
      "execution_count": null,
      "outputs": [
        {
          "output_type": "execute_result",
          "data": {
            "text/plain": [
              "{'Asif', 'John', 'Tyrion'}"
            ]
          },
          "metadata": {
            "tags": []
          },
          "execution_count": 11
        }
      ]
    },
    {
      "cell_type": "code",
      "metadata": {
        "id": "JPJ_vTLf6DlX",
        "colab_type": "code",
        "colab": {}
      },
      "source": [
        "myset2 = {'Asif' , 'John' , 'Asif','Tyrion'} # Set of Strings\n"
      ],
      "execution_count": null,
      "outputs": []
    },
    {
      "cell_type": "code",
      "metadata": {
        "id": "tpk_glgG6F91",
        "colab_type": "code",
        "colab": {
          "base_uri": "https://localhost:8080/",
          "height": 34
        },
        "outputId": "53b4fd08-9260-4a29-a2a9-c3d96e4d0081"
      },
      "source": [
        "myset2"
      ],
      "execution_count": null,
      "outputs": [
        {
          "output_type": "execute_result",
          "data": {
            "text/plain": [
              "{'Asif', 'John', 'Tyrion'}"
            ]
          },
          "metadata": {
            "tags": []
          },
          "execution_count": 13
        }
      ]
    },
    {
      "cell_type": "code",
      "metadata": {
        "id": "8gceaeoH6G9L",
        "colab_type": "code",
        "colab": {
          "base_uri": "https://localhost:8080/",
          "height": 34
        },
        "outputId": "04ceb584-c43b-4432-f91d-5eb3847c0354"
      },
      "source": [
        "myset3 = {10,20, \"Hola\", (11, 22, 32)} # Mixed datatypes\n",
        "myset3"
      ],
      "execution_count": null,
      "outputs": [
        {
          "output_type": "execute_result",
          "data": {
            "text/plain": [
              "{(11, 22, 32), 10, 20, 'Hola'}"
            ]
          },
          "metadata": {
            "tags": []
          },
          "execution_count": 14
        }
      ]
    },
    {
      "cell_type": "code",
      "metadata": {
        "id": "MRKmWXJ56i01",
        "colab_type": "code",
        "colab": {
          "base_uri": "https://localhost:8080/",
          "height": 180
        },
        "outputId": "6431ec42-2306-4d2d-8ce0-fc5ecf406cb6"
      },
      "source": [
        "myset3 = {10,20, \"Hola\", [11, 22, 32]} # set doesn't allow mutable items like lists\n",
        "myset3"
      ],
      "execution_count": null,
      "outputs": [
        {
          "output_type": "error",
          "ename": "TypeError",
          "evalue": "ignored",
          "traceback": [
            "\u001b[0;31m---------------------------------------------------------------------------\u001b[0m",
            "\u001b[0;31mTypeError\u001b[0m                                 Traceback (most recent call last)",
            "\u001b[0;32m<ipython-input-15-d23fdc3a319e>\u001b[0m in \u001b[0;36m<module>\u001b[0;34m()\u001b[0m\n\u001b[0;32m----> 1\u001b[0;31m \u001b[0mmyset3\u001b[0m \u001b[0;34m=\u001b[0m \u001b[0;34m{\u001b[0m\u001b[0;36m10\u001b[0m\u001b[0;34m,\u001b[0m\u001b[0;36m20\u001b[0m\u001b[0;34m,\u001b[0m \u001b[0;34m\"Hola\"\u001b[0m\u001b[0;34m,\u001b[0m \u001b[0;34m[\u001b[0m\u001b[0;36m11\u001b[0m\u001b[0;34m,\u001b[0m \u001b[0;36m22\u001b[0m\u001b[0;34m,\u001b[0m \u001b[0;36m32\u001b[0m\u001b[0;34m]\u001b[0m\u001b[0;34m}\u001b[0m \u001b[0;31m# set doesn't allow mutable items like lists\u001b[0m\u001b[0;34m\u001b[0m\u001b[0;34m\u001b[0m\u001b[0m\n\u001b[0m\u001b[1;32m      2\u001b[0m \u001b[0mmyset3\u001b[0m\u001b[0;34m\u001b[0m\u001b[0;34m\u001b[0m\u001b[0m\n",
            "\u001b[0;31mTypeError\u001b[0m: unhashable type: 'list'"
          ]
        }
      ]
    },
    {
      "cell_type": "code",
      "metadata": {
        "id": "0M3bs-hJ6rrv",
        "colab_type": "code",
        "colab": {
          "base_uri": "https://localhost:8080/",
          "height": 34
        },
        "outputId": "93972d85-1da0-4fba-fd1d-319c61e4440a"
      },
      "source": [
        "myset4 = set() # Create an empty set\n",
        "print(type(myset4))"
      ],
      "execution_count": null,
      "outputs": [
        {
          "output_type": "stream",
          "text": [
            "<class 'set'>\n"
          ],
          "name": "stdout"
        }
      ]
    },
    {
      "cell_type": "code",
      "metadata": {
        "id": "8QoFXUr86y96",
        "colab_type": "code",
        "colab": {
          "base_uri": "https://localhost:8080/",
          "height": 34
        },
        "outputId": "3f1f4f74-a825-4158-fb65-a123bce77b58"
      },
      "source": [
        "my_set1 = set(('one' , 'two' , 'three' , 'four'))\n",
        "my_set1"
      ],
      "execution_count": null,
      "outputs": [
        {
          "output_type": "execute_result",
          "data": {
            "text/plain": [
              "{'four', 'one', 'three', 'two'}"
            ]
          },
          "metadata": {
            "tags": []
          },
          "execution_count": 17
        }
      ]
    },
    {
      "cell_type": "code",
      "metadata": {
        "id": "klRFRALp62h5",
        "colab_type": "code",
        "colab": {
          "base_uri": "https://localhost:8080/",
          "height": 153
        },
        "outputId": "0c7567d4-7f9c-4285-cb2c-e6b9490a0a94"
      },
      "source": [
        "myset = {'one', 'two', 'three', 'four', 'five', 'six', 'seven', 'eight'}\n",
        "\n",
        "for i in myset:\n",
        "  print(i)"
      ],
      "execution_count": null,
      "outputs": [
        {
          "output_type": "stream",
          "text": [
            "four\n",
            "seven\n",
            "five\n",
            "two\n",
            "three\n",
            "one\n",
            "six\n",
            "eight\n"
          ],
          "name": "stdout"
        }
      ]
    },
    {
      "cell_type": "code",
      "metadata": {
        "id": "5pGW3Vgn67iG",
        "colab_type": "code",
        "colab": {
          "base_uri": "https://localhost:8080/",
          "height": 153
        },
        "outputId": "b353077a-db8e-4989-a449-477606407c75"
      },
      "source": [
        "for i in enumerate(myset):\n",
        "  print(i)"
      ],
      "execution_count": null,
      "outputs": [
        {
          "output_type": "stream",
          "text": [
            "(0, 'four')\n",
            "(1, 'seven')\n",
            "(2, 'five')\n",
            "(3, 'two')\n",
            "(4, 'three')\n",
            "(5, 'one')\n",
            "(6, 'six')\n",
            "(7, 'eight')\n"
          ],
          "name": "stdout"
        }
      ]
    },
    {
      "cell_type": "code",
      "metadata": {
        "id": "8UIADRNU7eGM",
        "colab_type": "code",
        "colab": {
          "base_uri": "https://localhost:8080/",
          "height": 34
        },
        "outputId": "cebe92f0-adb6-49bd-b0a7-b36ecaa1e3d9"
      },
      "source": [
        "myset"
      ],
      "execution_count": null,
      "outputs": [
        {
          "output_type": "execute_result",
          "data": {
            "text/plain": [
              "{'eight', 'five', 'four', 'one', 'seven', 'six', 'three', 'two'}"
            ]
          },
          "metadata": {
            "tags": []
          },
          "execution_count": 20
        }
      ]
    },
    {
      "cell_type": "code",
      "metadata": {
        "id": "mFxJ_TnQ7gcH",
        "colab_type": "code",
        "colab": {
          "base_uri": "https://localhost:8080/",
          "height": 34
        },
        "outputId": "3bdfbb9d-1a9a-455f-bed7-554880bf2d6b"
      },
      "source": [
        "'one' in myset"
      ],
      "execution_count": null,
      "outputs": [
        {
          "output_type": "execute_result",
          "data": {
            "text/plain": [
              "True"
            ]
          },
          "metadata": {
            "tags": []
          },
          "execution_count": 21
        }
      ]
    },
    {
      "cell_type": "code",
      "metadata": {
        "id": "nKUmEyFF7im-",
        "colab_type": "code",
        "colab": {
          "base_uri": "https://localhost:8080/",
          "height": 34
        },
        "outputId": "0619644c-7f04-4e3b-d8ff-03d95f00085a"
      },
      "source": [
        "'ten' in myset # Check if 'ten' exist in the set"
      ],
      "execution_count": null,
      "outputs": [
        {
          "output_type": "execute_result",
          "data": {
            "text/plain": [
              "False"
            ]
          },
          "metadata": {
            "tags": []
          },
          "execution_count": 22
        }
      ]
    },
    {
      "cell_type": "code",
      "metadata": {
        "id": "3GG4jLx27lSe",
        "colab_type": "code",
        "colab": {
          "base_uri": "https://localhost:8080/",
          "height": 34
        },
        "outputId": "c10c1e06-eab8-4b82-b8a2-a53cd43cadbc"
      },
      "source": [
        "if 'three' in myset: # Check if 'three' exist in the set\n",
        "    print('Three is present in the set')\n",
        "else:\n",
        "    print('Three is not present in the set')"
      ],
      "execution_count": null,
      "outputs": [
        {
          "output_type": "stream",
          "text": [
            "Three is present in the set\n"
          ],
          "name": "stdout"
        }
      ]
    },
    {
      "cell_type": "code",
      "metadata": {
        "id": "tMHzUEZe7qj6",
        "colab_type": "code",
        "colab": {
          "base_uri": "https://localhost:8080/",
          "height": 34
        },
        "outputId": "19c896f2-7e3c-41f9-d929-9ced622b441b"
      },
      "source": [
        "if 'eleven' in myset:  # Check if 'eleven' exist in the list\n",
        "    print('eleven is present in the set')\n",
        "else:\n",
        "    print('eleven is not present in the set')"
      ],
      "execution_count": null,
      "outputs": [
        {
          "output_type": "stream",
          "text": [
            "eleven is not present in the set\n"
          ],
          "name": "stdout"
        }
      ]
    },
    {
      "cell_type": "code",
      "metadata": {
        "id": "b7bYJPbB84lf",
        "colab_type": "code",
        "colab": {
          "base_uri": "https://localhost:8080/",
          "height": 34
        },
        "outputId": "5d303e29-b76a-46c2-e9c0-5a7bca4b0d8a"
      },
      "source": [
        "myset"
      ],
      "execution_count": null,
      "outputs": [
        {
          "output_type": "execute_result",
          "data": {
            "text/plain": [
              "{'eight', 'five', 'four', 'one', 'seven', 'six', 'three', 'two'}"
            ]
          },
          "metadata": {
            "tags": []
          },
          "execution_count": 26
        }
      ]
    },
    {
      "cell_type": "code",
      "metadata": {
        "id": "zA6ewDFx9Cf2",
        "colab_type": "code",
        "colab": {}
      },
      "source": [
        "myset.add('nine')"
      ],
      "execution_count": null,
      "outputs": []
    },
    {
      "cell_type": "code",
      "metadata": {
        "id": "2brD9OzY9HH4",
        "colab_type": "code",
        "colab": {
          "base_uri": "https://localhost:8080/",
          "height": 34
        },
        "outputId": "fb98ab32-a8f1-4401-ac3a-047172f1c327"
      },
      "source": [
        "myset"
      ],
      "execution_count": null,
      "outputs": [
        {
          "output_type": "execute_result",
          "data": {
            "text/plain": [
              "{'eight', 'five', 'four', 'nine', 'one', 'seven', 'six', 'three', 'two'}"
            ]
          },
          "metadata": {
            "tags": []
          },
          "execution_count": 28
        }
      ]
    },
    {
      "cell_type": "code",
      "metadata": {
        "id": "3UCHtpgk9IP0",
        "colab_type": "code",
        "colab": {
          "base_uri": "https://localhost:8080/",
          "height": 221
        },
        "outputId": "d205f17e-94d0-48cd-c734-b733f406a1f8"
      },
      "source": [
        "myset.update(['TEN' , 'ELEVEN' , 'TWELVE'])  # Add multiple item to a set using update() method\n",
        "myset"
      ],
      "execution_count": null,
      "outputs": [
        {
          "output_type": "execute_result",
          "data": {
            "text/plain": [
              "{'ELEVEN',\n",
              " 'TEN',\n",
              " 'TWELVE',\n",
              " 'eight',\n",
              " 'five',\n",
              " 'four',\n",
              " 'nine',\n",
              " 'one',\n",
              " 'seven',\n",
              " 'six',\n",
              " 'three',\n",
              " 'two'}"
            ]
          },
          "metadata": {
            "tags": []
          },
          "execution_count": 29
        }
      ]
    },
    {
      "cell_type": "code",
      "metadata": {
        "id": "bZles5Km9OGx",
        "colab_type": "code",
        "colab": {
          "base_uri": "https://localhost:8080/",
          "height": 204
        },
        "outputId": "bdc11db2-a3a5-49d4-8035-4e1483e40e57"
      },
      "source": [
        "myset.remove('nine')# remove item in a set using remove() method\n",
        "myset"
      ],
      "execution_count": null,
      "outputs": [
        {
          "output_type": "execute_result",
          "data": {
            "text/plain": [
              "{'ELEVEN',\n",
              " 'TEN',\n",
              " 'TWELVE',\n",
              " 'eight',\n",
              " 'five',\n",
              " 'four',\n",
              " 'one',\n",
              " 'seven',\n",
              " 'six',\n",
              " 'three',\n",
              " 'two'}"
            ]
          },
          "metadata": {
            "tags": []
          },
          "execution_count": 30
        }
      ]
    },
    {
      "cell_type": "code",
      "metadata": {
        "id": "BBsF874s9S5o",
        "colab_type": "code",
        "colab": {
          "base_uri": "https://localhost:8080/",
          "height": 187
        },
        "outputId": "cd227d09-f390-44e7-d0f7-99898f2622f8"
      },
      "source": [
        "myset.discard('TEN') # remove item from a set using discard() method\n",
        "myset"
      ],
      "execution_count": null,
      "outputs": [
        {
          "output_type": "execute_result",
          "data": {
            "text/plain": [
              "{'ELEVEN',\n",
              " 'TWELVE',\n",
              " 'eight',\n",
              " 'five',\n",
              " 'four',\n",
              " 'one',\n",
              " 'seven',\n",
              " 'six',\n",
              " 'three',\n",
              " 'two'}"
            ]
          },
          "metadata": {
            "tags": []
          },
          "execution_count": 31
        }
      ]
    },
    {
      "cell_type": "code",
      "metadata": {
        "id": "tc-0TE2x-P6G",
        "colab_type": "code",
        "colab": {
          "base_uri": "https://localhost:8080/",
          "height": 34
        },
        "outputId": "b2697213-8ba9-440f-9d71-ac58c121e0a8"
      },
      "source": [
        "myset.clear() # Delete all items in a set\n",
        "myset"
      ],
      "execution_count": null,
      "outputs": [
        {
          "output_type": "execute_result",
          "data": {
            "text/plain": [
              "set()"
            ]
          },
          "metadata": {
            "tags": []
          },
          "execution_count": 32
        }
      ]
    },
    {
      "cell_type": "code",
      "metadata": {
        "id": "rFHXNElm-XvQ",
        "colab_type": "code",
        "colab": {
          "base_uri": "https://localhost:8080/",
          "height": 180
        },
        "outputId": "fbff8914-2418-4b25-8c70-7d882c9bcb1d"
      },
      "source": [
        "del myset\n",
        "myset"
      ],
      "execution_count": null,
      "outputs": [
        {
          "output_type": "error",
          "ename": "NameError",
          "evalue": "ignored",
          "traceback": [
            "\u001b[0;31m---------------------------------------------------------------------------\u001b[0m",
            "\u001b[0;31mNameError\u001b[0m                                 Traceback (most recent call last)",
            "\u001b[0;32m<ipython-input-33-0912ea1b8932>\u001b[0m in \u001b[0;36m<module>\u001b[0;34m()\u001b[0m\n\u001b[1;32m      1\u001b[0m \u001b[0;32mdel\u001b[0m \u001b[0mmyset\u001b[0m\u001b[0;34m\u001b[0m\u001b[0;34m\u001b[0m\u001b[0m\n\u001b[0;32m----> 2\u001b[0;31m \u001b[0mmyset\u001b[0m\u001b[0;34m\u001b[0m\u001b[0;34m\u001b[0m\u001b[0m\n\u001b[0m",
            "\u001b[0;31mNameError\u001b[0m: name 'myset' is not defined"
          ]
        }
      ]
    },
    {
      "cell_type": "code",
      "metadata": {
        "id": "EYhp3w7i-Z22",
        "colab_type": "code",
        "colab": {
          "base_uri": "https://localhost:8080/",
          "height": 34
        },
        "outputId": "1f1ecd50-928f-4992-cb51-e78fb2b8129c"
      },
      "source": [
        "myset = {'one', 'two', 'three', 'four', 'five', 'six', 'seven', 'eight'}\n",
        "myset"
      ],
      "execution_count": null,
      "outputs": [
        {
          "output_type": "execute_result",
          "data": {
            "text/plain": [
              "{'eight', 'five', 'four', 'one', 'seven', 'six', 'three', 'two'}"
            ]
          },
          "metadata": {
            "tags": []
          },
          "execution_count": 4
        }
      ]
    },
    {
      "cell_type": "code",
      "metadata": {
        "id": "q7X7aWiq-dAE",
        "colab_type": "code",
        "colab": {
          "base_uri": "https://localhost:8080/",
          "height": 34
        },
        "outputId": "284d08a3-ad23-4fa3-c4ba-891ed14aee6d"
      },
      "source": [
        "myset1 = myset  # Create a new reference \"myset1\" \n",
        "myset1\n"
      ],
      "execution_count": null,
      "outputs": [
        {
          "output_type": "execute_result",
          "data": {
            "text/plain": [
              "{'eight', 'five', 'four', 'one', 'seven', 'six', 'three', 'two'}"
            ]
          },
          "metadata": {
            "tags": []
          },
          "execution_count": 5
        }
      ]
    },
    {
      "cell_type": "code",
      "metadata": {
        "id": "0HGEam-e-fhk",
        "colab_type": "code",
        "colab": {
          "base_uri": "https://localhost:8080/",
          "height": 34
        },
        "outputId": "311d3ddd-1a1c-4599-95d5-9b5a783546e6"
      },
      "source": [
        "id(myset),id(myset1)"
      ],
      "execution_count": null,
      "outputs": [
        {
          "output_type": "execute_result",
          "data": {
            "text/plain": [
              "(139841681848136, 139841681848136)"
            ]
          },
          "metadata": {
            "tags": []
          },
          "execution_count": 6
        }
      ]
    },
    {
      "cell_type": "code",
      "metadata": {
        "id": "B9fhwUxu-k5Q",
        "colab_type": "code",
        "colab": {}
      },
      "source": [
        "my_set=myset.copy()"
      ],
      "execution_count": null,
      "outputs": []
    },
    {
      "cell_type": "code",
      "metadata": {
        "id": "uapKB9-2Yhfa",
        "colab_type": "code",
        "colab": {
          "base_uri": "https://localhost:8080/",
          "height": 34
        },
        "outputId": "7c228871-0694-4101-c78e-18dabd6cc1e0"
      },
      "source": [
        "id(my_set)"
      ],
      "execution_count": null,
      "outputs": [
        {
          "output_type": "execute_result",
          "data": {
            "text/plain": [
              "139842115491432"
            ]
          },
          "metadata": {
            "tags": []
          },
          "execution_count": 17
        }
      ]
    },
    {
      "cell_type": "code",
      "metadata": {
        "id": "kTZdFBmNYxlp",
        "colab_type": "code",
        "colab": {
          "base_uri": "https://localhost:8080/",
          "height": 34
        },
        "outputId": "3bd37f48-bf56-42b9-9ff6-29e44418c5f8"
      },
      "source": [
        "myset.add('nine')\n",
        "myset"
      ],
      "execution_count": null,
      "outputs": [
        {
          "output_type": "execute_result",
          "data": {
            "text/plain": [
              "{'eight', 'five', 'four', 'nine', 'one', 'seven', 'six', 'three', 'two'}"
            ]
          },
          "metadata": {
            "tags": []
          },
          "execution_count": 18
        }
      ]
    },
    {
      "cell_type": "code",
      "metadata": {
        "id": "nsHUw_uZY4Rn",
        "colab_type": "code",
        "colab": {
          "base_uri": "https://localhost:8080/",
          "height": 34
        },
        "outputId": "6407fc25-9516-4bcd-be20-26c63640b6ad"
      },
      "source": [
        "myset1 # myset1 will be also impacted as it is pointing to the same Set"
      ],
      "execution_count": null,
      "outputs": [
        {
          "output_type": "execute_result",
          "data": {
            "text/plain": [
              "{'eight', 'five', 'four', 'nine', 'one', 'seven', 'six', 'three', 'two'}"
            ]
          },
          "metadata": {
            "tags": []
          },
          "execution_count": 19
        }
      ]
    },
    {
      "cell_type": "code",
      "metadata": {
        "id": "IygOqjl1lX24",
        "colab_type": "code",
        "colab": {
          "base_uri": "https://localhost:8080/",
          "height": 34
        },
        "outputId": "8fe0729b-0741-43fc-f278-fae28466d755"
      },
      "source": [
        "my_set # Copy of the set won't be impacted due to changes made on the original Set."
      ],
      "execution_count": null,
      "outputs": [
        {
          "output_type": "execute_result",
          "data": {
            "text/plain": [
              "{'eight', 'five', 'four', 'nine', 'one', 'seven', 'six', 'three', 'two'}"
            ]
          },
          "metadata": {
            "tags": []
          },
          "execution_count": 20
        }
      ]
    },
    {
      "cell_type": "code",
      "metadata": {
        "id": "JdK18AaoqYQ3",
        "colab_type": "code",
        "colab": {}
      },
      "source": [
        "A = {1,2,3,4,5}\n",
        "B = {4,5,6,7,8}\n",
        "C = {8,9,10}"
      ],
      "execution_count": null,
      "outputs": []
    },
    {
      "cell_type": "code",
      "metadata": {
        "id": "nTFYEEshqnT7",
        "colab_type": "code",
        "colab": {
          "base_uri": "https://localhost:8080/",
          "height": 34
        },
        "outputId": "3c019d05-5c43-4609-fb3b-e878c0cfc588"
      },
      "source": [
        "A | B  # Union of A and B (All elements from both sets. NO DUPLICATES)"
      ],
      "execution_count": null,
      "outputs": [
        {
          "output_type": "execute_result",
          "data": {
            "text/plain": [
              "{1, 2, 3, 4, 5, 6, 7, 8}"
            ]
          },
          "metadata": {
            "tags": []
          },
          "execution_count": 2
        }
      ]
    },
    {
      "cell_type": "code",
      "metadata": {
        "id": "aGjVaGHytYSX",
        "colab_type": "code",
        "colab": {
          "base_uri": "https://localhost:8080/",
          "height": 34
        },
        "outputId": "d6a38257-178d-4746-8a1b-0e2e8920c031"
      },
      "source": [
        "A.union(B) # Union of A and B"
      ],
      "execution_count": null,
      "outputs": [
        {
          "output_type": "execute_result",
          "data": {
            "text/plain": [
              "{1, 2, 3, 4, 5, 6, 7, 8}"
            ]
          },
          "metadata": {
            "tags": []
          },
          "execution_count": 3
        }
      ]
    },
    {
      "cell_type": "code",
      "metadata": {
        "id": "zEPAm_dItsht",
        "colab_type": "code",
        "colab": {
          "base_uri": "https://localhost:8080/",
          "height": 34
        },
        "outputId": "c0dd3f90-2d74-41ae-b5e1-4052f77a03d0"
      },
      "source": [
        "A.union(B, C)  # Union of A, B and C."
      ],
      "execution_count": null,
      "outputs": [
        {
          "output_type": "execute_result",
          "data": {
            "text/plain": [
              "{1, 2, 3, 4, 5, 6, 7, 8, 9, 10}"
            ]
          },
          "metadata": {
            "tags": []
          },
          "execution_count": 4
        }
      ]
    },
    {
      "cell_type": "code",
      "metadata": {
        "id": "lvkUw4V8tvqe",
        "colab_type": "code",
        "colab": {
          "base_uri": "https://localhost:8080/",
          "height": 34
        },
        "outputId": "f913e8ea-c13a-496c-9747-2511f72ff56e"
      },
      "source": [
        "\"\"\"\n",
        "Updates the set calling the update() method with union of A , B & C. \n",
        "\n",
        "For below example Set A will be updated with union of A,B & C.\n",
        "\"\"\"\n",
        "A.update(B,C)\n",
        "A"
      ],
      "execution_count": null,
      "outputs": [
        {
          "output_type": "execute_result",
          "data": {
            "text/plain": [
              "{1, 2, 3, 4, 5, 6, 7, 8, 9, 10}"
            ]
          },
          "metadata": {
            "tags": []
          },
          "execution_count": 5
        }
      ]
    },
    {
      "cell_type": "code",
      "metadata": {
        "id": "IWjnbrBvR3p-",
        "colab_type": "code",
        "colab": {}
      },
      "source": [
        "A = {1,2,3,4,5}\n",
        "B = {4,5,6,7,8}\n"
      ],
      "execution_count": null,
      "outputs": []
    },
    {
      "cell_type": "code",
      "metadata": {
        "id": "T6On7wu1TSib",
        "colab_type": "code",
        "colab": {
          "base_uri": "https://localhost:8080/",
          "height": 34
        },
        "outputId": "23d2b00b-512b-4e49-b7d2-82fb10ec8163"
      },
      "source": [
        "A & B  # Intersection of A and B (Common items in both sets)"
      ],
      "execution_count": null,
      "outputs": [
        {
          "output_type": "execute_result",
          "data": {
            "text/plain": [
              "{4, 5}"
            ]
          },
          "metadata": {
            "tags": []
          },
          "execution_count": 8
        }
      ]
    },
    {
      "cell_type": "code",
      "metadata": {
        "id": "raHIOTN9TUdY",
        "colab_type": "code",
        "colab": {
          "base_uri": "https://localhost:8080/",
          "height": 34
        },
        "outputId": "e3ee658f-abf5-4195-b2b4-0490daaf7dca"
      },
      "source": [
        "\"\"\"\n",
        "Updates the set calling the intersection_update() method with the intersection of sets.\n",
        "\n",
        "For below example Set A will be updated  with the intersection of A & B.\n",
        "\"\"\"\n",
        "A.intersection_update(B)\n",
        "A"
      ],
      "execution_count": null,
      "outputs": [
        {
          "output_type": "execute_result",
          "data": {
            "text/plain": [
              "{4, 5}"
            ]
          },
          "metadata": {
            "tags": []
          },
          "execution_count": 9
        }
      ]
    },
    {
      "cell_type": "code",
      "metadata": {
        "id": "3XL-09d0TdfU",
        "colab_type": "code",
        "colab": {}
      },
      "source": [
        "A = {1,2,3,4,5}\n",
        "B = {4,5,6,7,8}"
      ],
      "execution_count": null,
      "outputs": []
    },
    {
      "cell_type": "code",
      "metadata": {
        "id": "h14Zgqi3WNdv",
        "colab_type": "code",
        "colab": {
          "base_uri": "https://localhost:8080/",
          "height": 34
        },
        "outputId": "47230328-dd3a-4c6c-bccd-c894cb91e9b5"
      },
      "source": [
        "A - B  # set of elements that are only in A but not in B"
      ],
      "execution_count": null,
      "outputs": [
        {
          "output_type": "execute_result",
          "data": {
            "text/plain": [
              "{1, 2, 3}"
            ]
          },
          "metadata": {
            "tags": []
          },
          "execution_count": 11
        }
      ]
    },
    {
      "cell_type": "code",
      "metadata": {
        "id": "o_5x5_2-WOYM",
        "colab_type": "code",
        "colab": {
          "base_uri": "https://localhost:8080/",
          "height": 34
        },
        "outputId": "f3fc209f-4130-4330-c592-8248ac463b8f"
      },
      "source": [
        "A.difference(B) # Difference of sets"
      ],
      "execution_count": null,
      "outputs": [
        {
          "output_type": "execute_result",
          "data": {
            "text/plain": [
              "{1, 2, 3}"
            ]
          },
          "metadata": {
            "tags": []
          },
          "execution_count": 13
        }
      ]
    },
    {
      "cell_type": "code",
      "metadata": {
        "id": "qgRU7vuhWWN4",
        "colab_type": "code",
        "colab": {
          "base_uri": "https://localhost:8080/",
          "height": 34
        },
        "outputId": "eaffecd4-4d75-4d46-e899-ac6d685c2bd0"
      },
      "source": [
        "B- A  # set of elements that are only in B but not in A"
      ],
      "execution_count": null,
      "outputs": [
        {
          "output_type": "execute_result",
          "data": {
            "text/plain": [
              "{6, 7, 8}"
            ]
          },
          "metadata": {
            "tags": []
          },
          "execution_count": 15
        }
      ]
    },
    {
      "cell_type": "code",
      "metadata": {
        "id": "DR5S4o1wWaGC",
        "colab_type": "code",
        "colab": {
          "base_uri": "https://localhost:8080/",
          "height": 34
        },
        "outputId": "29828b4c-de9e-4b39-b7a8-0e5e136bec25"
      },
      "source": [
        "B.difference(A)"
      ],
      "execution_count": null,
      "outputs": [
        {
          "output_type": "execute_result",
          "data": {
            "text/plain": [
              "{6, 7, 8}"
            ]
          },
          "metadata": {
            "tags": []
          },
          "execution_count": 16
        }
      ]
    },
    {
      "cell_type": "code",
      "metadata": {
        "id": "6MKep1PEWdlB",
        "colab_type": "code",
        "colab": {
          "base_uri": "https://localhost:8080/",
          "height": 34
        },
        "outputId": "b5e20976-566b-40bc-a957-50adff1dfbad"
      },
      "source": [
        "\"\"\"\n",
        "Updates the set calling the difference_update() method with the difference of sets.\n",
        "\n",
        "For below example Set B will be updated  with the difference of B & A.\n",
        "\"\"\"\n",
        "B.difference_update(A)\n",
        "B"
      ],
      "execution_count": null,
      "outputs": [
        {
          "output_type": "execute_result",
          "data": {
            "text/plain": [
              "{6, 7, 8}"
            ]
          },
          "metadata": {
            "tags": []
          },
          "execution_count": 17
        }
      ]
    },
    {
      "cell_type": "code",
      "metadata": {
        "id": "zO8cFms7WguJ",
        "colab_type": "code",
        "colab": {}
      },
      "source": [
        "A = {1,2,3,4,5}\n",
        "B = {4,5,6,7,8}"
      ],
      "execution_count": null,
      "outputs": []
    },
    {
      "cell_type": "code",
      "metadata": {
        "id": "5cNrWJtCawC9",
        "colab_type": "code",
        "colab": {
          "base_uri": "https://localhost:8080/",
          "height": 34
        },
        "outputId": "659ef2b6-2797-4dc8-e56b-02c6e78b7a95"
      },
      "source": [
        "A ^ B # Symmetric difference (Set of elements in A and B but not in both. \"EXCLUDING THE INTERSECTION\")."
      ],
      "execution_count": null,
      "outputs": [
        {
          "output_type": "execute_result",
          "data": {
            "text/plain": [
              "{1, 2, 3, 6, 7, 8}"
            ]
          },
          "metadata": {
            "tags": []
          },
          "execution_count": 20
        }
      ]
    },
    {
      "cell_type": "code",
      "metadata": {
        "id": "_9uN9Kylay8s",
        "colab_type": "code",
        "colab": {
          "base_uri": "https://localhost:8080/",
          "height": 34
        },
        "outputId": "f8f0b5b2-2443-4ec5-9878-6fea1e3bf340"
      },
      "source": [
        "A.symmetric_difference(B)  # Symmetric difference of sets"
      ],
      "execution_count": null,
      "outputs": [
        {
          "output_type": "execute_result",
          "data": {
            "text/plain": [
              "{1, 2, 3, 6, 7, 8}"
            ]
          },
          "metadata": {
            "tags": []
          },
          "execution_count": 21
        }
      ]
    },
    {
      "cell_type": "code",
      "metadata": {
        "id": "pQdOycyta5Sb",
        "colab_type": "code",
        "colab": {
          "base_uri": "https://localhost:8080/",
          "height": 34
        },
        "outputId": "1b90ad58-24f4-4284-99ca-0507c5022ecd"
      },
      "source": [
        "\"\"\"\n",
        "Updates the set calling the symmetric_difference_update() method with the symmetric difference of sets.\n",
        "\n",
        "For below example Set A will be updated  with the symmetric difference of A & B.\n",
        "\"\"\"\n",
        "\n",
        "A.symmetric_difference_update(B)\n",
        "A"
      ],
      "execution_count": null,
      "outputs": [
        {
          "output_type": "execute_result",
          "data": {
            "text/plain": [
              "{1, 2, 3, 6, 7, 8}"
            ]
          },
          "metadata": {
            "tags": []
          },
          "execution_count": 22
        }
      ]
    },
    {
      "cell_type": "code",
      "metadata": {
        "id": "g4WEW45Oa-N1",
        "colab_type": "code",
        "colab": {}
      },
      "source": [
        "A = {1,2,3,4,5}\n",
        "B = {4,5,6,7,8}\n",
        "C = {8,9,10}"
      ],
      "execution_count": 23,
      "outputs": []
    },
    {
      "cell_type": "code",
      "metadata": {
        "id": "jW3-vYrmt1Yn",
        "colab_type": "code",
        "colab": {
          "base_uri": "https://localhost:8080/",
          "height": 34
        },
        "outputId": "5ab39e06-ee6e-422f-ca8c-e7daeefbeb2b"
      },
      "source": [
        "A | B  # Union of A and B (All elements from both sets. NO DUPLICATES)"
      ],
      "execution_count": 24,
      "outputs": [
        {
          "output_type": "execute_result",
          "data": {
            "text/plain": [
              "{1, 2, 3, 4, 5, 6, 7, 8}"
            ]
          },
          "metadata": {
            "tags": []
          },
          "execution_count": 24
        }
      ]
    },
    {
      "cell_type": "code",
      "metadata": {
        "id": "u9fXkg5Kt4ez",
        "colab_type": "code",
        "colab": {
          "base_uri": "https://localhost:8080/",
          "height": 34
        },
        "outputId": "4eb02d64-1e7d-42bb-eb49-a4256f378d27"
      },
      "source": [
        "A.union(B) # Union of A and B"
      ],
      "execution_count": 25,
      "outputs": [
        {
          "output_type": "execute_result",
          "data": {
            "text/plain": [
              "{1, 2, 3, 4, 5, 6, 7, 8}"
            ]
          },
          "metadata": {
            "tags": []
          },
          "execution_count": 25
        }
      ]
    },
    {
      "cell_type": "code",
      "metadata": {
        "id": "_aoFwVNcvA1e",
        "colab_type": "code",
        "colab": {
          "base_uri": "https://localhost:8080/",
          "height": 34
        },
        "outputId": "4609bdf9-b1de-46d1-9354-8796ce90e5b5"
      },
      "source": [
        "A.union(B, C)  # Union of A, B and C."
      ],
      "execution_count": 26,
      "outputs": [
        {
          "output_type": "execute_result",
          "data": {
            "text/plain": [
              "{1, 2, 3, 4, 5, 6, 7, 8, 9, 10}"
            ]
          },
          "metadata": {
            "tags": []
          },
          "execution_count": 26
        }
      ]
    },
    {
      "cell_type": "code",
      "metadata": {
        "id": "23Idrg6XWYw9",
        "colab_type": "code",
        "colab": {
          "base_uri": "https://localhost:8080/",
          "height": 34
        },
        "outputId": "76658e3b-dd47-4342-e32b-cb44af94020d"
      },
      "source": [
        "\"\"\"\n",
        "Updates the set calling the update() method with union of A , B & C. \n",
        "\n",
        "For below example Set A will be updated with union of A,B & C.\n",
        "\"\"\"\n",
        "A.update(B,C)\n",
        "A"
      ],
      "execution_count": 27,
      "outputs": [
        {
          "output_type": "execute_result",
          "data": {
            "text/plain": [
              "{1, 2, 3, 4, 5, 6, 7, 8, 9, 10}"
            ]
          },
          "metadata": {
            "tags": []
          },
          "execution_count": 27
        }
      ]
    },
    {
      "cell_type": "code",
      "metadata": {
        "id": "sGGDYyXhvS-4",
        "colab_type": "code",
        "colab": {}
      },
      "source": [
        "A = {1,2,3,4,5}\n",
        "B = {4,5,6,7,8}"
      ],
      "execution_count": 28,
      "outputs": []
    },
    {
      "cell_type": "code",
      "metadata": {
        "id": "r3Q5uICNvXLS",
        "colab_type": "code",
        "colab": {
          "base_uri": "https://localhost:8080/",
          "height": 34
        },
        "outputId": "03fa5ba9-b5ca-4580-b04e-3927824846ec"
      },
      "source": [
        "A & B  # Intersection of A and B (Common items in both sets)"
      ],
      "execution_count": 29,
      "outputs": [
        {
          "output_type": "execute_result",
          "data": {
            "text/plain": [
              "{4, 5}"
            ]
          },
          "metadata": {
            "tags": []
          },
          "execution_count": 29
        }
      ]
    },
    {
      "cell_type": "code",
      "metadata": {
        "id": "dqfWXV3HWVDX",
        "colab_type": "code",
        "colab": {}
      },
      "source": [
        "A = {1,2,3,4,5,6,7,8,9}\n",
        "B = {3,4,5,6,7,8}\n",
        "C = {10,20,30,40}"
      ],
      "execution_count": 30,
      "outputs": []
    },
    {
      "cell_type": "code",
      "metadata": {
        "id": "PFUskRZKvkOz",
        "colab_type": "code",
        "colab": {
          "base_uri": "https://localhost:8080/",
          "height": 34
        },
        "outputId": "8ab06525-aa02-4d62-c0f2-f45550da731f"
      },
      "source": [
        "B.issubset(A) # Set B is said to be the subset of set A if all elements of B are in A."
      ],
      "execution_count": 31,
      "outputs": [
        {
          "output_type": "execute_result",
          "data": {
            "text/plain": [
              "True"
            ]
          },
          "metadata": {
            "tags": []
          },
          "execution_count": 31
        }
      ]
    },
    {
      "cell_type": "code",
      "metadata": {
        "id": "VQBm6_9TvmfV",
        "colab_type": "code",
        "colab": {
          "base_uri": "https://localhost:8080/",
          "height": 34
        },
        "outputId": "3d9ba9d8-7c84-4a97-e21e-4e7ca1f7de17"
      },
      "source": [
        "A.issuperset(B) # Set A is said to be the superset of set B if all elements of B are in A."
      ],
      "execution_count": 32,
      "outputs": [
        {
          "output_type": "execute_result",
          "data": {
            "text/plain": [
              "True"
            ]
          },
          "metadata": {
            "tags": []
          },
          "execution_count": 32
        }
      ]
    },
    {
      "cell_type": "code",
      "metadata": {
        "id": "Gphjtg_2vpcy",
        "colab_type": "code",
        "colab": {
          "base_uri": "https://localhost:8080/",
          "height": 34
        },
        "outputId": "0d9bcdc4-12f2-498f-d6b6-f97dd557d2fc"
      },
      "source": [
        "C.isdisjoint(A) # Two sets are said to be disjoint sets if they have no common elements."
      ],
      "execution_count": 33,
      "outputs": [
        {
          "output_type": "execute_result",
          "data": {
            "text/plain": [
              "True"
            ]
          },
          "metadata": {
            "tags": []
          },
          "execution_count": 33
        }
      ]
    },
    {
      "cell_type": "code",
      "metadata": {
        "id": "hPEbD119vrdU",
        "colab_type": "code",
        "colab": {
          "base_uri": "https://localhost:8080/",
          "height": 34
        },
        "outputId": "6b5d85b6-4cde-4aef-b385-08732943eac8"
      },
      "source": [
        "B.isdisjoint(A) # Two sets are said to be disjoint sets if they have no common elements."
      ],
      "execution_count": 34,
      "outputs": [
        {
          "output_type": "execute_result",
          "data": {
            "text/plain": [
              "False"
            ]
          },
          "metadata": {
            "tags": []
          },
          "execution_count": 34
        }
      ]
    },
    {
      "cell_type": "code",
      "metadata": {
        "id": "1bmDlwUFvwIJ",
        "colab_type": "code",
        "colab": {
          "base_uri": "https://localhost:8080/",
          "height": 34
        },
        "outputId": "d23aeb9d-9bc0-49a4-a58a-9d24cec38c2b"
      },
      "source": [
        "A"
      ],
      "execution_count": 35,
      "outputs": [
        {
          "output_type": "execute_result",
          "data": {
            "text/plain": [
              "{1, 2, 3, 4, 5, 6, 7, 8, 9}"
            ]
          },
          "metadata": {
            "tags": []
          },
          "execution_count": 35
        }
      ]
    },
    {
      "cell_type": "code",
      "metadata": {
        "id": "cA4_iGyCvyXq",
        "colab_type": "code",
        "colab": {
          "base_uri": "https://localhost:8080/",
          "height": 34
        },
        "outputId": "e73f4d59-4978-48c0-faa4-175efd928277"
      },
      "source": [
        "sum(A)"
      ],
      "execution_count": 36,
      "outputs": [
        {
          "output_type": "execute_result",
          "data": {
            "text/plain": [
              "45"
            ]
          },
          "metadata": {
            "tags": []
          },
          "execution_count": 36
        }
      ]
    },
    {
      "cell_type": "code",
      "metadata": {
        "id": "Gba2Geiiv1YV",
        "colab_type": "code",
        "colab": {
          "base_uri": "https://localhost:8080/",
          "height": 34
        },
        "outputId": "99fa98d7-7ca0-4e71-9080-86ef4cd4cedf"
      },
      "source": [
        "max(A)"
      ],
      "execution_count": 37,
      "outputs": [
        {
          "output_type": "execute_result",
          "data": {
            "text/plain": [
              "9"
            ]
          },
          "metadata": {
            "tags": []
          },
          "execution_count": 37
        }
      ]
    },
    {
      "cell_type": "code",
      "metadata": {
        "id": "DYNDexk1v2gH",
        "colab_type": "code",
        "colab": {
          "base_uri": "https://localhost:8080/",
          "height": 34
        },
        "outputId": "baa4ffb5-ad5a-49d3-df07-30b20df45e8b"
      },
      "source": [
        "min(A)"
      ],
      "execution_count": 38,
      "outputs": [
        {
          "output_type": "execute_result",
          "data": {
            "text/plain": [
              "1"
            ]
          },
          "metadata": {
            "tags": []
          },
          "execution_count": 38
        }
      ]
    },
    {
      "cell_type": "code",
      "metadata": {
        "id": "kUmHZc1Ev41G",
        "colab_type": "code",
        "colab": {
          "base_uri": "https://localhost:8080/",
          "height": 34
        },
        "outputId": "cac06132-fc8e-4043-d486-2bc81766d9ba"
      },
      "source": [
        "len(A)"
      ],
      "execution_count": 39,
      "outputs": [
        {
          "output_type": "execute_result",
          "data": {
            "text/plain": [
              "9"
            ]
          },
          "metadata": {
            "tags": []
          },
          "execution_count": 39
        }
      ]
    },
    {
      "cell_type": "code",
      "metadata": {
        "id": "6ysZKuynv6O6",
        "colab_type": "code",
        "colab": {
          "base_uri": "https://localhost:8080/",
          "height": 34
        },
        "outputId": "8bfee211-c159-4d1a-a10d-7dbcbe380251"
      },
      "source": [
        "list(enumerate(A))"
      ],
      "execution_count": 40,
      "outputs": [
        {
          "output_type": "execute_result",
          "data": {
            "text/plain": [
              "[(0, 1), (1, 2), (2, 3), (3, 4), (4, 5), (5, 6), (6, 7), (7, 8), (8, 9)]"
            ]
          },
          "metadata": {
            "tags": []
          },
          "execution_count": 40
        }
      ]
    },
    {
      "cell_type": "code",
      "metadata": {
        "id": "P3J81b97v97t",
        "colab_type": "code",
        "colab": {
          "base_uri": "https://localhost:8080/",
          "height": 34
        },
        "outputId": "34aadb62-b93d-4678-f98d-d9c93851cd2d"
      },
      "source": [
        "D= sorted(A,reverse=True)\n",
        "D"
      ],
      "execution_count": 41,
      "outputs": [
        {
          "output_type": "execute_result",
          "data": {
            "text/plain": [
              "[9, 8, 7, 6, 5, 4, 3, 2, 1]"
            ]
          },
          "metadata": {
            "tags": []
          },
          "execution_count": 41
        }
      ]
    },
    {
      "cell_type": "code",
      "metadata": {
        "id": "fvWWjIctwBM2",
        "colab_type": "code",
        "colab": {
          "base_uri": "https://localhost:8080/",
          "height": 34
        },
        "outputId": "8ecee926-6b95-455b-d2fe-fe5a0f3513c6"
      },
      "source": [
        "sorted(D)"
      ],
      "execution_count": 42,
      "outputs": [
        {
          "output_type": "execute_result",
          "data": {
            "text/plain": [
              "[1, 2, 3, 4, 5, 6, 7, 8, 9]"
            ]
          },
          "metadata": {
            "tags": []
          },
          "execution_count": 42
        }
      ]
    },
    {
      "cell_type": "code",
      "metadata": {
        "id": "SGDew0gHwDZc",
        "colab_type": "code",
        "colab": {
          "base_uri": "https://localhost:8080/",
          "height": 34
        },
        "outputId": "522edfcd-21b6-4d6f-88ad-dd4764c18d30"
      },
      "source": [
        "mydict = dict() # empty dictionary\n",
        "mydict"
      ],
      "execution_count": 43,
      "outputs": [
        {
          "output_type": "execute_result",
          "data": {
            "text/plain": [
              "{}"
            ]
          },
          "metadata": {
            "tags": []
          },
          "execution_count": 43
        }
      ]
    },
    {
      "cell_type": "code",
      "metadata": {
        "id": "Vs6Xd7G4beTc",
        "colab_type": "code",
        "colab": {
          "base_uri": "https://localhost:8080/",
          "height": 34
        },
        "outputId": "b1288550-660b-43b5-e124-da1395ba39f5"
      },
      "source": [
        "mydict=dict({'one':1,'two':2,'three':3})# dictionary with character keys\n",
        "mydict"
      ],
      "execution_count": 44,
      "outputs": [
        {
          "output_type": "execute_result",
          "data": {
            "text/plain": [
              "{'one': 1, 'three': 3, 'two': 2}"
            ]
          },
          "metadata": {
            "tags": []
          },
          "execution_count": 44
        }
      ]
    },
    {
      "cell_type": "code",
      "metadata": {
        "id": "I9hRSg1mGjBV",
        "colab_type": "code",
        "colab": {
          "base_uri": "https://localhost:8080/",
          "height": 34
        },
        "outputId": "4446f223-4970-413e-d7bb-073453788fb2"
      },
      "source": [
        "mydict = {1:'one' , 'A':'two' , 3:'three'} # dictionary with mixed keys\n",
        "mydict"
      ],
      "execution_count": 45,
      "outputs": [
        {
          "output_type": "execute_result",
          "data": {
            "text/plain": [
              "{1: 'one', 3: 'three', 'A': 'two'}"
            ]
          },
          "metadata": {
            "tags": []
          },
          "execution_count": 45
        }
      ]
    },
    {
      "cell_type": "code",
      "metadata": {
        "id": "LF4R0UV7zsDI",
        "colab_type": "code",
        "colab": {
          "base_uri": "https://localhost:8080/",
          "height": 34
        },
        "outputId": "ec43baf0-1ad0-4c65-96bc-8967b0f2593c"
      },
      "source": [
        "mydict.keys() # Return Dictionary Keys using keys() method"
      ],
      "execution_count": 46,
      "outputs": [
        {
          "output_type": "execute_result",
          "data": {
            "text/plain": [
              "dict_keys([1, 'A', 3])"
            ]
          },
          "metadata": {
            "tags": []
          },
          "execution_count": 46
        }
      ]
    },
    {
      "cell_type": "code",
      "metadata": {
        "id": "vcFyY14wV5ks",
        "colab_type": "code",
        "colab": {
          "base_uri": "https://localhost:8080/",
          "height": 34
        },
        "outputId": "68b9d030-fd29-44af-ced0-0b8897a02d7d"
      },
      "source": [
        "mydict.values()"
      ],
      "execution_count": 47,
      "outputs": [
        {
          "output_type": "execute_result",
          "data": {
            "text/plain": [
              "dict_values(['one', 'two', 'three'])"
            ]
          },
          "metadata": {
            "tags": []
          },
          "execution_count": 47
        }
      ]
    },
    {
      "cell_type": "code",
      "metadata": {
        "id": "OmUh-QzfzymG",
        "colab_type": "code",
        "colab": {
          "base_uri": "https://localhost:8080/",
          "height": 34
        },
        "outputId": "24966c27-9f51-4099-a538-f2bcf4d43c66"
      },
      "source": [
        "mydict.items() # Access each key-value pair within a dictionary"
      ],
      "execution_count": 48,
      "outputs": [
        {
          "output_type": "execute_result",
          "data": {
            "text/plain": [
              "dict_items([(1, 'one'), ('A', 'two'), (3, 'three')])"
            ]
          },
          "metadata": {
            "tags": []
          },
          "execution_count": 48
        }
      ]
    },
    {
      "cell_type": "code",
      "metadata": {
        "id": "X1bHG9Dxz2v7",
        "colab_type": "code",
        "colab": {
          "base_uri": "https://localhost:8080/",
          "height": 34
        },
        "outputId": "89856fe3-8855-47f6-fe24-ac6f2434c384"
      },
      "source": [
        "mydict = {1:'one' , 2:'two' , 'A':['asif' , 'john' , 'Maria']} # dictionary with mixed keys\n",
        "mydict\n"
      ],
      "execution_count": 49,
      "outputs": [
        {
          "output_type": "execute_result",
          "data": {
            "text/plain": [
              "{1: 'one', 2: 'two', 'A': ['asif', 'john', 'Maria']}"
            ]
          },
          "metadata": {
            "tags": []
          },
          "execution_count": 49
        }
      ]
    },
    {
      "cell_type": "code",
      "metadata": {
        "id": "V3GkQmXEz6l3",
        "colab_type": "code",
        "colab": {
          "base_uri": "https://localhost:8080/",
          "height": 85
        },
        "outputId": "200bf582-6f72-4b67-ec62-9739f435cd68"
      },
      "source": [
        "mydict = {1:'one' , 2:'two' , 'A':['asif' , 'john' , 'Maria'],  'B':('Bat' , 'cat' , 'hat')} # dictionary with mixed keys\n",
        "mydict"
      ],
      "execution_count": 50,
      "outputs": [
        {
          "output_type": "execute_result",
          "data": {
            "text/plain": [
              "{1: 'one',\n",
              " 2: 'two',\n",
              " 'A': ['asif', 'john', 'Maria'],\n",
              " 'B': ('Bat', 'cat', 'hat')}"
            ]
          },
          "metadata": {
            "tags": []
          },
          "execution_count": 50
        }
      ]
    },
    {
      "cell_type": "code",
      "metadata": {
        "id": "YaytkfuJz-nj",
        "colab_type": "code",
        "colab": {
          "base_uri": "https://localhost:8080/",
          "height": 85
        },
        "outputId": "6a51dd61-6c4d-4627-c0c7-5f681d90ffc4"
      },
      "source": [
        "mydict = {1:'one' , 2:'two' , 'A':{'Name':'asif' , 'Age' :20},  'B':('Bat' , 'cat' , 'hat')} # dictionary with mixed keys\n",
        "mydict"
      ],
      "execution_count": 51,
      "outputs": [
        {
          "output_type": "execute_result",
          "data": {
            "text/plain": [
              "{1: 'one',\n",
              " 2: 'two',\n",
              " 'A': {'Age': 20, 'Name': 'asif'},\n",
              " 'B': ('Bat', 'cat', 'hat')}"
            ]
          },
          "metadata": {
            "tags": []
          },
          "execution_count": 51
        }
      ]
    },
    {
      "cell_type": "code",
      "metadata": {
        "id": "zN3QB8_l0Cl2",
        "colab_type": "code",
        "colab": {
          "base_uri": "https://localhost:8080/",
          "height": 34
        },
        "outputId": "2b04b524-959f-4d76-eb12-b20da432f5a1"
      },
      "source": [
        "keys = {'a' , 'b' , 'c' , 'd'}\n",
        "mydict3 = dict.fromkeys(keys)   # Create a dictionary from a sequence of keys\n",
        "mydict3"
      ],
      "execution_count": 52,
      "outputs": [
        {
          "output_type": "execute_result",
          "data": {
            "text/plain": [
              "{'a': None, 'b': None, 'c': None, 'd': None}"
            ]
          },
          "metadata": {
            "tags": []
          },
          "execution_count": 52
        }
      ]
    },
    {
      "cell_type": "code",
      "metadata": {
        "id": "QWUreu8i0I2H",
        "colab_type": "code",
        "colab": {
          "base_uri": "https://localhost:8080/",
          "height": 34
        },
        "outputId": "ee9cda85-937e-453f-f24e-fe004e54c8da"
      },
      "source": [
        "keys = {'a' , 'b' , 'c' , 'd'}\n",
        "value = [10,20,30]\n",
        "mydict3 = dict.fromkeys(keys , value)  # Create a dictionary from a sequence of keys with value list\n",
        "mydict3"
      ],
      "execution_count": 53,
      "outputs": [
        {
          "output_type": "execute_result",
          "data": {
            "text/plain": [
              "{'a': [10, 20, 30], 'b': [10, 20, 30], 'c': [10, 20, 30], 'd': [10, 20, 30]}"
            ]
          },
          "metadata": {
            "tags": []
          },
          "execution_count": 53
        }
      ]
    },
    {
      "cell_type": "code",
      "metadata": {
        "id": "N3swqb4f0NS4",
        "colab_type": "code",
        "colab": {
          "base_uri": "https://localhost:8080/",
          "height": 85
        },
        "outputId": "1a5bda8b-2a5c-41d4-97f9-e3fab8748272"
      },
      "source": [
        "value.append(40)\n",
        "mydict3"
      ],
      "execution_count": 54,
      "outputs": [
        {
          "output_type": "execute_result",
          "data": {
            "text/plain": [
              "{'a': [10, 20, 30, 40],\n",
              " 'b': [10, 20, 30, 40],\n",
              " 'c': [10, 20, 30, 40],\n",
              " 'd': [10, 20, 30, 40]}"
            ]
          },
          "metadata": {
            "tags": []
          },
          "execution_count": 54
        }
      ]
    },
    {
      "cell_type": "code",
      "metadata": {
        "id": "X3hI3pNe0TqT",
        "colab_type": "code",
        "colab": {
          "base_uri": "https://localhost:8080/",
          "height": 34
        },
        "outputId": "2e1a3e43-e402-4eb6-e546-9f767e8120bc"
      },
      "source": [
        "mydict = {1:'one' , 2:'two' , 3:'three' , 4:'four'}\n",
        "mydict"
      ],
      "execution_count": 55,
      "outputs": [
        {
          "output_type": "execute_result",
          "data": {
            "text/plain": [
              "{1: 'one', 2: 'two', 3: 'three', 4: 'four'}"
            ]
          },
          "metadata": {
            "tags": []
          },
          "execution_count": 55
        }
      ]
    },
    {
      "cell_type": "code",
      "metadata": {
        "id": "iT0QrsN40W3S",
        "colab_type": "code",
        "colab": {
          "base_uri": "https://localhost:8080/",
          "height": 35
        },
        "outputId": "3ca3a964-7274-4c82-8d58-6c6eb45b10ce"
      },
      "source": [
        "mydict[1] # Access item using key"
      ],
      "execution_count": 56,
      "outputs": [
        {
          "output_type": "execute_result",
          "data": {
            "application/vnd.google.colaboratory.intrinsic+json": {
              "type": "string"
            },
            "text/plain": [
              "'one'"
            ]
          },
          "metadata": {
            "tags": []
          },
          "execution_count": 56
        }
      ]
    },
    {
      "cell_type": "code",
      "metadata": {
        "id": "jWfaD8fD0ayY",
        "colab_type": "code",
        "colab": {
          "base_uri": "https://localhost:8080/",
          "height": 35
        },
        "outputId": "8435114f-8ab9-48c3-b172-3e53429f7f85"
      },
      "source": [
        "mydict.get(1) # Access item using get() method"
      ],
      "execution_count": 58,
      "outputs": [
        {
          "output_type": "execute_result",
          "data": {
            "application/vnd.google.colaboratory.intrinsic+json": {
              "type": "string"
            },
            "text/plain": [
              "'one'"
            ]
          },
          "metadata": {
            "tags": []
          },
          "execution_count": 58
        }
      ]
    },
    {
      "cell_type": "code",
      "metadata": {
        "id": "NZJ3TrLz0czX",
        "colab_type": "code",
        "colab": {
          "base_uri": "https://localhost:8080/",
          "height": 34
        },
        "outputId": "b261d300-d6aa-4f24-bdd7-7a1025c419db"
      },
      "source": [
        "mydict1 = {'Name':'Asif' , 'ID': 74123 , 'DOB': 1991 , 'job' :'Analyst'}\n",
        "mydict1"
      ],
      "execution_count": 59,
      "outputs": [
        {
          "output_type": "execute_result",
          "data": {
            "text/plain": [
              "{'DOB': 1991, 'ID': 74123, 'Name': 'Asif', 'job': 'Analyst'}"
            ]
          },
          "metadata": {
            "tags": []
          },
          "execution_count": 59
        }
      ]
    },
    {
      "cell_type": "code",
      "metadata": {
        "id": "alFMmARj0jVw",
        "colab_type": "code",
        "colab": {
          "base_uri": "https://localhost:8080/",
          "height": 35
        },
        "outputId": "f8c45258-1230-408c-cdc0-86bb330e85af"
      },
      "source": [
        "mydict1['Name']  # Access item using key"
      ],
      "execution_count": 60,
      "outputs": [
        {
          "output_type": "execute_result",
          "data": {
            "application/vnd.google.colaboratory.intrinsic+json": {
              "type": "string"
            },
            "text/plain": [
              "'Asif'"
            ]
          },
          "metadata": {
            "tags": []
          },
          "execution_count": 60
        }
      ]
    },
    {
      "cell_type": "code",
      "metadata": {
        "id": "ShyfWxze0nnd",
        "colab_type": "code",
        "colab": {
          "base_uri": "https://localhost:8080/",
          "height": 34
        },
        "outputId": "3179ca79-9b0e-4d48-ff84-43176fb1c94c"
      },
      "source": [
        "mydict1 = {'Name':'thiyagu' , 'ID': 12345 , 'DOB': 1991 , 'Address' : 'Hilsinki'}\n",
        "mydict1"
      ],
      "execution_count": 65,
      "outputs": [
        {
          "output_type": "execute_result",
          "data": {
            "text/plain": [
              "{'Address': 'Hilsinki', 'DOB': 1991, 'ID': 12345, 'Name': 'thiyagu'}"
            ]
          },
          "metadata": {
            "tags": []
          },
          "execution_count": 65
        }
      ]
    },
    {
      "cell_type": "code",
      "metadata": {
        "id": "W20U2Kd20uom",
        "colab_type": "code",
        "colab": {
          "base_uri": "https://localhost:8080/",
          "height": 34
        },
        "outputId": "8b8b62d8-c9a6-484a-f73e-b9edb9b7d02c"
      },
      "source": [
        "mydict1['DOB'] = 1992  # Changing Dictionary Items\n",
        "mydict1['Address'] = 'Delhi'\n",
        "mydict1"
      ],
      "execution_count": 66,
      "outputs": [
        {
          "output_type": "execute_result",
          "data": {
            "text/plain": [
              "{'Address': 'Delhi', 'DOB': 1992, 'ID': 12345, 'Name': 'thiyagu'}"
            ]
          },
          "metadata": {
            "tags": []
          },
          "execution_count": 66
        }
      ]
    },
    {
      "cell_type": "code",
      "metadata": {
        "id": "HXPdess20zUX",
        "colab_type": "code",
        "colab": {
          "base_uri": "https://localhost:8080/",
          "height": 34
        },
        "outputId": "20557c11-f641-4265-d396-23e031a95c95"
      },
      "source": [
        "dict1 = {'DOB':1995}\n",
        "mydict1.update(dict1)\n",
        "mydict1"
      ],
      "execution_count": 67,
      "outputs": [
        {
          "output_type": "execute_result",
          "data": {
            "text/plain": [
              "{'Address': 'Delhi', 'DOB': 1995, 'ID': 12345, 'Name': 'thiyagu'}"
            ]
          },
          "metadata": {
            "tags": []
          },
          "execution_count": 67
        }
      ]
    },
    {
      "cell_type": "code",
      "metadata": {
        "id": "XJG8Vf4T1VwO",
        "colab_type": "code",
        "colab": {
          "base_uri": "https://localhost:8080/",
          "height": 102
        },
        "outputId": "59f1be07-16e6-4a89-e6b0-8c03ea6852dd"
      },
      "source": [
        "mydict1['Job'] = 'Analyst' # Adding items in the dictionary\n",
        "mydict1"
      ],
      "execution_count": 68,
      "outputs": [
        {
          "output_type": "execute_result",
          "data": {
            "text/plain": [
              "{'Address': 'Delhi',\n",
              " 'DOB': 1995,\n",
              " 'ID': 12345,\n",
              " 'Job': 'Analyst',\n",
              " 'Name': 'thiyagu'}"
            ]
          },
          "metadata": {
            "tags": []
          },
          "execution_count": 68
        }
      ]
    },
    {
      "cell_type": "code",
      "metadata": {
        "id": "V1s3Dudz1dt5",
        "colab_type": "code",
        "colab": {
          "base_uri": "https://localhost:8080/",
          "height": 34
        },
        "outputId": "6dfffa65-19af-40dc-82cf-ca213b143131"
      },
      "source": [
        "mydict1.popitem() # A random item is removed\n",
        "mydict1"
      ],
      "execution_count": 69,
      "outputs": [
        {
          "output_type": "execute_result",
          "data": {
            "text/plain": [
              "{'Address': 'Delhi', 'DOB': 1995, 'ID': 12345, 'Name': 'thiyagu'}"
            ]
          },
          "metadata": {
            "tags": []
          },
          "execution_count": 69
        }
      ]
    },
    {
      "cell_type": "code",
      "metadata": {
        "id": "g0-4hK9z1iN2",
        "colab_type": "code",
        "colab": {
          "base_uri": "https://localhost:8080/",
          "height": 34
        },
        "outputId": "c7f332a5-0a98-43db-e7c6-d155621fb1ea"
      },
      "source": [
        "mydict1.pop('DOB') # Removing items in the dictionary using Pop method\n",
        "mydict1"
      ],
      "execution_count": 71,
      "outputs": [
        {
          "output_type": "execute_result",
          "data": {
            "text/plain": [
              "{'Address': 'Delhi', 'ID': 12345, 'Name': 'thiyagu'}"
            ]
          },
          "metadata": {
            "tags": []
          },
          "execution_count": 71
        }
      ]
    },
    {
      "cell_type": "code",
      "metadata": {
        "id": "mKi1-ezZ1nro",
        "colab_type": "code",
        "colab": {
          "base_uri": "https://localhost:8080/",
          "height": 34
        },
        "outputId": "2db0d58e-fca6-4fc4-cb41-9898008725b6"
      },
      "source": [
        "del[mydict1['ID']] # Removing item using del method\n",
        "mydict1"
      ],
      "execution_count": 72,
      "outputs": [
        {
          "output_type": "execute_result",
          "data": {
            "text/plain": [
              "{'Address': 'Delhi', 'Name': 'thiyagu'}"
            ]
          },
          "metadata": {
            "tags": []
          },
          "execution_count": 72
        }
      ]
    },
    {
      "cell_type": "code",
      "metadata": {
        "id": "AXV54zOg1yUM",
        "colab_type": "code",
        "colab": {
          "base_uri": "https://localhost:8080/",
          "height": 34
        },
        "outputId": "8a177066-131f-421b-be9a-94467e838ca6"
      },
      "source": [
        "mydict1.clear() # Delete all items of the dictionary using clear method\n",
        "mydict1"
      ],
      "execution_count": 73,
      "outputs": [
        {
          "output_type": "execute_result",
          "data": {
            "text/plain": [
              "{}"
            ]
          },
          "metadata": {
            "tags": []
          },
          "execution_count": 73
        }
      ]
    },
    {
      "cell_type": "code",
      "metadata": {
        "id": "mjFWMbUG11ab",
        "colab_type": "code",
        "colab": {
          "base_uri": "https://localhost:8080/",
          "height": 180
        },
        "outputId": "299d7594-0709-4cfe-96e6-f0311c0b9328"
      },
      "source": [
        "del mydict1 # Delete the dictionary object\n",
        "mydict1"
      ],
      "execution_count": 74,
      "outputs": [
        {
          "output_type": "error",
          "ename": "NameError",
          "evalue": "ignored",
          "traceback": [
            "\u001b[0;31m---------------------------------------------------------------------------\u001b[0m",
            "\u001b[0;31mNameError\u001b[0m                                 Traceback (most recent call last)",
            "\u001b[0;32m<ipython-input-74-da2fba4eca0f>\u001b[0m in \u001b[0;36m<module>\u001b[0;34m()\u001b[0m\n\u001b[1;32m      1\u001b[0m \u001b[0;32mdel\u001b[0m \u001b[0mmydict1\u001b[0m \u001b[0;31m# Delete the dictionary object\u001b[0m\u001b[0;34m\u001b[0m\u001b[0;34m\u001b[0m\u001b[0m\n\u001b[0;32m----> 2\u001b[0;31m \u001b[0mmydict1\u001b[0m\u001b[0;34m\u001b[0m\u001b[0;34m\u001b[0m\u001b[0m\n\u001b[0m",
            "\u001b[0;31mNameError\u001b[0m: name 'mydict1' is not defined"
          ]
        }
      ]
    },
    {
      "cell_type": "code",
      "metadata": {
        "id": "I927lIUZ145B",
        "colab_type": "code",
        "colab": {
          "base_uri": "https://localhost:8080/",
          "height": 34
        },
        "outputId": "6af6cb55-225f-43f0-902f-1246fdd8f51f"
      },
      "source": [
        "mydict = {'Name':'Asif' , 'ID': 12345 , 'DOB': 1991 , 'Address' : 'Hilsinki'}\n",
        "mydict"
      ],
      "execution_count": 75,
      "outputs": [
        {
          "output_type": "execute_result",
          "data": {
            "text/plain": [
              "{'Address': 'Hilsinki', 'DOB': 1991, 'ID': 12345, 'Name': 'Asif'}"
            ]
          },
          "metadata": {
            "tags": []
          },
          "execution_count": 75
        }
      ]
    },
    {
      "cell_type": "code",
      "metadata": {
        "id": "MId4F9_u19DB",
        "colab_type": "code",
        "colab": {}
      },
      "source": [
        "mydict1 = mydict # Create a new reference \"mydict1\""
      ],
      "execution_count": 76,
      "outputs": []
    },
    {
      "cell_type": "code",
      "metadata": {
        "id": "lCEkhSFa1_10",
        "colab_type": "code",
        "colab": {
          "base_uri": "https://localhost:8080/",
          "height": 34
        },
        "outputId": "d5e15712-ebdb-46d3-a7c0-f5124d7d4f01"
      },
      "source": [
        "id(mydict) , id(mydict1) # The address of both mydict & mydict1 will be the same as both are pointing to same dictionary."
      ],
      "execution_count": 77,
      "outputs": [
        {
          "output_type": "execute_result",
          "data": {
            "text/plain": [
              "(140115413699032, 140115413699032)"
            ]
          },
          "metadata": {
            "tags": []
          },
          "execution_count": 77
        }
      ]
    },
    {
      "cell_type": "code",
      "metadata": {
        "id": "WUy31Xkx2CSD",
        "colab_type": "code",
        "colab": {}
      },
      "source": [
        "mydict2 = mydict.copy() # Create a copy of the dictionary"
      ],
      "execution_count": 78,
      "outputs": []
    },
    {
      "cell_type": "code",
      "metadata": {
        "id": "M-xrYalX2Es3",
        "colab_type": "code",
        "colab": {
          "base_uri": "https://localhost:8080/",
          "height": 34
        },
        "outputId": "ec4d788f-0a09-414e-b95a-2f4c1cf0d131"
      },
      "source": [
        "id(mydict2) # The address of mydict2 will be different from mydict because mydict2 is pointing to the copy of the existing dict."
      ],
      "execution_count": 79,
      "outputs": [
        {
          "output_type": "execute_result",
          "data": {
            "text/plain": [
              "140115413698240"
            ]
          },
          "metadata": {
            "tags": []
          },
          "execution_count": 79
        }
      ]
    },
    {
      "cell_type": "code",
      "metadata": {
        "id": "U8LQ2S0j2G4-",
        "colab_type": "code",
        "colab": {
          "base_uri": "https://localhost:8080/",
          "height": 34
        },
        "outputId": "a328246f-3d9f-4ce6-dfa8-06e05a4c083b"
      },
      "source": [
        "mydict['Address'] = 'Mumbai'\n",
        "mydict"
      ],
      "execution_count": 81,
      "outputs": [
        {
          "output_type": "execute_result",
          "data": {
            "text/plain": [
              "{'Address': 'Mumbai', 'DOB': 1991, 'ID': 12345, 'Name': 'Asif'}"
            ]
          },
          "metadata": {
            "tags": []
          },
          "execution_count": 81
        }
      ]
    },
    {
      "cell_type": "code",
      "metadata": {
        "id": "ih5tya0Z2Nre",
        "colab_type": "code",
        "colab": {
          "base_uri": "https://localhost:8080/",
          "height": 34
        },
        "outputId": "d4998d7f-a0f4-4c72-cf32-77765e6d1119"
      },
      "source": [
        "mydict1 # mydict1 will be also impacted as it is pointing to the same dictionary"
      ],
      "execution_count": 82,
      "outputs": [
        {
          "output_type": "execute_result",
          "data": {
            "text/plain": [
              "{'Address': 'Mumbai', 'DOB': 1991, 'ID': 12345, 'Name': 'Asif'}"
            ]
          },
          "metadata": {
            "tags": []
          },
          "execution_count": 82
        }
      ]
    },
    {
      "cell_type": "code",
      "metadata": {
        "id": "o1SQzXBq2QZC",
        "colab_type": "code",
        "colab": {
          "base_uri": "https://localhost:8080/",
          "height": 34
        },
        "outputId": "70382c7b-66e4-4053-e9dd-1e4d936c9757"
      },
      "source": [
        "mydict2 # Copy of list won't be impacted due to the changes made in the original dictionary"
      ],
      "execution_count": 83,
      "outputs": [
        {
          "output_type": "execute_result",
          "data": {
            "text/plain": [
              "{'Address': 'Hilsinki', 'DOB': 1991, 'ID': 12345, 'Name': 'Asif'}"
            ]
          },
          "metadata": {
            "tags": []
          },
          "execution_count": 83
        }
      ]
    },
    {
      "cell_type": "code",
      "metadata": {
        "id": "7_eXDb2i2SuY",
        "colab_type": "code",
        "colab": {
          "base_uri": "https://localhost:8080/",
          "height": 102
        },
        "outputId": "86d74836-3ff8-44b5-abe1-94a93dac9c62"
      },
      "source": [
        "mydict1 = {'Name':'Thiyagu' , 'ID': 12345 , 'DOB': 1991 , 'Address' : 'Hilsinki' , 'Job': 'Analyst'}\n",
        "mydict1\n"
      ],
      "execution_count": 84,
      "outputs": [
        {
          "output_type": "execute_result",
          "data": {
            "text/plain": [
              "{'Address': 'Hilsinki',\n",
              " 'DOB': 1991,\n",
              " 'ID': 12345,\n",
              " 'Job': 'Analyst',\n",
              " 'Name': 'Thiyagu'}"
            ]
          },
          "metadata": {
            "tags": []
          },
          "execution_count": 84
        }
      ]
    },
    {
      "cell_type": "code",
      "metadata": {
        "id": "cD6etTg_PL5S",
        "colab_type": "code",
        "colab": {
          "base_uri": "https://localhost:8080/",
          "height": 102
        },
        "outputId": "0577a86b-3a7d-43a9-f796-32655e2a54d4"
      },
      "source": [
        "for i in mydict1:\n",
        "  print(i,\":\",mydict1[i])"
      ],
      "execution_count": 86,
      "outputs": [
        {
          "output_type": "stream",
          "text": [
            "Name : Thiyagu\n",
            "ID : 12345\n",
            "DOB : 1991\n",
            "Address : Hilsinki\n",
            "Job : Analyst\n"
          ],
          "name": "stdout"
        }
      ]
    },
    {
      "cell_type": "code",
      "metadata": {
        "id": "rsf5cURQPUwE",
        "colab_type": "code",
        "colab": {
          "base_uri": "https://localhost:8080/",
          "height": 102
        },
        "outputId": "25635edd-0b71-4100-8d7c-642ca3644da7"
      },
      "source": [
        "for i in mydict1:\n",
        "    print(mydict1[i]) # Dictionary items\n"
      ],
      "execution_count": 87,
      "outputs": [
        {
          "output_type": "stream",
          "text": [
            "Thiyagu\n",
            "12345\n",
            "1991\n",
            "Hilsinki\n",
            "Analyst\n"
          ],
          "name": "stdout"
        }
      ]
    },
    {
      "cell_type": "code",
      "metadata": {
        "id": "kMhgj9HoPbYj",
        "colab_type": "code",
        "colab": {
          "base_uri": "https://localhost:8080/",
          "height": 34
        },
        "outputId": "454316fe-6ab1-475e-e355-18723f554ef1"
      },
      "source": [
        "mydict1 = {'Name':'Thiyagu' , 'ID': 12345 , 'DOB': 1991 , 'Job': 'Analyst'}\n",
        "mydict1\n"
      ],
      "execution_count": 88,
      "outputs": [
        {
          "output_type": "execute_result",
          "data": {
            "text/plain": [
              "{'DOB': 1991, 'ID': 12345, 'Job': 'Analyst', 'Name': 'Thiyagu'}"
            ]
          },
          "metadata": {
            "tags": []
          },
          "execution_count": 88
        }
      ]
    },
    {
      "cell_type": "code",
      "metadata": {
        "id": "3F30xzwXPi5Q",
        "colab_type": "code",
        "colab": {
          "base_uri": "https://localhost:8080/",
          "height": 34
        },
        "outputId": "14481a06-4e7d-45d4-c35e-b53192a2dc1f"
      },
      "source": [
        "'Name'  in mydict1 # Membership test can be only done for keys."
      ],
      "execution_count": 90,
      "outputs": [
        {
          "output_type": "execute_result",
          "data": {
            "text/plain": [
              "True"
            ]
          },
          "metadata": {
            "tags": []
          },
          "execution_count": 90
        }
      ]
    },
    {
      "cell_type": "code",
      "metadata": {
        "id": "EvH588TmPqd5",
        "colab_type": "code",
        "colab": {
          "base_uri": "https://localhost:8080/",
          "height": 34
        },
        "outputId": "28ea558a-a43a-469f-d85a-52b462379f10"
      },
      "source": [
        "'ID' in mydict1"
      ],
      "execution_count": 91,
      "outputs": [
        {
          "output_type": "execute_result",
          "data": {
            "text/plain": [
              "True"
            ]
          },
          "metadata": {
            "tags": []
          },
          "execution_count": 91
        }
      ]
    },
    {
      "cell_type": "code",
      "metadata": {
        "id": "1G1Oae6WP2hH",
        "colab_type": "code",
        "colab": {
          "base_uri": "https://localhost:8080/",
          "height": 34
        },
        "outputId": "416c4e1b-d820-43a5-f9bb-c12abf599533"
      },
      "source": [
        "'Address' in mydict1"
      ],
      "execution_count": 92,
      "outputs": [
        {
          "output_type": "execute_result",
          "data": {
            "text/plain": [
              "False"
            ]
          },
          "metadata": {
            "tags": []
          },
          "execution_count": 92
        }
      ]
    },
    {
      "cell_type": "code",
      "metadata": {
        "id": "GCOZMsBRP5Ay",
        "colab_type": "code",
        "colab": {
          "base_uri": "https://localhost:8080/",
          "height": 34
        },
        "outputId": "0d6205e3-f516-4731-f5f3-8baa4fb1405c"
      },
      "source": [
        "mydict1 = {'Name':'Thiyagu' , 'ID': 12345 , 'DOB': 1991 , 'Job': 'Analyst'}\n",
        "mydict1"
      ],
      "execution_count": 93,
      "outputs": [
        {
          "output_type": "execute_result",
          "data": {
            "text/plain": [
              "{'DOB': 1991, 'ID': 12345, 'Job': 'Analyst', 'Name': 'Thiyagu'}"
            ]
          },
          "metadata": {
            "tags": []
          },
          "execution_count": 93
        }
      ]
    },
    {
      "cell_type": "code",
      "metadata": {
        "id": "Zq_bOT7gQAkm",
        "colab_type": "code",
        "colab": {
          "base_uri": "https://localhost:8080/",
          "height": 34
        },
        "outputId": "8ef26ccd-c28c-484d-be84-02ea2a406de2"
      },
      "source": [
        "all(mydict1) # Will Return false as one value is false (Value 0)"
      ],
      "execution_count": 95,
      "outputs": [
        {
          "output_type": "execute_result",
          "data": {
            "text/plain": [
              "True"
            ]
          },
          "metadata": {
            "tags": []
          },
          "execution_count": 95
        }
      ]
    },
    {
      "cell_type": "code",
      "metadata": {
        "id": "TK9SUmODQDw5",
        "colab_type": "code",
        "colab": {
          "base_uri": "https://localhost:8080/",
          "height": 34
        },
        "outputId": "a5dbfc87-315e-43c9-8e22-7c1f505fe89b"
      },
      "source": [
        "any(mydict1)  # Will Return True as we have items in the dictionary with True value"
      ],
      "execution_count": 96,
      "outputs": [
        {
          "output_type": "execute_result",
          "data": {
            "text/plain": [
              "True"
            ]
          },
          "metadata": {
            "tags": []
          },
          "execution_count": 96
        }
      ]
    },
    {
      "cell_type": "code",
      "metadata": {
        "id": "C4EEMdDOQKcZ",
        "colab_type": "code",
        "colab": {
          "base_uri": "https://localhost:8080/",
          "height": 34
        },
        "outputId": "4487fc93-4f7c-4399-af4e-d186e8f95151"
      },
      "source": [
        "mydict1[0] = 'test1'\n",
        "mydict1"
      ],
      "execution_count": 97,
      "outputs": [
        {
          "output_type": "execute_result",
          "data": {
            "text/plain": [
              "{0: 'test1', 'DOB': 1991, 'ID': 12345, 'Job': 'Analyst', 'Name': 'Thiyagu'}"
            ]
          },
          "metadata": {
            "tags": []
          },
          "execution_count": 97
        }
      ]
    },
    {
      "cell_type": "code",
      "metadata": {
        "id": "vIuPbr9WQOO6",
        "colab_type": "code",
        "colab": {
          "base_uri": "https://localhost:8080/",
          "height": 34
        },
        "outputId": "afabe216-64b6-4657-aa8c-0a6eb41f8025"
      },
      "source": [
        "all(mydict1) # Returns false as one value is false"
      ],
      "execution_count": 98,
      "outputs": [
        {
          "output_type": "execute_result",
          "data": {
            "text/plain": [
              "False"
            ]
          },
          "metadata": {
            "tags": []
          },
          "execution_count": 98
        }
      ]
    },
    {
      "cell_type": "code",
      "metadata": {
        "id": "WNwyaKWfQTeI",
        "colab_type": "code",
        "colab": {
          "base_uri": "https://localhost:8080/",
          "height": 34
        },
        "outputId": "6b450f8d-5e4b-4630-9788-fb6e274047de"
      },
      "source": [
        "double = {i:i*2 for i in range(10)}\n",
        "double"
      ],
      "execution_count": 100,
      "outputs": [
        {
          "output_type": "execute_result",
          "data": {
            "text/plain": [
              "{0: 0, 1: 2, 2: 4, 3: 6, 4: 8, 5: 10, 6: 12, 7: 14, 8: 16, 9: 18}"
            ]
          },
          "metadata": {
            "tags": []
          },
          "execution_count": 100
        }
      ]
    },
    {
      "cell_type": "code",
      "metadata": {
        "id": "T8ys7w7KQi7F",
        "colab_type": "code",
        "colab": {
          "base_uri": "https://localhost:8080/",
          "height": 34
        },
        "outputId": "18509b62-e067-4115-effe-706466699283"
      },
      "source": [
        "square = {i:i**2 for i in range(10)}\n",
        "square"
      ],
      "execution_count": 101,
      "outputs": [
        {
          "output_type": "execute_result",
          "data": {
            "text/plain": [
              "{0: 0, 1: 1, 2: 4, 3: 9, 4: 16, 5: 25, 6: 36, 7: 49, 8: 64, 9: 81}"
            ]
          },
          "metadata": {
            "tags": []
          },
          "execution_count": 101
        }
      ]
    },
    {
      "cell_type": "code",
      "metadata": {
        "id": "JLAp4qjaQmw-",
        "colab_type": "code",
        "colab": {
          "base_uri": "https://localhost:8080/",
          "height": 34
        },
        "outputId": "bc533284-c9b3-4f9b-aad4-b1531018870e"
      },
      "source": [
        "key = ['one' , 'two' , 'three' , 'four' , 'five']\n",
        "value = [1,2,3,4,5]\n",
        "\n",
        "mydict={k:v for (k,v) in zip(key,value)}\n",
        "mydict"
      ],
      "execution_count": 104,
      "outputs": [
        {
          "output_type": "execute_result",
          "data": {
            "text/plain": [
              "{'five': 5, 'four': 4, 'one': 1, 'three': 3, 'two': 2}"
            ]
          },
          "metadata": {
            "tags": []
          },
          "execution_count": 104
        }
      ]
    },
    {
      "cell_type": "code",
      "metadata": {
        "id": "X8ggo17NQ1g3",
        "colab_type": "code",
        "colab": {
          "base_uri": "https://localhost:8080/",
          "height": 34
        },
        "outputId": "d5d19fb7-b912-471a-d191-50909ddf7cb5"
      },
      "source": [
        "mydict1 = {'a':10 , 'b':20 , 'c':30 , 'd':40 , 'e':50}\n",
        "mydict1= {k:v/10 for (k,v) in mydict1.items()}\n",
        "mydict1"
      ],
      "execution_count": 103,
      "outputs": [
        {
          "output_type": "execute_result",
          "data": {
            "text/plain": [
              "{'a': 1.0, 'b': 2.0, 'c': 3.0, 'd': 4.0, 'e': 5.0}"
            ]
          },
          "metadata": {
            "tags": []
          },
          "execution_count": 103
        }
      ]
    },
    {
      "cell_type": "code",
      "metadata": {
        "id": "7FlXnzFdRHU6",
        "colab_type": "code",
        "colab": {
          "base_uri": "https://localhost:8080/",
          "height": 476
        },
        "outputId": "0f0c9301-40ce-41fc-da3b-2eeef06ccc04"
      },
      "source": [
        "str1 = \"Natural Language Processing\"\n",
        "mydict2= {k:v for (k,v) in enumerate(str1)}\n",
        "mydict2"
      ],
      "execution_count": 105,
      "outputs": [
        {
          "output_type": "execute_result",
          "data": {
            "text/plain": [
              "{0: 'N',\n",
              " 1: 'a',\n",
              " 2: 't',\n",
              " 3: 'u',\n",
              " 4: 'r',\n",
              " 5: 'a',\n",
              " 6: 'l',\n",
              " 7: ' ',\n",
              " 8: 'L',\n",
              " 9: 'a',\n",
              " 10: 'n',\n",
              " 11: 'g',\n",
              " 12: 'u',\n",
              " 13: 'a',\n",
              " 14: 'g',\n",
              " 15: 'e',\n",
              " 16: ' ',\n",
              " 17: 'P',\n",
              " 18: 'r',\n",
              " 19: 'o',\n",
              " 20: 'c',\n",
              " 21: 'e',\n",
              " 22: 's',\n",
              " 23: 's',\n",
              " 24: 'i',\n",
              " 25: 'n',\n",
              " 26: 'g'}"
            ]
          },
          "metadata": {
            "tags": []
          },
          "execution_count": 105
        }
      ]
    },
    {
      "cell_type": "code",
      "metadata": {
        "id": "2OOGDqFZThuc",
        "colab_type": "code",
        "colab": {
          "base_uri": "https://localhost:8080/",
          "height": 459
        },
        "outputId": "3452e118-24ad-49b1-ca88-e94caea2ac93"
      },
      "source": [
        "str1 = \"abcdefghijklmnopqrstuvwxyz\"\n",
        "mydict3= {i:i.upper() for i in str1} # Lower to Upper Case\n",
        "mydict3"
      ],
      "execution_count": 107,
      "outputs": [
        {
          "output_type": "execute_result",
          "data": {
            "text/plain": [
              "{'a': 'A',\n",
              " 'b': 'B',\n",
              " 'c': 'C',\n",
              " 'd': 'D',\n",
              " 'e': 'E',\n",
              " 'f': 'F',\n",
              " 'g': 'G',\n",
              " 'h': 'H',\n",
              " 'i': 'I',\n",
              " 'j': 'J',\n",
              " 'k': 'K',\n",
              " 'l': 'L',\n",
              " 'm': 'M',\n",
              " 'n': 'N',\n",
              " 'o': 'O',\n",
              " 'p': 'P',\n",
              " 'q': 'Q',\n",
              " 'r': 'R',\n",
              " 's': 'S',\n",
              " 't': 'T',\n",
              " 'u': 'U',\n",
              " 'v': 'V',\n",
              " 'w': 'W',\n",
              " 'x': 'X',\n",
              " 'y': 'Y',\n",
              " 'z': 'Z'}"
            ]
          },
          "metadata": {
            "tags": []
          },
          "execution_count": 107
        }
      ]
    },
    {
      "cell_type": "code",
      "metadata": {
        "id": "crvBPl00mDq0",
        "colab_type": "code",
        "colab": {}
      },
      "source": [
        "mystr4 = \"one two three four one two two three five five six seven six seven one one one ten eight ten nine eleven ten ten nine\""
      ],
      "execution_count": 40,
      "outputs": []
    },
    {
      "cell_type": "code",
      "metadata": {
        "id": "cFi5I9lrmdvb",
        "colab_type": "code",
        "colab": {
          "base_uri": "https://localhost:8080/",
          "height": 442
        },
        "outputId": "803e9304-03c3-4381-ad21-2c86c3e64b4f"
      },
      "source": [
        "mylist= mystr4.split() # Split String into substrings\n",
        "mylist"
      ],
      "execution_count": 41,
      "outputs": [
        {
          "output_type": "execute_result",
          "data": {
            "text/plain": [
              "['one',\n",
              " 'two',\n",
              " 'three',\n",
              " 'four',\n",
              " 'one',\n",
              " 'two',\n",
              " 'two',\n",
              " 'three',\n",
              " 'five',\n",
              " 'five',\n",
              " 'six',\n",
              " 'seven',\n",
              " 'six',\n",
              " 'seven',\n",
              " 'one',\n",
              " 'one',\n",
              " 'one',\n",
              " 'ten',\n",
              " 'eight',\n",
              " 'ten',\n",
              " 'nine',\n",
              " 'eleven',\n",
              " 'ten',\n",
              " 'ten',\n",
              " 'nine']"
            ]
          },
          "metadata": {
            "tags": []
          },
          "execution_count": 41
        }
      ]
    },
    {
      "cell_type": "code",
      "metadata": {
        "id": "kMOrk-8FmmEU",
        "colab_type": "code",
        "colab": {
          "base_uri": "https://localhost:8080/",
          "height": 204
        },
        "outputId": "fd289037-37c2-401d-9e52-02cd6959790f"
      },
      "source": [
        "mylist1 = set(mylist) # Unique values in a list\n",
        "mylist1 = list (mylist1)\n",
        "mylist1"
      ],
      "execution_count": 42,
      "outputs": [
        {
          "output_type": "execute_result",
          "data": {
            "text/plain": [
              "['three',\n",
              " 'nine',\n",
              " 'six',\n",
              " 'eleven',\n",
              " 'one',\n",
              " 'four',\n",
              " 'two',\n",
              " 'ten',\n",
              " 'seven',\n",
              " 'five',\n",
              " 'eight']"
            ]
          },
          "metadata": {
            "tags": []
          },
          "execution_count": 42
        }
      ]
    },
    {
      "cell_type": "code",
      "metadata": {
        "id": "g5v1Kf6DmtVE",
        "colab_type": "code",
        "colab": {
          "base_uri": "https://localhost:8080/",
          "height": 34
        },
        "outputId": "4c99b36d-0488-405a-f493-be7351446b73"
      },
      "source": [
        "# Calculate frequenct of each word\n",
        "count1 = [0] * len(mylist1)\n",
        "mydict5 =dict()\n",
        "for i in range(len(mylist1)):\n",
        "  for j in range(len(mylist)):\n",
        "    if mylist[i] == mylist[j]:\n",
        "      count1[i] += 1\n",
        "    mydict5[mylist1[i]] = count1[i]\n",
        "print(mydict5)\n",
        "  "
      ],
      "execution_count": 43,
      "outputs": [
        {
          "output_type": "stream",
          "text": [
            "{'three': 5, 'nine': 3, 'six': 2, 'eleven': 1, 'one': 5, 'four': 3, 'two': 3, 'ten': 2, 'seven': 2, 'five': 2, 'eight': 2}\n"
          ],
          "name": "stdout"
        }
      ]
    },
    {
      "cell_type": "code",
      "metadata": {
        "id": "4MNdrlvrr7Cl",
        "colab_type": "code",
        "colab": {
          "base_uri": "https://localhost:8080/",
          "height": 34
        },
        "outputId": "d3a9b5c8-1e39-434d-e129-5bace2fef4a3"
      },
      "source": [
        "count2= [0] *len(mylist1)\n",
        "mydict5 = dict()\n",
        "for i in range(len(mylist1)):\n",
        "  for j in range(len(mylist)):\n",
        "    if mylist1[i] == mylist[j]:\n",
        "      count2[i] += 1\n",
        "    mydict5[mylist1[i]] =count2[i]\n",
        "print(mydict5)\n",
        "\n"
      ],
      "execution_count": 47,
      "outputs": [
        {
          "output_type": "stream",
          "text": [
            "{'three': 2, 'nine': 2, 'six': 2, 'eleven': 1, 'one': 5, 'four': 1, 'two': 3, 'ten': 4, 'seven': 2, 'five': 2, 'eight': 1}\n"
          ],
          "name": "stdout"
        }
      ]
    },
    {
      "cell_type": "code",
      "metadata": {
        "id": "KDRgbZb0sr0O",
        "colab_type": "code",
        "colab": {}
      },
      "source": [
        "mystr4 = \"one two three four one two two three five five six seven six seven one one one ten eight ten nine eleven ten ten nine\""
      ],
      "execution_count": 1,
      "outputs": []
    },
    {
      "cell_type": "code",
      "metadata": {
        "id": "3cGqE3uMgmlW",
        "colab_type": "code",
        "colab": {}
      },
      "source": [
        "mylist=mystr4.split()"
      ],
      "execution_count": 2,
      "outputs": []
    },
    {
      "cell_type": "code",
      "metadata": {
        "id": "Adw2FmnvgstZ",
        "colab_type": "code",
        "colab": {
          "base_uri": "https://localhost:8080/",
          "height": 442
        },
        "outputId": "fbc562a4-85b7-4614-af25-ae141382639a"
      },
      "source": [
        "mylist"
      ],
      "execution_count": 3,
      "outputs": [
        {
          "output_type": "execute_result",
          "data": {
            "text/plain": [
              "['one',\n",
              " 'two',\n",
              " 'three',\n",
              " 'four',\n",
              " 'one',\n",
              " 'two',\n",
              " 'two',\n",
              " 'three',\n",
              " 'five',\n",
              " 'five',\n",
              " 'six',\n",
              " 'seven',\n",
              " 'six',\n",
              " 'seven',\n",
              " 'one',\n",
              " 'one',\n",
              " 'one',\n",
              " 'ten',\n",
              " 'eight',\n",
              " 'ten',\n",
              " 'nine',\n",
              " 'eleven',\n",
              " 'ten',\n",
              " 'ten',\n",
              " 'nine']"
            ]
          },
          "metadata": {
            "tags": []
          },
          "execution_count": 3
        }
      ]
    },
    {
      "cell_type": "code",
      "metadata": {
        "id": "Dh0_mhvWquj_",
        "colab_type": "code",
        "colab": {
          "base_uri": "https://localhost:8080/",
          "height": 204
        },
        "outputId": "06d5c742-58c1-47ca-c6b9-8693c7f16d1f"
      },
      "source": [
        "mylist1=set(mylist)\n",
        "mylist1= list(mylist1)\n",
        "mylist1"
      ],
      "execution_count": 4,
      "outputs": [
        {
          "output_type": "execute_result",
          "data": {
            "text/plain": [
              "['eight',\n",
              " 'six',\n",
              " 'one',\n",
              " 'two',\n",
              " 'three',\n",
              " 'four',\n",
              " 'seven',\n",
              " 'five',\n",
              " 'ten',\n",
              " 'nine',\n",
              " 'eleven']"
            ]
          },
          "metadata": {
            "tags": []
          },
          "execution_count": 4
        }
      ]
    },
    {
      "cell_type": "code",
      "metadata": {
        "id": "vY8L63e7hIRt",
        "colab_type": "code",
        "colab": {
          "base_uri": "https://localhost:8080/",
          "height": 34
        },
        "outputId": "6d90cec6-2d45-4e16-fe94-f76fa52205f0"
      },
      "source": [
        "count2= [0] *len(mylist1)\n",
        "mydict6 = dict()\n",
        "for i in range(len(mylist1)):\n",
        "  for j in range(len(mylist)):\n",
        "    if mylist1[i] == mylist[j]:\n",
        "      count2[i] += 1\n",
        "    mydict6[mylist1[i]] =count2[i]\n",
        "print(mydict6)"
      ],
      "execution_count": 5,
      "outputs": [
        {
          "output_type": "stream",
          "text": [
            "{'eight': 1, 'six': 2, 'one': 5, 'two': 3, 'three': 2, 'four': 1, 'seven': 2, 'five': 2, 'ten': 4, 'nine': 2, 'eleven': 1}\n"
          ],
          "name": "stdout"
        }
      ]
    },
    {
      "cell_type": "code",
      "metadata": {
        "id": "nzZ6fGcKl9o9",
        "colab_type": "code",
        "colab": {}
      },
      "source": [
        ""
      ],
      "execution_count": null,
      "outputs": []
    },
    {
      "cell_type": "code",
      "metadata": {
        "id": "hQ8sVcHfp9wZ",
        "colab_type": "code",
        "colab": {
          "base_uri": "https://localhost:8080/",
          "height": 34
        },
        "outputId": "e78aefc5-e313-4df8-f4b4-7aec7424f642"
      },
      "source": [
        "count2= [0] *len(mylist1)\n",
        "mydict6 = dict()\n",
        "for i in range(len(mylist1)):\n",
        "  for j in range(len(mylist)):\n",
        "    if mylist1[i] == mylist[j]:\n",
        "      count2[i] += 1\n",
        "    mydict6[mylist1[i]] =count2[i]\n",
        "print(mydict6)\n",
        "\n"
      ],
      "execution_count": 14,
      "outputs": [
        {
          "output_type": "stream",
          "text": [
            "{'one': 1, 'two': 1, 'three': 1, 'four': 1, 'five': 1, 'six': 1, 'seven': 1, 'ten': 1, 'eight': 1, 'nine': 1, 'eleven': 1}\n"
          ],
          "name": "stdout"
        }
      ]
    },
    {
      "cell_type": "code",
      "metadata": {
        "id": "RO46FXw7p5x-",
        "colab_type": "code",
        "colab": {
          "base_uri": "https://localhost:8080/",
          "height": 289
        },
        "outputId": "6557c647-0d75-4c5b-d612-abe46785866c"
      },
      "source": [
        "a = 5\n",
        "b = 2\n",
        "\n",
        "x = 'Asif'\n",
        "y = 'Bhat'\n",
        "\n",
        "# Addition\n",
        "c = a + b\n",
        "print('Addition of {} and {} will give :- {}\\n'.format(a,b,c))\n",
        "\n",
        "#Concatenate string using plus operator\n",
        "z = x+y\n",
        "print ('Concatenate string \\'x\\' and \\'y\\' using \\'+\\' operaotr :- {}\\n'.format(z))\n",
        "  \n",
        "# Subtraction\n",
        "c = a - b\n",
        "print('Subtracting {} from {} will give :- {}\\n'.format(b,a,c))\n",
        "  \n",
        "# Multiplication\n",
        "c = a * b  \n",
        "print('Multiplying {} and {} will give :- {}\\n'.format(a,b,c))\n",
        "  \n",
        "# Division\n",
        "c = a / b\n",
        "print('Dividing {} by {} will give :- {}\\n'.format(a,b,c))\n",
        "  \n",
        "# Modulo of both number  \n",
        "c = a % b\n",
        "print('Modulo of {} , {} will give :- {}\\n'.format(a,b,c))\n",
        "  \n",
        "# Power \n",
        "c = a ** b \n",
        "print('{} raised to the power {} will give :- {}\\n'.format(a,b,c))\n",
        "\n",
        "# Division(floor)\n",
        "c = a // b\n",
        "print('Floor division of {} by {} will give :- {}\\n'.format(a,b,c))\n"
      ],
      "execution_count": 8,
      "outputs": [
        {
          "output_type": "stream",
          "text": [
            "Addition of 5 and 2 will give :- 7\n",
            "\n",
            "Concatenate string 'x' and 'y' using '+' operaotr :- AsifBhat\n",
            "\n",
            "Subtracting 2 from 5 will give :- 3\n",
            "\n",
            "Multiplying 5 and 2 will give :- 10\n",
            "\n",
            "Dividing 5 by 2 will give :- 2.5\n",
            "\n",
            "Modulo of 5 , 2 will give :- 1\n",
            "\n",
            "5 raised to the power 2 will give :- 25\n",
            "\n",
            "Floor division of 5 by 2 will give :- 2\n",
            "\n"
          ],
          "name": "stdout"
        }
      ]
    },
    {
      "cell_type": "code",
      "metadata": {
        "id": "EB_Rb52ipIGd",
        "colab_type": "code",
        "colab": {
          "base_uri": "https://localhost:8080/",
          "height": 204
        },
        "outputId": "b6fc841e-db57-436a-8056-358646e4a2fe"
      },
      "source": [
        "x = 20\n",
        "y = 30\n",
        "\n",
        "print('Is x greater than y :- ',x>y)\n",
        "\n",
        "print('\\nIs x less than  y :- ',x<y)\n",
        "\n",
        "print('\\nIs x equal to  y :- ',x==y)\n",
        "\n",
        "print('\\nIs x not equal to y :- ',x!=y)\n",
        "\n",
        "print('\\nIs x greater than or equal to y :- ',x>=y)\n",
        "\n",
        "print('\\nIs x less than or equal to y :- ',x<=y)"
      ],
      "execution_count": 9,
      "outputs": [
        {
          "output_type": "stream",
          "text": [
            "Is x greater than y :-  False\n",
            "\n",
            "Is x less than  y :-  True\n",
            "\n",
            "Is x equal to  y :-  False\n",
            "\n",
            "Is x not equal to y :-  True\n",
            "\n",
            "Is x greater than or equal to y :-  False\n",
            "\n",
            "Is x less than or equal to y :-  True\n"
          ],
          "name": "stdout"
        }
      ]
    },
    {
      "cell_type": "code",
      "metadata": {
        "id": "pUh_nULtqsZx",
        "colab_type": "code",
        "colab": {
          "base_uri": "https://localhost:8080/",
          "height": 204
        },
        "outputId": "e5fe22e7-8cbe-4783-eb87-db35f65d9091"
      },
      "source": [
        "x = 20\n",
        "y = 30\n",
        "\n",
        "print('Is x greater than y :- ',x>y)\n",
        "\n",
        "print('\\nIs x less than  y :- ',x<y)\n",
        "\n",
        "print('\\nIs x equal to  y :- ',x==y)\n",
        "\n",
        "print('\\nIs x not equal to y :- ',x!=y)\n",
        "\n",
        "print('\\nIs x greater than or equal to y :- ',x>=y)\n",
        "\n",
        "print('\\nIs x less than or equal to y :- ',x<=y)"
      ],
      "execution_count": 10,
      "outputs": [
        {
          "output_type": "stream",
          "text": [
            "Is x greater than y :-  False\n",
            "\n",
            "Is x less than  y :-  True\n",
            "\n",
            "Is x equal to  y :-  False\n",
            "\n",
            "Is x not equal to y :-  True\n",
            "\n",
            "Is x greater than or equal to y :-  False\n",
            "\n",
            "Is x less than or equal to y :-  True\n"
          ],
          "name": "stdout"
        }
      ]
    },
    {
      "cell_type": "code",
      "metadata": {
        "id": "-Yg9sVUSqz70",
        "colab_type": "code",
        "colab": {
          "base_uri": "https://localhost:8080/",
          "height": 68
        },
        "outputId": "6815cfa9-17b0-41a6-d8a4-43e0f70ef5aa"
      },
      "source": [
        "x = True\n",
        "y = False\n",
        "\n",
        "print('Logical AND operation :- ',x and y) # True if both values are true\n",
        "print('Logical OR operation :- ',x or y) # True if either of the values is true\n",
        "print('NOT operation :- ',not x ) # True if operand is false"
      ],
      "execution_count": 1,
      "outputs": [
        {
          "output_type": "stream",
          "text": [
            "Logical AND operation :-  False\n",
            "Logical OR operation :-  True\n",
            "NOT operation :-  False\n"
          ],
          "name": "stdout"
        }
      ]
    },
    {
      "cell_type": "code",
      "metadata": {
        "id": "Ep7hdEINFgC7",
        "colab_type": "code",
        "colab": {
          "base_uri": "https://localhost:8080/",
          "height": 119
        },
        "outputId": "06ac239a-4101-43d1-d75c-eb07cc28ca7a"
      },
      "source": [
        "x = 18  # binary form 10010\n",
        "y = 6  # binary form 00110\n",
        "\n",
        "print('Bitwise AND operation - {}'.format(x&y))\n",
        "print('Bitwise OR operation - {}'.format(x|y))\n",
        "print('Bitwise XOR operation - {}'.format(x^y))\n",
        "print('Bitwise NOT operation - {}'.format(~x))\n",
        "print('Bitwise right shift operation - {}'.format(x>>2))\n",
        "print('Bitwise left shift operation - {}'.format(x<<2))"
      ],
      "execution_count": 2,
      "outputs": [
        {
          "output_type": "stream",
          "text": [
            "Bitwise AND operation - 2\n",
            "Bitwise OR operation - 22\n",
            "Bitwise XOR operation - 20\n",
            "Bitwise NOT operation - -19\n",
            "Bitwise right shift operation - 4\n",
            "Bitwise left shift operation - 72\n"
          ],
          "name": "stdout"
        }
      ]
    },
    {
      "cell_type": "code",
      "metadata": {
        "id": "1QbUHYCgJhuy",
        "colab_type": "code",
        "colab": {
          "base_uri": "https://localhost:8080/",
          "height": 238
        },
        "outputId": "67bf8e0f-7d72-4e86-b7ff-bc5e1bb75212"
      },
      "source": [
        "10\n",
        "\n",
        "print('Initialize x with value 10 (x=10)) :- ',x)\n",
        "\n",
        "\n",
        "x+=20 # x = x+20\n",
        "print ('Add 20 to x :- ',x)\n",
        "\n",
        "\n",
        "x-=20 # x = x-20\n",
        "print ('subtract 20 from x :- ',x)\n",
        "\n",
        "\n",
        "x/=10 # x = x/10\n",
        "print ('Divide x by 10 :- ',x)\n",
        "\n",
        "\n",
        "\n",
        "x*=10 # x = x/10\n",
        "print ('Multiply x by 10 :- ',x)\n",
        "\n",
        "x = int(x)\n",
        "\n",
        "\n",
        "x**=2 # x = x/10\n",
        "print ('x raised to the power 2 :- ',x)\n",
        "\n",
        "\n",
        "\n",
        "x%=2\n",
        "print ('Modulo Division :- ',x)\n",
        "\n",
        "\n",
        "x = 20\n",
        "\n",
        "\n",
        "x//=3\n",
        "print ('Floor Division :- ',x)\n",
        "\n",
        "\n",
        "x&=2\n",
        "print('Bitwise AND :- ',x)\n",
        "\n",
        "\n",
        "x|=2\n",
        "print('Bitwise OR :- ',x)\n",
        "\n",
        "\n",
        "x^=2\n",
        "print('Bitwise XOR :- ',x)\n",
        "\n",
        "\n",
        "x = 10\n",
        "\n",
        "\n",
        "x<<=2\n",
        "print('Bitwise left shift operation',x)\n",
        "\n",
        "\n",
        "x>>=2\n",
        "print('Bitwise right shift operation',x)\n"
      ],
      "execution_count": 3,
      "outputs": [
        {
          "output_type": "stream",
          "text": [
            "Initialize x with value 10 (x=10)) :-  18\n",
            "Add 20 to x :-  38\n",
            "subtract 20 from x :-  18\n",
            "Divide x by 10 :-  1.8\n",
            "Multiply x by 10 :-  18.0\n",
            "x raised to the power 2 :-  324\n",
            "Modulo Division :-  0\n",
            "Floor Division :-  6\n",
            "Bitwise AND :-  2\n",
            "Bitwise OR :-  2\n",
            "Bitwise XOR :-  0\n",
            "Bitwise left shift operation 40\n",
            "Bitwise right shift operation 10\n"
          ],
          "name": "stdout"
        }
      ]
    },
    {
      "cell_type": "code",
      "metadata": {
        "id": "EU76ZCR7Tpnq",
        "colab_type": "code",
        "colab": {
          "base_uri": "https://localhost:8080/",
          "height": 34
        },
        "outputId": "52f6c438-7b51-4b96-b255-25d0386fdab6"
      },
      "source": [
        "mystr = 'Asif Ali Bhat'\n",
        "\n",
        "'Asif' in mystr , 'John' in mystr\n"
      ],
      "execution_count": 4,
      "outputs": [
        {
          "output_type": "execute_result",
          "data": {
            "text/plain": [
              "(True, False)"
            ]
          },
          "metadata": {
            "tags": []
          },
          "execution_count": 4
        }
      ]
    },
    {
      "cell_type": "code",
      "metadata": {
        "id": "tLD9aMxYVomJ",
        "colab_type": "code",
        "colab": {
          "base_uri": "https://localhost:8080/",
          "height": 34
        },
        "outputId": "6023dd5d-727a-497a-b567-35474a586e24"
      },
      "source": [
        "mystr = 'Asif Ali Bhat'\n",
        "\n",
        "'Asif' not in mystr , 'John' not in mystr"
      ],
      "execution_count": 5,
      "outputs": [
        {
          "output_type": "execute_result",
          "data": {
            "text/plain": [
              "(False, True)"
            ]
          },
          "metadata": {
            "tags": []
          },
          "execution_count": 5
        }
      ]
    },
    {
      "cell_type": "code",
      "metadata": {
        "id": "oIaSib61VsHj",
        "colab_type": "code",
        "colab": {
          "base_uri": "https://localhost:8080/",
          "height": 34
        },
        "outputId": "aabfb442-37c1-4434-f97f-2ee1646529d2"
      },
      "source": [
        "def myfunc():\n",
        "  print(\"Hello Python Lovers\")\n",
        "myfunc()"
      ],
      "execution_count": 6,
      "outputs": [
        {
          "output_type": "stream",
          "text": [
            "Hello Python Lovers\n"
          ],
          "name": "stdout"
        }
      ]
    },
    {
      "cell_type": "code",
      "metadata": {
        "id": "wNkVFycEZbeE",
        "colab_type": "code",
        "colab": {
          "base_uri": "https://localhost:8080/",
          "height": 68
        },
        "outputId": "1861cff5-16d2-4df8-88a1-3cddeca3060e"
      },
      "source": [
        "def details(name,userid,country):\n",
        "  print('Name :- ', name)\n",
        "  print('User ID is :- ', userid)\n",
        "  \n",
        "  print('Country :- ',country)\n",
        "    \n",
        "details('Asif' , 'asif123' , 'India')"
      ],
      "execution_count": 8,
      "outputs": [
        {
          "output_type": "stream",
          "text": [
            "Name :-  Asif\n",
            "User ID is :-  asif123\n",
            "Country :-  India\n"
          ],
          "name": "stdout"
        }
      ]
    },
    {
      "cell_type": "code",
      "metadata": {
        "id": "DHONN_4gbKh5",
        "colab_type": "code",
        "colab": {}
      },
      "source": [
        "def square(n):\n",
        "  return n * n"
      ],
      "execution_count": 9,
      "outputs": []
    },
    {
      "cell_type": "code",
      "metadata": {
        "id": "Sy1VTvo8e9z9",
        "colab_type": "code",
        "colab": {
          "base_uri": "https://localhost:8080/",
          "height": 34
        },
        "outputId": "96c246c7-0f65-4d0b-b128-ce7b5fca34ca"
      },
      "source": [
        "square (10)"
      ],
      "execution_count": 10,
      "outputs": [
        {
          "output_type": "execute_result",
          "data": {
            "text/plain": [
              "100"
            ]
          },
          "metadata": {
            "tags": []
          },
          "execution_count": 10
        }
      ]
    },
    {
      "cell_type": "code",
      "metadata": {
        "id": "LKNS6fhdfCgq",
        "colab_type": "code",
        "colab": {
          "base_uri": "https://localhost:8080/",
          "height": 68
        },
        "outputId": "37751723-352c-4463-9cf1-c792360c1c19"
      },
      "source": [
        "def even_odd(n):\n",
        "  \"\"\" This function will check whether a number is even or odd\"\"\"\n",
        "  if n%2 ==0:\n",
        "    print (n, ' is even number')\n",
        "  else:\n",
        "      print (n, ' is odd number')\n",
        "\n",
        "even_odd(3)\n",
        "even_odd(4)\n",
        "print(even_odd.__doc__) # Print function documentation string"
      ],
      "execution_count": 12,
      "outputs": [
        {
          "output_type": "stream",
          "text": [
            "3  is odd number\n",
            "4  is even number\n",
            " This function will check whether a number is even or odd\n"
          ],
          "name": "stdout"
        }
      ]
    },
    {
      "cell_type": "code",
      "metadata": {
        "id": "zfj2-3mDqXPE",
        "colab_type": "code",
        "colab": {
          "base_uri": "https://localhost:8080/",
          "height": 34
        },
        "outputId": "e04b0e36-a3a6-497b-bd86-31f1a338488b"
      },
      "source": [
        "def fullname (firstname , middlename ,lastname): #Concatenate Strings\n",
        "    fullname = \"{} {} {}\".format(firstname,middlename,lastname)\n",
        "    print (fullname)\n",
        "\n",
        "fullname('Asif' , 'Ali' , 'Bhat')"
      ],
      "execution_count": 13,
      "outputs": [
        {
          "output_type": "stream",
          "text": [
            "Asif Ali Bhat\n"
          ],
          "name": "stdout"
        }
      ]
    },
    {
      "cell_type": "code",
      "metadata": {
        "id": "dzpsl5zirj1-",
        "colab_type": "code",
        "colab": {
          "base_uri": "https://localhost:8080/",
          "height": 34
        },
        "outputId": "3abfcda8-4478-485a-ff96-a24cf177b148"
      },
      "source": [
        "def fullname (firstname , middlename ,lastname): #Concatenate Strings\n",
        "    fullname = \"{} {} {}\".format(firstname,middlename,lastname)\n",
        "    print (fullname)\n",
        "\n",
        "fullname(lastname = 'Bhat' , middlename='Ali' , firstname='Asif') # Keyword Arguments. Order of the arguments does not matter."
      ],
      "execution_count": 14,
      "outputs": [
        {
          "output_type": "stream",
          "text": [
            "Asif Ali Bhat\n"
          ],
          "name": "stdout"
        }
      ]
    },
    {
      "cell_type": "code",
      "metadata": {
        "id": "9bgOpCzQrngu",
        "colab_type": "code",
        "colab": {
          "base_uri": "https://localhost:8080/",
          "height": 163
        },
        "outputId": "304f42d3-6188-409f-b190-60148b21f90c"
      },
      "source": [
        "fullname ('Asif') # This will throw error as function is expecting 3 arguments."
      ],
      "execution_count": 15,
      "outputs": [
        {
          "output_type": "error",
          "ename": "TypeError",
          "evalue": "ignored",
          "traceback": [
            "\u001b[0;31m---------------------------------------------------------------------------\u001b[0m",
            "\u001b[0;31mTypeError\u001b[0m                                 Traceback (most recent call last)",
            "\u001b[0;32m<ipython-input-15-f1bc0f7761f1>\u001b[0m in \u001b[0;36m<module>\u001b[0;34m()\u001b[0m\n\u001b[0;32m----> 1\u001b[0;31m \u001b[0mfullname\u001b[0m \u001b[0;34m(\u001b[0m\u001b[0;34m'Asif'\u001b[0m\u001b[0;34m)\u001b[0m \u001b[0;31m# This will throw error as function is expecting 3 arguments.\u001b[0m\u001b[0;34m\u001b[0m\u001b[0;34m\u001b[0m\u001b[0m\n\u001b[0m",
            "\u001b[0;31mTypeError\u001b[0m: fullname() missing 2 required positional arguments: 'middlename' and 'lastname'"
          ]
        }
      ]
    },
    {
      "cell_type": "code",
      "metadata": {
        "id": "y3qVlFHWr_3j",
        "colab_type": "code",
        "colab": {
          "base_uri": "https://localhost:8080/",
          "height": 34
        },
        "outputId": "182c4b21-55fb-43fb-db3f-4881ca5b0c4f"
      },
      "source": [
        "def myfunc(city = 'Mumbai'):\n",
        "    print('Most Populous City :- ', city)\n",
        "    \n",
        "myfunc() # When a function is called without an argument it will use default value\n"
      ],
      "execution_count": 16,
      "outputs": [
        {
          "output_type": "stream",
          "text": [
            "Most Populous City :-  Mumbai\n"
          ],
          "name": "stdout"
        }
      ]
    },
    {
      "cell_type": "code",
      "metadata": {
        "id": "IN4WuAvetKpS",
        "colab_type": "code",
        "colab": {
          "base_uri": "https://localhost:8080/",
          "height": 51
        },
        "outputId": "c168c9ee-048d-4bb4-fbb4-fced141d0754"
      },
      "source": [
        "var1 = 100 # Variable with Global scope.\n",
        "\n",
        "def myfunc():\n",
        "    print(var1) # Value 100 will be displayed due to global scope of var1\n",
        "\n",
        "    \n",
        "myfunc()\n",
        "print(var1)"
      ],
      "execution_count": 17,
      "outputs": [
        {
          "output_type": "stream",
          "text": [
            "100\n",
            "100\n"
          ],
          "name": "stdout"
        }
      ]
    },
    {
      "cell_type": "code",
      "metadata": {
        "id": "0P9H74wrAfqf",
        "colab_type": "code",
        "colab": {
          "base_uri": "https://localhost:8080/",
          "height": 333
        },
        "outputId": "538db449-9e76-4229-c4b3-92aeea93a6d1"
      },
      "source": [
        "def myfunc1():\n",
        "    var2 = 10  # Variable with Local scope\n",
        "    print(var2)\n",
        "\n",
        "def myfunc2():\n",
        "    print(var2) # This will throw error because var2 has a local scope. Var2 is only accessible in myfunc1()\n",
        "\n",
        "myfunc1()\n",
        "myfunc2()\n"
      ],
      "execution_count": 19,
      "outputs": [
        {
          "output_type": "stream",
          "text": [
            "10\n"
          ],
          "name": "stdout"
        },
        {
          "output_type": "error",
          "ename": "NameError",
          "evalue": "ignored",
          "traceback": [
            "\u001b[0;31m---------------------------------------------------------------------------\u001b[0m",
            "\u001b[0;31mNameError\u001b[0m                                 Traceback (most recent call last)",
            "\u001b[0;32m<ipython-input-19-b5216c20c16f>\u001b[0m in \u001b[0;36m<module>\u001b[0;34m()\u001b[0m\n\u001b[1;32m      7\u001b[0m \u001b[0;34m\u001b[0m\u001b[0m\n\u001b[1;32m      8\u001b[0m \u001b[0mmyfunc1\u001b[0m\u001b[0;34m(\u001b[0m\u001b[0;34m)\u001b[0m\u001b[0;34m\u001b[0m\u001b[0;34m\u001b[0m\u001b[0m\n\u001b[0;32m----> 9\u001b[0;31m \u001b[0mmyfunc2\u001b[0m\u001b[0;34m(\u001b[0m\u001b[0;34m)\u001b[0m\u001b[0;34m\u001b[0m\u001b[0;34m\u001b[0m\u001b[0m\n\u001b[0m",
            "\u001b[0;32m<ipython-input-19-b5216c20c16f>\u001b[0m in \u001b[0;36mmyfunc2\u001b[0;34m()\u001b[0m\n\u001b[1;32m      4\u001b[0m \u001b[0;34m\u001b[0m\u001b[0m\n\u001b[1;32m      5\u001b[0m \u001b[0;32mdef\u001b[0m \u001b[0mmyfunc2\u001b[0m\u001b[0;34m(\u001b[0m\u001b[0;34m)\u001b[0m\u001b[0;34m:\u001b[0m\u001b[0;34m\u001b[0m\u001b[0;34m\u001b[0m\u001b[0m\n\u001b[0;32m----> 6\u001b[0;31m     \u001b[0mprint\u001b[0m\u001b[0;34m(\u001b[0m\u001b[0mvar2\u001b[0m\u001b[0;34m)\u001b[0m \u001b[0;31m# This will throw error because var2 has a local scope. Var2 is only accessible in myfunc1()\u001b[0m\u001b[0;34m\u001b[0m\u001b[0;34m\u001b[0m\u001b[0m\n\u001b[0m\u001b[1;32m      7\u001b[0m \u001b[0;34m\u001b[0m\u001b[0m\n\u001b[1;32m      8\u001b[0m \u001b[0mmyfunc1\u001b[0m\u001b[0;34m(\u001b[0m\u001b[0;34m)\u001b[0m\u001b[0;34m\u001b[0m\u001b[0;34m\u001b[0m\u001b[0m\n",
            "\u001b[0;31mNameError\u001b[0m: name 'var2' is not defined"
          ]
        }
      ]
    },
    {
      "cell_type": "code",
      "metadata": {
        "id": "fj372xfaAmXY",
        "colab_type": "code",
        "colab": {
          "base_uri": "https://localhost:8080/",
          "height": 51
        },
        "outputId": "640ba7a0-c8e7-47ab-f521-86214663265a"
      },
      "source": [
        "var1 = 100 # Variable with Global scope.\n",
        "\n",
        "def myfunc():\n",
        "    var1 = 99  # Local scope\n",
        "    print(var1)\n",
        "\n",
        "    \n",
        "myfunc()  \n",
        "print(var1) # The original value of var1 (100) will be retained due to global scope.\n"
      ],
      "execution_count": 20,
      "outputs": [
        {
          "output_type": "stream",
          "text": [
            "99\n",
            "100\n"
          ],
          "name": "stdout"
        }
      ]
    },
    {
      "cell_type": "code",
      "metadata": {
        "id": "IRRAUVDNQg9k",
        "colab_type": "code",
        "colab": {
          "base_uri": "https://localhost:8080/",
          "height": 51
        },
        "outputId": "82bcf563-6eb4-4302-f4b7-af2b21ec6000"
      },
      "source": [
        "list1 = [11,22,33,44,55]\n",
        "\n",
        "def myfunc(list1):\n",
        "    del list1[0]\n",
        "\n",
        "print('\"List1\" before calling the function:- ',list1)\n",
        "myfunc(list1)  # Pass by reference (Any change in the parameter within the function is reflected back in the calling function.)\n",
        "print('\"List1\" after calling the function:- ',list1)"
      ],
      "execution_count": 21,
      "outputs": [
        {
          "output_type": "stream",
          "text": [
            "\"List1\" before calling the function:-  [11, 22, 33, 44, 55]\n",
            "\"List1\" after calling the function:-  [22, 33, 44, 55]\n"
          ],
          "name": "stdout"
        }
      ]
    },
    {
      "cell_type": "code",
      "metadata": {
        "id": "BJWF0pyjBCLm",
        "colab_type": "code",
        "colab": {
          "base_uri": "https://localhost:8080/",
          "height": 51
        },
        "outputId": "bcc6da57-d07a-479f-e69d-0267eb1a1b8d"
      },
      "source": [
        "list1 = [11,22,33,44,55]\n",
        "\n",
        "def myfunc(list1):\n",
        "    list1.append(100)\n",
        "\n",
        "print('\"List1\" before calling the function:- ',list1)\n",
        "myfunc(list1)  # Pass by reference (Any change in the parameter within the function is reflected back in the calling function.)\n",
        "print('\"List1\" after calling the function:- ',list1)"
      ],
      "execution_count": 22,
      "outputs": [
        {
          "output_type": "stream",
          "text": [
            "\"List1\" before calling the function:-  [11, 22, 33, 44, 55]\n",
            "\"List1\" after calling the function:-  [11, 22, 33, 44, 55, 100]\n"
          ],
          "name": "stdout"
        }
      ]
    },
    {
      "cell_type": "code",
      "metadata": {
        "id": "L9wgOl_i2KwM",
        "colab_type": "code",
        "colab": {
          "base_uri": "https://localhost:8080/",
          "height": 51
        },
        "outputId": "6e2f100a-96f0-4bb4-816b-4d6100da264c"
      },
      "source": [
        "list1 = [11,22,33,44,55]\n",
        "\n",
        "def myfunc(list1):\n",
        "    list1 = [10,100,1000,10000] # link of 'list1' with previous object is broken now as new object is assigned to 'list1'.\n",
        "\n",
        "print('\"List1\" before calling the function:- ',list1)\n",
        "myfunc(list1)  # Pass by reference (Any change in the parameter within the function is reflected back in the calling function.)\n",
        "print('\"List1\" after calling the function:- ',list1)"
      ],
      "execution_count": 23,
      "outputs": [
        {
          "output_type": "stream",
          "text": [
            "\"List1\" before calling the function:-  [11, 22, 33, 44, 55]\n",
            "\"List1\" after calling the function:-  [11, 22, 33, 44, 55]\n"
          ],
          "name": "stdout"
        }
      ]
    },
    {
      "cell_type": "code",
      "metadata": {
        "id": "5AzoT9xeHi3-",
        "colab_type": "code",
        "colab": {
          "base_uri": "https://localhost:8080/",
          "height": 34
        },
        "outputId": "1a116a0d-95fd-42fb-fe39-020212eb37e8"
      },
      "source": [
        "def swap(a,b):\n",
        "    temp = a\n",
        "    a = b      # link of 'a' with previous object is broken now as new object is assigned to 'a'. \n",
        "    b = temp   # link of 'b' with previous object is broken now as new object is assigned to 'b'. \n",
        "\n",
        "a = 10\n",
        "b = 20\n",
        "swap(a,b)\n",
        "a,b"
      ],
      "execution_count": 24,
      "outputs": [
        {
          "output_type": "execute_result",
          "data": {
            "text/plain": [
              "(10, 20)"
            ]
          },
          "metadata": {
            "tags": []
          },
          "execution_count": 24
        }
      ]
    },
    {
      "cell_type": "code",
      "metadata": {
        "id": "3LYZhyouHnf6",
        "colab_type": "code",
        "colab": {
          "base_uri": "https://localhost:8080/",
          "height": 34
        },
        "outputId": "1eb8e50d-11dc-43e0-f01b-c6ae66703903"
      },
      "source": [
        "def factorial(num):\n",
        "  if num <=1:\n",
        "    return 1\n",
        "  else:\n",
        "    return num * factorial(num-1)\n",
        "factorial(4)"
      ],
      "execution_count": 27,
      "outputs": [
        {
          "output_type": "execute_result",
          "data": {
            "text/plain": [
              "24"
            ]
          },
          "metadata": {
            "tags": []
          },
          "execution_count": 27
        }
      ]
    },
    {
      "cell_type": "code",
      "metadata": {
        "id": "kaeEq9qV0r3r",
        "colab_type": "code",
        "colab": {
          "base_uri": "https://localhost:8080/",
          "height": 34
        },
        "outputId": "932c5a94-1aa4-427d-a4da-2be55df07a39"
      },
      "source": [
        "def add(num):# Sum of first n natural numbers\n",
        "  if num ==0:\n",
        "    return 0\n",
        "  else:\n",
        "    return num + add(num-1)\n",
        "add(5) # Sum of first five natural numbers (1,2,3,4,5)"
      ],
      "execution_count": 28,
      "outputs": [
        {
          "output_type": "execute_result",
          "data": {
            "text/plain": [
              "15"
            ]
          },
          "metadata": {
            "tags": []
          },
          "execution_count": 28
        }
      ]
    },
    {
      "cell_type": "code",
      "metadata": {
        "id": "ZHb9GlXIT9Vp",
        "colab_type": "code",
        "colab": {
          "base_uri": "https://localhost:8080/",
          "height": 119
        },
        "outputId": "cf164bc6-b00c-462b-a4ab-4c761844d441"
      },
      "source": [
        "def fiboaaci(num):\n",
        "  if num <=1:\n",
        "    return num\n",
        "  if num == 2:\n",
        "    return 1\n",
        "  else:\n",
        "    return (fiboaaci(num-1)+fiboaaci(num-2))\n",
        "nums = int(input(\"How many fibonacci numbers you want to generate -\"))\n",
        "\n",
        "\n",
        "\n",
        "for i in range(nums):\n",
        "    print(fiboaaci(i))  # Generate Fibonacci series\n"
      ],
      "execution_count": 31,
      "outputs": [
        {
          "output_type": "stream",
          "text": [
            "How many fibonacci numbers you want to generate -5\n",
            "0\n",
            "1\n",
            "1\n",
            "2\n",
            "3\n"
          ],
          "name": "stdout"
        }
      ]
    },
    {
      "cell_type": "code",
      "metadata": {
        "id": "4tyNPbsbLYTJ",
        "colab_type": "code",
        "colab": {
          "base_uri": "https://localhost:8080/",
          "height": 34
        },
        "outputId": "3bf8e57a-9999-4653-a853-f5c4c0f863b8"
      },
      "source": [
        "def add(a,b,c):\n",
        "    return a+b+c\n",
        "    \n",
        "print(add(10,20,30)) # Sum of two numbers"
      ],
      "execution_count": 32,
      "outputs": [
        {
          "output_type": "stream",
          "text": [
            "60\n"
          ],
          "name": "stdout"
        }
      ]
    },
    {
      "cell_type": "code",
      "metadata": {
        "id": "Y7wpoQYlMag_",
        "colab_type": "code",
        "colab": {
          "base_uri": "https://localhost:8080/",
          "height": 146
        },
        "outputId": "56940ee4-0f86-4c43-c9a3-13a3a23ab133"
      },
      "source": [
        "print(add(1,2,3,4)) '''This will throw below error as this function will only take two argumengts. \n",
        "If we want to make argument list dynamic then *args wil come in picture'''"
      ],
      "execution_count": 33,
      "outputs": [
        {
          "output_type": "error",
          "ename": "SyntaxError",
          "evalue": "ignored",
          "traceback": [
            "\u001b[0;36m  File \u001b[0;32m\"<ipython-input-33-565d47b69332>\"\u001b[0;36m, line \u001b[0;32m2\u001b[0m\n\u001b[0;31m    If we want to make argument list dynamic then *args wil come in picture'''\u001b[0m\n\u001b[0m                                                                              \n^\u001b[0m\n\u001b[0;31mSyntaxError\u001b[0m\u001b[0;31m:\u001b[0m invalid syntax\n"
          ]
        }
      ]
    },
    {
      "cell_type": "code",
      "metadata": {
        "id": "KqmhPDUHMeOq",
        "colab_type": "code",
        "colab": {
          "base_uri": "https://localhost:8080/",
          "height": 68
        },
        "outputId": "28b92391-8779-4724-bd1f-572e25792295"
      },
      "source": [
        "def some_args(arg_1, arg_2, arg_3):\n",
        "    print(\"arg_1:\", arg_1)\n",
        "    print(\"arg_2:\", arg_2)\n",
        "    print(\"arg_3:\", arg_3)\n",
        "\n",
        "my_list = [2, 3]\n",
        "some_args(1, *my_list)"
      ],
      "execution_count": 37,
      "outputs": [
        {
          "output_type": "stream",
          "text": [
            "arg_1: 1\n",
            "arg_2: 2\n",
            "arg_3: 3\n"
          ],
          "name": "stdout"
        }
      ]
    },
    {
      "cell_type": "code",
      "metadata": {
        "id": "3Ki3_aUrM3uf",
        "colab_type": "code",
        "colab": {
          "base_uri": "https://localhost:8080/",
          "height": 102
        },
        "outputId": "fa024030-f484-4814-bd79-2b4ca5f35bb8"
      },
      "source": [
        "def add(*args):\n",
        "    return sum(args)\n",
        "\n",
        "print(add(1,2,3))\n",
        "print(add(1,2,3,4))  # *args will take dynamic argument list. So add() function will perform addition of any number of arguments\n",
        "print(add(1,2,3,4,5))\n",
        "print(add(1,2,3,4,5,6))\n",
        "print(add(1,2,3,4,5,6,7))\n"
      ],
      "execution_count": 49,
      "outputs": [
        {
          "output_type": "stream",
          "text": [
            "6\n",
            "10\n",
            "15\n",
            "21\n",
            "28\n"
          ],
          "name": "stdout"
        }
      ]
    },
    {
      "cell_type": "code",
      "metadata": {
        "id": "CSVnTMl_bfik",
        "colab_type": "code",
        "colab": {
          "base_uri": "https://localhost:8080/",
          "height": 102
        },
        "outputId": "957af1ab-b9ea-4baf-faa5-01a45fb0eb38"
      },
      "source": [
        "def add(*args):\n",
        "  sum=0\n",
        "  for i in args:\n",
        "    sum += i\n",
        "  return sum\n",
        "\n",
        "print(add(1,2,3))\n",
        "print(add(1,2,3,4))  # *args will take dynamic argument list. So add() function will perform addition of any number of arguments\n",
        "print(add(1,2,3,4,5))\n",
        "print(add(1,2,3,4,5,6))\n",
        "print(add(1,2,3,4,5,6,7))\n"
      ],
      "execution_count": 51,
      "outputs": [
        {
          "output_type": "stream",
          "text": [
            "6\n",
            "10\n",
            "15\n",
            "21\n",
            "28\n"
          ],
          "name": "stdout"
        }
      ]
    },
    {
      "cell_type": "code",
      "metadata": {
        "id": "uurtmDzIM-zX",
        "colab_type": "code",
        "colab": {
          "base_uri": "https://localhost:8080/",
          "height": 34
        },
        "outputId": "c2a3695d-1425-4647-f3e8-a950c1dd3f47"
      },
      "source": [
        "list1 = [1,2,3,4,5,6,7]\n",
        "tuple1 = (1,2,3,4,5,6,7)\n",
        "\n",
        "add1(*list1) , add1(*tuple1) #tuple & list items will be passed as argument list and sum will be returned for both cases."
      ],
      "execution_count": 45,
      "outputs": [
        {
          "output_type": "execute_result",
          "data": {
            "text/plain": [
              "(28, 28)"
            ]
          },
          "metadata": {
            "tags": []
          },
          "execution_count": 45
        }
      ]
    },
    {
      "cell_type": "code",
      "metadata": {
        "id": "sHYR64kfZLUU",
        "colab_type": "code",
        "colab": {
          "base_uri": "https://localhost:8080/",
          "height": 34
        },
        "outputId": "4789677c-675f-4889-944e-363b10a113c6"
      },
      "source": [
        "def UserDetails(**kwargs):\n",
        "    print(kwargs)\n",
        "\n",
        "UserDetails(Name='Asif' , ID=7412 , Pincode=41102 , Age= 33 ,  Country= 'India' , Language= 'Hindi')\n"
      ],
      "execution_count": 46,
      "outputs": [
        {
          "output_type": "stream",
          "text": [
            "{'Name': 'Asif', 'ID': 7412, 'Pincode': 41102, 'Age': 33, 'Country': 'India', 'Language': 'Hindi'}\n"
          ],
          "name": "stdout"
        }
      ]
    },
    {
      "cell_type": "code",
      "metadata": {
        "id": "M4MkXONoZM0B",
        "colab_type": "code",
        "colab": {
          "base_uri": "https://localhost:8080/",
          "height": 119
        },
        "outputId": "8e051e07-6e06-412d-deef-f6b5b8097594"
      },
      "source": [
        "def UserDetails(**kwargs):\n",
        "    for key,val in kwargs.items():\n",
        "        print(\"{} :- {}\".format(key,val))\n",
        "\n",
        "UserDetails(Name='Asif' , ID=7412 , Pincode=41102 , Age= 33 ,  Country= 'India' , Language= 'Hindi')"
      ],
      "execution_count": 47,
      "outputs": [
        {
          "output_type": "stream",
          "text": [
            "Name :- Asif\n",
            "ID :- 7412\n",
            "Pincode :- 41102\n",
            "Age :- 33\n",
            "Country :- India\n",
            "Language :- Hindi\n"
          ],
          "name": "stdout"
        }
      ]
    },
    {
      "cell_type": "code",
      "metadata": {
        "id": "nxzQ_L8UZS4v",
        "colab_type": "code",
        "colab": {
          "base_uri": "https://localhost:8080/",
          "height": 119
        },
        "outputId": "e99af7bc-b376-466d-c1da-a7860f0c26cc"
      },
      "source": [
        "mydict = {'Name': 'Asif', 'ID': 7412, 'Pincode': 41102, 'Age': 33, 'Country': 'India', 'Language': 'Hindi'}\n",
        "\n",
        "UserDetails(**mydict)\n"
      ],
      "execution_count": 48,
      "outputs": [
        {
          "output_type": "stream",
          "text": [
            "Name :- Asif\n",
            "ID :- 7412\n",
            "Pincode :- 41102\n",
            "Age :- 33\n",
            "Country :- India\n",
            "Language :- Hindi\n"
          ],
          "name": "stdout"
        }
      ]
    },
    {
      "cell_type": "code",
      "metadata": {
        "id": "Hcwst4LsZXSo",
        "colab_type": "code",
        "colab": {}
      },
      "source": [
        ""
      ],
      "execution_count": null,
      "outputs": []
    },
    {
      "cell_type": "code",
      "metadata": {
        "id": "ZgpdaDawMh85",
        "colab_type": "code",
        "colab": {
          "base_uri": "https://localhost:8080/",
          "height": 34
        },
        "outputId": "3502c48e-e310-49a2-eb41-e8af879de5f8"
      },
      "source": [
        "list1 = [1,2,3,4,5,6,7]\n",
        "list2 = [1,2,3,4,5,6,7]\n",
        "list3 = [1,2,3,4,5,6,7]\n",
        "list4 = [1,2,3,4,5,6,7]\n",
        "\n",
        "add1(*list1 , *list2 , *list3 , *list4 ) #All four lists are unpacked and each individual item is passed to add1() function\n",
        "\n"
      ],
      "execution_count": 43,
      "outputs": [
        {
          "output_type": "execute_result",
          "data": {
            "text/plain": [
              "112"
            ]
          },
          "metadata": {
            "tags": []
          },
          "execution_count": 43
        }
      ]
    },
    {
      "cell_type": "code",
      "metadata": {
        "id": "8fCHdQnMWwAe",
        "colab_type": "code",
        "colab": {
          "base_uri": "https://localhost:8080/",
          "height": 34
        },
        "outputId": "9ef6d7d4-0bce-4929-aed7-a0dad69325b2"
      },
      "source": [
        "def UserDetails(*args):\n",
        "    print(args)\n",
        "\n",
        "UserDetails('Asif' , 7412 , 41102 , 33 ,  'India' , 'Hindi')"
      ],
      "execution_count": 44,
      "outputs": [
        {
          "output_type": "stream",
          "text": [
            "('Asif', 7412, 41102, 33, 'India', 'Hindi')\n"
          ],
          "name": "stdout"
        }
      ]
    },
    {
      "cell_type": "code",
      "metadata": {
        "id": "jiKbFgo9W3Iw",
        "colab_type": "code",
        "colab": {
          "base_uri": "https://localhost:8080/",
          "height": 170
        },
        "outputId": "a3461103-6415-449d-c500-d452197e7f42"
      },
      "source": [
        "def UserDetails(licenseNo,  *args , phoneNo=0 , **kwargs): # Using all four arguments types\n",
        "    print('License No :- ', licenseNo)\n",
        "    j=''\n",
        "    for i in args:\n",
        "        j = j+i\n",
        "    print('Full Name :-',j)\n",
        "    print('Phone Number:- ',phoneNo)\n",
        "    for key,val in kwargs.items():\n",
        "        print(\"{} :- {}\".format(key,val))\n",
        "        \n",
        "        \n",
        "name = ['Asif' , ' ' , 'Ali' , ' ','Bhat']\n",
        "mydict = {'Name': 'Asif', 'ID': 7412, 'Pincode': 41102, 'Age': 33, 'Country': 'India', 'Language': 'Hindi'}\n",
        "\n",
        "UserDetails('BHT145' , *name , phoneNo=1234567890,**mydict )"
      ],
      "execution_count": 52,
      "outputs": [
        {
          "output_type": "stream",
          "text": [
            "License No :-  BHT145\n",
            "Full Name :- Asif Ali Bhat\n",
            "Phone Number:-  1234567890\n",
            "Name :- Asif\n",
            "ID :- 7412\n",
            "Pincode :- 41102\n",
            "Age :- 33\n",
            "Country :- India\n",
            "Language :- Hindi\n"
          ],
          "name": "stdout"
        }
      ]
    },
    {
      "cell_type": "code",
      "metadata": {
        "id": "3E1CJ8S8cxla",
        "colab_type": "code",
        "colab": {}
      },
      "source": [
        "def UserDetails(licenseNo, *args , phoneNo=0, **kwargs): # Using all four arguments types. CORRECT ORDER\n",
        "    print('Nothing')"
      ],
      "execution_count": 53,
      "outputs": []
    },
    {
      "cell_type": "code",
      "metadata": {
        "id": "nPBYUte3c-Mu",
        "colab_type": "code",
        "colab": {
          "base_uri": "https://localhost:8080/",
          "height": 129
        },
        "outputId": "4b3e1526-f9df-4f2f-8c5e-c4863a0e26e1"
      },
      "source": [
        "def UserDetails(licenseNo, **kwargs , *args): # This will fail. *args MUST come before **kwargs in the argument list\n",
        "    print('Nothing')\n"
      ],
      "execution_count": 54,
      "outputs": [
        {
          "output_type": "error",
          "ename": "SyntaxError",
          "evalue": "ignored",
          "traceback": [
            "\u001b[0;36m  File \u001b[0;32m\"<ipython-input-54-dcd3c92277bc>\"\u001b[0;36m, line \u001b[0;32m1\u001b[0m\n\u001b[0;31m    def UserDetails(licenseNo, **kwargs , *args): # This will fail. *args MUST come before **kwargs in the argument list\u001b[0m\n\u001b[0m                                          ^\u001b[0m\n\u001b[0;31mSyntaxError\u001b[0m\u001b[0;31m:\u001b[0m invalid syntax\n"
          ]
        }
      ]
    },
    {
      "cell_type": "code",
      "metadata": {
        "id": "eMrsyG2MdA5x",
        "colab_type": "code",
        "colab": {
          "base_uri": "https://localhost:8080/",
          "height": 129
        },
        "outputId": "3c04edff-a7cd-4362-8067-71c31c570a58"
      },
      "source": [
        "#The below function will fail. Default argument/positional argument (licenseNo) MUST come before Keyword argument(ID)\n",
        "def UserDetails(ID = 1, licenseNo, *args):\n",
        "    print('Nothing')\n"
      ],
      "execution_count": 55,
      "outputs": [
        {
          "output_type": "error",
          "ename": "SyntaxError",
          "evalue": "ignored",
          "traceback": [
            "\u001b[0;36m  File \u001b[0;32m\"<ipython-input-55-8a3e722c7ed7>\"\u001b[0;36m, line \u001b[0;32m2\u001b[0m\n\u001b[0;31m    def UserDetails(ID = 1, licenseNo, *args):\u001b[0m\n\u001b[0m                   ^\u001b[0m\n\u001b[0;31mSyntaxError\u001b[0m\u001b[0;31m:\u001b[0m non-default argument follows default argument\n"
          ]
        }
      ]
    },
    {
      "cell_type": "code",
      "metadata": {
        "id": "SMd5qm2dfNaf",
        "colab_type": "code",
        "colab": {
          "base_uri": "https://localhost:8080/",
          "height": 34
        },
        "outputId": "d0818291-de2f-4f72-bfd5-ab08a0eb07ec"
      },
      "source": [
        "addition= lambda a : a+10 # This lambda function adds value 10 to an argument.\n",
        "print(addition(5))"
      ],
      "execution_count": 1,
      "outputs": [
        {
          "output_type": "stream",
          "text": [
            "15\n"
          ],
          "name": "stdout"
        }
      ]
    },
    {
      "cell_type": "code",
      "metadata": {
        "id": "l2V5E7sGAKGm",
        "colab_type": "code",
        "colab": {
          "base_uri": "https://localhost:8080/",
          "height": 34
        },
        "outputId": "6904bbf2-c6fd-4964-d313-27c1037cc0fe"
      },
      "source": [
        "product = lambda a, b : a * b #This lambda function takes two arguments (a,b) and returns their product (a*b).\n",
        "print(product(5, 6))\n"
      ],
      "execution_count": 2,
      "outputs": [
        {
          "output_type": "stream",
          "text": [
            "30\n"
          ],
          "name": "stdout"
        }
      ]
    },
    {
      "cell_type": "code",
      "metadata": {
        "id": "IAwh4jJ0Ki6w",
        "colab_type": "code",
        "colab": {
          "base_uri": "https://localhost:8080/",
          "height": 34
        },
        "outputId": "7baf2e66-4ee2-446c-bd02-907689fb7204"
      },
      "source": [
        "addition = lambda a, b, c : a + b + c  #This lambda function takes three arguments (a,b,c) and returns their sum (a+b+c).\n",
        "print(addition(5, 6, 2))"
      ],
      "execution_count": 3,
      "outputs": [
        {
          "output_type": "stream",
          "text": [
            "13\n"
          ],
          "name": "stdout"
        }
      ]
    },
    {
      "cell_type": "code",
      "metadata": {
        "id": "cQUx8gYMKmWq",
        "colab_type": "code",
        "colab": {
          "base_uri": "https://localhost:8080/",
          "height": 34
        },
        "outputId": "67748c3d-13e5-45c2-b188-2db877f1e46e"
      },
      "source": [
        "res = (lambda *args: sum(args))  # This lambda function can take any number of arguments and return thier sum.\n",
        "res(10,20) , res(10,20,30,40) ,  res(10,20,30,40,50,60,70)\n"
      ],
      "execution_count": 5,
      "outputs": [
        {
          "output_type": "execute_result",
          "data": {
            "text/plain": [
              "(30, 100, 280)"
            ]
          },
          "metadata": {
            "tags": []
          },
          "execution_count": 5
        }
      ]
    },
    {
      "cell_type": "code",
      "metadata": {
        "id": "SagzNXazKsIy",
        "colab_type": "code",
        "colab": {
          "base_uri": "https://localhost:8080/",
          "height": 34
        },
        "outputId": "ffc13bca-9acf-40ed-cace-5840f462a251"
      },
      "source": [
        "res1 = (lambda **kwargs: sum(kwargs.values())) # This lambda function can take any number of arguments and return thier sum.\n",
        "res1(a = 10 , b= 20 , c = 30) , res1(a = 10 , b= 20 , c = 30, d = 40 , e = 50)"
      ],
      "execution_count": 6,
      "outputs": [
        {
          "output_type": "execute_result",
          "data": {
            "text/plain": [
              "(60, 150)"
            ]
          },
          "metadata": {
            "tags": []
          },
          "execution_count": 6
        }
      ]
    },
    {
      "cell_type": "code",
      "metadata": {
        "id": "o8VLED5fK0Ae",
        "colab_type": "code",
        "colab": {
          "base_uri": "https://localhost:8080/",
          "height": 34
        },
        "outputId": "92c2984d-f291-4296-cc8b-9c2ffbb02f61"
      },
      "source": [
        "res1 = (lambda **kwargs: sum(kwargs.values())) # This lambda function can take any number of arguments and return thier sum.\n",
        "res1(a = 10 , b= 20 , c = 30) , res1(a = 10 , b= 20 , c = 30, d = 40 , e = 50)"
      ],
      "execution_count": 7,
      "outputs": [
        {
          "output_type": "execute_result",
          "data": {
            "text/plain": [
              "(60, 150)"
            ]
          },
          "metadata": {
            "tags": []
          },
          "execution_count": 7
        }
      ]
    },
    {
      "cell_type": "code",
      "metadata": {
        "id": "6EpH4dkhK3Dr",
        "colab_type": "code",
        "colab": {
          "base_uri": "https://localhost:8080/",
          "height": 34
        },
        "outputId": "e243f08b-0de1-4788-c0a1-1d735a9d1eb8"
      },
      "source": [
        "def product(nums):\n",
        "  total=1\n",
        "  for i in nums:\n",
        "    total *= i\n",
        "  return total\n",
        "# This lambda function can take any number of arguments and return thier product.\n",
        "res1 = (lambda **kwargs: product(kwargs.values())) \n",
        "res1(a = 10 , b= 20 , c = 30) , res1(a = 10 , b= 20 , c = 30, d = 40 , e = 50)"
      ],
      "execution_count": 3,
      "outputs": [
        {
          "output_type": "execute_result",
          "data": {
            "text/plain": [
              "(6000, 12000000)"
            ]
          },
          "metadata": {
            "tags": []
          },
          "execution_count": 3
        }
      ]
    },
    {
      "cell_type": "code",
      "metadata": {
        "id": "o9lfqqj7Dr0G",
        "colab_type": "code",
        "colab": {
          "base_uri": "https://localhost:8080/",
          "height": 68
        },
        "outputId": "19126abb-782e-493e-bb30-e5870f21799e"
      },
      "source": [
        "def myfunc(n):\n",
        "  return lambda a : a + n\n",
        "\n",
        "add10 = myfunc(10)\n",
        "add20 = myfunc(20)\n",
        "add30 = myfunc(30)\n",
        "\n",
        "print(add10(5))\n",
        "print(add20(5))\n",
        "print(add30(5))"
      ],
      "execution_count": 4,
      "outputs": [
        {
          "output_type": "stream",
          "text": [
            "15\n",
            "25\n",
            "35\n"
          ],
          "name": "stdout"
        }
      ]
    },
    {
      "cell_type": "code",
      "metadata": {
        "id": "u51Sf5zWD2my",
        "colab_type": "code",
        "colab": {
          "base_uri": "https://localhost:8080/",
          "height": 34
        },
        "outputId": "ec151c06-02c3-4040-a788-11345cfec3b5"
      },
      "source": [
        "list1 = [1,2,3,4,5,6,7,8,9]\n",
        "\n",
        "def odd(num):\n",
        "  if num %2 ==1: return True\n",
        "  else: return False\n",
        "\n",
        "odd_num= list(filter(odd,list1)) #  This Filter function filters list1 and passes all odd numbers to filter().\n",
        "odd_num\n",
        "\n"
      ],
      "execution_count": 5,
      "outputs": [
        {
          "output_type": "execute_result",
          "data": {
            "text/plain": [
              "[1, 3, 5, 7, 9]"
            ]
          },
          "metadata": {
            "tags": []
          },
          "execution_count": 5
        }
      ]
    },
    {
      "cell_type": "code",
      "metadata": {
        "id": "KuPCS5cVPRUv",
        "colab_type": "code",
        "colab": {
          "base_uri": "https://localhost:8080/",
          "height": 34
        },
        "outputId": "6fb0c0e9-64aa-4a9f-db5e-28ec01f64c8e"
      },
      "source": [
        "list1 = [1,2,3,4,5,6,7,8,9]\n",
        "# The below Filter function filters \"list1\" and passes all odd numbers using lambda function to filter().\n",
        "\n",
        "odd_num= list(filter(lambda n: n%2==1,list1))\n",
        "odd_num"
      ],
      "execution_count": 7,
      "outputs": [
        {
          "output_type": "execute_result",
          "data": {
            "text/plain": [
              "[1, 3, 5, 7, 9]"
            ]
          },
          "metadata": {
            "tags": []
          },
          "execution_count": 7
        }
      ]
    },
    {
      "cell_type": "code",
      "metadata": {
        "id": "44BQXaaOPnRh",
        "colab_type": "code",
        "colab": {
          "base_uri": "https://localhost:8080/",
          "height": 34
        },
        "outputId": "23ae741a-8d6c-4da1-d6e1-4534c67d326e"
      },
      "source": [
        "def twice(n):\n",
        "    return n*2\n",
        "doubles = list(map(twice,odd_num)) # The map function will apply user defined \"twice()\" function on all items of the list\n",
        "doubles"
      ],
      "execution_count": 8,
      "outputs": [
        {
          "output_type": "execute_result",
          "data": {
            "text/plain": [
              "[2, 6, 10, 14, 18]"
            ]
          },
          "metadata": {
            "tags": []
          },
          "execution_count": 8
        }
      ]
    },
    {
      "cell_type": "code",
      "metadata": {
        "id": "KjoV3VhXQy3i",
        "colab_type": "code",
        "colab": {
          "base_uri": "https://localhost:8080/",
          "height": 34
        },
        "outputId": "75db3196-7f7e-4f57-cc85-29c3aabda017"
      },
      "source": [
        "doubles = list(map(lambda n:n*2,odd_num)) # This map function will double all items of the list using lambda function.\n",
        "doubles"
      ],
      "execution_count": 9,
      "outputs": [
        {
          "output_type": "execute_result",
          "data": {
            "text/plain": [
              "[2, 6, 10, 14, 18]"
            ]
          },
          "metadata": {
            "tags": []
          },
          "execution_count": 9
        }
      ]
    },
    {
      "cell_type": "code",
      "metadata": {
        "id": "k_Q51UoEQ80F",
        "colab_type": "code",
        "colab": {
          "base_uri": "https://localhost:8080/",
          "height": 34
        },
        "outputId": "dec8d56c-fd69-484d-af7f-34112dcd1f26"
      },
      "source": [
        "from functools import reduce\n",
        "\n",
        "def add(a,b):\n",
        "    return a+b\n",
        "  \n",
        "sum_all = reduce(add,doubles) # This reduce function will perform sum of all items in the list using user defined \"add()\" func.\n",
        "sum_all"
      ],
      "execution_count": 10,
      "outputs": [
        {
          "output_type": "execute_result",
          "data": {
            "text/plain": [
              "50"
            ]
          },
          "metadata": {
            "tags": []
          },
          "execution_count": 10
        }
      ]
    },
    {
      "cell_type": "code",
      "metadata": {
        "id": "C51zCLMwRG8j",
        "colab_type": "code",
        "colab": {
          "base_uri": "https://localhost:8080/",
          "height": 34
        },
        "outputId": "58167d45-5058-4251-8793-d7f94f17a5cf"
      },
      "source": [
        "#The below reduce() function will perform sum of all items in the list using lambda function.\n",
        "sum_all = reduce(lambda a,b : a+b,doubles)\n",
        "sum_all"
      ],
      "execution_count": 11,
      "outputs": [
        {
          "output_type": "execute_result",
          "data": {
            "text/plain": [
              "50"
            ]
          },
          "metadata": {
            "tags": []
          },
          "execution_count": 11
        }
      ]
    },
    {
      "cell_type": "code",
      "metadata": {
        "id": "Dy15c3KERLvo",
        "colab_type": "code",
        "colab": {
          "base_uri": "https://localhost:8080/",
          "height": 34
        },
        "outputId": "c929b6f2-216b-40b1-a56a-ae62e60b94b3"
      },
      "source": [
        "# Putting all together \n",
        "\n",
        "sum_all = reduce(lambda a,b : a+b,list(map(lambda n:n*2,list(filter(lambda n: n%2 ==1 ,list1)))))\n",
        "sum_all"
      ],
      "execution_count": 12,
      "outputs": [
        {
          "output_type": "execute_result",
          "data": {
            "text/plain": [
              "50"
            ]
          },
          "metadata": {
            "tags": []
          },
          "execution_count": 12
        }
      ]
    },
    {
      "cell_type": "code",
      "metadata": {
        "id": "nNjHxhS6RWag",
        "colab_type": "code",
        "colab": {
          "base_uri": "https://localhost:8080/",
          "height": 204
        },
        "outputId": "407c0435-8300-4df1-f95a-8c04c6585f58"
      },
      "source": [
        "list1 = [1,2,3,4,5,6,7,8,9,10]\n",
        "even = list(filter(lambda n: n%2 ==0 ,list1)) # Filter even numbers from the list\n",
        "odd =  list(filter(lambda n: n%2 !=0 ,list1))   # Filter odd numbers from the list\n",
        "\n",
        "\n",
        "print('--------')\n",
        "print(even)\n",
        "print(odd)\n",
        "print('--------')\n",
        "\n",
        "list2 = ['one' , 'TWO' , 'three' , 'FOUR']\n",
        "upper = list(filter(lambda x: x.isupper() , list2)) # filter uppercase strings from the list\n",
        "\n",
        "lower = list(filter(lambda x: x.islower() , list2)) # filter lowercase strings from the list\n",
        "\n",
        "\n",
        "print(upper)\n",
        "print(lower)\n",
        "print('--------')\n",
        "\n",
        "list3 = ['one' , 'two2' , 'three3' ,'88' , '99' , '102']\n",
        "\n",
        "numeric = list(filter(lambda x:x.isnumeric(), list3))  # filter numbers from the list\n",
        "\n",
        "alpha = list(filter(lambda x:x.isalpha(), list3))      # filter character strings from the list\n",
        "\n",
        "alphanum = list(filter(lambda x:x.isalnum(), list3)) # filtr numbers & character strings from the list\n",
        "\n",
        "\n",
        "print(alpha)\n",
        "print(numeric)\n",
        "print(alphanum)\n",
        "print('--------')\n",
        "\n",
        "\n",
        "#Vowel Test"
      ],
      "execution_count": 16,
      "outputs": [
        {
          "output_type": "stream",
          "text": [
            "--------\n",
            "[2, 4, 6, 8, 10]\n",
            "[1, 3, 5, 7, 9]\n",
            "--------\n",
            "['TWO', 'FOUR']\n",
            "['one', 'three']\n",
            "--------\n",
            "['one']\n",
            "['88', '99', '102']\n",
            "['one', 'two2', 'three3', '88', '99', '102']\n",
            "--------\n"
          ],
          "name": "stdout"
        }
      ]
    },
    {
      "cell_type": "code",
      "metadata": {
        "id": "I3_ogsWihovE",
        "colab_type": "code",
        "colab": {
          "base_uri": "https://localhost:8080/",
          "height": 170
        },
        "outputId": "048ac4f3-2394-4ef5-96b1-39bf7e39c0f1"
      },
      "source": [
        "list1 = [1,2,3,4]\n",
        "list2 = [5,6,7,8]\n",
        "\n",
        "def double(x):\n",
        "    return x+x\n",
        "\n",
        "def add(x,y):\n",
        "    return x+y\n",
        "\n",
        "def square(x):\n",
        "    return x*x\n",
        "\n",
        "print('---------------')\n",
        "\n",
        "print(list(map(double, list1))) # Double each number using map & User defined function\n",
        "print(list(map(add, list1, list2))) # add two items  using map & User defined function\n",
        "print(list(map(square, list1))) #Square numbers using map & User defined function\n",
        "\n",
        "print('---------------')\n",
        "\n",
        "print(list(map(lambda x: x + x, list1))) # Double each number using map & lambda\n",
        "print(list(map(lambda x, y: x + y, list1, list2))) # add two items  using map & lambda\n",
        "print(list(map(lambda x: x*x, list1))) #Square numbers using map & lambda\n",
        "\n",
        "print('---------------')"
      ],
      "execution_count": 17,
      "outputs": [
        {
          "output_type": "stream",
          "text": [
            "---------------\n",
            "[2, 4, 6, 8]\n",
            "[6, 8, 10, 12]\n",
            "[1, 4, 9, 16]\n",
            "---------------\n",
            "[2, 4, 6, 8]\n",
            "[6, 8, 10, 12]\n",
            "[1, 4, 9, 16]\n",
            "---------------\n"
          ],
          "name": "stdout"
        }
      ]
    },
    {
      "cell_type": "code",
      "metadata": {
        "id": "eygA73Mthxbv",
        "colab_type": "code",
        "colab": {
          "base_uri": "https://localhost:8080/",
          "height": 231
        },
        "outputId": "680eb547-4b4c-44e2-9766-979d839681ae"
      },
      "source": [
        "list2 = [1,2,3,4]\n",
        "\n",
        "product = reduce (operator.mul,list2) # Product of all numbers in a list\n",
        "\n",
        "add = reduce(operator.add,list2) # Add all numbers in the list\n",
        "\n",
        "concat_str = reduce(operator.add , ['Python' , ' ' , 'Rocks']) # Concatenate string using reduce \n",
        "\n",
        "prod = reduce(operator.mul,['Hello ' , 3]) #Repeat a string multiple times\n",
        "\n",
        "min_num = reduce(lambda a, b: a if a < b else b, list2) # Minimum number in the list using reduce () & lambda\n",
        "\n",
        "max_num = reduce(lambda a, b: a if a > b else b, list2) # Maximum number in the list using reduce () & lambda\n",
        "\n",
        "print(product)\n",
        "\n",
        "print(add)\n",
        "\n",
        "print(concat_str)\n",
        "\n",
        "print(prod)\n",
        "\n",
        "print(min_num)\n",
        "\n",
        "print(max_num)\n"
      ],
      "execution_count": 18,
      "outputs": [
        {
          "output_type": "error",
          "ename": "NameError",
          "evalue": "ignored",
          "traceback": [
            "\u001b[0;31m---------------------------------------------------------------------------\u001b[0m",
            "\u001b[0;31mNameError\u001b[0m                                 Traceback (most recent call last)",
            "\u001b[0;32m<ipython-input-18-eab3bdddab03>\u001b[0m in \u001b[0;36m<module>\u001b[0;34m()\u001b[0m\n\u001b[1;32m      1\u001b[0m \u001b[0mlist2\u001b[0m \u001b[0;34m=\u001b[0m \u001b[0;34m[\u001b[0m\u001b[0;36m1\u001b[0m\u001b[0;34m,\u001b[0m\u001b[0;36m2\u001b[0m\u001b[0;34m,\u001b[0m\u001b[0;36m3\u001b[0m\u001b[0;34m,\u001b[0m\u001b[0;36m4\u001b[0m\u001b[0;34m]\u001b[0m\u001b[0;34m\u001b[0m\u001b[0;34m\u001b[0m\u001b[0m\n\u001b[1;32m      2\u001b[0m \u001b[0;34m\u001b[0m\u001b[0m\n\u001b[0;32m----> 3\u001b[0;31m \u001b[0mproduct\u001b[0m \u001b[0;34m=\u001b[0m \u001b[0mreduce\u001b[0m \u001b[0;34m(\u001b[0m\u001b[0moperator\u001b[0m\u001b[0;34m.\u001b[0m\u001b[0mmul\u001b[0m\u001b[0;34m,\u001b[0m\u001b[0mlist2\u001b[0m\u001b[0;34m)\u001b[0m \u001b[0;31m# Product of all numbers in a list\u001b[0m\u001b[0;34m\u001b[0m\u001b[0;34m\u001b[0m\u001b[0m\n\u001b[0m\u001b[1;32m      4\u001b[0m \u001b[0;34m\u001b[0m\u001b[0m\n\u001b[1;32m      5\u001b[0m \u001b[0madd\u001b[0m \u001b[0;34m=\u001b[0m \u001b[0mreduce\u001b[0m\u001b[0;34m(\u001b[0m\u001b[0moperator\u001b[0m\u001b[0;34m.\u001b[0m\u001b[0madd\u001b[0m\u001b[0;34m,\u001b[0m\u001b[0mlist2\u001b[0m\u001b[0;34m)\u001b[0m \u001b[0;31m# Add all numbers in the list\u001b[0m\u001b[0;34m\u001b[0m\u001b[0;34m\u001b[0m\u001b[0m\n",
            "\u001b[0;31mNameError\u001b[0m: name 'operator' is not defined"
          ]
        }
      ]
    },
    {
      "cell_type": "code",
      "metadata": {
        "id": "xZrAHU3Iov5L",
        "colab_type": "code",
        "colab": {
          "base_uri": "https://localhost:8080/",
          "height": 34
        },
        "outputId": "d302e1ae-82cb-4de1-a6b4-aeea7eacbfa7"
      },
      "source": [
        "def min_func(a, b):\n",
        "        return a if a < b else b\n",
        " \n",
        "\n",
        "def max_func(a, b):\n",
        "    return a if a > b else b\n",
        "\n",
        "min_num = reduce(min_func, list2) # Minimum number in the list using reduce () & User defined min function\n",
        "\n",
        "max_num = reduce(max_func, list2) # Maximum number in the list using reduce () & User defined min function\n",
        "\n",
        "min_num , max_num"
      ],
      "execution_count": 19,
      "outputs": [
        {
          "output_type": "execute_result",
          "data": {
            "text/plain": [
              "(1, 4)"
            ]
          },
          "metadata": {
            "tags": []
          },
          "execution_count": 19
        }
      ]
    },
    {
      "cell_type": "code",
      "metadata": {
        "id": "RwtZqYz9o8jB",
        "colab_type": "code",
        "colab": {
          "base_uri": "https://localhost:8080/",
          "height": 34
        },
        "outputId": "88d62042-ee38-4875-cbdc-8666eaacfe9e"
      },
      "source": [
        "# Create a class with property \"var1\"\n",
        "class myclass:\n",
        "  var1=10\n",
        "\n",
        "obj1= myclass() # Create an object of class \"myclass()\"\n",
        "print(obj1.var1)"
      ],
      "execution_count": 21,
      "outputs": [
        {
          "output_type": "stream",
          "text": [
            "10\n"
          ],
          "name": "stdout"
        }
      ]
    },
    {
      "cell_type": "code",
      "metadata": {
        "id": "p6diJ6hGylpb",
        "colab_type": "code",
        "colab": {
          "base_uri": "https://localhost:8080/",
          "height": 68
        },
        "outputId": "3967170e-59a4-438f-ae37-de1b295274bf"
      },
      "source": [
        "class Employee:\n",
        "  def __init__(self, name, empid): # __init__() function is used to assign values for name and empid\n",
        "    self.name= name\n",
        "    self.empid = empid\n",
        "  def greet(self): # Class Method\n",
        "    print(\"Thanks for joining ABC Company {}!!\".format(self.name))\n",
        "emp1 = Employee(\"Asif\", 34163)  # Create an employee object\n",
        "\n",
        "print('Name :- ',emp1.name)\n",
        "print('Employee ID :- ',emp1.empid)\n",
        "emp1.greet()\n"
      ],
      "execution_count": 22,
      "outputs": [
        {
          "output_type": "stream",
          "text": [
            "Name :-  Asif\n",
            "Employee ID :-  34163\n",
            "Thanks for joining ABC Company Asif!!\n"
          ],
          "name": "stdout"
        }
      ]
    },
    {
      "cell_type": "code",
      "metadata": {
        "id": "i0legsqdzgo8",
        "colab_type": "code",
        "colab": {
          "base_uri": "https://localhost:8080/",
          "height": 35
        },
        "outputId": "c853d664-c66e-42df-fa3e-de3cc9813386"
      },
      "source": [
        "emp1.name = 'Basit' # Modify Object Properties\n",
        "emp1.name"
      ],
      "execution_count": 23,
      "outputs": [
        {
          "output_type": "execute_result",
          "data": {
            "application/vnd.google.colaboratory.intrinsic+json": {
              "type": "string"
            },
            "text/plain": [
              "'Basit'"
            ]
          },
          "metadata": {
            "tags": []
          },
          "execution_count": 23
        }
      ]
    },
    {
      "cell_type": "code",
      "metadata": {
        "id": "r9CjXj-UzlVV",
        "colab_type": "code",
        "colab": {
          "base_uri": "https://localhost:8080/",
          "height": 180
        },
        "outputId": "4aeb6d91-0baf-4ad9-f1b0-b6e6c2858995"
      },
      "source": [
        "del emp1.empid   # Delete Object Properties\n",
        "emp1.empid"
      ],
      "execution_count": 24,
      "outputs": [
        {
          "output_type": "error",
          "ename": "AttributeError",
          "evalue": "ignored",
          "traceback": [
            "\u001b[0;31m---------------------------------------------------------------------------\u001b[0m",
            "\u001b[0;31mAttributeError\u001b[0m                            Traceback (most recent call last)",
            "\u001b[0;32m<ipython-input-24-b111c8b828fc>\u001b[0m in \u001b[0;36m<module>\u001b[0;34m()\u001b[0m\n\u001b[1;32m      1\u001b[0m \u001b[0;32mdel\u001b[0m \u001b[0memp1\u001b[0m\u001b[0;34m.\u001b[0m\u001b[0mempid\u001b[0m   \u001b[0;31m# Delete Object Properties\u001b[0m\u001b[0;34m\u001b[0m\u001b[0;34m\u001b[0m\u001b[0m\n\u001b[0;32m----> 2\u001b[0;31m \u001b[0memp1\u001b[0m\u001b[0;34m.\u001b[0m\u001b[0mempid\u001b[0m\u001b[0;34m\u001b[0m\u001b[0;34m\u001b[0m\u001b[0m\n\u001b[0m",
            "\u001b[0;31mAttributeError\u001b[0m: 'Employee' object has no attribute 'empid'"
          ]
        }
      ]
    },
    {
      "cell_type": "code",
      "metadata": {
        "id": "SIov5ILAzoek",
        "colab_type": "code",
        "colab": {
          "base_uri": "https://localhost:8080/",
          "height": 180
        },
        "outputId": "c47ceec7-56b1-49a5-8bec-d98e5ba61e93"
      },
      "source": [
        "del emp1 # Delete the object\n",
        "emp1"
      ],
      "execution_count": 25,
      "outputs": [
        {
          "output_type": "error",
          "ename": "NameError",
          "evalue": "ignored",
          "traceback": [
            "\u001b[0;31m---------------------------------------------------------------------------\u001b[0m",
            "\u001b[0;31mNameError\u001b[0m                                 Traceback (most recent call last)",
            "\u001b[0;32m<ipython-input-25-db2cb77ec9fb>\u001b[0m in \u001b[0;36m<module>\u001b[0;34m()\u001b[0m\n\u001b[1;32m      1\u001b[0m \u001b[0;32mdel\u001b[0m \u001b[0memp1\u001b[0m \u001b[0;31m# Delete the object\u001b[0m\u001b[0;34m\u001b[0m\u001b[0;34m\u001b[0m\u001b[0m\n\u001b[0;32m----> 2\u001b[0;31m \u001b[0memp1\u001b[0m\u001b[0;34m\u001b[0m\u001b[0;34m\u001b[0m\u001b[0m\n\u001b[0m",
            "\u001b[0;31mNameError\u001b[0m: name 'emp1' is not defined"
          ]
        }
      ]
    },
    {
      "cell_type": "code",
      "metadata": {
        "id": "DPIZDhlPzr3v",
        "colab_type": "code",
        "colab": {
          "base_uri": "https://localhost:8080/",
          "height": 68
        },
        "outputId": "fffc1dbf-3b54-4efa-9fcb-fc0443ab6cc7"
      },
      "source": [
        "emp2 = Employee(\"Michael\", 34162)  # Create an employee object\n",
        "\n",
        "print('Name :- ',emp2.name)\n",
        "print('Employee ID :- ',emp2.empid)\n",
        "emp2.greet()"
      ],
      "execution_count": 26,
      "outputs": [
        {
          "output_type": "stream",
          "text": [
            "Name :-  Michael\n",
            "Employee ID :-  34162\n",
            "Thanks for joining ABC Company Michael!!\n"
          ],
          "name": "stdout"
        }
      ]
    },
    {
      "cell_type": "code",
      "metadata": {
        "id": "I97hrmICzuza",
        "colab_type": "code",
        "colab": {
          "base_uri": "https://localhost:8080/",
          "height": 35
        },
        "outputId": "3c03c82c-1594-43ff-c29a-be5ab6e97d30"
      },
      "source": [
        "emp2.country = 'India' #instance variable can be created manually\n",
        "emp2.country"
      ],
      "execution_count": 27,
      "outputs": [
        {
          "output_type": "execute_result",
          "data": {
            "application/vnd.google.colaboratory.intrinsic+json": {
              "type": "string"
            },
            "text/plain": [
              "'India'"
            ]
          },
          "metadata": {
            "tags": []
          },
          "execution_count": 27
        }
      ]
    },
    {
      "cell_type": "code",
      "metadata": {
        "id": "nkmvTiAkzyRJ",
        "colab_type": "code",
        "colab": {
          "base_uri": "https://localhost:8080/",
          "height": 272
        },
        "outputId": "ae6c162a-8d1d-4856-ab89-f34596497984"
      },
      "source": [
        "class person:   # Parent Class\n",
        "    def __init__(self, name , age , gender):\n",
        "        self.name = name\n",
        "        self.age = age\n",
        "        self.gender = gender\n",
        "    \n",
        "    def PersonInfo(self):\n",
        "        print('Name :- {}'.format(self.name))\n",
        "        print('Age :- {}'.format(self.age))\n",
        "        print('Gender :- {}'.format(self.gender))\n",
        "\n",
        "        \n",
        "        \n",
        "        \n",
        "class student(person): # Child Class\n",
        "    def __init__(self,name,age,gender,studentid,fees):\n",
        "        person.__init__(self,name,age,gender)\n",
        "        self.studentid = studentid\n",
        "        self.fees = fees\n",
        "    \n",
        "    def StudentInfo(self):\n",
        "        print('Student ID :- {}'.format(self.studentid))\n",
        "        print('Fees :- {}'.format(self.fees))\n",
        "        \n",
        "\n",
        "        \n",
        "class teacher(person): # Child Class\n",
        "    def __init__(self,name,age,gender,empid,salary):\n",
        "        person.__init__(self,name,age,gender)\n",
        "        self.empid = empid\n",
        "        self.salary = salary\n",
        "    \n",
        "    def TeacherInfo(self):\n",
        "        print('Employee ID :- {}'.format(self.empid))\n",
        "        print('Salary :- {}'.format(self.salary))\n",
        "\n",
        "\n",
        "        \n",
        "stud1 = student('Asif' , 24 , 'Male' , 123 , 1200)\n",
        "print('Student Details')\n",
        "print('---------------')\n",
        "stud1.PersonInfo()    # PersonInfo() method presnt in Parent Class will be accessible by child class\n",
        "stud1.StudentInfo()\n",
        "print()\n",
        "\n",
        "teacher1 = teacher('Basit' , 36 , 'Male' , 456 , 80000)\n",
        "print('Employee Details')\n",
        "print('---------------')\n",
        "teacher1.PersonInfo()    # PersonInfo() method presnt in Parent Class will be accessible by child class\n",
        "teacher1.TeacherInfo()"
      ],
      "execution_count": 29,
      "outputs": [
        {
          "output_type": "stream",
          "text": [
            "Student Details\n",
            "---------------\n",
            "Name :- Asif\n",
            "Age :- 24\n",
            "Gender :- Male\n",
            "Student ID :- 123\n",
            "Fees :- 1200\n",
            "\n",
            "Employee Details\n",
            "---------------\n",
            "Name :- Basit\n",
            "Age :- 36\n",
            "Gender :- Male\n",
            "Employee ID :- 456\n",
            "Salary :- 80000\n"
          ],
          "name": "stdout"
        }
      ]
    },
    {
      "cell_type": "code",
      "metadata": {
        "id": "yqK912uv0Mei",
        "colab_type": "code",
        "colab": {
          "base_uri": "https://localhost:8080/",
          "height": 102
        },
        "outputId": "f315c233-703b-4656-eb4c-410ee58a8942"
      },
      "source": [
        "# super() builtin function allows us to access methods of the base class.\n",
        "\n",
        "class person:   # Parent Class\n",
        "    def __init__(self, name , age , gender):\n",
        "        self.name = name\n",
        "        self.age = age\n",
        "        self.gender = gender\n",
        "    \n",
        "    def PersonInfo(self):\n",
        "        print('Name :- {}'.format(self.name))\n",
        "        print('Age :- {}'.format(self.age))\n",
        "        print('Gender :- {}'.format(self.gender))\n",
        "\n",
        "        \n",
        "        \n",
        "        \n",
        "class student(person): # Child Class\n",
        "    def __init__(self,name,age,gender,studentid,fees):\n",
        "        super().__init__(name,age,gender)  \n",
        "        self.studentid = studentid\n",
        "        self.fees = fees\n",
        "    \n",
        "    def StudentInfo(self):\n",
        "        super().PersonInfo()\n",
        "        print('Student ID :- {}'.format(self.studentid))\n",
        "        print('Fees :- {}'.format(self.fees))\n",
        "        \n",
        "stud = student('Asif' , 24 , 'Male' , 123 , 1200)\n",
        "stud.StudentInfo()"
      ],
      "execution_count": 30,
      "outputs": [
        {
          "output_type": "stream",
          "text": [
            "Name :- Asif\n",
            "Age :- 24\n",
            "Gender :- Male\n",
            "Student ID :- 123\n",
            "Fees :- 1200\n"
          ],
          "name": "stdout"
        }
      ]
    },
    {
      "cell_type": "code",
      "metadata": {
        "id": "2IDlNzzM0Yy6",
        "colab_type": "code",
        "colab": {
          "base_uri": "https://localhost:8080/",
          "height": 340
        },
        "outputId": "846bde80-cec1-42f8-8f16-73172b0b746f"
      },
      "source": [
        "class person:   # Parent Class\n",
        "    def __init__(self, name , age , gender):\n",
        "        self.name = name\n",
        "        self.age = age\n",
        "        self.gender = gender\n",
        "    \n",
        "    def PersonInfo(self):\n",
        "        print('Name :- {}'.format(self.name))\n",
        "        print('Age :- {}'.format(self.age))\n",
        "        print('Gender :- {}'.format(self.gender))\n",
        "\n",
        "        \n",
        "        \n",
        "        \n",
        "class employee(person): # Child Class\n",
        "    def __init__(self,name,age,gender,empid,salary):\n",
        "        person.__init__(self,name,age,gender)\n",
        "        self.empid = empid\n",
        "        self.salary = salary\n",
        "    \n",
        "    def employeeInfo(self):\n",
        "        print('Employee ID :- {}'.format(self.empid))\n",
        "        print('Salary :- {}'.format(self.salary))\n",
        "        \n",
        "        \n",
        "\n",
        "        \n",
        "class fulltime(employee): # Grand Child Class\n",
        "    def __init__(self,name,age,gender,empid,salary,WorkExperience):\n",
        "        employee.__init__(self,name,age,gender,empid,salary)\n",
        "        self.WorkExperience = WorkExperience\n",
        "    \n",
        "    def FulltimeInfo(self):\n",
        "        print('Work Experience :- {}'.format(self.WorkExperience))\n",
        "        \n",
        "        \n",
        "        \n",
        "\n",
        "class contractual(employee): # Grand Child Class\n",
        "    def __init__(self,name,age,gender,empid,salary,ContractExpiry):\n",
        "        employee.__init__(self,name,age,gender,empid,salary)\n",
        "        self.ContractExpiry = ContractExpiry\n",
        "    \n",
        "    def ContractInfo(self):\n",
        "        print('Contract Expiry :- {}'.format(self.ContractExpiry))\n",
        "\n",
        "        \n",
        "print('Contractual Employee Details')\n",
        "print('****************************')\n",
        "contract1 = contractual('Basit' , 36 , 'Male' , 456 , 80000,'21-12-2021')\n",
        "contract1.PersonInfo()\n",
        "contract1.employeeInfo()\n",
        "contract1.ContractInfo()\n",
        "\n",
        "print('\\n \\n')\n",
        "\n",
        "print('Fulltime Employee Details')\n",
        "print('****************************')\n",
        "fulltim1= fulltime('Asif' , 22 , 'Male' , 567 , 70000, 12)\n",
        "fulltim1.PersonInfo()\n",
        "fulltim1.employeeInfo()\n",
        "fulltim1.FulltimeInfo()\n"
      ],
      "execution_count": 31,
      "outputs": [
        {
          "output_type": "stream",
          "text": [
            "Contractual Employee Details\n",
            "****************************\n",
            "Name :- Basit\n",
            "Age :- 36\n",
            "Gender :- Male\n",
            "Employee ID :- 456\n",
            "Salary :- 80000\n",
            "Contract Expiry :- 21-12-2021\n",
            "\n",
            " \n",
            "\n",
            "Fulltime Employee Details\n",
            "****************************\n",
            "Name :- Asif\n",
            "Age :- 22\n",
            "Gender :- Male\n",
            "Employee ID :- 567\n",
            "Salary :- 70000\n",
            "Work Experience :- 12\n"
          ],
          "name": "stdout"
        }
      ]
    },
    {
      "cell_type": "code",
      "metadata": {
        "id": "_gyBDMXP55Yh",
        "colab_type": "code",
        "colab": {
          "base_uri": "https://localhost:8080/",
          "height": 68
        },
        "outputId": "43690f00-bb80-4c8e-99c5-3cb04e9a9300"
      },
      "source": [
        "# Super Class\n",
        "class Father:\n",
        "    def __init__(self):\n",
        "        self.fathername = str()\n",
        "\n",
        "    \n",
        "# Super Class\n",
        "class Mother:\n",
        "    def __init__(self):\n",
        "        self.mothername = str()\n",
        "    \n",
        "    \n",
        "# Sub Class\n",
        "class Son(Father, Mother):\n",
        "    name = str()\n",
        "    def show(self):\n",
        "        print('My Name :- ',self.name)\n",
        "        print(\"Father :\", self.fathername)\n",
        "        print(\"Mother :\", self.mothername)\n",
        " \n",
        " \n",
        "s1 = Son()\n",
        "s1.name = 'Bill'\n",
        "s1.fathername = \"John\"\n",
        "s1.mothername = \"Kristen\"\n",
        "s1.show()"
      ],
      "execution_count": 32,
      "outputs": [
        {
          "output_type": "stream",
          "text": [
            "My Name :-  Bill\n",
            "Father : John\n",
            "Mother : Kristen\n"
          ],
          "name": "stdout"
        }
      ]
    },
    {
      "cell_type": "code",
      "metadata": {
        "id": "JMgKDbrt6B0C",
        "colab_type": "code",
        "colab": {
          "base_uri": "https://localhost:8080/",
          "height": 34
        },
        "outputId": "312e54f4-e0ca-41fc-9b09-5e1181fccb8d"
      },
      "source": [
        "class CurrentDate:\n",
        "    def __init__(self,date):\n",
        "        self.date = date    \n",
        "        \n",
        "class CurrentTime:\n",
        "    def __init__(self,time):\n",
        "        self.time = time\n",
        "\n",
        "class timestamp(CurrentDate,CurrentTime):\n",
        "    def __init__(self,date,time):\n",
        "        CurrentDate.__init__(self,date)\n",
        "        CurrentTime.__init__(self,time)\n",
        "        DateTime = self.date + ' ' + self.time\n",
        "        print(DateTime)\n",
        "\n",
        "datetime1 = timestamp( '2020-08-09', '23:48:55')\n"
      ],
      "execution_count": 34,
      "outputs": [
        {
          "output_type": "stream",
          "text": [
            "2020-08-09 23:48:55\n"
          ],
          "name": "stdout"
        }
      ]
    },
    {
      "cell_type": "code",
      "metadata": {
        "id": "tGjEo4Fq7L_F",
        "colab_type": "code",
        "colab": {
          "base_uri": "https://localhost:8080/",
          "height": 51
        },
        "outputId": "ec119fdc-b051-40fc-ac3a-8c663bb47fb7"
      },
      "source": [
        "class person:   # Parent Class\n",
        "    def __init__(self, name , age , gender):\n",
        "        self.name = name\n",
        "        self.age = age\n",
        "        self.gender = gender\n",
        "        \n",
        "    def greet(self):\n",
        "        print(\"Hello Person\")\n",
        "        \n",
        "        \n",
        "        \n",
        "class student(person): # Child Class\n",
        "    def __init__(self,name,age,gender,studentid,fees):\n",
        "        person.__init__(self,name,age,gender)\n",
        "        self.studentid = studentid\n",
        "        self.fees = fees\n",
        "\n",
        "    def greet(self):\n",
        "        print(\"Hello Student\")\n",
        "        \n",
        "    \n",
        "stud = student('Gabriel' , 56 , 'Male' , 45 , 345678)\n",
        "stud.greet() # greet() method defined in subclass will be triggered as \"stud\" is an object of child class\n",
        "\n",
        "person1 = person('Gabriel' , 56 , 'Male')\n",
        "person1.greet() # greet() method defined in superclass will be triggered because \"person1\" is an object of parent class\n"
      ],
      "execution_count": 35,
      "outputs": [
        {
          "output_type": "stream",
          "text": [
            "Hello Student\n",
            "Hello Person\n"
          ],
          "name": "stdout"
        }
      ]
    },
    {
      "cell_type": "code",
      "metadata": {
        "id": "ujE74OK67i9z",
        "colab_type": "code",
        "colab": {
          "base_uri": "https://localhost:8080/",
          "height": 34
        },
        "outputId": "fc3d56ca-7e76-4bb3-b5a9-3d3361ac8b5e"
      },
      "source": [
        "list1 = ['asif' , 'john' , 'Michael' , 'Basit']\n",
        "\n",
        "'asif' in list1  # Membership check using 'in' operator"
      ],
      "execution_count": 36,
      "outputs": [
        {
          "output_type": "execute_result",
          "data": {
            "text/plain": [
              "True"
            ]
          },
          "metadata": {
            "tags": []
          },
          "execution_count": 36
        }
      ]
    },
    {
      "cell_type": "code",
      "metadata": {
        "id": "ggAoct6X7rDZ",
        "colab_type": "code",
        "colab": {}
      },
      "source": [
        "assert 'john' in list1  # If the condition returns true the program does nothing and move to the next line of code"
      ],
      "execution_count": 39,
      "outputs": []
    },
    {
      "cell_type": "code",
      "metadata": {
        "id": "B3L85ANr7uQk",
        "colab_type": "code",
        "colab": {
          "base_uri": "https://localhost:8080/",
          "height": 163
        },
        "outputId": "b50b195b-5932-4bb2-8344-a4e2c510a7e2"
      },
      "source": [
        "assert 'john1' in list1 # If the condition returns false, Assert will stop the program and throws an AssertionError."
      ],
      "execution_count": 38,
      "outputs": [
        {
          "output_type": "error",
          "ename": "AssertionError",
          "evalue": "ignored",
          "traceback": [
            "\u001b[0;31m---------------------------------------------------------------------------\u001b[0m",
            "\u001b[0;31mAssertionError\u001b[0m                            Traceback (most recent call last)",
            "\u001b[0;32m<ipython-input-38-a3a33a20c0b4>\u001b[0m in \u001b[0;36m<module>\u001b[0;34m()\u001b[0m\n\u001b[0;32m----> 1\u001b[0;31m \u001b[0;32massert\u001b[0m \u001b[0;34m'john1'\u001b[0m \u001b[0;32min\u001b[0m \u001b[0mlist1\u001b[0m \u001b[0;31m# If the condition returns false, Assert will stop the program and throws an AssertionError.\u001b[0m\u001b[0;34m\u001b[0m\u001b[0;34m\u001b[0m\u001b[0m\n\u001b[0m",
            "\u001b[0;31mAssertionError\u001b[0m: "
          ]
        }
      ]
    },
    {
      "cell_type": "code",
      "metadata": {
        "id": "QOE-rKUm7-nZ",
        "colab_type": "code",
        "colab": {
          "base_uri": "https://localhost:8080/",
          "height": 265
        },
        "outputId": "09e26780-3990-4422-8e2c-0bc3174290cb"
      },
      "source": [
        "mylist = ['Asif' , 'Basit' , 'John' , 'Michael']\n",
        "list_iter = iter(mylist) # Create an iterator object using iter()\n",
        "print(next(list_iter))  # return first element in the iterator stream\n",
        "print(next(list_iter))  # return next element in the iterator stream\n",
        "print(next(list_iter))\n",
        "print(next(list_iter))\n",
        "print(next(list_iter))"
      ],
      "execution_count": 4,
      "outputs": [
        {
          "output_type": "stream",
          "text": [
            "Asif\n",
            "Basit\n",
            "John\n",
            "Michael\n"
          ],
          "name": "stdout"
        },
        {
          "output_type": "error",
          "ename": "StopIteration",
          "evalue": "ignored",
          "traceback": [
            "\u001b[0;31m---------------------------------------------------------------------------\u001b[0m",
            "\u001b[0;31mStopIteration\u001b[0m                             Traceback (most recent call last)",
            "\u001b[0;32m<ipython-input-4-9a86fac31ee6>\u001b[0m in \u001b[0;36m<module>\u001b[0;34m()\u001b[0m\n\u001b[1;32m      5\u001b[0m \u001b[0mprint\u001b[0m\u001b[0;34m(\u001b[0m\u001b[0mnext\u001b[0m\u001b[0;34m(\u001b[0m\u001b[0mlist_iter\u001b[0m\u001b[0;34m)\u001b[0m\u001b[0;34m)\u001b[0m\u001b[0;34m\u001b[0m\u001b[0;34m\u001b[0m\u001b[0m\n\u001b[1;32m      6\u001b[0m \u001b[0mprint\u001b[0m\u001b[0;34m(\u001b[0m\u001b[0mnext\u001b[0m\u001b[0;34m(\u001b[0m\u001b[0mlist_iter\u001b[0m\u001b[0;34m)\u001b[0m\u001b[0;34m)\u001b[0m\u001b[0;34m\u001b[0m\u001b[0;34m\u001b[0m\u001b[0m\n\u001b[0;32m----> 7\u001b[0;31m \u001b[0mprint\u001b[0m\u001b[0;34m(\u001b[0m\u001b[0mnext\u001b[0m\u001b[0;34m(\u001b[0m\u001b[0mlist_iter\u001b[0m\u001b[0;34m)\u001b[0m\u001b[0;34m)\u001b[0m\u001b[0;34m\u001b[0m\u001b[0;34m\u001b[0m\u001b[0m\n\u001b[0m",
            "\u001b[0;31mStopIteration\u001b[0m: "
          ]
        }
      ]
    },
    {
      "cell_type": "code",
      "metadata": {
        "id": "xNNi17pzndHB",
        "colab_type": "code",
        "colab": {
          "base_uri": "https://localhost:8080/",
          "height": 85
        },
        "outputId": "79b5bed1-3cfa-4e7a-b5d3-8b6b53c0781a"
      },
      "source": [
        "mylist = ['Asif' , 'Basit' , 'John' , 'Michael']\n",
        "list_iter = iter(mylist)     # Create an iterator object using iter()\n",
        "print(list_iter.__next__())  # return first element in the iterator stream\n",
        "print(list_iter.__next__())  # return next element in the iterator stream\n",
        "print(list_iter.__next__())\n",
        "print(list_iter.__next__())\n"
      ],
      "execution_count": 5,
      "outputs": [
        {
          "output_type": "stream",
          "text": [
            "Asif\n",
            "Basit\n",
            "John\n",
            "Michael\n"
          ],
          "name": "stdout"
        }
      ]
    },
    {
      "cell_type": "code",
      "metadata": {
        "id": "uhyVDE1ZyDl4",
        "colab_type": "code",
        "colab": {
          "base_uri": "https://localhost:8080/",
          "height": 85
        },
        "outputId": "41e2f429-fdb8-44e7-9ca4-f8676ec7f3a1"
      },
      "source": [
        "mylist = ['Asif' , 'Basit' , 'John' , 'Michael']\n",
        "list_iter = iter(mylist)     # Create an iterator object using iter()\n",
        "for i in list_iter:\n",
        "    print(i)"
      ],
      "execution_count": 6,
      "outputs": [
        {
          "output_type": "stream",
          "text": [
            "Asif\n",
            "Basit\n",
            "John\n",
            "Michael\n"
          ],
          "name": "stdout"
        }
      ]
    },
    {
      "cell_type": "code",
      "metadata": {
        "id": "NAFRzqKJyaho",
        "colab_type": "code",
        "colab": {
          "base_uri": "https://localhost:8080/",
          "height": 85
        },
        "outputId": "a5889d50-37e8-4373-bf57-535c7b7ec863"
      },
      "source": [
        "# Looping Through an Iterable (list) using for loop\n",
        "\n",
        "mylist = ['Asif' , 'Basit' , 'John' , 'Michael']\n",
        "\n",
        "for i in mylist:\n",
        "    print(i)"
      ],
      "execution_count": 7,
      "outputs": [
        {
          "output_type": "stream",
          "text": [
            "Asif\n",
            "Basit\n",
            "John\n",
            "Michael\n"
          ],
          "name": "stdout"
        }
      ]
    },
    {
      "cell_type": "code",
      "metadata": {
        "id": "9oj4iBElzEBw",
        "colab_type": "code",
        "colab": {
          "base_uri": "https://localhost:8080/",
          "height": 85
        },
        "outputId": "45761789-067e-4079-ebcc-c57378a35704"
      },
      "source": [
        "# Looping Through an Iterable (tuple) using for loop\n",
        "\n",
        "mytuple = ('Asif' , 'Basit' , 'John' , 'Michael')\n",
        "\n",
        "for i in mytuple:\n",
        "    print(i)\n"
      ],
      "execution_count": 8,
      "outputs": [
        {
          "output_type": "stream",
          "text": [
            "Asif\n",
            "Basit\n",
            "John\n",
            "Michael\n"
          ],
          "name": "stdout"
        }
      ]
    },
    {
      "cell_type": "code",
      "metadata": {
        "id": "Xh1auoI7zHGQ",
        "colab_type": "code",
        "colab": {
          "base_uri": "https://localhost:8080/",
          "height": 221
        },
        "outputId": "9846c80c-0387-49c7-f18c-f549773de1ab"
      },
      "source": [
        "# Looping Through an Iterable (string) using for loop\n",
        "\n",
        "mystr = \"Hello Python\"\n",
        "\n",
        "for i in mystr:\n",
        "    print(i)"
      ],
      "execution_count": 9,
      "outputs": [
        {
          "output_type": "stream",
          "text": [
            "H\n",
            "e\n",
            "l\n",
            "l\n",
            "o\n",
            " \n",
            "P\n",
            "y\n",
            "t\n",
            "h\n",
            "o\n",
            "n\n"
          ],
          "name": "stdout"
        }
      ]
    },
    {
      "cell_type": "code",
      "metadata": {
        "id": "8-_LPs_m0gA1",
        "colab_type": "code",
        "colab": {
          "base_uri": "https://localhost:8080/",
          "height": 187
        },
        "outputId": "913443de-b56e-4b6d-80a1-384fd2b5aec7"
      },
      "source": [
        "# This iterator produces all natural numbers from 1 to 10.\n",
        "class myiter:\n",
        "     def __init__(self):\n",
        "            self.num = 0\n",
        "     \n",
        "     def __iter__(self):\n",
        "            self.num = 1\n",
        "            return self\n",
        "     \n",
        "     def __next__(self):\n",
        "        if self.num <= 10:\n",
        "            val = self.num\n",
        "            self.num += 1\n",
        "            return val\n",
        "        else:\n",
        "            raise StopIteration\n",
        "\n",
        "mynum = myiter()\n",
        "iter1 = iter(mynum)\n",
        "for i in iter1:\n",
        "    print(i)"
      ],
      "execution_count": 10,
      "outputs": [
        {
          "output_type": "stream",
          "text": [
            "1\n",
            "2\n",
            "3\n",
            "4\n",
            "5\n",
            "6\n",
            "7\n",
            "8\n",
            "9\n",
            "10\n"
          ],
          "name": "stdout"
        }
      ]
    },
    {
      "cell_type": "code",
      "metadata": {
        "id": "yxmbGN4f0HwI",
        "colab_type": "code",
        "colab": {
          "base_uri": "https://localhost:8080/",
          "height": 187
        },
        "outputId": "b9e0e35c-9111-4cce-b78d-bb47a77db7b9"
      },
      "source": [
        "class myiter:\n",
        "\n",
        "  def __init__(self):\n",
        "    self.num=0\n",
        "  \n",
        "  def __iter__(self):\n",
        "    self.num=1\n",
        "    return self\n",
        "  def __next__(self):\n",
        "    if self.num <=20:\n",
        "      val = self.num\n",
        "      self.num += 2\n",
        "      val= self.num\n",
        "      return val\n",
        "    else:\n",
        "      raise StopIteration\n",
        "\n",
        "myodd = myiter()\n",
        "iter1 = iter(myodd)\n",
        "for i in iter1:\n",
        "    print(i)\n",
        "\n",
        "\n"
      ],
      "execution_count": 11,
      "outputs": [
        {
          "output_type": "stream",
          "text": [
            "3\n",
            "5\n",
            "7\n",
            "9\n",
            "11\n",
            "13\n",
            "15\n",
            "17\n",
            "19\n",
            "21\n"
          ],
          "name": "stdout"
        }
      ]
    },
    {
      "cell_type": "code",
      "metadata": {
        "id": "PkAaOHsPGOdT",
        "colab_type": "code",
        "colab": {
          "base_uri": "https://localhost:8080/",
          "height": 170
        },
        "outputId": "729a8ec7-bf17-4d39-9895-3c7813879f6e"
      },
      "source": [
        "# This iterator will produce fibonacci numbers\n",
        "\n",
        "class myfibonacci:\n",
        "     def __init__(self):\n",
        "            self.prev = 0\n",
        "            self.cur = 0\n",
        "     \n",
        "     def __iter__(self):\n",
        "            self.prev = 0\n",
        "            self.cur = 1\n",
        "            return self\n",
        "     \n",
        "     def __next__(self):\n",
        "        if self.cur <= 50:\n",
        "            val = self.cur\n",
        "            self.cur += self.prev\n",
        "            self.prev = val\n",
        "            return val\n",
        "        else:\n",
        "            raise StopIteration\n",
        "\n",
        "myfibo = myfibonacci()\n",
        "iter1 = iter(myfibo)\n",
        "for i in iter1:\n",
        "    print(i)"
      ],
      "execution_count": 12,
      "outputs": [
        {
          "output_type": "stream",
          "text": [
            "1\n",
            "1\n",
            "2\n",
            "3\n",
            "5\n",
            "8\n",
            "13\n",
            "21\n",
            "34\n"
          ],
          "name": "stdout"
        }
      ]
    },
    {
      "cell_type": "code",
      "metadata": {
        "id": "DZOXzGsbV-Kw",
        "colab_type": "code",
        "colab": {}
      },
      "source": [
        "# Simple generator function that will generate numbers from 1 to 5.\n",
        "def mygen():\n",
        "    n = 1\n",
        "    yield n\n",
        "\n",
        "    n += 1\n",
        "    yield n\n",
        "\n",
        "    n += 1\n",
        "    yield n\n",
        "\n",
        "    n += 1\n",
        "    yield n\n",
        "    \n",
        "    n += 1\n",
        "    yield n\n",
        "    \n",
        "mygen1 = mygen()\n"
      ],
      "execution_count": 13,
      "outputs": []
    },
    {
      "cell_type": "code",
      "metadata": {
        "id": "8itsQCi6YP9u",
        "colab_type": "code",
        "colab": {
          "base_uri": "https://localhost:8080/",
          "height": 282
        },
        "outputId": "b0d3b3be-8ac7-45c1-c38c-7e3edb3fadb7"
      },
      "source": [
        "# Simple generator function that will generate numbers from 1 to 5.\n",
        "def mygen():\n",
        "    n = 1\n",
        "    yield n\n",
        "\n",
        "    n += 1\n",
        "    yield n\n",
        "\n",
        "    n += 1\n",
        "    yield n\n",
        "\n",
        "    n += 1\n",
        "    yield n\n",
        "    \n",
        "    n += 1\n",
        "    yield n\n",
        "    \n",
        "mygen1 = mygen()\n",
        "print(next(mygen1))\n",
        "print(next(mygen1))\n",
        "print(next(mygen1))\n",
        "print(next(mygen1))\n",
        "print(next(mygen1)) #Function will terminate here as all 5 values have been returned. \n",
        "print(next(mygen1)) # As function is already terminated, StopIteration is raised automatically."
      ],
      "execution_count": 16,
      "outputs": [
        {
          "output_type": "stream",
          "text": [
            "1\n",
            "2\n",
            "3\n",
            "4\n",
            "5\n"
          ],
          "name": "stdout"
        },
        {
          "output_type": "error",
          "ename": "StopIteration",
          "evalue": "ignored",
          "traceback": [
            "\u001b[0;31m---------------------------------------------------------------------------\u001b[0m",
            "\u001b[0;31mStopIteration\u001b[0m                             Traceback (most recent call last)",
            "\u001b[0;32m<ipython-input-16-76b2c9544e3c>\u001b[0m in \u001b[0;36m<module>\u001b[0;34m()\u001b[0m\n\u001b[1;32m     22\u001b[0m \u001b[0mprint\u001b[0m\u001b[0;34m(\u001b[0m\u001b[0mnext\u001b[0m\u001b[0;34m(\u001b[0m\u001b[0mmygen1\u001b[0m\u001b[0;34m)\u001b[0m\u001b[0;34m)\u001b[0m\u001b[0;34m\u001b[0m\u001b[0;34m\u001b[0m\u001b[0m\n\u001b[1;32m     23\u001b[0m \u001b[0mprint\u001b[0m\u001b[0;34m(\u001b[0m\u001b[0mnext\u001b[0m\u001b[0;34m(\u001b[0m\u001b[0mmygen1\u001b[0m\u001b[0;34m)\u001b[0m\u001b[0;34m)\u001b[0m \u001b[0;31m#Function will terminate here as all 5 values have been returned.\u001b[0m\u001b[0;34m\u001b[0m\u001b[0;34m\u001b[0m\u001b[0m\n\u001b[0;32m---> 24\u001b[0;31m \u001b[0mprint\u001b[0m\u001b[0;34m(\u001b[0m\u001b[0mnext\u001b[0m\u001b[0;34m(\u001b[0m\u001b[0mmygen1\u001b[0m\u001b[0;34m)\u001b[0m\u001b[0;34m)\u001b[0m \u001b[0;31m# As function is already terminated, StopIteration is raised automatically.\u001b[0m\u001b[0;34m\u001b[0m\u001b[0;34m\u001b[0m\u001b[0m\n\u001b[0m",
            "\u001b[0;31mStopIteration\u001b[0m: "
          ]
        }
      ]
    },
    {
      "cell_type": "code",
      "metadata": {
        "id": "S916eQOTYcI1",
        "colab_type": "code",
        "colab": {
          "base_uri": "https://localhost:8080/",
          "height": 340
        },
        "outputId": "109f3543-901f-4d35-8946-a5722aa4a51f"
      },
      "source": [
        "# Simple generator function that will generate natural numbers from 1 to 20.\n",
        "def mygen():\n",
        "    for i in range(1,20):\n",
        "        yield i\n",
        "\n",
        "    \n",
        "mygen1 = mygen()\n",
        "\n",
        "for i in mygen1:\n",
        "    print(i)"
      ],
      "execution_count": 17,
      "outputs": [
        {
          "output_type": "stream",
          "text": [
            "1\n",
            "2\n",
            "3\n",
            "4\n",
            "5\n",
            "6\n",
            "7\n",
            "8\n",
            "9\n",
            "10\n",
            "11\n",
            "12\n",
            "13\n",
            "14\n",
            "15\n",
            "16\n",
            "17\n",
            "18\n",
            "19\n"
          ],
          "name": "stdout"
        }
      ]
    },
    {
      "cell_type": "code",
      "metadata": {
        "id": "pWII0PSGYj9m",
        "colab_type": "code",
        "colab": {
          "base_uri": "https://localhost:8080/",
          "height": 34
        },
        "outputId": "8e35ff1e-f2b2-4aa4-9f96-e607713328bf"
      },
      "source": [
        "num = list(mygen()) # Store all values generated by generator function in a list\n",
        "num\n"
      ],
      "execution_count": 18,
      "outputs": [
        {
          "output_type": "execute_result",
          "data": {
            "text/plain": [
              "[1, 2, 3, 4, 5, 6, 7, 8, 9, 10, 11, 12, 13, 14, 15, 16, 17, 18, 19]"
            ]
          },
          "metadata": {
            "tags": []
          },
          "execution_count": 18
        }
      ]
    },
    {
      "cell_type": "code",
      "metadata": {
        "id": "rXj1BgJmYoMf",
        "colab_type": "code",
        "colab": {
          "base_uri": "https://localhost:8080/",
          "height": 170
        },
        "outputId": "7524e212-2076-4ca1-979f-cb66f7fa28e1"
      },
      "source": [
        "# Simple generator function that will generate even numbers from 1 to 20.\n",
        "def mygen():\n",
        "    for i in range(1,20):\n",
        "        if i%2 == 0:\n",
        "            yield i\n",
        "\n",
        "    \n",
        "mygen1 = mygen()\n",
        "\n",
        "for i in mygen1:\n",
        "    print(i)\n"
      ],
      "execution_count": 19,
      "outputs": [
        {
          "output_type": "stream",
          "text": [
            "2\n",
            "4\n",
            "6\n",
            "8\n",
            "10\n",
            "12\n",
            "14\n",
            "16\n",
            "18\n"
          ],
          "name": "stdout"
        }
      ]
    },
    {
      "cell_type": "code",
      "metadata": {
        "id": "yoOeqI6uYuZc",
        "colab_type": "code",
        "colab": {
          "base_uri": "https://localhost:8080/",
          "height": 180
        },
        "outputId": "0bcbeb3b-e6d0-415a-80fd-ed5b539efba2"
      },
      "source": [
        "list1 = list(myfibo()) # Store the fibonacci series in a list\n",
        "list1"
      ],
      "execution_count": 20,
      "outputs": [
        {
          "output_type": "error",
          "ename": "TypeError",
          "evalue": "ignored",
          "traceback": [
            "\u001b[0;31m---------------------------------------------------------------------------\u001b[0m",
            "\u001b[0;31mTypeError\u001b[0m                                 Traceback (most recent call last)",
            "\u001b[0;32m<ipython-input-20-7b4f781a5184>\u001b[0m in \u001b[0;36m<module>\u001b[0;34m()\u001b[0m\n\u001b[0;32m----> 1\u001b[0;31m \u001b[0mlist1\u001b[0m \u001b[0;34m=\u001b[0m \u001b[0mlist\u001b[0m\u001b[0;34m(\u001b[0m\u001b[0mmyfibo\u001b[0m\u001b[0;34m(\u001b[0m\u001b[0;34m)\u001b[0m\u001b[0;34m)\u001b[0m \u001b[0;31m# Store the fibonacci series in a list\u001b[0m\u001b[0;34m\u001b[0m\u001b[0;34m\u001b[0m\u001b[0m\n\u001b[0m\u001b[1;32m      2\u001b[0m \u001b[0mlist1\u001b[0m\u001b[0;34m\u001b[0m\u001b[0;34m\u001b[0m\u001b[0m\n",
            "\u001b[0;31mTypeError\u001b[0m: 'myfibonacci' object is not callable"
          ]
        }
      ]
    },
    {
      "cell_type": "code",
      "metadata": {
        "id": "AUKcnRzJe3Sb",
        "colab_type": "code",
        "colab": {
          "base_uri": "https://localhost:8080/",
          "height": 34
        },
        "outputId": "70c1546f-1cb2-4837-e719-852a62150bc0"
      },
      "source": [
        "list2 = [i**2 for i in range(10)]  # List comprehension\n",
        "list2\n"
      ],
      "execution_count": 21,
      "outputs": [
        {
          "output_type": "execute_result",
          "data": {
            "text/plain": [
              "[0, 1, 4, 9, 16, 25, 36, 49, 64, 81]"
            ]
          },
          "metadata": {
            "tags": []
          },
          "execution_count": 21
        }
      ]
    },
    {
      "cell_type": "code",
      "metadata": {
        "id": "K9SE7OwFe9f7",
        "colab_type": "code",
        "colab": {
          "base_uri": "https://localhost:8080/",
          "height": 34
        },
        "outputId": "48774d72-a183-4509-9da4-578a1632b33a"
      },
      "source": [
        "gen2 = (i**2 for i in range(10)) # Generator expression\n",
        "gen2"
      ],
      "execution_count": 22,
      "outputs": [
        {
          "output_type": "execute_result",
          "data": {
            "text/plain": [
              "<generator object <genexpr> at 0x7f0d303ee620>"
            ]
          },
          "metadata": {
            "tags": []
          },
          "execution_count": 22
        }
      ]
    },
    {
      "cell_type": "code",
      "metadata": {
        "id": "8Qa8rXllfAZ9",
        "colab_type": "code",
        "colab": {
          "base_uri": "https://localhost:8080/",
          "height": 102
        },
        "outputId": "d6f39503-b68d-4f58-e177-3b76058b2a2a"
      },
      "source": [
        "print(next(gen2))\n",
        "print(next(gen2))\n",
        "print(next(gen2))\n",
        "print(next(gen2))\n",
        "print(next(gen2))"
      ],
      "execution_count": 23,
      "outputs": [
        {
          "output_type": "stream",
          "text": [
            "0\n",
            "1\n",
            "4\n",
            "9\n",
            "16\n"
          ],
          "name": "stdout"
        }
      ]
    },
    {
      "cell_type": "code",
      "metadata": {
        "id": "zT-coPyBfED9",
        "colab_type": "code",
        "colab": {
          "base_uri": "https://localhost:8080/",
          "height": 357
        },
        "outputId": "77c6e32f-7547-49e6-ddaf-43afa06ff83b"
      },
      "source": [
        "gen2 = (i for i in range(40) if i%2 == 0) # Generator expression to generate even numbers \n",
        "gen2\n",
        "\n",
        "for i in gen2:\n",
        "    print(i)"
      ],
      "execution_count": 24,
      "outputs": [
        {
          "output_type": "stream",
          "text": [
            "0\n",
            "2\n",
            "4\n",
            "6\n",
            "8\n",
            "10\n",
            "12\n",
            "14\n",
            "16\n",
            "18\n",
            "20\n",
            "22\n",
            "24\n",
            "26\n",
            "28\n",
            "30\n",
            "32\n",
            "34\n",
            "36\n",
            "38\n"
          ],
          "name": "stdout"
        }
      ]
    },
    {
      "cell_type": "code",
      "metadata": {
        "id": "GQJ6J5X-fI9l",
        "colab_type": "code",
        "colab": {
          "base_uri": "https://localhost:8080/",
          "height": 51
        },
        "outputId": "45819e85-f462-4fb0-bfaf-bdc086b193b6"
      },
      "source": [
        "def subtract(num1 , num2):\n",
        "    res = num1 - num2\n",
        "    print('Result is :- ', res)\n",
        "    \n",
        "subtract(4,2)\n",
        "subtract(2,4)"
      ],
      "execution_count": 25,
      "outputs": [
        {
          "output_type": "stream",
          "text": [
            "Result is :-  2\n",
            "Result is :-  -2\n"
          ],
          "name": "stdout"
        }
      ]
    },
    {
      "cell_type": "code",
      "metadata": {
        "id": "gwn2aAyBfQ1t",
        "colab_type": "code",
        "colab": {
          "base_uri": "https://localhost:8080/",
          "height": 34
        },
        "outputId": "f512aa95-891c-47f3-a1d8-11eadc83432c"
      },
      "source": [
        "''' We now want subtract() function to always subtract lower number from higher one without modifying this function.\n",
        "    So when we pass (2,4) it should perform 4-2 not 2-4. To acheive this we will create a decorator function'''\n",
        "    \n",
        "\n",
        "def sub_decorator(func):\n",
        "    def wrapper(num1,num2):\n",
        "        if num1 < num2:\n",
        "            num1,num2 = num2,num1\n",
        "            return func(num1,num2)\n",
        "    return wrapper\n",
        "            \n",
        "sub = sub_decorator(subtract)\n",
        "\n",
        "sub(2,4)\n"
      ],
      "execution_count": 26,
      "outputs": [
        {
          "output_type": "stream",
          "text": [
            "Result is :-  2\n"
          ],
          "name": "stdout"
        }
      ]
    },
    {
      "cell_type": "code",
      "metadata": {
        "id": "c0wiv89EfZKW",
        "colab_type": "code",
        "colab": {
          "base_uri": "https://localhost:8080/",
          "height": 34
        },
        "outputId": "6feeb8ea-5d45-4efe-9066-bed506824345"
      },
      "source": [
        "@sub_decorator   # we can use @ syntax for decorating a function in one step\n",
        "def subtract(num1 , num2):\n",
        "    res = num1 - num2\n",
        "    print('Result is :- ', res)\n",
        "subtract(2,4)"
      ],
      "execution_count": 27,
      "outputs": [
        {
          "output_type": "stream",
          "text": [
            "Result is :-  2\n"
          ],
          "name": "stdout"
        }
      ]
    },
    {
      "cell_type": "code",
      "metadata": {
        "id": "WRKsUpxefeH3",
        "colab_type": "code",
        "colab": {
          "base_uri": "https://localhost:8080/",
          "height": 289
        },
        "outputId": "75fb5a81-ddba-42c5-9368-85fc66be0265"
      },
      "source": [
        "def InstallLinux():\n",
        "    print('Linux installation has started \\n')\n",
        "    \n",
        "def InstallWindows():\n",
        "    print('Windows installation has started \\n')\n",
        "    \n",
        "def InstallMac():\n",
        "    print('Mac installation has started \\n')\n",
        "\n",
        "    \n",
        "InstallLinux()\n",
        "InstallWindows()\n",
        "InstallMac()\n",
        "\n",
        "print()\n",
        "\n",
        "\n",
        "''' Now suppose if we want to print message :- \"Please accept terms & conditions\" before every installation \n",
        "    then easy way will be to create one decorator function which will present this message instead of modifying all functions'''\n",
        "  \n",
        "    \n",
        "\n",
        "def InstallDecorator(func):\n",
        "    def wrapper():\n",
        "        print('Please accept terms & conditions')\n",
        "        return func()\n",
        "    return wrapper()\n",
        "\n",
        "@InstallDecorator    # we can use @ syntax for decorating a function in one step\n",
        "def InstallLinux():\n",
        "    print('Linux installation has started \\n')\n",
        "  \n",
        "@InstallDecorator\n",
        "def InstallWindows():\n",
        "    print('Windows installation has started \\n ')\n",
        " \n",
        "@InstallDecorator\n",
        "def InstallMac():\n",
        "    print('Mac installation has started \\n')\n"
      ],
      "execution_count": 28,
      "outputs": [
        {
          "output_type": "stream",
          "text": [
            "Linux installation has started \n",
            "\n",
            "Windows installation has started \n",
            "\n",
            "Mac installation has started \n",
            "\n",
            "\n",
            "Please accept terms & conditions\n",
            "Linux installation has started \n",
            "\n",
            "Please accept terms & conditions\n",
            "Windows installation has started \n",
            " \n",
            "Please accept terms & conditions\n",
            "Mac installation has started \n",
            "\n"
          ],
          "name": "stdout"
        }
      ]
    },
    {
      "cell_type": "code",
      "metadata": {
        "id": "SFuHdi7TfoWm",
        "colab_type": "code",
        "colab": {
          "base_uri": "https://localhost:8080/",
          "height": 153
        },
        "outputId": "c6e85714-4c79-46b5-cb8c-f8382a9a5d61"
      },
      "source": [
        "# Apply multiple decorator on a single function\n",
        "\n",
        "def InstallDecorator1(func):\n",
        "    def wrapper():\n",
        "        print('Please accept terms & conditions...\\n')\n",
        "        func()\n",
        "    return wrapper\n",
        "\n",
        "def InstallDecorator2(func):\n",
        "    def wrapper():\n",
        "        print('Please enter correct license key...\\n')\n",
        "        return func()\n",
        "    return wrapper\n",
        "\n",
        "\n",
        "def InstallDecorator3(func):\n",
        "    def wrapper():\n",
        "        print('Please enter partitioning choice...\\n')\n",
        "        return func()\n",
        "    return wrapper\n",
        "\n",
        "@InstallDecorator1\n",
        "@InstallDecorator2\n",
        "@InstallDecorator3\n",
        "def InstallLinux():\n",
        "    print('Linux installation has started \\n')\n",
        "\n",
        "InstallLinux()"
      ],
      "execution_count": 29,
      "outputs": [
        {
          "output_type": "stream",
          "text": [
            "Please accept terms & conditions...\n",
            "\n",
            "Please enter correct license key...\n",
            "\n",
            "Please enter partitioning choice...\n",
            "\n",
            "Linux installation has started \n",
            "\n"
          ],
          "name": "stdout"
        }
      ]
    },
    {
      "cell_type": "code",
      "metadata": {
        "id": "Xgm-cEHrfwYs",
        "colab_type": "code",
        "colab": {}
      },
      "source": [
        "fileobj = open('test1.txt')  # Open file in read/text mode"
      ],
      "execution_count": 31,
      "outputs": []
    },
    {
      "cell_type": "code",
      "metadata": {
        "id": "GzrwgAo9f3CO",
        "colab_type": "code",
        "colab": {}
      },
      "source": [
        "fileobj = open('test1.txt', 'r') # Open file in read mode"
      ],
      "execution_count": 32,
      "outputs": []
    },
    {
      "cell_type": "code",
      "metadata": {
        "id": "q7UuBQlzYTxb",
        "colab_type": "code",
        "colab": {}
      },
      "source": [
        "fileobj = open('test1.txt', 'w') # Open file in write mode"
      ],
      "execution_count": 33,
      "outputs": []
    },
    {
      "cell_type": "code",
      "metadata": {
        "id": "o7KJhhtWPj-X",
        "colab_type": "code",
        "colab": {}
      },
      "source": [
        "fileobj = open('test1.txt', 'a') # Open file in append mode"
      ],
      "execution_count": null,
      "outputs": []
    },
    {
      "cell_type": "code",
      "metadata": {
        "id": "xcuFfK-nDiYd",
        "colab_type": "code",
        "colab": {}
      },
      "source": [
        "fileobj.close()"
      ],
      "execution_count": 34,
      "outputs": []
    },
    {
      "cell_type": "code",
      "metadata": {
        "id": "EUPn6umzgaR2",
        "colab_type": "code",
        "colab": {
          "base_uri": "https://localhost:8080/",
          "height": 137
        },
        "outputId": "e162a0c5-bea0-47fc-c582-ef5095a91d38"
      },
      "source": [
        "fileobj = open('test1.txt')\n",
        "fileobj.read() #Read whole file"
      ],
      "execution_count": 36,
      "outputs": [
        {
          "output_type": "execute_result",
          "data": {
            "application/vnd.google.colaboratory.intrinsic+json": {
              "type": "string"
            },
            "text/plain": [
              "'Python generators are easy way of creating iterators. It generates values one at a time from a given sequence instead of returning the entire sequence at once.\\\\nIt is a special type of function which returns an iterator object.\\\\nIn a generator function, a yield statement is used rather than a return statement.\\\\nThe generator function cannot include the return keyword. If we include it then it will terminate the execution of the function.\\\\nThe difference between yield and return is that once yield returns a value the function is paused and the control is transferred to the caller.Local variables and their states are remembered between successive calls. In case of the return statement value is returned and the execution of the function is terminated.\\\\nMethods like __iter()__ and __next()__ are implemented automatically in generator function.\\\\nSimple generators can be easily created using generator expressions. Generator expressions create anonymous generator functions like lambda.\\\\nThe syntax for generator expression is similar to that of a list comprehension but the only difference is square brackets are replaced with round parentheses. Also list comprehension produces the entire list while the generator expression produces one item at a time which is more memory efficient than list comprehension.'"
            ]
          },
          "metadata": {
            "tags": []
          },
          "execution_count": 36
        }
      ]
    },
    {
      "cell_type": "code",
      "metadata": {
        "id": "IxoeXCaOgegD",
        "colab_type": "code",
        "colab": {
          "base_uri": "https://localhost:8080/",
          "height": 35
        },
        "outputId": "06e4ed79-779d-4025-a2c7-6ac01f8dce3b"
      },
      "source": [
        "fileobj.read() #File cursor is already at the end of the file so it won't be able to read anything."
      ],
      "execution_count": 37,
      "outputs": [
        {
          "output_type": "execute_result",
          "data": {
            "application/vnd.google.colaboratory.intrinsic+json": {
              "type": "string"
            },
            "text/plain": [
              "''"
            ]
          },
          "metadata": {
            "tags": []
          },
          "execution_count": 37
        }
      ]
    },
    {
      "cell_type": "code",
      "metadata": {
        "id": "nX_SxPUXrhNR",
        "colab_type": "code",
        "colab": {
          "base_uri": "https://localhost:8080/",
          "height": 137
        },
        "outputId": "cf46be7b-df96-4064-cd46-8cb9e8cd25b8"
      },
      "source": [
        "fileobj.seek(0) # Bring file cursor to initial position.\n",
        "fileobj.read()"
      ],
      "execution_count": 38,
      "outputs": [
        {
          "output_type": "execute_result",
          "data": {
            "application/vnd.google.colaboratory.intrinsic+json": {
              "type": "string"
            },
            "text/plain": [
              "'Python generators are easy way of creating iterators. It generates values one at a time from a given sequence instead of returning the entire sequence at once.\\\\nIt is a special type of function which returns an iterator object.\\\\nIn a generator function, a yield statement is used rather than a return statement.\\\\nThe generator function cannot include the return keyword. If we include it then it will terminate the execution of the function.\\\\nThe difference between yield and return is that once yield returns a value the function is paused and the control is transferred to the caller.Local variables and their states are remembered between successive calls. In case of the return statement value is returned and the execution of the function is terminated.\\\\nMethods like __iter()__ and __next()__ are implemented automatically in generator function.\\\\nSimple generators can be easily created using generator expressions. Generator expressions create anonymous generator functions like lambda.\\\\nThe syntax for generator expression is similar to that of a list comprehension but the only difference is square brackets are replaced with round parentheses. Also list comprehension produces the entire list while the generator expression produces one item at a time which is more memory efficient than list comprehension.'"
            ]
          },
          "metadata": {
            "tags": []
          },
          "execution_count": 38
        }
      ]
    },
    {
      "cell_type": "code",
      "metadata": {
        "id": "T9IdyNcBrljV",
        "colab_type": "code",
        "colab": {
          "base_uri": "https://localhost:8080/",
          "height": 137
        },
        "outputId": "c584b7e5-849d-4368-8894-2c2ca7a61182"
      },
      "source": [
        "fileobj.seek(7) # place file cursor at loc 7\n",
        "fileobj.read()"
      ],
      "execution_count": 39,
      "outputs": [
        {
          "output_type": "execute_result",
          "data": {
            "application/vnd.google.colaboratory.intrinsic+json": {
              "type": "string"
            },
            "text/plain": [
              "'generators are easy way of creating iterators. It generates values one at a time from a given sequence instead of returning the entire sequence at once.\\\\nIt is a special type of function which returns an iterator object.\\\\nIn a generator function, a yield statement is used rather than a return statement.\\\\nThe generator function cannot include the return keyword. If we include it then it will terminate the execution of the function.\\\\nThe difference between yield and return is that once yield returns a value the function is paused and the control is transferred to the caller.Local variables and their states are remembered between successive calls. In case of the return statement value is returned and the execution of the function is terminated.\\\\nMethods like __iter()__ and __next()__ are implemented automatically in generator function.\\\\nSimple generators can be easily created using generator expressions. Generator expressions create anonymous generator functions like lambda.\\\\nThe syntax for generator expression is similar to that of a list comprehension but the only difference is square brackets are replaced with round parentheses. Also list comprehension produces the entire list while the generator expression produces one item at a time which is more memory efficient than list comprehension.'"
            ]
          },
          "metadata": {
            "tags": []
          },
          "execution_count": 39
        }
      ]
    },
    {
      "cell_type": "code",
      "metadata": {
        "id": "Rgw05t3lroOU",
        "colab_type": "code",
        "colab": {
          "base_uri": "https://localhost:8080/",
          "height": 35
        },
        "outputId": "af283cb3-5d6d-41fb-f3b6-05002c523bed"
      },
      "source": [
        "fileobj.seek(0)\n",
        "\n",
        "fileobj.read(16) # Return the first 16 characters of the file\n"
      ],
      "execution_count": 40,
      "outputs": [
        {
          "output_type": "execute_result",
          "data": {
            "application/vnd.google.colaboratory.intrinsic+json": {
              "type": "string"
            },
            "text/plain": [
              "'Python generator'"
            ]
          },
          "metadata": {
            "tags": []
          },
          "execution_count": 40
        }
      ]
    },
    {
      "cell_type": "code",
      "metadata": {
        "id": "LM9fOm6Xrvrl",
        "colab_type": "code",
        "colab": {
          "base_uri": "https://localhost:8080/",
          "height": 34
        },
        "outputId": "7a24189d-fe41-46cb-bd22-3b0da87768c7"
      },
      "source": [
        "fileobj.tell() # Get the file cursor position\n"
      ],
      "execution_count": 41,
      "outputs": [
        {
          "output_type": "execute_result",
          "data": {
            "text/plain": [
              "16"
            ]
          },
          "metadata": {
            "tags": []
          },
          "execution_count": 41
        }
      ]
    },
    {
      "cell_type": "code",
      "metadata": {
        "id": "uo6hfxL6r-BC",
        "colab_type": "code",
        "colab": {
          "base_uri": "https://localhost:8080/",
          "height": 88
        },
        "outputId": "fa6cc757-9504-4416-9106-a8aeb88aa099"
      },
      "source": [
        "fileobj.seek(0)\n",
        "\n",
        "print(fileobj.readline()) # Read first line of a file.\n",
        "\n",
        "print(fileobj.readline()) # Read second line of a file.\n",
        "\n",
        "print(fileobj.readline()) # Read third line of a file."
      ],
      "execution_count": 42,
      "outputs": [
        {
          "output_type": "stream",
          "text": [
            "Python generators are easy way of creating iterators. It generates values one at a time from a given sequence instead of returning the entire sequence at once.\\nIt is a special type of function which returns an iterator object.\\nIn a generator function, a yield statement is used rather than a return statement.\\nThe generator function cannot include the return keyword. If we include it then it will terminate the execution of the function.\\nThe difference between yield and return is that once yield returns a value the function is paused and the control is transferred to the caller.Local variables and their states are remembered between successive calls. In case of the return statement value is returned and the execution of the function is terminated.\\nMethods like __iter()__ and __next()__ are implemented automatically in generator function.\\nSimple generators can be easily created using generator expressions. Generator expressions create anonymous generator functions like lambda.\\nThe syntax for generator expression is similar to that of a list comprehension but the only difference is square brackets are replaced with round parentheses. Also list comprehension produces the entire list while the generator expression produces one item at a time which is more memory efficient than list comprehension.\n",
            "\n",
            "\n"
          ],
          "name": "stdout"
        }
      ]
    },
    {
      "cell_type": "code",
      "metadata": {
        "id": "H_ynqS_BsBj7",
        "colab_type": "code",
        "colab": {
          "base_uri": "https://localhost:8080/",
          "height": 54
        },
        "outputId": "fb6d6ae2-6924-41fd-9cda-017a0fd61e09"
      },
      "source": [
        "fileobj.seek(0)\n",
        "\n",
        "fileobj.readlines() # Read all lines of a file."
      ],
      "execution_count": 43,
      "outputs": [
        {
          "output_type": "execute_result",
          "data": {
            "text/plain": [
              "['Python generators are easy way of creating iterators. It generates values one at a time from a given sequence instead of returning the entire sequence at once.\\\\nIt is a special type of function which returns an iterator object.\\\\nIn a generator function, a yield statement is used rather than a return statement.\\\\nThe generator function cannot include the return keyword. If we include it then it will terminate the execution of the function.\\\\nThe difference between yield and return is that once yield returns a value the function is paused and the control is transferred to the caller.Local variables and their states are remembered between successive calls. In case of the return statement value is returned and the execution of the function is terminated.\\\\nMethods like __iter()__ and __next()__ are implemented automatically in generator function.\\\\nSimple generators can be easily created using generator expressions. Generator expressions create anonymous generator functions like lambda.\\\\nThe syntax for generator expression is similar to that of a list comprehension but the only difference is square brackets are replaced with round parentheses. Also list comprehension produces the entire list while the generator expression produces one item at a time which is more memory efficient than list comprehension.']"
            ]
          },
          "metadata": {
            "tags": []
          },
          "execution_count": 43
        }
      ]
    },
    {
      "cell_type": "code",
      "metadata": {
        "id": "AP23L6_wsGF-",
        "colab_type": "code",
        "colab": {
          "base_uri": "https://localhost:8080/",
          "height": 122
        },
        "outputId": "04419259-e506-4f9d-aee7-694819c63c93"
      },
      "source": [
        "# Read first 5 lines of a file using readline()\n",
        "fileobj.seek(0)\n",
        "\n",
        "count = 0\n",
        "for i in range(5):\n",
        "    if (count < 5):\n",
        "        print(fileobj.readline())\n",
        "    else:\n",
        "        break\n",
        "    count+=1"
      ],
      "execution_count": 44,
      "outputs": [
        {
          "output_type": "stream",
          "text": [
            "Python generators are easy way of creating iterators. It generates values one at a time from a given sequence instead of returning the entire sequence at once.\\nIt is a special type of function which returns an iterator object.\\nIn a generator function, a yield statement is used rather than a return statement.\\nThe generator function cannot include the return keyword. If we include it then it will terminate the execution of the function.\\nThe difference between yield and return is that once yield returns a value the function is paused and the control is transferred to the caller.Local variables and their states are remembered between successive calls. In case of the return statement value is returned and the execution of the function is terminated.\\nMethods like __iter()__ and __next()__ are implemented automatically in generator function.\\nSimple generators can be easily created using generator expressions. Generator expressions create anonymous generator functions like lambda.\\nThe syntax for generator expression is similar to that of a list comprehension but the only difference is square brackets are replaced with round parentheses. Also list comprehension produces the entire list while the generator expression produces one item at a time which is more memory efficient than list comprehension.\n",
            "\n",
            "\n",
            "\n",
            "\n"
          ],
          "name": "stdout"
        }
      ]
    },
    {
      "cell_type": "code",
      "metadata": {
        "id": "LpChFQ11sKzg",
        "colab_type": "code",
        "colab": {
          "base_uri": "https://localhost:8080/",
          "height": 54
        },
        "outputId": "d7975bd8-86c6-4919-b4d0-1b64e80b66ce"
      },
      "source": [
        "# Read first 5 lines of a file using readlines()\n",
        "fileobj.seek(0)\n",
        "\n",
        "count = 0\n",
        "for i in fileobj.readlines():\n",
        "    if (count < 5):\n",
        "        print(i)\n",
        "    else:\n",
        "        break\n",
        "    count+=1\n"
      ],
      "execution_count": 45,
      "outputs": [
        {
          "output_type": "stream",
          "text": [
            "Python generators are easy way of creating iterators. It generates values one at a time from a given sequence instead of returning the entire sequence at once.\\nIt is a special type of function which returns an iterator object.\\nIn a generator function, a yield statement is used rather than a return statement.\\nThe generator function cannot include the return keyword. If we include it then it will terminate the execution of the function.\\nThe difference between yield and return is that once yield returns a value the function is paused and the control is transferred to the caller.Local variables and their states are remembered between successive calls. In case of the return statement value is returned and the execution of the function is terminated.\\nMethods like __iter()__ and __next()__ are implemented automatically in generator function.\\nSimple generators can be easily created using generator expressions. Generator expressions create anonymous generator functions like lambda.\\nThe syntax for generator expression is similar to that of a list comprehension but the only difference is square brackets are replaced with round parentheses. Also list comprehension produces the entire list while the generator expression produces one item at a time which is more memory efficient than list comprehension.\n"
          ],
          "name": "stdout"
        }
      ]
    },
    {
      "cell_type": "code",
      "metadata": {
        "id": "YSQyth14sR9D",
        "colab_type": "code",
        "colab": {
          "base_uri": "https://localhost:8080/",
          "height": 137
        },
        "outputId": "9c2c0bd5-c79f-40d2-9266-aa51e466a016"
      },
      "source": [
        "fileobj = open('test1.txt', 'a')\n",
        "\n",
        "fileobj.write('THIS IS THE NEW CONTENT APPENDED IN THE FILE') # Append content to the file\n",
        "\n",
        "fileobj.close()\n",
        "\n",
        "fileobj = open('test1.txt')\n",
        "\n",
        "fileobj.read()\n"
      ],
      "execution_count": 46,
      "outputs": [
        {
          "output_type": "execute_result",
          "data": {
            "application/vnd.google.colaboratory.intrinsic+json": {
              "type": "string"
            },
            "text/plain": [
              "'Python generators are easy way of creating iterators. It generates values one at a time from a given sequence instead of returning the entire sequence at once.\\\\nIt is a special type of function which returns an iterator object.\\\\nIn a generator function, a yield statement is used rather than a return statement.\\\\nThe generator function cannot include the return keyword. If we include it then it will terminate the execution of the function.\\\\nThe difference between yield and return is that once yield returns a value the function is paused and the control is transferred to the caller.Local variables and their states are remembered between successive calls. In case of the return statement value is returned and the execution of the function is terminated.\\\\nMethods like __iter()__ and __next()__ are implemented automatically in generator function.\\\\nSimple generators can be easily created using generator expressions. Generator expressions create anonymous generator functions like lambda.\\\\nThe syntax for generator expression is similar to that of a list comprehension but the only difference is square brackets are replaced with round parentheses. Also list comprehension produces the entire list while the generator expression produces one item at a time which is more memory efficient than list comprehension.THIS IS THE NEW CONTENT APPENDED IN THE FILE'"
            ]
          },
          "metadata": {
            "tags": []
          },
          "execution_count": 46
        }
      ]
    },
    {
      "cell_type": "code",
      "metadata": {
        "id": "xqKieQ8LsXGW",
        "colab_type": "code",
        "colab": {
          "base_uri": "https://localhost:8080/",
          "height": 102
        },
        "outputId": "9ea82024-41ea-4451-985a-5af9781035c9"
      },
      "source": [
        "fileobj = open(\"test2.txt\", \"w\") # Create a new file\n",
        "\n",
        "fileobj.write(\"First Line\\n\") \n",
        "fileobj.write(\"Second Line\\n\")\n",
        "fileobj.write(\"Third Line\\n\") \n",
        "fileobj.write(\"Fourth Line\\n\")\n",
        "fileobj.write(\"Fifth Line\\n\")\n",
        "fileobj.close()\n",
        "\n",
        "fileobj = open('test2.txt')\n",
        "\n",
        "fileobj.readlines()"
      ],
      "execution_count": 47,
      "outputs": [
        {
          "output_type": "execute_result",
          "data": {
            "text/plain": [
              "['First Line\\n',\n",
              " 'Second Line\\n',\n",
              " 'Third Line\\n',\n",
              " 'Fourth Line\\n',\n",
              " 'Fifth Line\\n']"
            ]
          },
          "metadata": {
            "tags": []
          },
          "execution_count": 47
        }
      ]
    },
    {
      "cell_type": "code",
      "metadata": {
        "id": "SjS2nrPRsgtJ",
        "colab_type": "code",
        "colab": {
          "base_uri": "https://localhost:8080/",
          "height": 197
        },
        "outputId": "fdf902b4-4e35-405f-f37f-5e75e18c0bfb"
      },
      "source": [
        "import os\n",
        "import sys\n",
        "os.remove(\"test3.txt\") # Delete file"
      ],
      "execution_count": 50,
      "outputs": [
        {
          "output_type": "error",
          "ename": "FileNotFoundError",
          "evalue": "ignored",
          "traceback": [
            "\u001b[0;31m---------------------------------------------------------------------------\u001b[0m",
            "\u001b[0;31mFileNotFoundError\u001b[0m                         Traceback (most recent call last)",
            "\u001b[0;32m<ipython-input-50-39ac7010393a>\u001b[0m in \u001b[0;36m<module>\u001b[0;34m()\u001b[0m\n\u001b[1;32m      1\u001b[0m \u001b[0;32mimport\u001b[0m \u001b[0mos\u001b[0m\u001b[0;34m\u001b[0m\u001b[0;34m\u001b[0m\u001b[0m\n\u001b[1;32m      2\u001b[0m \u001b[0;32mimport\u001b[0m \u001b[0msys\u001b[0m\u001b[0;34m\u001b[0m\u001b[0;34m\u001b[0m\u001b[0m\n\u001b[0;32m----> 3\u001b[0;31m \u001b[0mos\u001b[0m\u001b[0;34m.\u001b[0m\u001b[0mremove\u001b[0m\u001b[0;34m(\u001b[0m\u001b[0;34m\"test3.txt\"\u001b[0m\u001b[0;34m)\u001b[0m \u001b[0;31m# Delete file\u001b[0m\u001b[0;34m\u001b[0m\u001b[0;34m\u001b[0m\u001b[0m\n\u001b[0m",
            "\u001b[0;31mFileNotFoundError\u001b[0m: [Errno 2] No such file or directory: 'test3.txt'"
          ]
        }
      ]
    },
    {
      "cell_type": "code",
      "metadata": {
        "id": "KOs67RvSsmo-",
        "colab_type": "code",
        "colab": {
          "base_uri": "https://localhost:8080/",
          "height": 51
        },
        "outputId": "fdc431d3-4227-4e62-9cf5-77d74db31c44"
      },
      "source": [
        "try:\n",
        "    print(100/0) # ZeroDivisionError will be encountered here. So the control will pass to except block\n",
        "    \n",
        "except:\n",
        "    print(sys.exc_info()[1] , 'Exception occured') # This statement will be executed \n",
        "    \n",
        "else:\n",
        "    print('No exception occurred') # This will be skipped as code block inside try encountered an exception\n",
        "\n",
        "finally:\n",
        "    print('Run this block of code always') # This will be always executed\n"
      ],
      "execution_count": 51,
      "outputs": [
        {
          "output_type": "stream",
          "text": [
            "division by zero Exception occured\n",
            "Run this block of code always\n"
          ],
          "name": "stdout"
        }
      ]
    },
    {
      "cell_type": "code",
      "metadata": {
        "id": "JJVSBBucsvEq",
        "colab_type": "code",
        "colab": {
          "base_uri": "https://localhost:8080/",
          "height": 34
        },
        "outputId": "1cfa5686-f734-4106-b0b6-271feb7cd63c"
      },
      "source": [
        "try:\n",
        "    print(x)  # NameError exception will be encountered as variable x is not defined                               \n",
        "\n",
        "except:\n",
        "    print('Variable x is not defined')"
      ],
      "execution_count": 52,
      "outputs": [
        {
          "output_type": "stream",
          "text": [
            "Variable x is not defined\n"
          ],
          "name": "stdout"
        }
      ]
    },
    {
      "cell_type": "code",
      "metadata": {
        "id": "3CGWvobAs7gx",
        "colab_type": "code",
        "colab": {
          "base_uri": "https://localhost:8080/",
          "height": 85
        },
        "outputId": "3bc924bf-2286-49db-c7ab-bd39147c564c"
      },
      "source": [
        "try:\n",
        "    os.remove(\"test3.txt\") # FileNotFoundError will be encountered as \"test3.txt\" is not present in the directory\n",
        "    \n",
        "except:                     # Below statement will be executed as exception occured.          \n",
        "    print(\"BELOW EXCEPTION OCCURED\") \n",
        "    print(sys.exc_info()[1])\n",
        "    \n",
        "else:\n",
        "    print('\\nNo exception occurred')\n",
        "\n",
        "finally:\n",
        "    print('\\nRun this block of code always')\n"
      ],
      "execution_count": 53,
      "outputs": [
        {
          "output_type": "stream",
          "text": [
            "BELOW EXCEPTION OCCURED\n",
            "[Errno 2] No such file or directory: 'test3.txt'\n",
            "\n",
            "Run this block of code always\n"
          ],
          "name": "stdout"
        }
      ]
    },
    {
      "cell_type": "code",
      "metadata": {
        "id": "j7R5QKAos_gn",
        "colab_type": "code",
        "colab": {}
      },
      "source": [
        ""
      ],
      "execution_count": null,
      "outputs": []
    }
  ]
}